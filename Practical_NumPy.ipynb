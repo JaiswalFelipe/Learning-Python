{
  "nbformat": 4,
  "nbformat_minor": 0,
  "metadata": {
    "colab": {
      "name": "Practical-NumPy.ipynb",
      "provenance": [],
      "collapsed_sections": [
        "BhfDsRFUk7MN",
        "FAYzwoEheu-H",
        "IDtKEcr4ku2j",
        "3AxrgliCtezh",
        "WP8by1se5TeZ",
        "EO5jBAX58xru",
        "db3iNhse9IWD",
        "NsGwNphLyBV2",
        "6IbRuBLV32uY",
        "EDMQ4RYV7kPl",
        "f6YaEcQpRPV4",
        "6hRcv9EFU0wj",
        "f7rJ2w6wiT0L",
        "oknA0OXPy3Pg",
        "LnKMkFyr871v",
        "7SHqzzPe0b-2",
        "z0tWQKga1QoR",
        "lYZF35pc-TFf",
        "8CbI2Wd1FS0Q",
        "t_v2JNYE7CWZ",
        "Svhvk6ik8iJI",
        "YddSayrv-lfb",
        "dyDqgt0vGP8n",
        "98LNaFFxGsNp",
        "0qFUIv37GLNw"
      ],
      "mount_file_id": "1HahqosuCvzYMAADLGx6-4e72vur-TYTD",
      "authorship_tag": "ABX9TyPBMkh32QDBwhefUtz5WXM5",
      "include_colab_link": true
    },
    "kernelspec": {
      "name": "python3",
      "display_name": "Python 3"
    },
    "language_info": {
      "name": "python"
    }
  },
  "cells": [
    {
      "cell_type": "markdown",
      "metadata": {
        "id": "view-in-github",
        "colab_type": "text"
      },
      "source": [
        "<a href=\"https://colab.research.google.com/github/JaiswalFelipe/Learning-Python/blob/main/Practical_NumPy.ipynb\" target=\"_parent\"><img src=\"https://colab.research.google.com/assets/colab-badge.svg\" alt=\"Open In Colab\"/></a>"
      ]
    },
    {
      "cell_type": "markdown",
      "metadata": {
        "id": "yiPhGQwsZFV4"
      },
      "source": [
        "# **A Loan Data Practical Example with NumPy**\n",
        "- What working as a data analyst in a data science team looks like\n",
        "  - Gathering --> Cleaning --> Preprocessing + Notes about the changes\n",
        "<br></br>\n",
        "- Team task:\n",
        "  - Create a credit risk model, which estimates the *probability of default* for every personal account\n",
        "<br></br>\n",
        "- STEP-BY-STEP:\n",
        "  1. Clean the dataset\n",
        "  2. Preprocess the dataset\n",
        "  3. Prepare the dataset for further analysis \n",
        "<br></br>\n",
        "- Additional steps to remember:\n",
        "  - Step 1: Convert USD --> EU\n",
        "  - Step 2: Every categorical variable must be quantified\n",
        "    - Change any text columns into **numbers**\n",
        "<br></br>\n",
        "- OBS: When measuring creditworthiness\n",
        "  - Be extremely risk-averse and distrustful\n",
        "  - Missing info suggests foul play\n",
        "  - If the info isn't available, assume the worst\n"
      ]
    },
    {
      "cell_type": "code",
      "metadata": {
        "id": "qYvSwrLzYwwW"
      },
      "source": [
        "import numpy as np"
      ],
      "execution_count": 124,
      "outputs": []
    },
    {
      "cell_type": "markdown",
      "metadata": {
        "id": "BhfDsRFUk7MN"
      },
      "source": [
        "### **Set Up**"
      ]
    },
    {
      "cell_type": "markdown",
      "metadata": {
        "id": "FAYzwoEheu-H"
      },
      "source": [
        "##### The Dataset"
      ]
    },
    {
      "cell_type": "code",
      "metadata": {
        "id": "SNCcc7HyezPG"
      },
      "source": [
        "# For easier viewing, avoid scientific notation (suppress = True), and prints 2 digits after the decimal point (precision = 2)\n",
        "# These arguments will only affect how we \"see\" their values on screen, not on calcus\n",
        "np.set_printoptions(suppress = True, linewidth = 100, precision = 2)"
      ],
      "execution_count": 125,
      "outputs": []
    },
    {
      "cell_type": "code",
      "metadata": {
        "colab": {
          "base_uri": "https://localhost:8080/"
        },
        "id": "8TmXk-30hWO8",
        "outputId": "162e3212-654a-413f-e1f4-7d5865c6735f"
      },
      "source": [
        "# Has NANS so np.genfromtxt()\n",
        "raw_data_np = np.genfromtxt(\"/content/drive/MyDrive/Colab Notebooks/365 Data Science/Programming/Numpy/Files for the Practical Example/loan-data.csv\",\n",
        "                            delimiter = \";\",\n",
        "                            encoding = \"ISO-8859-1\",    # Solve encoding/UFT error\n",
        "                            skip_header = 1,            # Skips first row (the NANs)\n",
        "                            autostrip = True)           # Removes excess whitespaces\n",
        "raw_data_np"
      ],
      "execution_count": 126,
      "outputs": [
        {
          "output_type": "execute_result",
          "data": {
            "text/plain": [
              "array([[48010226.  ,         nan,    35000.  , ...,         nan,         nan,     9452.96],\n",
              "       [57693261.  ,         nan,    30000.  , ...,         nan,         nan,     4679.7 ],\n",
              "       [59432726.  ,         nan,    15000.  , ...,         nan,         nan,     1969.83],\n",
              "       ...,\n",
              "       [50415990.  ,         nan,    10000.  , ...,         nan,         nan,     2185.64],\n",
              "       [46154151.  ,         nan,         nan, ...,         nan,         nan,     3199.4 ],\n",
              "       [66055249.  ,         nan,    10000.  , ...,         nan,         nan,      301.9 ]])"
            ]
          },
          "metadata": {
            "tags": []
          },
          "execution_count": 126
        }
      ]
    },
    {
      "cell_type": "code",
      "metadata": {
        "colab": {
          "base_uri": "https://localhost:8080/"
        },
        "id": "7vSLvcqLjvZ0",
        "outputId": "b9256ba6-f6fa-46da-8e12-d2cb0cc800dd"
      },
      "source": [
        "raw_data_np.shape"
      ],
      "execution_count": 127,
      "outputs": [
        {
          "output_type": "execute_result",
          "data": {
            "text/plain": [
              "(10000, 14)"
            ]
          },
          "metadata": {
            "tags": []
          },
          "execution_count": 127
        }
      ]
    },
    {
      "cell_type": "markdown",
      "metadata": {
        "id": "IDtKEcr4ku2j"
      },
      "source": [
        "##### Checking for Incomplete Data"
      ]
    },
    {
      "cell_type": "code",
      "metadata": {
        "colab": {
          "base_uri": "https://localhost:8080/"
        },
        "id": "aaf-tF7UiV4K",
        "outputId": "36ec88fc-7734-4ce7-b5c1-2bbe886ee5b7"
      },
      "source": [
        "np.isnan(raw_data_np).sum()"
      ],
      "execution_count": 128,
      "outputs": [
        {
          "output_type": "execute_result",
          "data": {
            "text/plain": [
              "88005"
            ]
          },
          "metadata": {
            "tags": []
          },
          "execution_count": 128
        }
      ]
    },
    {
      "cell_type": "code",
      "metadata": {
        "colab": {
          "base_uri": "https://localhost:8080/"
        },
        "id": "Lopvk9Abluli",
        "outputId": "c2f87bfe-c11d-46b8-fc09-7f759c0a3127"
      },
      "source": [
        "# A filler for all the missing entries of the dataset\n",
        "temporary_fill = np.nanmax(raw_data_np) + 1\n",
        "\n",
        "# Hold the means for every column\n",
        "temporary_mean =  np.nanmean(raw_data_np, axis = 0)"
      ],
      "execution_count": 129,
      "outputs": [
        {
          "output_type": "stream",
          "text": [
            "/usr/local/lib/python3.7/dist-packages/ipykernel_launcher.py:5: RuntimeWarning: Mean of empty slice\n",
            "  \"\"\"\n"
          ],
          "name": "stderr"
        }
      ]
    },
    {
      "cell_type": "code",
      "metadata": {
        "colab": {
          "base_uri": "https://localhost:8080/"
        },
        "id": "WHA8judLmmi_",
        "outputId": "327e44f0-5f99-44ec-8b15-03a6e5febd78"
      },
      "source": [
        "# Examine the warning: Mean of empty slice\n",
        "temporary_mean\n",
        "\n",
        "# Here, any column with a mean of \"nan\" contains no numbers"
      ],
      "execution_count": 130,
      "outputs": [
        {
          "output_type": "execute_result",
          "data": {
            "text/plain": [
              "array([54015809.19,         nan,    15273.46,         nan,    15311.04,         nan,       16.62,\n",
              "            440.92,         nan,         nan,         nan,         nan,         nan,     3143.85])"
            ]
          },
          "metadata": {
            "tags": []
          },
          "execution_count": 130
        }
      ]
    },
    {
      "cell_type": "code",
      "metadata": {
        "colab": {
          "base_uri": "https://localhost:8080/"
        },
        "id": "vbIbTH9Fsqoh",
        "outputId": "1b9c022d-0029-485b-f34c-5ad2181fbc1d"
      },
      "source": [
        "# Temporary Statistics: nanmin and nanmax\n",
        "# Extract minimum, mean and maximum values for each numeric column\n",
        "temporary_stats = np.array([np.nanmin(raw_data_np, axis = 0),\n",
        "                            temporary_mean,\n",
        "                            np.nanmax(raw_data_np, axis = 0)])"
      ],
      "execution_count": 131,
      "outputs": [
        {
          "output_type": "stream",
          "text": [
            "/usr/local/lib/python3.7/dist-packages/ipykernel_launcher.py:3: RuntimeWarning: All-NaN slice encountered\n",
            "  This is separate from the ipykernel package so we can avoid doing imports until\n",
            "/usr/local/lib/python3.7/dist-packages/ipykernel_launcher.py:5: RuntimeWarning: All-NaN slice encountered\n",
            "  \"\"\"\n"
          ],
          "name": "stderr"
        }
      ]
    },
    {
      "cell_type": "code",
      "metadata": {
        "colab": {
          "base_uri": "https://localhost:8080/"
        },
        "id": "nlFOnmm_tQs-",
        "outputId": "6bbe74bc-ea94-44cd-9c20-e9952f80fcff"
      },
      "source": [
        "# Temporary mean is the \"2nd\" stats of the array\n",
        "# min\n",
        "# mean\n",
        "# max\n",
        "temporary_stats"
      ],
      "execution_count": 132,
      "outputs": [
        {
          "output_type": "execute_result",
          "data": {
            "text/plain": [
              "array([[  373332.  ,         nan,     1000.  ,         nan,     1000.  ,         nan,        6.  ,\n",
              "              31.42,         nan,         nan,         nan,         nan,         nan,        0.  ],\n",
              "       [54015809.19,         nan,    15273.46,         nan,    15311.04,         nan,       16.62,\n",
              "             440.92,         nan,         nan,         nan,         nan,         nan,     3143.85],\n",
              "       [68616519.  ,         nan,    35000.  ,         nan,    35000.  ,         nan,       28.99,\n",
              "            1372.97,         nan,         nan,         nan,         nan,         nan,    41913.62]])"
            ]
          },
          "metadata": {
            "tags": []
          },
          "execution_count": 132
        }
      ]
    },
    {
      "cell_type": "markdown",
      "metadata": {
        "id": "3AxrgliCtezh"
      },
      "source": [
        "##### Splitting the Dataset"
      ]
    },
    {
      "cell_type": "code",
      "metadata": {
        "id": "bJa5XE4TtifT",
        "colab": {
          "base_uri": "https://localhost:8080/"
        },
        "outputId": "57918234-05c0-45a2-fa90-9f023c7d5293"
      },
      "source": [
        "# Splitting the Columns\n",
        "# Remember, the temporary_mean contains strings\n",
        "# Extracting columns with \"strings\"\n",
        "columns_strings = np.argwhere(np.isnan(temporary_mean)).squeeze()\n",
        "columns_strings"
      ],
      "execution_count": 133,
      "outputs": [
        {
          "output_type": "execute_result",
          "data": {
            "text/plain": [
              "array([ 1,  3,  5,  8,  9, 10, 11, 12])"
            ]
          },
          "metadata": {
            "tags": []
          },
          "execution_count": 133
        }
      ]
    },
    {
      "cell_type": "code",
      "metadata": {
        "colab": {
          "base_uri": "https://localhost:8080/"
        },
        "id": "Rg1GKHAMyH4X",
        "outputId": "00151ea2-a42b-43d0-984d-e984b596defc"
      },
      "source": [
        "# Extracting columns which contains \"numeric values\"\n",
        "columns_numeric = np.argwhere(np.isnan(temporary_mean) == False).squeeze()\n",
        "columns_numeric"
      ],
      "execution_count": 134,
      "outputs": [
        {
          "output_type": "execute_result",
          "data": {
            "text/plain": [
              "array([ 0,  2,  4,  6,  7, 13])"
            ]
          },
          "metadata": {
            "tags": []
          },
          "execution_count": 134
        }
      ]
    },
    {
      "cell_type": "code",
      "metadata": {
        "colab": {
          "base_uri": "https://localhost:8080/"
        },
        "id": "hAfqz7diymwm",
        "outputId": "ff969ec0-73bf-48fa-ece2-8070e6acd908"
      },
      "source": [
        "# Re-importing the Dataset: The columns with strings\n",
        "loan_data_str = np.genfromtxt(\"/content/drive/MyDrive/Colab Notebooks/365 Data Science/Programming/Numpy/Files for the Practical Example/loan-data.csv\",\n",
        "                             delimiter = \";\",\n",
        "                             encoding = \"ISO-8859-1\",    # Solve encoding/UFT error\n",
        "                             skip_header = 1,            # Skips first row (the NANs)\n",
        "                             autostrip = True,           # Removes excess whitespaces\n",
        "                             usecols = columns_strings,  # The columns with strings\n",
        "                             dtype = np.str)             # Set dtype as str \n",
        "\n",
        "loan_data_str"
      ],
      "execution_count": 135,
      "outputs": [
        {
          "output_type": "execute_result",
          "data": {
            "text/plain": [
              "array([['May-15', 'Current', '36 months', ..., 'Verified',\n",
              "        'https://www.lendingclub.com/browse/loanDetail.action?loan_id=48010226', 'CA'],\n",
              "       ['', 'Current', '36 months', ..., 'Source Verified',\n",
              "        'https://www.lendingclub.com/browse/loanDetail.action?loan_id=57693261', 'NY'],\n",
              "       ['Sep-15', 'Current', '36 months', ..., 'Verified',\n",
              "        'https://www.lendingclub.com/browse/loanDetail.action?loan_id=59432726', 'PA'],\n",
              "       ...,\n",
              "       ['Jun-15', 'Current', '36 months', ..., 'Source Verified',\n",
              "        'https://www.lendingclub.com/browse/loanDetail.action?loan_id=50415990', 'CA'],\n",
              "       ['Apr-15', 'Current', '36 months', ..., 'Source Verified',\n",
              "        'https://www.lendingclub.com/browse/loanDetail.action?loan_id=46154151', 'OH'],\n",
              "       ['Dec-15', 'Current', '36 months', ..., '',\n",
              "        'https://www.lendingclub.com/browse/loanDetail.action?loan_id=66055249', 'IL']],\n",
              "      dtype='<U69')"
            ]
          },
          "metadata": {
            "tags": []
          },
          "execution_count": 135
        }
      ]
    },
    {
      "cell_type": "code",
      "metadata": {
        "colab": {
          "base_uri": "https://localhost:8080/"
        },
        "id": "cRq-4XAx0Gzy",
        "outputId": "d3e17681-efc7-4526-ee88-b040878bc4f2"
      },
      "source": [
        "# Re-importing the Dataset: The columns with numeric values\n",
        "loan_data_num = np.genfromtxt(\"/content/drive/MyDrive/Colab Notebooks/365 Data Science/Programming/Numpy/Files for the Practical Example/loan-data.csv\",\n",
        "                             delimiter = \";\",\n",
        "                             encoding = \"ISO-8859-1\",           # Solve encoding/UFT error\n",
        "                             skip_header = 1,                   # Skips first row (the NANs)\n",
        "                             autostrip = True,                  # Removes excess whitespaces\n",
        "                             usecols = columns_numeric,         # The columns with numeric values\n",
        "                             filling_values = temporary_fill)   # Fill missing values  \n",
        "\n",
        "loan_data_num"
      ],
      "execution_count": 136,
      "outputs": [
        {
          "output_type": "execute_result",
          "data": {
            "text/plain": [
              "array([[48010226.  ,    35000.  ,    35000.  ,       13.33,     1184.86,     9452.96],\n",
              "       [57693261.  ,    30000.  ,    30000.  , 68616520.  ,      938.57,     4679.7 ],\n",
              "       [59432726.  ,    15000.  ,    15000.  , 68616520.  ,      494.86,     1969.83],\n",
              "       ...,\n",
              "       [50415990.  ,    10000.  ,    10000.  , 68616520.  , 68616520.  ,     2185.64],\n",
              "       [46154151.  , 68616520.  ,    10000.  ,       16.55,      354.3 ,     3199.4 ],\n",
              "       [66055249.  ,    10000.  ,    10000.  , 68616520.  ,      309.97,      301.9 ]])"
            ]
          },
          "metadata": {
            "tags": []
          },
          "execution_count": 136
        }
      ]
    },
    {
      "cell_type": "code",
      "metadata": {
        "colab": {
          "base_uri": "https://localhost:8080/"
        },
        "id": "xf6jAj8_13RJ",
        "outputId": "d4c76fee-edec-4fb7-8679-4e68bc26fa5a"
      },
      "source": [
        "# Then, the Names of the Columns\n",
        "header_full = np.genfromtxt(\"/content/drive/MyDrive/Colab Notebooks/365 Data Science/Programming/Numpy/Files for the Practical Example/loan-data.csv\",\n",
        "                             delimiter = \";\",\n",
        "                             encoding = \"ISO-8859-1\",           # Solve encoding/UFT error\n",
        "                             skip_footer = raw_data_np.shape[0],# Set it to the Number of rows of raw_data_np(This ignores all rows after the header)\n",
        "                             autostrip = True,                  # Removes excess whitespaces \n",
        "                             dtype = np.str)                    # Set dtype to str \n",
        "\n",
        "header_full          "
      ],
      "execution_count": 137,
      "outputs": [
        {
          "output_type": "execute_result",
          "data": {
            "text/plain": [
              "array(['id', 'issue_d', 'loan_amnt', 'loan_status', 'funded_amnt', 'term', 'int_rate',\n",
              "       'installment', 'grade', 'sub_grade', 'verification_status', 'url', 'addr_state',\n",
              "       'total_pymnt'], dtype='<U19')"
            ]
          },
          "metadata": {
            "tags": []
          },
          "execution_count": 137
        }
      ]
    },
    {
      "cell_type": "code",
      "metadata": {
        "colab": {
          "base_uri": "https://localhost:8080/",
          "height": 0
        },
        "id": "qMypmjTK4n8v",
        "outputId": "2c9b06ea-b3b6-45c7-90ef-199cc84e567c"
      },
      "source": [
        "# Separate the headers for strings and numeric vals\n",
        "header_str, header_num = header_full[columns_strings], header_full[columns_numeric]\n",
        "\n",
        "display(header_str)\n",
        "display(header_num)"
      ],
      "execution_count": 138,
      "outputs": [
        {
          "output_type": "display_data",
          "data": {
            "text/plain": [
              "array(['issue_d', 'loan_status', 'term', 'grade', 'sub_grade', 'verification_status', 'url',\n",
              "       'addr_state'], dtype='<U19')"
            ]
          },
          "metadata": {
            "tags": []
          }
        },
        {
          "output_type": "display_data",
          "data": {
            "text/plain": [
              "array(['id', 'loan_amnt', 'funded_amnt', 'int_rate', 'installment', 'total_pymnt'], dtype='<U19')"
            ]
          },
          "metadata": {
            "tags": []
          }
        }
      ]
    },
    {
      "cell_type": "markdown",
      "metadata": {
        "id": "WP8by1se5TeZ"
      },
      "source": [
        "#####  Creating Checkpoints\n",
        "- Places throughout our code where we store a copy of our dataset (or only parts of it)\n",
        "- To avoid losing a lot of progress\n",
        "- Extremely reliable practice when we need to clean or preprocess many parts of a dataset"
      ]
    },
    {
      "cell_type": "code",
      "metadata": {
        "id": "eC2IFSb15bGA"
      },
      "source": [
        "# This function will take the header and data arguments we provide\n",
        "def checkpoint(file_name, checkpoint_header, checkpoint_data):  \n",
        "  np.savez(file_name, header = checkpoint_header, data = checkpoint_data) # And create an \"npz\" file we have assigned\n",
        "  checkpoint_variable = np.load(file_name + \".npz\")                       # Load\n",
        "  return(checkpoint_variable)                                             # Return the loaded variable as an output of the function"
      ],
      "execution_count": 139,
      "outputs": []
    },
    {
      "cell_type": "code",
      "metadata": {
        "colab": {
          "base_uri": "https://localhost:8080/"
        },
        "id": "zaoOqxh265Ge",
        "outputId": "d5bb5d84-c390-4a2a-db86-39ca8a0cf54e"
      },
      "source": [
        "checkpoint_test = checkpoint(\"checkpoint-test\", header_str, loan_data_str)\n",
        "\n",
        "#checkpoint_test['header']    # Uncomment to see output\n",
        "checkpoint_test['data']   "
      ],
      "execution_count": 140,
      "outputs": [
        {
          "output_type": "execute_result",
          "data": {
            "text/plain": [
              "array([['May-15', 'Current', '36 months', ..., 'Verified',\n",
              "        'https://www.lendingclub.com/browse/loanDetail.action?loan_id=48010226', 'CA'],\n",
              "       ['', 'Current', '36 months', ..., 'Source Verified',\n",
              "        'https://www.lendingclub.com/browse/loanDetail.action?loan_id=57693261', 'NY'],\n",
              "       ['Sep-15', 'Current', '36 months', ..., 'Verified',\n",
              "        'https://www.lendingclub.com/browse/loanDetail.action?loan_id=59432726', 'PA'],\n",
              "       ...,\n",
              "       ['Jun-15', 'Current', '36 months', ..., 'Source Verified',\n",
              "        'https://www.lendingclub.com/browse/loanDetail.action?loan_id=50415990', 'CA'],\n",
              "       ['Apr-15', 'Current', '36 months', ..., 'Source Verified',\n",
              "        'https://www.lendingclub.com/browse/loanDetail.action?loan_id=46154151', 'OH'],\n",
              "       ['Dec-15', 'Current', '36 months', ..., '',\n",
              "        'https://www.lendingclub.com/browse/loanDetail.action?loan_id=66055249', 'IL']],\n",
              "      dtype='<U69')"
            ]
          },
          "metadata": {
            "tags": []
          },
          "execution_count": 140
        }
      ]
    },
    {
      "cell_type": "code",
      "metadata": {
        "colab": {
          "base_uri": "https://localhost:8080/"
        },
        "id": "HMPQdEJY8Bl8",
        "outputId": "ee84229d-9846-4471-c54c-154830738f59"
      },
      "source": [
        "# To make sure they are identical, call np.array_equal()\n",
        "np.array_equal(checkpoint_test['data'], loan_data_str)\n",
        "\n",
        "# TRUE == The checkpoint function works as intended"
      ],
      "execution_count": 141,
      "outputs": [
        {
          "output_type": "execute_result",
          "data": {
            "text/plain": [
              "True"
            ]
          },
          "metadata": {
            "tags": []
          },
          "execution_count": 141
        }
      ]
    },
    {
      "cell_type": "markdown",
      "metadata": {
        "id": "EO5jBAX58xru"
      },
      "source": [
        "### **Manipulating Text Data**"
      ]
    },
    {
      "cell_type": "code",
      "metadata": {
        "id": "L_YcjHcS83Es",
        "colab": {
          "base_uri": "https://localhost:8080/"
        },
        "outputId": "618fbb4d-c175-461c-8300-7aa17543eff1"
      },
      "source": [
        "header_str"
      ],
      "execution_count": 142,
      "outputs": [
        {
          "output_type": "execute_result",
          "data": {
            "text/plain": [
              "array(['issue_d', 'loan_status', 'term', 'grade', 'sub_grade', 'verification_status', 'url',\n",
              "       'addr_state'], dtype='<U19')"
            ]
          },
          "metadata": {
            "tags": []
          },
          "execution_count": 142
        }
      ]
    },
    {
      "cell_type": "markdown",
      "metadata": {
        "id": "db3iNhse9IWD"
      },
      "source": [
        "##### Issue Date (issue_d)"
      ]
    },
    {
      "cell_type": "code",
      "metadata": {
        "id": "NcaoAwdvpwme"
      },
      "source": [
        "header_str[0] = 'issue_date'"
      ],
      "execution_count": 143,
      "outputs": []
    },
    {
      "cell_type": "code",
      "metadata": {
        "colab": {
          "base_uri": "https://localhost:8080/"
        },
        "id": "LaJViPoCqOW3",
        "outputId": "3316da89-5d24-46c4-c2a6-ed8f7c8c340b"
      },
      "source": [
        "# Unique values of the first column 'issue_date'\n",
        "np.unique(loan_data_str[:,0])"
      ],
      "execution_count": 144,
      "outputs": [
        {
          "output_type": "execute_result",
          "data": {
            "text/plain": [
              "array(['', 'Apr-15', 'Aug-15', 'Dec-15', 'Feb-15', 'Jan-15', 'Jul-15', 'Jun-15', 'Mar-15',\n",
              "       'May-15', 'Nov-15', 'Oct-15', 'Sep-15'], dtype='<U69')"
            ]
          },
          "metadata": {
            "tags": []
          },
          "execution_count": 144
        }
      ]
    },
    {
      "cell_type": "code",
      "metadata": {
        "id": "nDO-hH2hr_Bk"
      },
      "source": [
        "# Notice: month-15 means that all the data is from 2015 so we can remove \"-15\" without losing any data\n",
        "# Overwrite\n",
        "loan_data_str[:,0] = np.chararray.strip(loan_data_str[:,0], \"-15\")"
      ],
      "execution_count": 145,
      "outputs": []
    },
    {
      "cell_type": "code",
      "metadata": {
        "colab": {
          "base_uri": "https://localhost:8080/"
        },
        "id": "QrkZsGcVsypd",
        "outputId": "b063e52c-a373-4b69-ac4b-6a926b8e3bf8"
      },
      "source": [
        "# After strip\n",
        "np.unique(loan_data_str[:,0])"
      ],
      "execution_count": 146,
      "outputs": [
        {
          "output_type": "execute_result",
          "data": {
            "text/plain": [
              "array(['', 'Apr', 'Aug', 'Dec', 'Feb', 'Jan', 'Jul', 'Jun', 'Mar', 'May', 'Nov', 'Oct', 'Sep'],\n",
              "      dtype='<U69')"
            ]
          },
          "metadata": {
            "tags": []
          },
          "execution_count": 146
        }
      ]
    },
    {
      "cell_type": "code",
      "metadata": {
        "id": "jkxdPdq4s5pk"
      },
      "source": [
        "# In analysis, represent MONTH VALUES as INT == Less memory\n",
        "# Make an array with the proper order of the unique values\n",
        "months = np.array(['', 'Jan', 'Feb', 'Mar', 'Apr', 'May', 'Jun', 'Jul', 'Aug', 'Sep', 'Oct', 'Nov', 'Dec'])\n",
        "\n",
        "# Missing values ('') will be replaced with 0, Jan to 1, until Dec is 12 "
      ],
      "execution_count": 147,
      "outputs": []
    },
    {
      "cell_type": "code",
      "metadata": {
        "id": "Edh7tVN5tz3Z"
      },
      "source": [
        "# Using a for loop to assign the numerical equivalent to the unique values\n",
        "for i in range(13):\n",
        "# Function checks whether the value from the column equals a specific value from the \"month\" array\n",
        "  loan_data_str[:,0] = np.where(loan_data_str[:,0] == months[i],   \n",
        "                                i,                               # If so, assign corresponding numerical value \n",
        "                                loan_data_str[:,0])              # If not, remain unchanged"
      ],
      "execution_count": 148,
      "outputs": []
    },
    {
      "cell_type": "code",
      "metadata": {
        "colab": {
          "base_uri": "https://localhost:8080/"
        },
        "id": "IYaIDUwUxGq3",
        "outputId": "0f145035-6864-4eda-b66f-457604766845"
      },
      "source": [
        "# Verify that there is no ('') whitespace in the array\n",
        "np.unique(loan_data_str[:,0])"
      ],
      "execution_count": 149,
      "outputs": [
        {
          "output_type": "execute_result",
          "data": {
            "text/plain": [
              "array(['0', '1', '10', '11', '12', '2', '3', '4', '5', '6', '7', '8', '9'], dtype='<U69')"
            ]
          },
          "metadata": {
            "tags": []
          },
          "execution_count": 149
        }
      ]
    },
    {
      "cell_type": "markdown",
      "metadata": {
        "id": "NsGwNphLyBV2"
      },
      "source": [
        "##### Loan Status"
      ]
    },
    {
      "cell_type": "code",
      "metadata": {
        "colab": {
          "base_uri": "https://localhost:8080/"
        },
        "id": "Lndf2pbVyGTD",
        "outputId": "91c2ba14-b2bd-4bed-814c-b598e8c1dc52"
      },
      "source": [
        "# Check the unique values\n",
        "np.unique(loan_data_str[:,1])"
      ],
      "execution_count": 150,
      "outputs": [
        {
          "output_type": "execute_result",
          "data": {
            "text/plain": [
              "array(['', 'Charged Off', 'Current', 'Default', 'Fully Paid', 'In Grace Period', 'Issued',\n",
              "       'Late (16-30 days)', 'Late (31-120 days)'], dtype='<U69')"
            ]
          },
          "metadata": {
            "tags": []
          },
          "execution_count": 150
        }
      ]
    },
    {
      "cell_type": "code",
      "metadata": {
        "id": "vRMhg6vEyUDN"
      },
      "source": [
        "# Remember the team task: \n",
        "# Regressions only care if the candidate is in a stable financial condition\n",
        "# So split all possible values into (good vs bad)\n",
        "# GOOD: \"Fully Paid\", \"In Grace Period\", \"Issued\", \"Current\", 'Late (16-30 days)' Clients pay when they get their salary at the end of the month \n",
        "# Bad: \"Charged off\", \"Default\", ''(No data), 'Late (31-120 days)' Late 3 months == Can't keep up\n",
        "# 1 will represent GOOD, and 0 == Bad\n",
        "\n",
        "status_bad = np.array(['','Charged Off', 'Default', 'Late (31-120 days)'])\n",
        "# It is important to follow the order of how they appeared in the original array\n",
        "# Otherwise, the \"where\" function won't properly assign the values to all the bad outcomes"
      ],
      "execution_count": 151,
      "outputs": []
    },
    {
      "cell_type": "code",
      "metadata": {
        "id": "NbF18GPw0wPy"
      },
      "source": [
        "# Combine \"np.where()\" and \"np.isin()\" functions to check if the loan status for a given row is included in \"status_bad\"\n",
        "loan_data_str[:,1] = np.where(np.isin(loan_data_str[:,1], status_bad), 0,1)        # If so, set it to 0 and If not, 1"
      ],
      "execution_count": 152,
      "outputs": []
    },
    {
      "cell_type": "code",
      "metadata": {
        "colab": {
          "base_uri": "https://localhost:8080/"
        },
        "id": "5gPoCuzO3g10",
        "outputId": "105dbd93-b097-4c4e-9562-882ec06a580a"
      },
      "source": [
        "# Verify\n",
        "np.unique(loan_data_str[:,1])\n",
        "\n",
        "# Now, \"loan status\" column is transformed into a dummy variable"
      ],
      "execution_count": 153,
      "outputs": [
        {
          "output_type": "execute_result",
          "data": {
            "text/plain": [
              "array(['0', '1'], dtype='<U69')"
            ]
          },
          "metadata": {
            "tags": []
          },
          "execution_count": 153
        }
      ]
    },
    {
      "cell_type": "markdown",
      "metadata": {
        "id": "6IbRuBLV32uY"
      },
      "source": [
        "##### Term"
      ]
    },
    {
      "cell_type": "code",
      "metadata": {
        "colab": {
          "base_uri": "https://localhost:8080/"
        },
        "id": "PY7QAMwp3lvs",
        "outputId": "65b6d2e1-cccd-4df6-887d-a4053266f2f3"
      },
      "source": [
        "np.unique(loan_data_str[:,2])"
      ],
      "execution_count": 154,
      "outputs": [
        {
          "output_type": "execute_result",
          "data": {
            "text/plain": [
              "array(['', '36 months', '60 months'], dtype='<U69')"
            ]
          },
          "metadata": {
            "tags": []
          },
          "execution_count": 154
        }
      ]
    },
    {
      "cell_type": "code",
      "metadata": {
        "id": "Dll32BH94xR1"
      },
      "source": [
        "header_str[2] = 'term_months'"
      ],
      "execution_count": 155,
      "outputs": []
    },
    {
      "cell_type": "code",
      "metadata": {
        "colab": {
          "base_uri": "https://localhost:8080/"
        },
        "id": "WP6UBzwB3_YC",
        "outputId": "1b3929c3-0eed-4e39-f36e-c35a80c655b5"
      },
      "source": [
        "# Remove the \"months\"\n",
        "loan_data_str[:,2] = np.chararray.strip(loan_data_str[:,2], \" months\")\n",
        "loan_data_str[:,2]"
      ],
      "execution_count": 156,
      "outputs": [
        {
          "output_type": "execute_result",
          "data": {
            "text/plain": [
              "array(['36', '36', '36', ..., '36', '36', '36'], dtype='<U69')"
            ]
          },
          "metadata": {
            "tags": []
          },
          "execution_count": 156
        }
      ]
    },
    {
      "cell_type": "code",
      "metadata": {
        "id": "AdmeVS5F4b98"
      },
      "source": [
        "# Assign 60 to each empty space\n",
        "# Because if \"NO DATA\" == ASSUME THE WORST (60 months == 5 years is a long period) \n",
        "loan_data_str[:,2] = np.where(loan_data_str[:,2] == '', '60', \n",
        "                              loan_data_str[:,2]) # If not, remain unchanged"
      ],
      "execution_count": 157,
      "outputs": []
    },
    {
      "cell_type": "code",
      "metadata": {
        "colab": {
          "base_uri": "https://localhost:8080/"
        },
        "id": "-tq_SISW6VUJ",
        "outputId": "817df851-261a-484d-fe61-1435325b0940"
      },
      "source": [
        "# Check contents of 'term'\n",
        "np.unique(loan_data_str[:,2])"
      ],
      "execution_count": 158,
      "outputs": [
        {
          "output_type": "execute_result",
          "data": {
            "text/plain": [
              "array(['36', '60'], dtype='<U69')"
            ]
          },
          "metadata": {
            "tags": []
          },
          "execution_count": 158
        }
      ]
    },
    {
      "cell_type": "code",
      "metadata": {
        "id": "6X5pSW206iwA"
      },
      "source": [
        "# If we only have 2 values, we can just USE 0 and 1 instead\n",
        "# BUT ASK FIRST THE ONE THAT SCRAPED THE DATASET WHY THEY BELIEVE THAT 36 and 60 IS THE BETTER ALTERNATIVE\n",
        "# In our example, we'll assume that there's no one to ask, and there is a significance to these values. So we won't change them."
      ],
      "execution_count": 159,
      "outputs": []
    },
    {
      "cell_type": "markdown",
      "metadata": {
        "id": "EDMQ4RYV7kPl"
      },
      "source": [
        "##### Grade and Subgrade"
      ]
    },
    {
      "cell_type": "code",
      "metadata": {
        "colab": {
          "base_uri": "https://localhost:8080/"
        },
        "id": "SFbCHFjh7oW7",
        "outputId": "a8009826-b6f0-4c87-8b83-a28f7be2153d"
      },
      "source": [
        "# grade\n",
        "np.unique(loan_data_str[:,3])"
      ],
      "execution_count": 160,
      "outputs": [
        {
          "output_type": "execute_result",
          "data": {
            "text/plain": [
              "array(['', 'A', 'B', 'C', 'D', 'E', 'F', 'G'], dtype='<U69')"
            ]
          },
          "metadata": {
            "tags": []
          },
          "execution_count": 160
        }
      ]
    },
    {
      "cell_type": "code",
      "metadata": {
        "colab": {
          "base_uri": "https://localhost:8080/"
        },
        "id": "NLIAh40s77Ut",
        "outputId": "8041bc7b-c6d5-4c31-c330-f55ca0bfaad2"
      },
      "source": [
        "# subgrade\n",
        "np.unique(loan_data_str[:,4])\n",
        "\n",
        "# For every elements in \"grade\", we find \"5\" different elements in \"subgrade\"\n",
        "# So the information we can get from \"grade\", can also be obtained from \"subgrade\" therefore \"grade\" will be redundant\n",
        "# However, that's not always the case in practice"
      ],
      "execution_count": 161,
      "outputs": [
        {
          "output_type": "execute_result",
          "data": {
            "text/plain": [
              "array(['', 'A1', 'A2', 'A3', 'A4', 'A5', 'B1', 'B2', 'B3', 'B4', 'B5', 'C1', 'C2', 'C3', 'C4',\n",
              "       'C5', 'D1', 'D2', 'D3', 'D4', 'D5', 'E1', 'E2', 'E3', 'E4', 'E5', 'F1', 'F2', 'F3', 'F4',\n",
              "       'F5', 'G1', 'G2', 'G3', 'G4', 'G5'], dtype='<U69')"
            ]
          },
          "metadata": {
            "tags": []
          },
          "execution_count": 161
        }
      ]
    },
    {
      "cell_type": "code",
      "metadata": {
        "id": "Qw4FkaCk828_"
      },
      "source": [
        "# Filling subgrade\n",
        "\n",
        "# For every element in \"grade\" excluding index 0 which is the empty space\n",
        "for i in np.unique(loan_data_str[:,3])[1:]:\n",
        "# If \"subgrade\" is empty AND has a corresponding value in \"grade\"\n",
        "  loan_data_str[:,4] = np.where((loan_data_str[:,4] == '') & (loan_data_str[:,3] == i),\n",
        "  i + '5',              # Set the corresponding value from \"grade\" and set 5 next to it (which is the worst subgrade of that grade) \n",
        "  loan_data_str[:,4])   # Otherwise remain unchanged"
      ],
      "execution_count": 162,
      "outputs": []
    },
    {
      "cell_type": "code",
      "metadata": {
        "colab": {
          "base_uri": "https://localhost:8080/"
        },
        "id": "I7QpGpu3AZYU",
        "outputId": "515c4635-7e02-4426-f02b-323cdde7bf19"
      },
      "source": [
        "# Now check if there's still missing data in \"subgrade\"\n",
        "np.unique(loan_data_str[:,4], return_counts = True)\n",
        "\n",
        "# Which there is: meaning we neither have \"subgrade\", nor the \"grade\" (NO DATA)\n",
        "# There are 9 instances of this case, shown by the 2nd array\n",
        "# and 9 out of 10,000 (our original data) is relatively small\n",
        "# So drop these values and continue with our analysis\n",
        "# ANSWER FROM 365 HERE"
      ],
      "execution_count": 163,
      "outputs": [
        {
          "output_type": "execute_result",
          "data": {
            "text/plain": [
              "(array(['', 'A1', 'A2', 'A3', 'A4', 'A5', 'B1', 'B2', 'B3', 'B4', 'B5', 'C1', 'C2', 'C3', 'C4',\n",
              "        'C5', 'D1', 'D2', 'D3', 'D4', 'D5', 'E1', 'E2', 'E3', 'E4', 'E5', 'F1', 'F2', 'F3', 'F4',\n",
              "        'F5', 'G1', 'G2', 'G3', 'G4', 'G5'], dtype='<U69'),\n",
              " array([  9, 285, 278, 239, 323, 592, 509, 517, 530, 553, 633, 629, 567, 586, 564, 577, 391, 267,\n",
              "        250, 255, 288, 235, 162, 171, 139, 160,  94,  52,  34,  43,  24,  19,  10,   3,   7,   5]))"
            ]
          },
          "metadata": {
            "tags": []
          },
          "execution_count": 163
        }
      ]
    },
    {
      "cell_type": "code",
      "metadata": {
        "id": "SCePimdLAiDv"
      },
      "source": [
        "# BUT there's a better way (for our credit risk analysis)\n",
        "# The task requires you to assign status to every individual\n",
        "# So instead of dropping, CREATE a whole new category LOWER THAN G5(the lowest)\n",
        "loan_data_str[:,4] = np.where(loan_data_str[:,4] == '',\n",
        "                              'H1',                         # If this is the case, assign H1\n",
        "                              loan_data_str[:,4])"
      ],
      "execution_count": 164,
      "outputs": []
    },
    {
      "cell_type": "code",
      "metadata": {
        "colab": {
          "base_uri": "https://localhost:8080/"
        },
        "id": "JUGjfKU8DMP7",
        "outputId": "e7cb0ffe-3974-49d7-b8e0-aa370853411b"
      },
      "source": [
        "# To verify\n",
        "np.unique(loan_data_str[:,4])"
      ],
      "execution_count": 165,
      "outputs": [
        {
          "output_type": "execute_result",
          "data": {
            "text/plain": [
              "array(['A1', 'A2', 'A3', 'A4', 'A5', 'B1', 'B2', 'B3', 'B4', 'B5', 'C1', 'C2', 'C3', 'C4', 'C5',\n",
              "       'D1', 'D2', 'D3', 'D4', 'D5', 'E1', 'E2', 'E3', 'E4', 'E5', 'F1', 'F2', 'F3', 'F4', 'F5',\n",
              "       'G1', 'G2', 'G3', 'G4', 'G5', 'H1'], dtype='<U69')"
            ]
          },
          "metadata": {
            "tags": []
          },
          "execution_count": 165
        }
      ]
    },
    {
      "cell_type": "code",
      "metadata": {
        "colab": {
          "base_uri": "https://localhost:8080/"
        },
        "id": "-Q609SJUD0Wn",
        "outputId": "dbb5fcb6-a564-434d-af00-4a253f992b42"
      },
      "source": [
        "# Now the information in \"grade\" is CARRIED by the information in \"subgrade\"\n",
        "# So we \"don't need\" \"grade\" anymore\n",
        "# So can be removed from the dataset\n",
        "\n",
        "loan_data_str = np.delete(loan_data_str, 3, axis = 1) # 3 is the index, \"axis = 1\" means column\n",
        "loan_data_str[:,3]\n",
        "\n",
        "# Now index 3 will be \"subgrade\" instead of \"grade\""
      ],
      "execution_count": 166,
      "outputs": [
        {
          "output_type": "execute_result",
          "data": {
            "text/plain": [
              "array(['C3', 'A5', 'B5', ..., 'A5', 'D2', 'A4'], dtype='<U69')"
            ]
          },
          "metadata": {
            "tags": []
          },
          "execution_count": 166
        }
      ]
    },
    {
      "cell_type": "code",
      "metadata": {
        "id": "w_4AoChHLK1P"
      },
      "source": [
        "# Now, we should also delete the \"grade\" in the header_str\n",
        "header_str = np.delete(header_str, 3)"
      ],
      "execution_count": 167,
      "outputs": []
    },
    {
      "cell_type": "code",
      "metadata": {
        "colab": {
          "base_uri": "https://localhost:8080/",
          "height": 0
        },
        "id": "Mc9pSNE-LyiN",
        "outputId": "1e330fb5-b46f-4d36-c114-6737890c09ee"
      },
      "source": [
        "# To check previous cell\n",
        "header_str[3]"
      ],
      "execution_count": 168,
      "outputs": [
        {
          "output_type": "execute_result",
          "data": {
            "application/vnd.google.colaboratory.intrinsic+json": {
              "type": "string"
            },
            "text/plain": [
              "'sub_grade'"
            ]
          },
          "metadata": {
            "tags": []
          },
          "execution_count": 168
        }
      ]
    },
    {
      "cell_type": "code",
      "metadata": {
        "id": "fa6Dt-CjL2VU"
      },
      "source": [
        "# Converting \"subgrade\" to numbers\n",
        "\n",
        "# Create a dictionary: A1 will be 1, A2 will be 2 (LEVEL OF TRUSTWORTHINESS)\n",
        "keys = list(np.unique(loan_data_str[:,3]))                              # Consists of all the unique subgrades\n",
        "values = list(range(1, np.unique(loan_data_str[:,3]).shape[0] + 1))     # A list of all the integers between 1 and 36 (One for each subgrade)\n",
        "                                                                        # Without \"+ 1\" we will only have 35 values (for 36 subgrades)\n",
        "dict_sub_grade = dict(zip(keys, values))"
      ],
      "execution_count": 169,
      "outputs": []
    },
    {
      "cell_type": "code",
      "metadata": {
        "colab": {
          "base_uri": "https://localhost:8080/"
        },
        "id": "bl8iXZg1PB3R",
        "outputId": "f0338c68-7926-494d-a7c6-7bc43d47b2c4"
      },
      "source": [
        "# Check the dictionary\n",
        "print(dict_sub_grade)"
      ],
      "execution_count": 170,
      "outputs": [
        {
          "output_type": "stream",
          "text": [
            "{'A1': 1, 'A2': 2, 'A3': 3, 'A4': 4, 'A5': 5, 'B1': 6, 'B2': 7, 'B3': 8, 'B4': 9, 'B5': 10, 'C1': 11, 'C2': 12, 'C3': 13, 'C4': 14, 'C5': 15, 'D1': 16, 'D2': 17, 'D3': 18, 'D4': 19, 'D5': 20, 'E1': 21, 'E2': 22, 'E3': 23, 'E4': 24, 'E5': 25, 'F1': 26, 'F2': 27, 'F3': 28, 'F4': 29, 'F5': 30, 'G1': 31, 'G2': 32, 'G3': 33, 'G4': 34, 'G5': 35, 'H1': 36}\n"
          ],
          "name": "stdout"
        }
      ]
    },
    {
      "cell_type": "code",
      "metadata": {
        "id": "kAgerQapPI8C"
      },
      "source": [
        "# Iterate through all the unique \"subgrades\" --> SUBSTITUTE each one with its associated numeric value\n",
        "for i in np.unique(loan_data_str[:,3]):\n",
        "  loan_data_str[:,3] = np.where(loan_data_str[:,3] == i,\n",
        "                                dict_sub_grade[i],\n",
        "                                loan_data_str[:,3])"
      ],
      "execution_count": 171,
      "outputs": []
    },
    {
      "cell_type": "code",
      "metadata": {
        "colab": {
          "base_uri": "https://localhost:8080/"
        },
        "id": "UL5-MGkwRBAj",
        "outputId": "c958dba2-29df-467e-da92-0b3c498ddf87"
      },
      "source": [
        "# To check\n",
        "np.unique(loan_data_str[:,3])"
      ],
      "execution_count": 172,
      "outputs": [
        {
          "output_type": "execute_result",
          "data": {
            "text/plain": [
              "array(['1', '10', '11', '12', '13', '14', '15', '16', '17', '18', '19', '2', '20', '21', '22',\n",
              "       '23', '24', '25', '26', '27', '28', '29', '3', '30', '31', '32', '33', '34', '35', '36',\n",
              "       '4', '5', '6', '7', '8', '9'], dtype='<U69')"
            ]
          },
          "metadata": {
            "tags": []
          },
          "execution_count": 172
        }
      ]
    },
    {
      "cell_type": "markdown",
      "metadata": {
        "id": "f6YaEcQpRPV4"
      },
      "source": [
        "##### Verification Status"
      ]
    },
    {
      "cell_type": "code",
      "metadata": {
        "colab": {
          "base_uri": "https://localhost:8080/"
        },
        "id": "wRNqnEd3RHtP",
        "outputId": "64d7d505-35e5-4af2-b279-df558e89b464"
      },
      "source": [
        "header_str"
      ],
      "execution_count": 173,
      "outputs": [
        {
          "output_type": "execute_result",
          "data": {
            "text/plain": [
              "array(['issue_date', 'loan_status', 'term_months', 'sub_grade', 'verification_status', 'url',\n",
              "       'addr_state'], dtype='<U19')"
            ]
          },
          "metadata": {
            "tags": []
          },
          "execution_count": 173
        }
      ]
    },
    {
      "cell_type": "code",
      "metadata": {
        "colab": {
          "base_uri": "https://localhost:8080/"
        },
        "id": "Gf366YLyRtcb",
        "outputId": "93f8f678-6a55-42aa-e5d9-bdbb7ee3b1a9"
      },
      "source": [
        "# Check its values virst\n",
        "# Then unique values\n",
        "np.unique(loan_data_str[:,4])"
      ],
      "execution_count": 174,
      "outputs": [
        {
          "output_type": "execute_result",
          "data": {
            "text/plain": [
              "array(['', 'Not Verified', 'Source Verified', 'Verified'], dtype='<U69')"
            ]
          },
          "metadata": {
            "tags": []
          },
          "execution_count": 174
        }
      ]
    },
    {
      "cell_type": "code",
      "metadata": {
        "id": "v5ahJw3uR7qc"
      },
      "source": [
        "# Since we tend to be skeptical when the information is missing, we'll assume that ('') == not verified\n",
        "# 'Source Verified' == loan applications which include investor backing\n",
        "# '', 'Not Verified' == BAD --> 0\n",
        "# 'Source Verified', 'Verified' == GOOD --> 1\n",
        "loan_data_str[:,4] = np.where((loan_data_str[:,4] == '') | (loan_data_str[:,4] == 'Not Verified'), 0, 1)   # | means 'or'\n",
        "# If condition is met, set to 0, if not == 1"
      ],
      "execution_count": 175,
      "outputs": []
    },
    {
      "cell_type": "code",
      "metadata": {
        "colab": {
          "base_uri": "https://localhost:8080/"
        },
        "id": "yBLHJHQHUrTK",
        "outputId": "2b1686a3-6c42-4cd8-d16f-6d990d9a4501"
      },
      "source": [
        "# To check\n",
        "np.unique(loan_data_str[:,4])"
      ],
      "execution_count": 176,
      "outputs": [
        {
          "output_type": "execute_result",
          "data": {
            "text/plain": [
              "array(['0', '1'], dtype='<U69')"
            ]
          },
          "metadata": {
            "tags": []
          },
          "execution_count": 176
        }
      ]
    },
    {
      "cell_type": "markdown",
      "metadata": {
        "id": "6hRcv9EFU0wj"
      },
      "source": [
        "##### Url"
      ]
    },
    {
      "cell_type": "code",
      "metadata": {
        "colab": {
          "base_uri": "https://localhost:8080/"
        },
        "id": "6YqPutODU5PO",
        "outputId": "e5d48399-c061-4cd3-85c8-d5f3296d4ef1"
      },
      "source": [
        "loan_data_str[:,5]"
      ],
      "execution_count": 177,
      "outputs": [
        {
          "output_type": "execute_result",
          "data": {
            "text/plain": [
              "array(['https://www.lendingclub.com/browse/loanDetail.action?loan_id=48010226',\n",
              "       'https://www.lendingclub.com/browse/loanDetail.action?loan_id=57693261',\n",
              "       'https://www.lendingclub.com/browse/loanDetail.action?loan_id=59432726', ...,\n",
              "       'https://www.lendingclub.com/browse/loanDetail.action?loan_id=50415990',\n",
              "       'https://www.lendingclub.com/browse/loanDetail.action?loan_id=46154151',\n",
              "       'https://www.lendingclub.com/browse/loanDetail.action?loan_id=66055249'], dtype='<U69')"
            ]
          },
          "metadata": {
            "tags": []
          },
          "execution_count": 177
        }
      ]
    },
    {
      "cell_type": "code",
      "metadata": {
        "colab": {
          "base_uri": "https://localhost:8080/"
        },
        "id": "ZkFBNzrPVmhG",
        "outputId": "2b9bcda0-951e-412e-ea87-e1772678a17c"
      },
      "source": [
        "# The Urls are identical EXCEPT for the last part which is the \"id\"\n",
        "# So we can strip the URL without losing info\n",
        "loan_data_str[:,5] = np.chararray.strip(loan_data_str[:,5], 'https://www.lendingclub.com/browse/loanDetail.action?loan_id=')\n",
        "loan_data_str[:,5]"
      ],
      "execution_count": 178,
      "outputs": [
        {
          "output_type": "execute_result",
          "data": {
            "text/plain": [
              "array(['48010226', '57693261', '59432726', ..., '50415990', '46154151', '66055249'], dtype='<U69')"
            ]
          },
          "metadata": {
            "tags": []
          },
          "execution_count": 178
        }
      ]
    },
    {
      "cell_type": "code",
      "metadata": {
        "colab": {
          "base_uri": "https://localhost:8080/"
        },
        "id": "wxu1pRgCaiuB",
        "outputId": "e97d34c2-d17e-4b40-d5ff-1cb2ca54304a"
      },
      "source": [
        "# In the full dataset (before splitting str and numeric columns), there is a column called 'id'\n",
        "header_full"
      ],
      "execution_count": 179,
      "outputs": [
        {
          "output_type": "execute_result",
          "data": {
            "text/plain": [
              "array(['id', 'issue_d', 'loan_amnt', 'loan_status', 'funded_amnt', 'term', 'int_rate',\n",
              "       'installment', 'grade', 'sub_grade', 'verification_status', 'url', 'addr_state',\n",
              "       'total_pymnt'], dtype='<U19')"
            ]
          },
          "metadata": {
            "tags": []
          },
          "execution_count": 179
        }
      ]
    },
    {
      "cell_type": "code",
      "metadata": {
        "colab": {
          "base_uri": "https://localhost:8080/"
        },
        "id": "ykl12q9TbDPz",
        "outputId": "6eda15cc-c781-42d0-c0b7-998447a28c3b"
      },
      "source": [
        "# They're identical. However \"loan_data_str[:,5]\" is str\n",
        "print(loan_data_num[:,0])              \n",
        "print(loan_data_str[:,5])"
      ],
      "execution_count": 180,
      "outputs": [
        {
          "output_type": "stream",
          "text": [
            "[48010226. 57693261. 59432726. ... 50415990. 46154151. 66055249.]\n",
            "['48010226' '57693261' '59432726' ... '50415990' '46154151' '66055249']\n"
          ],
          "name": "stdout"
        }
      ]
    },
    {
      "cell_type": "code",
      "metadata": {
        "colab": {
          "base_uri": "https://localhost:8080/"
        },
        "id": "8r490LYPcnik",
        "outputId": "f007f303-91b1-4f1b-8031-b644ce7911f5"
      },
      "source": [
        "# SO CONVERT TO SAME DTYPE\n",
        "loan_data_num[:,0].astype(dtype = np.int32)"
      ],
      "execution_count": 181,
      "outputs": [
        {
          "output_type": "execute_result",
          "data": {
            "text/plain": [
              "array([48010226, 57693261, 59432726, ..., 50415990, 46154151, 66055249], dtype=int32)"
            ]
          },
          "metadata": {
            "tags": []
          },
          "execution_count": 181
        }
      ]
    },
    {
      "cell_type": "code",
      "metadata": {
        "colab": {
          "base_uri": "https://localhost:8080/"
        },
        "id": "E6YWetvHdnTk",
        "outputId": "e3020d78-ceb9-4742-a702-385532ca6da9"
      },
      "source": [
        "loan_data_num[:,5].astype(dtype = np.int32)"
      ],
      "execution_count": 182,
      "outputs": [
        {
          "output_type": "execute_result",
          "data": {
            "text/plain": [
              "array([9452, 4679, 1969, ..., 2185, 3199,  301], dtype=int32)"
            ]
          },
          "metadata": {
            "tags": []
          },
          "execution_count": 182
        }
      ]
    },
    {
      "cell_type": "code",
      "metadata": {
        "colab": {
          "base_uri": "https://localhost:8080/"
        },
        "id": "m9Exo2j3dtDF",
        "outputId": "96e70c58-cdec-4ddd-8b5b-27237fd7c62c"
      },
      "source": [
        "# To verify\n",
        "np.array_equal(loan_data_num[:,0].astype(dtype = np.int32), loan_data_num[:,5].astype(dtype = np.int32))\n",
        "\n",
        "# In the video, This is True\n",
        "# In that case, the URL column doesn't hold any additional info we can't already extract from the ID column\n",
        "# So in the next cell:"
      ],
      "execution_count": 183,
      "outputs": [
        {
          "output_type": "execute_result",
          "data": {
            "text/plain": [
              "False"
            ]
          },
          "metadata": {
            "tags": []
          },
          "execution_count": 183
        }
      ]
    },
    {
      "cell_type": "code",
      "metadata": {
        "id": "1hvNBPsagoac"
      },
      "source": [
        "# Get rid of the \"URL\" column\n",
        "loan_data_str = np.delete(loan_data_str, 5, axis = 1)\n",
        "\n",
        "# Also from the header\n",
        "header_str = np.delete(header_str, 5)"
      ],
      "execution_count": 184,
      "outputs": []
    },
    {
      "cell_type": "code",
      "metadata": {
        "colab": {
          "base_uri": "https://localhost:8080/"
        },
        "id": "KEKTM9LthagF",
        "outputId": "02d67af1-9e59-4432-d9db-23778e7095af"
      },
      "source": [
        "# To verify\n",
        "loan_data_str[:,5]"
      ],
      "execution_count": 185,
      "outputs": [
        {
          "output_type": "execute_result",
          "data": {
            "text/plain": [
              "array(['CA', 'NY', 'PA', ..., 'CA', 'OH', 'IL'], dtype='<U69')"
            ]
          },
          "metadata": {
            "tags": []
          },
          "execution_count": 185
        }
      ]
    },
    {
      "cell_type": "code",
      "metadata": {
        "colab": {
          "base_uri": "https://localhost:8080/"
        },
        "id": "CMUa2sbRhixL",
        "outputId": "718638c8-07c3-406b-d2bf-567aaade26b1"
      },
      "source": [
        "# URL is deleted\n",
        "header_str"
      ],
      "execution_count": 186,
      "outputs": [
        {
          "output_type": "execute_result",
          "data": {
            "text/plain": [
              "array(['issue_date', 'loan_status', 'term_months', 'sub_grade', 'verification_status',\n",
              "       'addr_state'], dtype='<U19')"
            ]
          },
          "metadata": {
            "tags": []
          },
          "execution_count": 186
        }
      ]
    },
    {
      "cell_type": "code",
      "metadata": {
        "colab": {
          "base_uri": "https://localhost:8080/"
        },
        "id": "Pw7I6-tPhliX",
        "outputId": "919822f1-ebe4-46fb-ea9b-541589ffc027"
      },
      "source": [
        "# Verify if the IDs remain intact\n",
        "loan_data_num[:,0]"
      ],
      "execution_count": 187,
      "outputs": [
        {
          "output_type": "execute_result",
          "data": {
            "text/plain": [
              "array([48010226., 57693261., 59432726., ..., 50415990., 46154151., 66055249.])"
            ]
          },
          "metadata": {
            "tags": []
          },
          "execution_count": 187
        }
      ]
    },
    {
      "cell_type": "code",
      "metadata": {
        "colab": {
          "base_uri": "https://localhost:8080/"
        },
        "id": "gEzqE3Plh2r9",
        "outputId": "b42ee9b2-9689-4537-ddcf-25dced4c940d"
      },
      "source": [
        "# \"id\" is still the first column so == GOOD TO GO\n",
        "header_num"
      ],
      "execution_count": 188,
      "outputs": [
        {
          "output_type": "execute_result",
          "data": {
            "text/plain": [
              "array(['id', 'loan_amnt', 'funded_amnt', 'int_rate', 'installment', 'total_pymnt'], dtype='<U19')"
            ]
          },
          "metadata": {
            "tags": []
          },
          "execution_count": 188
        }
      ]
    },
    {
      "cell_type": "markdown",
      "metadata": {
        "id": "f7rJ2w6wiT0L"
      },
      "source": [
        "##### State Address"
      ]
    },
    {
      "cell_type": "code",
      "metadata": {
        "id": "inP0_apQiKel"
      },
      "source": [
        "# Rename 'addr_state' --> \"state_address\"\n",
        "header_str[5] = \"state_address\""
      ],
      "execution_count": 189,
      "outputs": []
    },
    {
      "cell_type": "code",
      "metadata": {
        "colab": {
          "base_uri": "https://localhost:8080/"
        },
        "id": "4ScAau46ltLa",
        "outputId": "d93e1479-3f30-406d-c9a1-89ba4ff90678"
      },
      "source": [
        "# Check the unique values\n",
        "np.unique(loan_data_str[:,5])"
      ],
      "execution_count": 190,
      "outputs": [
        {
          "output_type": "execute_result",
          "data": {
            "text/plain": [
              "array(['', 'AK', 'AL', 'AR', 'AZ', 'CA', 'CO', 'CT', 'DC', 'DE', 'FL', 'GA', 'HI', 'IL', 'IN',\n",
              "       'KS', 'KY', 'LA', 'MA', 'MD', 'ME', 'MI', 'MN', 'MO', 'MS', 'MT', 'NC', 'ND', 'NE', 'NH',\n",
              "       'NJ', 'NM', 'NV', 'NY', 'OH', 'OK', 'OR', 'PA', 'RI', 'SC', 'SD', 'TN', 'TX', 'UT', 'VA',\n",
              "       'VT', 'WA', 'WI', 'WV', 'WY'], dtype='<U69')"
            ]
          },
          "metadata": {
            "tags": []
          },
          "execution_count": 190
        }
      ]
    },
    {
      "cell_type": "code",
      "metadata": {
        "colab": {
          "base_uri": "https://localhost:8080/"
        },
        "id": "4XHA9DFhlzux",
        "outputId": "4ef64182-72b6-419f-f327-b630f5d66454"
      },
      "source": [
        "# There are exactly 50 states in the USA so GOOD TO GO\n",
        "np.unique(loan_data_str[:,5]).size\n",
        "\n",
        "# But there's an empty space ('') \n",
        "# The empty space is IOWA state (IA) which was purposefully left as a baseline \"benchmark\"\n",
        "\n",
        "# When doing research or analysis on a variable with many categories,\n",
        "# it is normal to pick one as a \"benchmark\" and include dummy variables for the rest"
      ],
      "execution_count": 191,
      "outputs": [
        {
          "output_type": "execute_result",
          "data": {
            "text/plain": [
              "50"
            ]
          },
          "metadata": {
            "tags": []
          },
          "execution_count": 191
        }
      ]
    },
    {
      "cell_type": "code",
      "metadata": {
        "colab": {
          "base_uri": "https://localhost:8080/"
        },
        "id": "hTeNNgh7nDsr",
        "outputId": "1fdf7200-7260-413e-c696-84fcb2cc769f"
      },
      "source": [
        "np.unique(loan_data_str[:,5], return_counts = True)"
      ],
      "execution_count": 192,
      "outputs": [
        {
          "output_type": "execute_result",
          "data": {
            "text/plain": [
              "(array(['', 'AK', 'AL', 'AR', 'AZ', 'CA', 'CO', 'CT', 'DC', 'DE', 'FL', 'GA', 'HI', 'IL', 'IN',\n",
              "        'KS', 'KY', 'LA', 'MA', 'MD', 'ME', 'MI', 'MN', 'MO', 'MS', 'MT', 'NC', 'ND', 'NE', 'NH',\n",
              "        'NJ', 'NM', 'NV', 'NY', 'OH', 'OK', 'OR', 'PA', 'RI', 'SC', 'SD', 'TN', 'TX', 'UT', 'VA',\n",
              "        'VT', 'WA', 'WI', 'WV', 'WY'], dtype='<U69'),\n",
              " array([ 500,   26,  119,   74,  220, 1336,  201,  143,   27,   27,  690,  321,   44,  389,  152,\n",
              "          84,   84,  116,  210,  222,   10,  267,  156,  160,   61,   28,  261,   16,   25,   58,\n",
              "         341,   57,  130,  777,  312,   83,  108,  320,   40,  107,   24,  143,  758,   74,  242,\n",
              "          17,  216,  148,   49,   27]))"
            ]
          },
          "metadata": {
            "tags": []
          },
          "execution_count": 192
        }
      ]
    },
    {
      "cell_type": "code",
      "metadata": {
        "colab": {
          "base_uri": "https://localhost:8080/"
        },
        "id": "e4cCUoYnmANA",
        "outputId": "18279c88-670f-437b-ded1-2783000467ac"
      },
      "source": [
        "# Combine .unique() and .argsort() functions to display the states according to the number of applications in DESCENDING ORDER\n",
        "# Use tuple assignment\n",
        "states_names, states_count = np.unique(loan_data_str[:,5], return_counts = True)\n",
        "states_count_sorted = np.argsort(-states_count)                                    # Remember \"-\" sign because we're sorting in DESCENDING ORDER\n",
        "states_names[states_count_sorted], states_count[states_count_sorted]               # Plug-in [states_count_sorted] as the index\n",
        "\n",
        "# Most of the data come from the welthiest and most populated states ['CA', 'NY', 'TX', 'FL', '']\n",
        "# Hence, there are more applications with missing or unreported addresses than there are for 45 of the other states\n",
        "# Therefore, we have very little data for too many states to examine each one individually\n",
        "# With that in mind, if we assign a unique value to each state, this will allow OUTLIERS to have a big influence on the coeffs for less represented states\n",
        "# To elaborate, the more categories a variable has, the fewer data will be available for each one\n",
        "# As a result, the states with fewer applications will be more vulnerable to have their coeffs affected by OUTLIERS"
      ],
      "execution_count": 193,
      "outputs": [
        {
          "output_type": "execute_result",
          "data": {
            "text/plain": [
              "(array(['CA', 'NY', 'TX', 'FL', '', 'IL', 'NJ', 'GA', 'PA', 'OH', 'MI', 'NC', 'VA', 'MD', 'AZ',\n",
              "        'WA', 'MA', 'CO', 'MO', 'MN', 'IN', 'WI', 'CT', 'TN', 'NV', 'AL', 'LA', 'OR', 'SC', 'KY',\n",
              "        'KS', 'OK', 'UT', 'AR', 'MS', 'NH', 'NM', 'WV', 'HI', 'RI', 'MT', 'DE', 'DC', 'WY', 'AK',\n",
              "        'NE', 'SD', 'VT', 'ND', 'ME'], dtype='<U69'),\n",
              " array([1336,  777,  758,  690,  500,  389,  341,  321,  320,  312,  267,  261,  242,  222,  220,\n",
              "         216,  210,  201,  160,  156,  152,  148,  143,  143,  130,  119,  116,  108,  107,   84,\n",
              "          84,   83,   74,   74,   61,   58,   57,   49,   44,   40,   28,   27,   27,   27,   26,\n",
              "          25,   24,   17,   16,   10]))"
            ]
          },
          "metadata": {
            "tags": []
          },
          "execution_count": 193
        }
      ]
    },
    {
      "cell_type": "code",
      "metadata": {
        "id": "VaJaOTR7pGRx"
      },
      "source": [
        "# To solve this problem, we have to group the states according to a certain common characteristic\n",
        "# A good idea is their GEOGRAPICAL LOCATION\n",
        "\n",
        "# But first, take care of missing values \n",
        "# This way, accounts that cannot be attributed to a specific state won't be included in any region, to avoid biasing with variable coeffs\n",
        "loan_data_str[:,5] = np.where(loan_data_str[:,5] == '', \n",
        "                              0, \n",
        "                              loan_data_str[:,5])"
      ],
      "execution_count": 194,
      "outputs": []
    },
    {
      "cell_type": "code",
      "metadata": {
        "id": "bryMQ729sqss"
      },
      "source": [
        "# Then:\n",
        "states_west = np.array(['WA', 'OR', 'CA', 'NV', 'ID', 'MT', 'WY', 'UT', 'CO', 'AZ', 'NM', 'HI', 'AK'])\n",
        "states_south = np.array(['TX', 'OK', 'AR', 'LA', 'MS', 'AL', 'TN', 'KY', 'FL', 'GA', 'SC', 'NC', 'VA', 'WV', 'MD', 'DE', 'DC'])\n",
        "states_midwest = np.array(['ND', 'SD', 'NE', 'KS', 'MN', 'IA', 'MO', 'WI', 'IL', 'IN', 'MI', 'OH'])\n",
        "states_east = np.array(['PA', 'NY', 'NJ', 'CT', 'MA', 'VT', 'NH', 'ME', 'RI'])\n",
        "\n",
        "# Census Regions and Divisions of the United States\n",
        "# https://www2.census.gov/geo/pdfs/maps-data/maps/reference/us_regdiv.pdf"
      ],
      "execution_count": 195,
      "outputs": []
    },
    {
      "cell_type": "code",
      "metadata": {
        "id": "fvLx5aq7vMNP"
      },
      "source": [
        "# Use np.isin() to check whether the values in the column are part of \"states_west\" and assign 1 if so\n",
        "# And so on\n",
        "loan_data_str[:,5] = np.where(np.isin(loan_data_str[:,5], states_west), 1, loan_data_str[:,5])\n",
        "loan_data_str[:,5] = np.where(np.isin(loan_data_str[:,5], states_south), 2, loan_data_str[:,5])\n",
        "loan_data_str[:,5] = np.where(np.isin(loan_data_str[:,5], states_midwest), 3, loan_data_str[:,5])\n",
        "loan_data_str[:,5] = np.where(np.isin(loan_data_str[:,5], states_east), 4, loan_data_str[:,5])"
      ],
      "execution_count": 196,
      "outputs": []
    },
    {
      "cell_type": "code",
      "metadata": {
        "colab": {
          "base_uri": "https://localhost:8080/"
        },
        "id": "KTcbsOc3wPrf",
        "outputId": "60157a4b-92f8-4f23-fc27-e6f13d74f92f"
      },
      "source": [
        "# Verify \n",
        "np.unique(loan_data_str[:,5])\n",
        "\n",
        "# Where 0 == accounts that cannot be attributed to a specific state"
      ],
      "execution_count": 197,
      "outputs": [
        {
          "output_type": "execute_result",
          "data": {
            "text/plain": [
              "array(['0', '1', '2', '3', '4'], dtype='<U69')"
            ]
          },
          "metadata": {
            "tags": []
          },
          "execution_count": 197
        }
      ]
    },
    {
      "cell_type": "markdown",
      "metadata": {
        "id": "oknA0OXPy3Pg"
      },
      "source": [
        "##### Converting Strings"
      ]
    },
    {
      "cell_type": "code",
      "metadata": {
        "colab": {
          "base_uri": "https://localhost:8080/"
        },
        "id": "RsNLISJEy268",
        "outputId": "e0b1ad7a-799c-4a79-ff31-365c5b437513"
      },
      "source": [
        "# Converting to Numbers\n",
        "loan_data_str\n",
        "\n",
        "# It's full of numbers saved as text (str)"
      ],
      "execution_count": 198,
      "outputs": [
        {
          "output_type": "execute_result",
          "data": {
            "text/plain": [
              "array([['5', '1', '36', '13', '1', '1'],\n",
              "       ['0', '1', '36', '5', '1', '4'],\n",
              "       ['9', '1', '36', '10', '1', '4'],\n",
              "       ...,\n",
              "       ['6', '1', '36', '5', '1', '1'],\n",
              "       ['4', '1', '36', '17', '1', '3'],\n",
              "       ['12', '1', '36', '4', '0', '3']], dtype='<U69')"
            ]
          },
          "metadata": {
            "tags": []
          },
          "execution_count": 198
        }
      ]
    },
    {
      "cell_type": "code",
      "metadata": {
        "colab": {
          "base_uri": "https://localhost:8080/"
        },
        "id": "4oyIL713zDkT",
        "outputId": "94e329a1-d984-4ed1-e68d-379ba38932c0"
      },
      "source": [
        "# So convert:\n",
        "loan_data_str = loan_data_str.astype(np.int)\n",
        "\n",
        "# We can specify 8 or 16 or 32 \n",
        "# IF we don't, the function will auto-assign the smallest datatype which succesfully stores all these numbers\n",
        "\n",
        "loan_data_str"
      ],
      "execution_count": 199,
      "outputs": [
        {
          "output_type": "execute_result",
          "data": {
            "text/plain": [
              "array([[ 5,  1, 36, 13,  1,  1],\n",
              "       [ 0,  1, 36,  5,  1,  4],\n",
              "       [ 9,  1, 36, 10,  1,  4],\n",
              "       ...,\n",
              "       [ 6,  1, 36,  5,  1,  1],\n",
              "       [ 4,  1, 36, 17,  1,  3],\n",
              "       [12,  1, 36,  4,  0,  3]])"
            ]
          },
          "metadata": {
            "tags": []
          },
          "execution_count": 199
        }
      ]
    },
    {
      "cell_type": "markdown",
      "metadata": {
        "id": "LnKMkFyr871v"
      },
      "source": [
        "##### Checkpoint for text data"
      ]
    },
    {
      "cell_type": "code",
      "metadata": {
        "id": "rQzzxhJrz-9d"
      },
      "source": [
        "# Now create a \"checkpoint\" to all the changes made\n",
        "checkpoint_strings = checkpoint(\"Checkpoint-Strings\", header_str, loan_data_str)"
      ],
      "execution_count": 200,
      "outputs": []
    },
    {
      "cell_type": "code",
      "metadata": {
        "colab": {
          "base_uri": "https://localhost:8080/"
        },
        "id": "Kd1aQzfN0cem",
        "outputId": "a9a02127-4ae4-480b-e774-5aa585a84778"
      },
      "source": [
        "checkpoint_strings['header']"
      ],
      "execution_count": 201,
      "outputs": [
        {
          "output_type": "execute_result",
          "data": {
            "text/plain": [
              "array(['issue_date', 'loan_status', 'term_months', 'sub_grade', 'verification_status',\n",
              "       'state_address'], dtype='<U19')"
            ]
          },
          "metadata": {
            "tags": []
          },
          "execution_count": 201
        }
      ]
    },
    {
      "cell_type": "code",
      "metadata": {
        "colab": {
          "base_uri": "https://localhost:8080/"
        },
        "id": "j0OaJ8yC0n2U",
        "outputId": "d3ab652f-b253-4754-d39c-21f03234df6c"
      },
      "source": [
        "checkpoint_strings['data']"
      ],
      "execution_count": 202,
      "outputs": [
        {
          "output_type": "execute_result",
          "data": {
            "text/plain": [
              "array([[ 5,  1, 36, 13,  1,  1],\n",
              "       [ 0,  1, 36,  5,  1,  4],\n",
              "       [ 9,  1, 36, 10,  1,  4],\n",
              "       ...,\n",
              "       [ 6,  1, 36,  5,  1,  1],\n",
              "       [ 4,  1, 36, 17,  1,  3],\n",
              "       [12,  1, 36,  4,  0,  3]])"
            ]
          },
          "metadata": {
            "tags": []
          },
          "execution_count": 202
        }
      ]
    },
    {
      "cell_type": "code",
      "metadata": {
        "colab": {
          "base_uri": "https://localhost:8080/"
        },
        "id": "x-KX_C_f0tTx",
        "outputId": "7a430e67-9636-4ac1-a153-78dc92d22c1b"
      },
      "source": [
        "# To verify if identical\n",
        "np.array_equal(checkpoint_strings['data'], loan_data_str)"
      ],
      "execution_count": 203,
      "outputs": [
        {
          "output_type": "execute_result",
          "data": {
            "text/plain": [
              "True"
            ]
          },
          "metadata": {
            "tags": []
          },
          "execution_count": 203
        }
      ]
    },
    {
      "cell_type": "markdown",
      "metadata": {
        "id": "7SHqzzPe0b-2"
      },
      "source": [
        "### **Manipulating Numeric Data**"
      ]
    },
    {
      "cell_type": "code",
      "metadata": {
        "colab": {
          "base_uri": "https://localhost:8080/"
        },
        "id": "NL9ZX6WI1APw",
        "outputId": "5ee9acd3-a4b7-4e90-a00e-6efd9c7e3684"
      },
      "source": [
        "loan_data_num"
      ],
      "execution_count": 204,
      "outputs": [
        {
          "output_type": "execute_result",
          "data": {
            "text/plain": [
              "array([[48010226.  ,    35000.  ,    35000.  ,       13.33,     1184.86,     9452.96],\n",
              "       [57693261.  ,    30000.  ,    30000.  , 68616520.  ,      938.57,     4679.7 ],\n",
              "       [59432726.  ,    15000.  ,    15000.  , 68616520.  ,      494.86,     1969.83],\n",
              "       ...,\n",
              "       [50415990.  ,    10000.  ,    10000.  , 68616520.  , 68616520.  ,     2185.64],\n",
              "       [46154151.  , 68616520.  ,    10000.  ,       16.55,      354.3 ,     3199.4 ],\n",
              "       [66055249.  ,    10000.  ,    10000.  , 68616520.  ,      309.97,      301.9 ]])"
            ]
          },
          "metadata": {
            "tags": []
          },
          "execution_count": 204
        }
      ]
    },
    {
      "cell_type": "code",
      "metadata": {
        "colab": {
          "base_uri": "https://localhost:8080/"
        },
        "id": "VE6hlrMb2mPe",
        "outputId": "fa2593dd-9b2a-47c0-f04e-2790cc291486"
      },
      "source": [
        "np.isnan(loan_data_num).sum()\n",
        "\n",
        "# But remember, we filled the missing values with \"temporary_fill\""
      ],
      "execution_count": 205,
      "outputs": [
        {
          "output_type": "execute_result",
          "data": {
            "text/plain": [
              "0"
            ]
          },
          "metadata": {
            "tags": []
          },
          "execution_count": 205
        }
      ]
    },
    {
      "cell_type": "markdown",
      "metadata": {
        "id": "z0tWQKga1QoR"
      },
      "source": [
        "##### Substitute Filler Values"
      ]
    },
    {
      "cell_type": "code",
      "metadata": {
        "colab": {
          "base_uri": "https://localhost:8080/"
        },
        "id": "xNHtXAhs2iTs",
        "outputId": "3e039293-3928-4ef7-a6b5-caba68602ecb"
      },
      "source": [
        "header_num"
      ],
      "execution_count": 206,
      "outputs": [
        {
          "output_type": "execute_result",
          "data": {
            "text/plain": [
              "array(['id', 'loan_amnt', 'funded_amnt', 'int_rate', 'installment', 'total_pymnt'], dtype='<U19')"
            ]
          },
          "metadata": {
            "tags": []
          },
          "execution_count": 206
        }
      ]
    },
    {
      "cell_type": "code",
      "metadata": {
        "colab": {
          "base_uri": "https://localhost:8080/"
        },
        "id": "_1mEU9Lr3EMO",
        "outputId": "ad7b62a7-b7c4-4369-90c7-439a979e3113"
      },
      "source": [
        "temporary_fill"
      ],
      "execution_count": 207,
      "outputs": [
        {
          "output_type": "execute_result",
          "data": {
            "text/plain": [
              "68616520.0"
            ]
          },
          "metadata": {
            "tags": []
          },
          "execution_count": 207
        }
      ]
    },
    {
      "cell_type": "code",
      "metadata": {
        "colab": {
          "base_uri": "https://localhost:8080/"
        },
        "id": "uJMQbR-13N7Q",
        "outputId": "9a97ccdd-e28a-445a-c47b-457f82984c5b"
      },
      "source": [
        "# 'id' column\n",
        "# We must check whether any of the elements of this column equal the \"temporary_fill\"\n",
        "np.isin(loan_data_num[:,0], temporary_fill).sum()"
      ],
      "execution_count": 208,
      "outputs": [
        {
          "output_type": "execute_result",
          "data": {
            "text/plain": [
              "0"
            ]
          },
          "metadata": {
            "tags": []
          },
          "execution_count": 208
        }
      ]
    },
    {
      "cell_type": "code",
      "metadata": {
        "colab": {
          "base_uri": "https://localhost:8080/"
        },
        "id": "iaD_9T-T3puH",
        "outputId": "bb556fc2-eb2c-4567-af94-2007fca51cda"
      },
      "source": [
        "# The only column where the min value can be considered worst is the 'funded_amnt'\n",
        "# Hence, we must switch all \"temporary_fill\" in that column to min\n",
        "# While the \"rest\" to max\n",
        "# Now we can use the \"temporary_stats\"\n",
        "temporary_stats"
      ],
      "execution_count": 209,
      "outputs": [
        {
          "output_type": "execute_result",
          "data": {
            "text/plain": [
              "array([[  373332.  ,         nan,     1000.  ,         nan,     1000.  ,         nan,        6.  ,\n",
              "              31.42,         nan,         nan,         nan,         nan,         nan,        0.  ],\n",
              "       [54015809.19,         nan,    15273.46,         nan,    15311.04,         nan,       16.62,\n",
              "             440.92,         nan,         nan,         nan,         nan,         nan,     3143.85],\n",
              "       [68616519.  ,         nan,    35000.  ,         nan,    35000.  ,         nan,       28.99,\n",
              "            1372.97,         nan,         nan,         nan,         nan,         nan,    41913.62]])"
            ]
          },
          "metadata": {
            "tags": []
          },
          "execution_count": 209
        }
      ]
    },
    {
      "cell_type": "code",
      "metadata": {
        "colab": {
          "base_uri": "https://localhost:8080/"
        },
        "id": "m65ORPQi4nqZ",
        "outputId": "b650846d-de2d-483a-8f8d-f57e5a5861b5"
      },
      "source": [
        "# We're only interested in the NUMERIC COLUMNS\n",
        "temporary_stats[:, columns_numeric]\n",
        "# min\n",
        "# mean\n",
        "# max\n",
        "\n",
        "# All the columns can contain min and max, EXCEPT 'funded_amnt' as mentioned above\n",
        "# It should be filled with only the min (worst)"
      ],
      "execution_count": 210,
      "outputs": [
        {
          "output_type": "execute_result",
          "data": {
            "text/plain": [
              "array([[  373332.  ,     1000.  ,     1000.  ,        6.  ,       31.42,        0.  ],\n",
              "       [54015809.19,    15273.46,    15311.04,       16.62,      440.92,     3143.85],\n",
              "       [68616519.  ,    35000.  ,    35000.  ,       28.99,     1372.97,    41913.62]])"
            ]
          },
          "metadata": {
            "tags": []
          },
          "execution_count": 210
        }
      ]
    },
    {
      "cell_type": "code",
      "metadata": {
        "colab": {
          "base_uri": "https://localhost:8080/"
        },
        "id": "4qceBg2D40GH",
        "outputId": "85157661-41d3-4055-dbca-e6587f880d96"
      },
      "source": [
        "# Funded Amount 'funded_amnt' fillers --> min\n",
        "loan_data_num[:,2]"
      ],
      "execution_count": 211,
      "outputs": [
        {
          "output_type": "execute_result",
          "data": {
            "text/plain": [
              "array([35000., 30000., 15000., ..., 10000., 10000., 10000.])"
            ]
          },
          "metadata": {
            "tags": []
          },
          "execution_count": 211
        }
      ]
    },
    {
      "cell_type": "code",
      "metadata": {
        "colab": {
          "base_uri": "https://localhost:8080/"
        },
        "id": "YR5iv-g065b_",
        "outputId": "e18a54c6-6e07-4b12-86f4-0a16bf9ed496"
      },
      "source": [
        "loan_data_num[:,2] = np.where(loan_data_num[:,2] == temporary_fill,    # If value is equal to the filler \"temporary_fill\"\n",
        "                              temporary_stats[0, columns_numeric[2]],  # assign 0: is the index of min in \"temporary_stats\", and \n",
        "                                                                       # \"columns_numeric[2]\" == 'funded_amnt' column\n",
        "                              loan_data_num[:,2])                      # Otherwise remain unchanged\n",
        "loan_data_num[:,2]"
      ],
      "execution_count": 212,
      "outputs": [
        {
          "output_type": "execute_result",
          "data": {
            "text/plain": [
              "array([35000., 30000., 15000., ..., 10000., 10000., 10000.])"
            ]
          },
          "metadata": {
            "tags": []
          },
          "execution_count": 212
        }
      ]
    },
    {
      "cell_type": "code",
      "metadata": {
        "id": "Dlp57pIx8s2A"
      },
      "source": [
        "# Filling out the remaining numeric columns\n",
        "# 'loan_amnt', 'int_rate', 'installment', 'total_pymnt' fillers --> max\n",
        "for i in [1,3,4,5]:\n",
        "  loan_data_num[:,i] = np.where(loan_data_num[:,i] == temporary_fill,    # If value is equal to the filler \"temporary_fill\"\n",
        "                                temporary_stats[2, columns_numeric[i]],  # assign 2: is the index of max in \"temporary_stats\"\n",
        "                                loan_data_num[:,i])                      # Otherwise remain unchanged"
      ],
      "execution_count": 213,
      "outputs": []
    },
    {
      "cell_type": "code",
      "metadata": {
        "colab": {
          "base_uri": "https://localhost:8080/"
        },
        "id": "evv8yoJQ-G1t",
        "outputId": "00009c23-f374-459f-f22b-fdb39ee59f36"
      },
      "source": [
        "# Now display the dataset\n",
        "loan_data_num"
      ],
      "execution_count": 214,
      "outputs": [
        {
          "output_type": "execute_result",
          "data": {
            "text/plain": [
              "array([[48010226.  ,    35000.  ,    35000.  ,       13.33,     1184.86,     9452.96],\n",
              "       [57693261.  ,    30000.  ,    30000.  ,       28.99,      938.57,     4679.7 ],\n",
              "       [59432726.  ,    15000.  ,    15000.  ,       28.99,      494.86,     1969.83],\n",
              "       ...,\n",
              "       [50415990.  ,    10000.  ,    10000.  ,       28.99,     1372.97,     2185.64],\n",
              "       [46154151.  ,    35000.  ,    10000.  ,       16.55,      354.3 ,     3199.4 ],\n",
              "       [66055249.  ,    10000.  ,    10000.  ,       28.99,      309.97,      301.9 ]])"
            ]
          },
          "metadata": {
            "tags": []
          },
          "execution_count": 214
        }
      ]
    },
    {
      "cell_type": "markdown",
      "metadata": {
        "id": "lYZF35pc-TFf"
      },
      "source": [
        "##### Currency Change – The Exchange Rate"
      ]
    },
    {
      "cell_type": "code",
      "metadata": {
        "id": "TcuEl8ju-VIG",
        "colab": {
          "base_uri": "https://localhost:8080/"
        },
        "outputId": "abbb277c-7e6d-4799-9ce2-842cc3b0d25f"
      },
      "source": [
        "# The currency in the dataset is USD, but since the company is based in Europe, convert USD --> EUR\n",
        "# Import availabe dataset which contains the avg conversion of 2015: USD --> EUR\n",
        "EURO_USD = np.genfromtxt(\"/content/drive/MyDrive/Colab Notebooks/365 Data Science/Programming/Numpy/Files for the Practical Example/EUR-USD.csv\",\n",
        "                         delimiter = ',',\n",
        "                         autostrip = True,\n",
        "                         skip_header = 1,        # Since we're only interested in the 4th column, dtype can be default and skip the header\n",
        "                         usecols = 3)           # The 4th column\n",
        "                         #dtype = np.str)       # To make the headers visible\n",
        "EURO_USD\n",
        "\n",
        "# Headers description:\n",
        "# ['Open', 'High', 'Low', 'Close', 'Volume']\n",
        "# Open --> Exhange rate at the \"beginning\" of the trading day\n",
        "# High --> The daily highest\n",
        "# Low --> The daily lowest \n",
        "# Close --> Exhange rate at the \"end\" of the trading day (Adjusted Closing Price) \n",
        "# Volume --> Number of trades that happened during the given trading day \n",
        "\n",
        "# In analysis, we often prefer the \"Adjusted Closing Price\" so the 4th column"
      ],
      "execution_count": 215,
      "outputs": [
        {
          "output_type": "execute_result",
          "data": {
            "text/plain": [
              "array([1.13, 1.12, 1.08, 1.11, 1.1 , 1.12, 1.09, 1.13, 1.13, 1.1 , 1.06, 1.09])"
            ]
          },
          "metadata": {
            "tags": []
          },
          "execution_count": 215
        }
      ]
    },
    {
      "cell_type": "code",
      "metadata": {
        "colab": {
          "base_uri": "https://localhost:8080/"
        },
        "id": "5vW0j7Ks7yUv",
        "outputId": "38cdef26-a3ea-426f-c64c-78cc95c5a802"
      },
      "source": [
        "# The issue dates (months) in numerical form\n",
        "# 0 represents all accounts where the date wasn't provided\n",
        "# 1-12 Jan to Dec\n",
        "loan_data_str[:,0]"
      ],
      "execution_count": 216,
      "outputs": [
        {
          "output_type": "execute_result",
          "data": {
            "text/plain": [
              "array([ 5,  0,  9, ...,  6,  4, 12])"
            ]
          },
          "metadata": {
            "tags": []
          },
          "execution_count": 216
        }
      ]
    },
    {
      "cell_type": "code",
      "metadata": {
        "colab": {
          "base_uri": "https://localhost:8080/"
        },
        "id": "t7ev-rhK-fHb",
        "outputId": "3db45d94-98e9-4b94-c11e-b60ca04b3b92"
      },
      "source": [
        "# For 1-12 Jan to Dec\n",
        "exchange_rate = loan_data_str[:,0]\n",
        "\n",
        "for i in range(1,13):                           # 1 iteration for every month of the year, because the upper limit (13) is not included\n",
        "  exchange_rate = np.where(exchange_rate == i,  # The function will substitute 1 for January\n",
        "                           EURO_USD[i-1],       # With the avg exchange rate over that period --> Then Feb, and so on...\n",
        "                           exchange_rate)\n",
        "  \n",
        "# For all accounts where the date wasn't provided (0)\n",
        "exchange_rate = np.where(exchange_rate == 0,\n",
        "                         np.mean(EURO_USD),     # The substitute value will be the annual == mean of all exchange rates for 2015\n",
        "                         exchange_rate)         # If condition is not met, remain unchanged\n",
        "\n",
        "# Display the new variable\n",
        "exchange_rate\n",
        "\n",
        "# Now it contains the assoc. exchange rate for every element of the dataset"
      ],
      "execution_count": 217,
      "outputs": [
        {
          "output_type": "execute_result",
          "data": {
            "text/plain": [
              "array([1.1 , 1.11, 1.13, ..., 1.12, 1.11, 1.09])"
            ]
          },
          "metadata": {
            "tags": []
          },
          "execution_count": 217
        }
      ]
    },
    {
      "cell_type": "code",
      "metadata": {
        "colab": {
          "base_uri": "https://localhost:8080/"
        },
        "id": "D4r93TGUA9y8",
        "outputId": "7c080ac4-519c-451b-c9ed-13d18de06bca"
      },
      "source": [
        "# Add the variable \"exchange_rate\" to the dataset\n",
        "\n",
        "# Check if has the same shape with \"loan_data_num\"\n",
        "print(exchange_rate.shape)\n",
        "print(loan_data_num.shape)\n",
        "\n",
        "# exchange_rate is 1D\n",
        "# loan_data_num is 2D\n",
        "# Therefore we need to reshape \"exchange_rate\""
      ],
      "execution_count": 218,
      "outputs": [
        {
          "output_type": "stream",
          "text": [
            "(10000,)\n",
            "(10000, 6)\n"
          ],
          "name": "stdout"
        }
      ]
    },
    {
      "cell_type": "code",
      "metadata": {
        "id": "C9gJtL1hCwk3"
      },
      "source": [
        "# Reshape to match the shape \n",
        "exchange_rate = np.reshape(exchange_rate, (10000,1))"
      ],
      "execution_count": 219,
      "outputs": []
    },
    {
      "cell_type": "code",
      "metadata": {
        "colab": {
          "base_uri": "https://localhost:8080/"
        },
        "id": "xRquZ1tpDkK2",
        "outputId": "6777153c-49d1-4518-ebbd-2ddec246e59f"
      },
      "source": [
        "# Now, we can \"horizontally\" add the new array \"exchange_rate\" to the end of the dataset\n",
        "loan_data_num = np.hstack((loan_data_num, exchange_rate))\n",
        "loan_data_num\n",
        "\n",
        "# Notice the last column == exchange rate"
      ],
      "execution_count": 220,
      "outputs": [
        {
          "output_type": "execute_result",
          "data": {
            "text/plain": [
              "array([[48010226.  ,    35000.  ,    35000.  , ...,     1184.86,     9452.96,        1.1 ],\n",
              "       [57693261.  ,    30000.  ,    30000.  , ...,      938.57,     4679.7 ,        1.11],\n",
              "       [59432726.  ,    15000.  ,    15000.  , ...,      494.86,     1969.83,        1.13],\n",
              "       ...,\n",
              "       [50415990.  ,    10000.  ,    10000.  , ...,     1372.97,     2185.64,        1.12],\n",
              "       [46154151.  ,    35000.  ,    10000.  , ...,      354.3 ,     3199.4 ,        1.11],\n",
              "       [66055249.  ,    10000.  ,    10000.  , ...,      309.97,      301.9 ,        1.09]])"
            ]
          },
          "metadata": {
            "tags": []
          },
          "execution_count": 220
        }
      ]
    },
    {
      "cell_type": "code",
      "metadata": {
        "id": "WTpMyq5zEBYB",
        "colab": {
          "base_uri": "https://localhost:8080/"
        },
        "outputId": "5d03ef2a-585a-45fb-e93f-6768c631e86f"
      },
      "source": [
        "# Since we added a column, include it also into the header\n",
        "header_num = np.concatenate((header_num, np.array(['exchange rate'])))\n",
        "header_num"
      ],
      "execution_count": 221,
      "outputs": [
        {
          "output_type": "execute_result",
          "data": {
            "text/plain": [
              "array(['id', 'loan_amnt', 'funded_amnt', 'int_rate', 'installment', 'total_pymnt', 'exchange rate'],\n",
              "      dtype='<U19')"
            ]
          },
          "metadata": {
            "tags": []
          },
          "execution_count": 221
        }
      ]
    },
    {
      "cell_type": "markdown",
      "metadata": {
        "id": "8CbI2Wd1FS0Q"
      },
      "source": [
        "##### Currency Change - From USD to EUR"
      ]
    },
    {
      "cell_type": "code",
      "metadata": {
        "id": "4pdkKPTlFXfS",
        "colab": {
          "base_uri": "https://localhost:8080/"
        },
        "outputId": "a5a06b92-0be3-4f68-a989-9d564f6da661"
      },
      "source": [
        "# 4 columns has values in USD\n",
        "# 'loan_amnt', 'funded_amnt', 'installment', 'total_pymnt'\n",
        "header_num"
      ],
      "execution_count": 222,
      "outputs": [
        {
          "output_type": "execute_result",
          "data": {
            "text/plain": [
              "array(['id', 'loan_amnt', 'funded_amnt', 'int_rate', 'installment', 'total_pymnt', 'exchange rate'],\n",
              "      dtype='<U19')"
            ]
          },
          "metadata": {
            "tags": []
          },
          "execution_count": 222
        }
      ]
    },
    {
      "cell_type": "code",
      "metadata": {
        "id": "YCKOVGb8vrRA"
      },
      "source": [
        "# Set the columns of interest\n",
        "columns_dollar = np.array([1,2,4,5])"
      ],
      "execution_count": 223,
      "outputs": []
    },
    {
      "cell_type": "code",
      "metadata": {
        "colab": {
          "base_uri": "https://localhost:8080/"
        },
        "id": "8YqTdqZRv-Hn",
        "outputId": "c7c325ac-451a-4c7e-ac14-a882e4e54e94"
      },
      "source": [
        "# Display \n",
        "loan_data_num[:,[columns_dollar]]"
      ],
      "execution_count": 224,
      "outputs": [
        {
          "output_type": "execute_result",
          "data": {
            "text/plain": [
              "array([[[35000.  , 35000.  ,  1184.86,  9452.96]],\n",
              "\n",
              "       [[30000.  , 30000.  ,   938.57,  4679.7 ]],\n",
              "\n",
              "       [[15000.  , 15000.  ,   494.86,  1969.83]],\n",
              "\n",
              "       ...,\n",
              "\n",
              "       [[10000.  , 10000.  ,  1372.97,  2185.64]],\n",
              "\n",
              "       [[35000.  , 10000.  ,   354.3 ,  3199.4 ]],\n",
              "\n",
              "       [[10000.  , 10000.  ,   309.97,   301.9 ]]])"
            ]
          },
          "metadata": {
            "tags": []
          },
          "execution_count": 224
        }
      ]
    },
    {
      "cell_type": "code",
      "metadata": {
        "colab": {
          "base_uri": "https://localhost:8080/"
        },
        "id": "3dicVxgEwL5y",
        "outputId": "d88d9d7f-87a7-4ec3-f9a3-8ceb355883bb"
      },
      "source": [
        "# Exchange Rate\n",
        "loan_data_num[:,6]"
      ],
      "execution_count": 225,
      "outputs": [
        {
          "output_type": "execute_result",
          "data": {
            "text/plain": [
              "array([1.1 , 1.11, 1.13, ..., 1.12, 1.11, 1.09])"
            ]
          },
          "metadata": {
            "tags": []
          },
          "execution_count": 225
        }
      ]
    },
    {
      "cell_type": "code",
      "metadata": {
        "id": "jb20XL48wk2G"
      },
      "source": [
        "# Iterate through \"columns_dollar\", for every \"columns\", divide it by \"exchange_rate\"\n",
        "# Then add/stack the result to the dataset \"horizontally\"\n",
        "for i in columns_dollar:\n",
        "  loan_data_num = np.hstack((loan_data_num, np.reshape(loan_data_num[:,i] / loan_data_num[:,6], (10000,1))))\n",
        "\n",
        "#Reshape because the dataset is 2D while the exchange_rate is 1D"
      ],
      "execution_count": 226,
      "outputs": []
    },
    {
      "cell_type": "code",
      "metadata": {
        "colab": {
          "base_uri": "https://localhost:8080/"
        },
        "id": "_qRSNXZ1zXR0",
        "outputId": "1b12d3ab-e6ad-46cb-fdbf-690dc435cdb7"
      },
      "source": [
        "# The dataset now is 10000x11 \n",
        "print(loan_data_num)\n",
        "print(\"\")\n",
        "print(loan_data_num.shape)"
      ],
      "execution_count": 227,
      "outputs": [
        {
          "output_type": "stream",
          "text": [
            "[[48010226.      35000.      35000.   ...    31933.3      1081.04     8624.69]\n",
            " [57693261.      30000.      30000.   ...    27132.46      848.86     4232.39]\n",
            " [59432726.      15000.      15000.   ...    13326.3       439.64     1750.04]\n",
            " ...\n",
            " [50415990.      10000.      10000.   ...     8910.3      1223.36     1947.47]\n",
            " [46154151.      35000.      10000.   ...     8997.4       318.78     2878.63]\n",
            " [66055249.      10000.      10000.   ...     9145.8       283.49      276.11]]\n",
            "\n",
            "(10000, 11)\n"
          ],
          "name": "stdout"
        }
      ]
    },
    {
      "cell_type": "code",
      "metadata": {
        "colab": {
          "base_uri": "https://localhost:8080/"
        },
        "id": "68WdTQSOz7xo",
        "outputId": "ffe5cfd6-3bd1-4d75-ffde-941cfd05a574"
      },
      "source": [
        "# Update the header\n",
        "# This comprehension goes through \"columns_dollar\" and patches '_EUR' to each \"column_name\"\n",
        "header_additional = np.array([column_name + '_EUR' for column_name in header_num[columns_dollar]])\n",
        "header_additional"
      ],
      "execution_count": 228,
      "outputs": [
        {
          "output_type": "execute_result",
          "data": {
            "text/plain": [
              "array(['loan_amnt_EUR', 'funded_amnt_EUR', 'installment_EUR', 'total_pymnt_EUR'], dtype='<U15')"
            ]
          },
          "metadata": {
            "tags": []
          },
          "execution_count": 228
        }
      ]
    },
    {
      "cell_type": "code",
      "metadata": {
        "colab": {
          "base_uri": "https://localhost:8080/"
        },
        "id": "68k2FEDj2BhO",
        "outputId": "c5eb7315-6d73-4ebe-a2fd-aad766135140"
      },
      "source": [
        "# Add the created array to the header\n",
        "header_num = np.concatenate((header_num, header_additional))\n",
        "header_num"
      ],
      "execution_count": 229,
      "outputs": [
        {
          "output_type": "execute_result",
          "data": {
            "text/plain": [
              "array(['id', 'loan_amnt', 'funded_amnt', 'int_rate', 'installment', 'total_pymnt', 'exchange rate',\n",
              "       'loan_amnt_EUR', 'funded_amnt_EUR', 'installment_EUR', 'total_pymnt_EUR'], dtype='<U19')"
            ]
          },
          "metadata": {
            "tags": []
          },
          "execution_count": 229
        }
      ]
    },
    {
      "cell_type": "code",
      "metadata": {
        "colab": {
          "base_uri": "https://localhost:8080/"
        },
        "id": "-EI8Rjks31b1",
        "outputId": "02af6efc-8928-47c9-bb29-833cebc60435"
      },
      "source": [
        "# Rename the original USD columns aswell for more clarity\n",
        "header_num[columns_dollar] = np.array([column_name + '_USD' for column_name in header_num[columns_dollar]])\n",
        "header_num"
      ],
      "execution_count": 230,
      "outputs": [
        {
          "output_type": "execute_result",
          "data": {
            "text/plain": [
              "array(['id', 'loan_amnt_USD', 'funded_amnt_USD', 'int_rate', 'installment_USD', 'total_pymnt_USD',\n",
              "       'exchange rate', 'loan_amnt_EUR', 'funded_amnt_EUR', 'installment_EUR', 'total_pymnt_EUR'],\n",
              "      dtype='<U19')"
            ]
          },
          "metadata": {
            "tags": []
          },
          "execution_count": 230
        }
      ]
    },
    {
      "cell_type": "code",
      "metadata": {
        "id": "G78e5Mib4a5P"
      },
      "source": [
        "# Rearrange the columns so that each EUR column follows its corresponding USD column\n",
        "columns_index_order = [0,1,7,2,8,3,4,9,5,10,6]"
      ],
      "execution_count": 231,
      "outputs": []
    },
    {
      "cell_type": "code",
      "metadata": {
        "colab": {
          "base_uri": "https://localhost:8080/"
        },
        "id": "rya9mLu75KGc",
        "outputId": "1c195603-5f57-48ca-8e9f-92a7c5e98de4"
      },
      "source": [
        "# set \"columns_index_order\" as index\n",
        "header_num = header_num[columns_index_order]\n",
        "header_num"
      ],
      "execution_count": 232,
      "outputs": [
        {
          "output_type": "execute_result",
          "data": {
            "text/plain": [
              "array(['id', 'loan_amnt_USD', 'loan_amnt_EUR', 'funded_amnt_USD', 'funded_amnt_EUR', 'int_rate',\n",
              "       'installment_USD', 'installment_EUR', 'total_pymnt_USD', 'total_pymnt_EUR', 'exchange rate'],\n",
              "      dtype='<U19')"
            ]
          },
          "metadata": {
            "tags": []
          },
          "execution_count": 232
        }
      ]
    },
    {
      "cell_type": "code",
      "metadata": {
        "id": "FqALbsez5aLW",
        "colab": {
          "base_uri": "https://localhost:8080/"
        },
        "outputId": "c1a4b448-94bf-4447-aa32-05dd5cd0ddde"
      },
      "source": [
        "# Set the order \"columns_index_order\" aswell to the dataset\n",
        "loan_data_num = loan_data_num[:,columns_index_order]\n",
        "loan_data_num"
      ],
      "execution_count": 233,
      "outputs": [
        {
          "output_type": "execute_result",
          "data": {
            "text/plain": [
              "array([[48010226.  ,    35000.  ,    31933.3 , ...,     9452.96,     8624.69,        1.1 ],\n",
              "       [57693261.  ,    30000.  ,    27132.46, ...,     4679.7 ,     4232.39,        1.11],\n",
              "       [59432726.  ,    15000.  ,    13326.3 , ...,     1969.83,     1750.04,        1.13],\n",
              "       ...,\n",
              "       [50415990.  ,    10000.  ,     8910.3 , ...,     2185.64,     1947.47,        1.12],\n",
              "       [46154151.  ,    35000.  ,    31490.9 , ...,     3199.4 ,     2878.63,        1.11],\n",
              "       [66055249.  ,    10000.  ,     9145.8 , ...,      301.9 ,      276.11,        1.09]])"
            ]
          },
          "metadata": {
            "tags": []
          },
          "execution_count": 233
        }
      ]
    },
    {
      "cell_type": "markdown",
      "metadata": {
        "id": "t_v2JNYE7CWZ"
      },
      "source": [
        "##### Interest Rate"
      ]
    },
    {
      "cell_type": "code",
      "metadata": {
        "colab": {
          "base_uri": "https://localhost:8080/"
        },
        "id": "0lwKM3eh7A5Q",
        "outputId": "a0c23a35-12a5-4b7b-ae3c-8ea51e2119ed"
      },
      "source": [
        "header_num"
      ],
      "execution_count": 234,
      "outputs": [
        {
          "output_type": "execute_result",
          "data": {
            "text/plain": [
              "array(['id', 'loan_amnt_USD', 'loan_amnt_EUR', 'funded_amnt_USD', 'funded_amnt_EUR', 'int_rate',\n",
              "       'installment_USD', 'installment_EUR', 'total_pymnt_USD', 'total_pymnt_EUR', 'exchange rate'],\n",
              "      dtype='<U19')"
            ]
          },
          "metadata": {
            "tags": []
          },
          "execution_count": 234
        }
      ]
    },
    {
      "cell_type": "code",
      "metadata": {
        "colab": {
          "base_uri": "https://localhost:8080/"
        },
        "id": "sojy-kCR7OJu",
        "outputId": "c7945c6a-fd84-44ed-f09a-afd462c31d11"
      },
      "source": [
        "# The values are in percentage form\n",
        "# The CONVENTION usually dictates using values between 0 and 1\n",
        "# Because it makes certain calculations, like estimating interest payments simple\n",
        "loan_data_num[:,5]"
      ],
      "execution_count": 235,
      "outputs": [
        {
          "output_type": "execute_result",
          "data": {
            "text/plain": [
              "array([13.33, 28.99, 28.99, ..., 28.99, 16.55, 28.99])"
            ]
          },
          "metadata": {
            "tags": []
          },
          "execution_count": 235
        }
      ]
    },
    {
      "cell_type": "code",
      "metadata": {
        "id": "0iLagYqR7U5L"
      },
      "source": [
        "# Transform the \"int_rate\" column and overwrite\n",
        "loan_data_num[:,5] = loan_data_num[:,5] / 100\n",
        "loan_data_num[:,5]"
      ],
      "execution_count": 237,
      "outputs": []
    },
    {
      "cell_type": "markdown",
      "metadata": {
        "id": "Svhvk6ik8iJI"
      },
      "source": [
        "##### Checkpoint for Numerical Values"
      ]
    },
    {
      "cell_type": "code",
      "metadata": {
        "id": "MG6LT3zX8dka"
      },
      "source": [
        "checkpoint_numeric = checkpoint(\"checkpoint-numeric\", header_num, loan_data_num)"
      ],
      "execution_count": 239,
      "outputs": []
    },
    {
      "cell_type": "code",
      "metadata": {
        "colab": {
          "base_uri": "https://localhost:8080/"
        },
        "id": "lVcyOOoa-YNI",
        "outputId": "2938b4aa-2d2d-4c5a-f68c-acda3cc85c93"
      },
      "source": [
        " checkpoint_numeric['header'], checkpoint_numeric['data']"
      ],
      "execution_count": 240,
      "outputs": [
        {
          "output_type": "execute_result",
          "data": {
            "text/plain": [
              "(array(['id', 'loan_amnt_USD', 'loan_amnt_EUR', 'funded_amnt_USD', 'funded_amnt_EUR', 'int_rate',\n",
              "        'installment_USD', 'installment_EUR', 'total_pymnt_USD', 'total_pymnt_EUR', 'exchange rate'],\n",
              "       dtype='<U19'),\n",
              " array([[48010226.  ,    35000.  ,    31933.3 , ...,     9452.96,     8624.69,        1.1 ],\n",
              "        [57693261.  ,    30000.  ,    27132.46, ...,     4679.7 ,     4232.39,        1.11],\n",
              "        [59432726.  ,    15000.  ,    13326.3 , ...,     1969.83,     1750.04,        1.13],\n",
              "        ...,\n",
              "        [50415990.  ,    10000.  ,     8910.3 , ...,     2185.64,     1947.47,        1.12],\n",
              "        [46154151.  ,    35000.  ,    31490.9 , ...,     3199.4 ,     2878.63,        1.11],\n",
              "        [66055249.  ,    10000.  ,     9145.8 , ...,      301.9 ,      276.11,        1.09]]))"
            ]
          },
          "metadata": {
            "tags": []
          },
          "execution_count": 240
        }
      ]
    },
    {
      "cell_type": "markdown",
      "metadata": {
        "id": "YddSayrv-lfb"
      },
      "source": [
        "### **Completing the Dataset**\n",
        "- **Summary:**\n",
        "  - Splitted the org array into 2\n",
        "  - Cleaned and preprocessed each part separately\n",
        "  - Stitch them back together"
      ]
    },
    {
      "cell_type": "markdown",
      "metadata": {
        "id": "dyDqgt0vGP8n"
      },
      "source": [
        "##### Final check"
      ]
    },
    {
      "cell_type": "code",
      "metadata": {
        "colab": {
          "base_uri": "https://localhost:8080/"
        },
        "id": "KDpSrSQG-qjQ",
        "outputId": "5fe881c0-5590-42a4-c3b7-2fa4b974d6fb"
      },
      "source": [
        "# The 2 arrays must have compatible shapes\n",
        "\n",
        "#To check\n",
        "#print(loan_data_num.shape)\n",
        "#print(loan_data_str.shape)\n",
        "\n",
        "# Or use the SAFER: (Incase we accidentally altered some contents of the string dataset after storing)\n",
        "print(checkpoint_strings['data'].shape)\n",
        "print(checkpoint_numeric['data'].shape)\n",
        "\n",
        "# Both has the same \"ROWS\" so we we can stack them \"side-by-side\" (Horizontally)"
      ],
      "execution_count": 243,
      "outputs": [
        {
          "output_type": "stream",
          "text": [
            "(10000, 6)\n",
            "(10000, 11)\n"
          ],
          "name": "stdout"
        }
      ]
    },
    {
      "cell_type": "code",
      "metadata": {
        "colab": {
          "base_uri": "https://localhost:8080/"
        },
        "id": "q-H7nwzzCrFj",
        "outputId": "402064a2-4257-434e-d4d7-a9b05c642865"
      },
      "source": [
        "print(np.hstack((checkpoint_numeric['data'], checkpoint_strings['data'])))\n",
        "print(np.hstack((checkpoint_numeric['data'], checkpoint_strings['data'])).shape)"
      ],
      "execution_count": 245,
      "outputs": [
        {
          "output_type": "stream",
          "text": [
            "[[48010226.      35000.      31933.3  ...       13.          1.          1.  ]\n",
            " [57693261.      30000.      27132.46 ...        5.          1.          4.  ]\n",
            " [59432726.      15000.      13326.3  ...       10.          1.          4.  ]\n",
            " ...\n",
            " [50415990.      10000.       8910.3  ...        5.          1.          1.  ]\n",
            " [46154151.      35000.      31490.9  ...       17.          1.          3.  ]\n",
            " [66055249.      10000.       9145.8  ...        4.          0.          3.  ]]\n",
            "(10000, 17)\n"
          ],
          "name": "stdout"
        }
      ]
    },
    {
      "cell_type": "code",
      "metadata": {
        "colab": {
          "base_uri": "https://localhost:8080/"
        },
        "id": "J5R1ze1NEQzL",
        "outputId": "7ce61877-67be-4547-a4cf-83b3aa7c8307"
      },
      "source": [
        "# Set it to a variable\n",
        "loan_data = np.hstack((checkpoint_numeric['data'], checkpoint_strings['data']))\n",
        "loan_data"
      ],
      "execution_count": 246,
      "outputs": [
        {
          "output_type": "execute_result",
          "data": {
            "text/plain": [
              "array([[48010226.  ,    35000.  ,    31933.3 , ...,       13.  ,        1.  ,        1.  ],\n",
              "       [57693261.  ,    30000.  ,    27132.46, ...,        5.  ,        1.  ,        4.  ],\n",
              "       [59432726.  ,    15000.  ,    13326.3 , ...,       10.  ,        1.  ,        4.  ],\n",
              "       ...,\n",
              "       [50415990.  ,    10000.  ,     8910.3 , ...,        5.  ,        1.  ,        1.  ],\n",
              "       [46154151.  ,    35000.  ,    31490.9 , ...,       17.  ,        1.  ,        3.  ],\n",
              "       [66055249.  ,    10000.  ,     9145.8 , ...,        4.  ,        0.  ,        3.  ]])"
            ]
          },
          "metadata": {
            "tags": []
          },
          "execution_count": 246
        }
      ]
    },
    {
      "cell_type": "code",
      "metadata": {
        "colab": {
          "base_uri": "https://localhost:8080/"
        },
        "id": "8Z7aw38rEW6v",
        "outputId": "fc4ddfea-200a-4bb7-e1f4-b18caab2fd57"
      },
      "source": [
        "# Check for missing values\n",
        "np.isnan(loan_data).sum()"
      ],
      "execution_count": 247,
      "outputs": [
        {
          "output_type": "execute_result",
          "data": {
            "text/plain": [
              "0"
            ]
          },
          "metadata": {
            "tags": []
          },
          "execution_count": 247
        }
      ]
    },
    {
      "cell_type": "code",
      "metadata": {
        "colab": {
          "base_uri": "https://localhost:8080/"
        },
        "id": "crQLRURCEl1X",
        "outputId": "8393ca6f-b983-4f5f-d1c3-1641407dda04"
      },
      "source": [
        "# Set the header to the combined dataset\n",
        "header_full = np.concatenate((checkpoint_numeric['header'], checkpoint_strings['header']))\n",
        "header_full"
      ],
      "execution_count": 248,
      "outputs": [
        {
          "output_type": "execute_result",
          "data": {
            "text/plain": [
              "array(['id', 'loan_amnt_USD', 'loan_amnt_EUR', 'funded_amnt_USD', 'funded_amnt_EUR', 'int_rate',\n",
              "       'installment_USD', 'installment_EUR', 'total_pymnt_USD', 'total_pymnt_EUR', 'exchange rate',\n",
              "       'issue_date', 'loan_status', 'term_months', 'sub_grade', 'verification_status',\n",
              "       'state_address'], dtype='<U19')"
            ]
          },
          "metadata": {
            "tags": []
          },
          "execution_count": 248
        }
      ]
    },
    {
      "cell_type": "markdown",
      "metadata": {
        "id": "98LNaFFxGsNp"
      },
      "source": [
        "##### Sorting the NEW DATASET"
      ]
    },
    {
      "cell_type": "code",
      "metadata": {
        "colab": {
          "base_uri": "https://localhost:8080/"
        },
        "id": "WHONhBPYFCkW",
        "outputId": "0d0bc240-8738-4d0b-f3e8-8e29c8e2cf41"
      },
      "source": [
        "# Rearrange the entire dataset according to the values in the first column 'id'\n",
        "loan_data = loan_data[np.argsort(loan_data[:,0])]\n",
        "loan_data"
      ],
      "execution_count": 252,
      "outputs": [
        {
          "output_type": "execute_result",
          "data": {
            "text/plain": [
              "array([[  373332.  ,     9950.  ,     9038.08, ...,       21.  ,        0.  ,        1.  ],\n",
              "       [  575239.  ,    12000.  ,    10900.2 , ...,       25.  ,        1.  ,        2.  ],\n",
              "       [  707689.  ,    10000.  ,     8924.3 , ...,       13.  ,        1.  ,        0.  ],\n",
              "       ...,\n",
              "       [68614880.  ,     5600.  ,     5121.65, ...,        8.  ,        1.  ,        1.  ],\n",
              "       [68615915.  ,     4000.  ,     3658.32, ...,       10.  ,        1.  ,        2.  ],\n",
              "       [68616519.  ,    21600.  ,    19754.93, ...,        3.  ,        0.  ,        2.  ]])"
            ]
          },
          "metadata": {
            "tags": []
          },
          "execution_count": 252
        }
      ]
    },
    {
      "cell_type": "code",
      "metadata": {
        "colab": {
          "base_uri": "https://localhost:8080/"
        },
        "id": "OQ9BpzjBFeZR",
        "outputId": "1bc557a7-b2d9-4723-ddcc-a7123d0a4212"
      },
      "source": [
        "# To verify (should start at 0 and so on)\n",
        "np.argsort(loan_data[:,0])"
      ],
      "execution_count": 253,
      "outputs": [
        {
          "output_type": "execute_result",
          "data": {
            "text/plain": [
              "array([   0,    1,    2, ..., 9997, 9998, 9999])"
            ]
          },
          "metadata": {
            "tags": []
          },
          "execution_count": 253
        }
      ]
    },
    {
      "cell_type": "markdown",
      "metadata": {
        "id": "0qFUIv37GLNw"
      },
      "source": [
        "##### Storing the NEW DATASET"
      ]
    },
    {
      "cell_type": "code",
      "metadata": {
        "colab": {
          "base_uri": "https://localhost:8080/"
        },
        "id": "n6vj65nZGyu-",
        "outputId": "2a97385f-d86d-424e-89b5-44b35cba3bb9"
      },
      "source": [
        "# After sorting the array, stack the header ontop \"np.vstack()\"\n",
        "# NOTE: The stack requires a unified datatype accross all the rows and columns\n",
        "# The function selects the smallest datatype which can hold any of the elements within the array\n",
        "loan_data = np.vstack((header_full, loan_data))\n",
        "loan_data"
      ],
      "execution_count": 254,
      "outputs": [
        {
          "output_type": "execute_result",
          "data": {
            "text/plain": [
              "array([['id', 'loan_amnt_USD', 'loan_amnt_EUR', ..., 'sub_grade', 'verification_status',\n",
              "        'state_address'],\n",
              "       ['373332.0', '9950.0', '9038.082814338286', ..., '21.0', '0.0', '1.0'],\n",
              "       ['575239.0', '12000.0', '10900.20037910145', ..., '25.0', '1.0', '2.0'],\n",
              "       ...,\n",
              "       ['68614880.0', '5600.0', '5121.647851612413', ..., '8.0', '1.0', '1.0'],\n",
              "       ['68615915.0', '4000.0', '3658.319894008867', ..., '10.0', '1.0', '2.0'],\n",
              "       ['68616519.0', '21600.0', '19754.927427647883', ..., '3.0', '0.0', '2.0']], dtype='<U32')"
            ]
          },
          "metadata": {
            "tags": []
          },
          "execution_count": 254
        }
      ]
    },
    {
      "cell_type": "code",
      "metadata": {
        "id": "c5f-olrVHqQ5"
      },
      "source": [
        "# Save the dataset\n",
        "np.savetxt(\"/content/drive/MyDrive/Colab Notebooks/365 Data Science/Programming/Numpy/Files for the Practical Example/loan-data-preprocessed.csv\", \n",
        "           loan_data,                        # The loan_data variable\n",
        "           fmt = \"%s\",                       # String format\n",
        "           delimiter = \",\") \n",
        "\n",
        "# Check Directory --> Checkfile with notepad                 "
      ],
      "execution_count": 255,
      "outputs": []
    }
  ]
}