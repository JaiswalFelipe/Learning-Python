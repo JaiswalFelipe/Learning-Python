{
  "nbformat": 4,
  "nbformat_minor": 0,
  "metadata": {
    "colab": {
      "name": "Pandas.ipynb",
      "provenance": [],
      "collapsed_sections": [
        "_hphdrzPznnd",
        "Y98zSkgJueac",
        "Euourtilzh_D",
        "2y2ozt-o14b0",
        "28GJQWP64QVu",
        "N6Is-6N_60RG",
        "KZ5yMpkUVRIn",
        "FCO9hfznrebk",
        "7FhMs7djxwQY",
        "tPjpbjvNxrCM",
        "AK7iarui33xO",
        "b-IkffMg50sl",
        "C9eJu_3C8bzG",
        "gQPVEUIZVn_K",
        "-2KiG3V_cQoa",
        "3-LeRuOHdBV4",
        "ofzsXGluhzuK",
        "I0tGqdUnll8e",
        "TXbY19g8scqU",
        "l6VtI1TOvNwl"
      ],
      "mount_file_id": "106Sk-GMV1TQq_U1MmfnNquRvBVJTA73R",
      "authorship_tag": "ABX9TyOm424SZbex5fOAOkIIUo+R",
      "include_colab_link": true
    },
    "kernelspec": {
      "name": "python3",
      "display_name": "Python 3"
    },
    "language_info": {
      "name": "python"
    }
  },
  "cells": [
    {
      "cell_type": "markdown",
      "metadata": {
        "id": "view-in-github",
        "colab_type": "text"
      },
      "source": [
        "<a href=\"https://colab.research.google.com/github/JaiswalFelipe/Learning-Python/blob/main/Pandas.ipynb\" target=\"_parent\"><img src=\"https://colab.research.google.com/assets/colab-badge.svg\" alt=\"Open In Colab\"/></a>"
      ]
    },
    {
      "cell_type": "code",
      "metadata": {
        "id": "mjMmxj5nuCIE"
      },
      "source": [
        "# Always adapt to NEWER TOOLS\n",
        "# Documentation: pandas.pydata.org\n",
        "import pandas as pd # Numpy based\n",
        "import numpy as np"
      ],
      "execution_count": null,
      "outputs": []
    },
    {
      "cell_type": "code",
      "metadata": {
        "colab": {
          "base_uri": "https://localhost:8080/",
          "height": 35
        },
        "id": "KCo_BxOyuFQ_",
        "outputId": "f2ed550b-8d01-48dd-d7c1-a6d5529fda94"
      },
      "source": [
        "# Checking version\n",
        "pd.__version__"
      ],
      "execution_count": null,
      "outputs": [
        {
          "output_type": "execute_result",
          "data": {
            "application/vnd.google.colaboratory.intrinsic+json": {
              "type": "string"
            },
            "text/plain": [
              "'1.1.5'"
            ]
          },
          "metadata": {
            "tags": []
          },
          "execution_count": 2
        }
      ]
    },
    {
      "cell_type": "markdown",
      "metadata": {
        "id": "_hphdrzPznnd"
      },
      "source": [
        "### **Basics**"
      ]
    },
    {
      "cell_type": "markdown",
      "metadata": {
        "id": "Y98zSkgJueac"
      },
      "source": [
        "##### Pandas Series\n",
        "- The series object is a single-column data, or a set of values that correspond to a single variable \n",
        "- Pandas series object corresponds to the one-dimensional Numpy array structure"
      ]
    },
    {
      "cell_type": "code",
      "metadata": {
        "colab": {
          "base_uri": "https://localhost:8080/"
        },
        "id": "Qk4iGdxluMI5",
        "outputId": "78fe9620-34d4-4830-c903-2670b1e48047"
      },
      "source": [
        "l = ['A','B','C','D']\n",
        "\n",
        "print(l)\n",
        "print(type(l))"
      ],
      "execution_count": null,
      "outputs": [
        {
          "output_type": "stream",
          "text": [
            "['A', 'B', 'C', 'D']\n",
            "<class 'list'>\n"
          ],
          "name": "stdout"
        }
      ]
    },
    {
      "cell_type": "code",
      "metadata": {
        "colab": {
          "base_uri": "https://localhost:8080/"
        },
        "id": "4tLy4VOlvwLI",
        "outputId": "6004d642-7a4b-470e-941d-2333582e4d40"
      },
      "source": [
        "# Turn list into a series\n",
        "\n",
        "series = pd.Series(l)\n",
        "print(series) \n",
        "print(type(series))"
      ],
      "execution_count": null,
      "outputs": [
        {
          "output_type": "stream",
          "text": [
            "0    A\n",
            "1    B\n",
            "2    C\n",
            "3    D\n",
            "dtype: object\n",
            "<class 'pandas.core.series.Series'>\n"
          ],
          "name": "stdout"
        }
      ]
    },
    {
      "cell_type": "code",
      "metadata": {
        "colab": {
          "base_uri": "https://localhost:8080/"
        },
        "id": "gN8qTtV6wHJH",
        "outputId": "2c81b92c-fbb6-424e-8873-17e7554f384f"
      },
      "source": [
        "# Integer type\n",
        "int_series = pd.Series([1,2,3,4])\n",
        "int_series"
      ],
      "execution_count": null,
      "outputs": [
        {
          "output_type": "execute_result",
          "data": {
            "text/plain": [
              "0    1\n",
              "1    2\n",
              "2    3\n",
              "3    4\n",
              "dtype: int64"
            ]
          },
          "metadata": {
            "tags": []
          },
          "execution_count": 7
        }
      ]
    },
    {
      "cell_type": "code",
      "metadata": {
        "colab": {
          "base_uri": "https://localhost:8080/"
        },
        "id": "9zIamCgbyGxX",
        "outputId": "4df334a9-16c2-4a75-ea86-383d91d7b4cc"
      },
      "source": [
        "# Numpy: one-dimensional array structure (ndarray)\n",
        "\n",
        "array_a = np.array([1,2,3,4,5])\n",
        "array_a"
      ],
      "execution_count": null,
      "outputs": [
        {
          "output_type": "execute_result",
          "data": {
            "text/plain": [
              "array([1, 2, 3, 4, 5])"
            ]
          },
          "metadata": {
            "tags": []
          },
          "execution_count": 13
        }
      ]
    },
    {
      "cell_type": "code",
      "metadata": {
        "colab": {
          "base_uri": "https://localhost:8080/"
        },
        "id": "tqu-csTAyVLA",
        "outputId": "5303b336-18ad-4eb2-8ef9-bfb7f2190b5a"
      },
      "source": [
        "type(array_a)"
      ],
      "execution_count": null,
      "outputs": [
        {
          "output_type": "execute_result",
          "data": {
            "text/plain": [
              "numpy.ndarray"
            ]
          },
          "metadata": {
            "tags": []
          },
          "execution_count": 14
        }
      ]
    },
    {
      "cell_type": "code",
      "metadata": {
        "colab": {
          "base_uri": "https://localhost:8080/"
        },
        "id": "O-A7wIrsyuJo",
        "outputId": "a587605f-7df1-4600-f66e-2845439f7206"
      },
      "source": [
        "# Store these values into a series\n",
        "series_a = pd.Series(array_a)\n",
        "series_a"
      ],
      "execution_count": null,
      "outputs": [
        {
          "output_type": "execute_result",
          "data": {
            "text/plain": [
              "0    1\n",
              "1    2\n",
              "2    3\n",
              "3    4\n",
              "4    5\n",
              "dtype: int64"
            ]
          },
          "metadata": {
            "tags": []
          },
          "execution_count": 15
        }
      ]
    },
    {
      "cell_type": "markdown",
      "metadata": {
        "id": "Euourtilzh_D"
      },
      "source": [
        "##### Attributes\n",
        "- A variable providing metadata about an object\n",
        "- Method: a function that can be assoc. with an object"
      ]
    },
    {
      "cell_type": "code",
      "metadata": {
        "colab": {
          "base_uri": "https://localhost:8080/"
        },
        "id": "3nH0YqVLy8wf",
        "outputId": "dfde9d9c-3730-4234-be92-4aca2cfe617f"
      },
      "source": [
        "# \".\" Notation\n",
        "print(series_a.dtype)\n",
        "print(series_a.size)"
      ],
      "execution_count": null,
      "outputs": [
        {
          "output_type": "stream",
          "text": [
            "int64\n",
            "5\n"
          ],
          "name": "stdout"
        }
      ]
    },
    {
      "cell_type": "code",
      "metadata": {
        "colab": {
          "base_uri": "https://localhost:8080/"
        },
        "id": "_wLj1_KL0Wzi",
        "outputId": "9a41b352-164c-412d-dfd1-11dd8b6050fa"
      },
      "source": [
        "# Give name to an object\n",
        "series_a.name = 'Created Series'\n",
        "print(series_a)\n",
        "print(series_a.name)"
      ],
      "execution_count": null,
      "outputs": [
        {
          "output_type": "stream",
          "text": [
            "0    1\n",
            "1    2\n",
            "2    3\n",
            "3    4\n",
            "4    5\n",
            "Name: Created Series, dtype: int64\n",
            "Created Series\n"
          ],
          "name": "stdout"
        }
      ]
    },
    {
      "cell_type": "markdown",
      "metadata": {
        "id": "2y2ozt-o14b0"
      },
      "source": [
        "##### Indexing"
      ]
    },
    {
      "cell_type": "code",
      "metadata": {
        "colab": {
          "base_uri": "https://localhost:8080/"
        },
        "id": "zFaCUJNU1q7c",
        "outputId": "fb254f46-dd6f-474d-b8cd-8d21da6acb55"
      },
      "source": [
        "capitals = {\"Norway\": \"Oslo\", \"France\": \"Paris\", \"Japan\": \"Toyo\"}\n",
        "print(capitals)\n",
        "print(type(capitals))"
      ],
      "execution_count": null,
      "outputs": [
        {
          "output_type": "stream",
          "text": [
            "{'Norway': 'Oslo', 'France': 'Paris', 'Japan': 'Toyo'}\n",
            "<class 'dict'>\n"
          ],
          "name": "stdout"
        }
      ]
    },
    {
      "cell_type": "code",
      "metadata": {
        "colab": {
          "base_uri": "https://localhost:8080/"
        },
        "id": "vs6d67WT278S",
        "outputId": "c83610ac-edb9-4436-d5df-c179f9720b9a"
      },
      "source": [
        "# Put \"capitals\" dict to a pandas series\n",
        "cap_series = pd.Series(capitals)\n",
        "cap_series"
      ],
      "execution_count": null,
      "outputs": [
        {
          "output_type": "execute_result",
          "data": {
            "text/plain": [
              "Norway     Oslo\n",
              "France    Paris\n",
              "Japan      Toyo\n",
              "dtype: object"
            ]
          },
          "metadata": {
            "tags": []
          },
          "execution_count": 22
        }
      ]
    },
    {
      "cell_type": "code",
      "metadata": {
        "colab": {
          "base_uri": "https://localhost:8080/"
        },
        "id": "Xl1niQIj3Qk0",
        "outputId": "91fa74e5-5dd6-4e2e-b318-a89818c2759f"
      },
      "source": [
        "cap_series.index"
      ],
      "execution_count": null,
      "outputs": [
        {
          "output_type": "execute_result",
          "data": {
            "text/plain": [
              "Index(['Norway', 'France', 'Japan'], dtype='object')"
            ]
          },
          "metadata": {
            "tags": []
          },
          "execution_count": 23
        }
      ]
    },
    {
      "cell_type": "markdown",
      "metadata": {
        "id": "28GJQWP64QVu"
      },
      "source": [
        "##### Label-based vs Position-based Indexing\n",
        "\n",
        "- Explicit vs Implicit\n",
        "\n",
        "\n",
        "\n",
        "\n",
        "\n",
        "\n",
        "\n",
        "\n",
        "\n"
      ]
    },
    {
      "cell_type": "code",
      "metadata": {
        "colab": {
          "base_uri": "https://localhost:8080/"
        },
        "id": "02ag8_rh593J",
        "outputId": "712a8652-a10f-49da-a6d4-5e3307e72362"
      },
      "source": [
        "# Label-based Indexing = Explicitly specified index\n",
        "print(cap_series)\n",
        "print(cap_series['Norway'])"
      ],
      "execution_count": null,
      "outputs": [
        {
          "output_type": "stream",
          "text": [
            "Norway     Oslo\n",
            "France    Paris\n",
            "Japan      Toyo\n",
            "dtype: object\n",
            "Oslo\n"
          ],
          "name": "stdout"
        }
      ]
    },
    {
      "cell_type": "code",
      "metadata": {
        "colab": {
          "base_uri": "https://localhost:8080/"
        },
        "id": "1Wo7ERSC3xfW",
        "outputId": "0ef6be8f-cfea-4dd5-fe19-727af86a8138"
      },
      "source": [
        "# Range index (POSITION-BASED Indexing or Zero-based indexing)\n",
        "# Implicit Indexing (default): If user does not specify index\n",
        "print(int_series)\n",
        "print(int_series.index)\n",
        "print(type(int_series.index))  "
      ],
      "execution_count": null,
      "outputs": [
        {
          "output_type": "stream",
          "text": [
            "0    1\n",
            "1    2\n",
            "2    3\n",
            "3    4\n",
            "dtype: int64\n",
            "RangeIndex(start=0, stop=4, step=1)\n",
            "<class 'pandas.core.indexes.range.RangeIndex'>\n"
          ],
          "name": "stdout"
        }
      ]
    },
    {
      "cell_type": "code",
      "metadata": {
        "colab": {
          "base_uri": "https://localhost:8080/"
        },
        "id": "-7ysq8Zw4z7u",
        "outputId": "23f2faef-3d21-4f0e-a53b-a6104ed5f2ed"
      },
      "source": [
        "# List the indicies\n",
        "list(int_series.index)"
      ],
      "execution_count": null,
      "outputs": [
        {
          "output_type": "execute_result",
          "data": {
            "text/plain": [
              "[0, 1, 2, 3]"
            ]
          },
          "metadata": {
            "tags": []
          },
          "execution_count": 29
        }
      ]
    },
    {
      "cell_type": "markdown",
      "metadata": {
        "id": "N6Is-6N_60RG"
      },
      "source": [
        "##### Working with Indices in Python"
      ]
    },
    {
      "cell_type": "code",
      "metadata": {
        "colab": {
          "base_uri": "https://localhost:8080/"
        },
        "id": "2qqMM8l_5q-o",
        "outputId": "690b63d6-7bad-4a69-daea-c586df67d43f"
      },
      "source": [
        "# Implicit Index\n",
        "print(int_series[0])\n",
        "print(cap_series[0])"
      ],
      "execution_count": null,
      "outputs": [
        {
          "output_type": "stream",
          "text": [
            "1\n",
            "Oslo\n"
          ],
          "name": "stdout"
        }
      ]
    },
    {
      "cell_type": "code",
      "metadata": {
        "colab": {
          "base_uri": "https://localhost:8080/"
        },
        "id": "k_ElUsND7jyJ",
        "outputId": "41dfe4a0-acfe-410e-c8ce-e37d19a51e06"
      },
      "source": [
        "# Explicit Index\n",
        "series_b = pd.Series([11,22,33,44,55], index = [1,2,3,4,5]) \n",
        "series_b"
      ],
      "execution_count": null,
      "outputs": [
        {
          "output_type": "execute_result",
          "data": {
            "text/plain": [
              "1    11\n",
              "2    22\n",
              "3    33\n",
              "4    44\n",
              "5    55\n",
              "dtype: int64"
            ]
          },
          "metadata": {
            "tags": []
          },
          "execution_count": 34
        }
      ]
    },
    {
      "cell_type": "code",
      "metadata": {
        "colab": {
          "base_uri": "https://localhost:8080/"
        },
        "id": "w4hSaSi-_He0",
        "outputId": "8ccccc19-5595-406b-893b-6092bead4353"
      },
      "source": [
        "series_c = pd.Series([11,22,33,44,55], index = [\"1\",\"2\",\"3\",\"4\",\"5\"]) # Explicit as str (Label-based)\n",
        "series_c[\"1\"]"
      ],
      "execution_count": null,
      "outputs": [
        {
          "output_type": "execute_result",
          "data": {
            "text/plain": [
              "11"
            ]
          },
          "metadata": {
            "tags": []
          },
          "execution_count": 39
        }
      ]
    },
    {
      "cell_type": "code",
      "metadata": {
        "colab": {
          "base_uri": "https://localhost:8080/",
          "height": 35
        },
        "id": "xRnsyyxS_8lG",
        "outputId": "e40810e6-d227-4984-802e-422f1571de9a"
      },
      "source": [
        "# Another example of Expl\n",
        "cap_series['France']"
      ],
      "execution_count": null,
      "outputs": [
        {
          "output_type": "execute_result",
          "data": {
            "application/vnd.google.colaboratory.intrinsic+json": {
              "type": "string"
            },
            "text/plain": [
              "'Paris'"
            ]
          },
          "metadata": {
            "tags": []
          },
          "execution_count": 40
        }
      ]
    },
    {
      "cell_type": "markdown",
      "metadata": {
        "id": "fpsXJN4FMC5D"
      },
      "source": [
        "##### Using Methods\n",
        "- Can have access to the object's data\n",
        "- Can manipulate the object's state\n",
        "- a parameter (n)  vs an argument (our choice for n) "
      ]
    },
    {
      "cell_type": "code",
      "metadata": {
        "id": "g_Rgja8bAPHk",
        "colab": {
          "base_uri": "https://localhost:8080/"
        },
        "outputId": "794e91da-0c47-4ae5-fca7-856846fa531f"
      },
      "source": [
        "sales = pd.Series({\"7/4/2021\": 3999,\n",
        "                   \"8/4/2021\": 3000,\n",
        "                   \"8/23/2021\": 3000,\n",
        "                   \"5/15/2020\": 3000,\n",
        "                   \"6/12/2019\": 3000})\n",
        "\n",
        "sales"
      ],
      "execution_count": null,
      "outputs": [
        {
          "output_type": "execute_result",
          "data": {
            "text/plain": [
              "7/4/2021     3999\n",
              "8/4/2021     3000\n",
              "8/23/2021    3000\n",
              "5/15/2020    3000\n",
              "6/12/2019    3000\n",
              "dtype: int64"
            ]
          },
          "metadata": {
            "tags": []
          },
          "execution_count": 43
        }
      ]
    },
    {
      "cell_type": "code",
      "metadata": {
        "colab": {
          "base_uri": "https://localhost:8080/"
        },
        "id": "s_VMEUrEOZNi",
        "outputId": "3c74c161-b7f0-4ffd-ed29-baf0ff70737f"
      },
      "source": [
        "# Methods\n",
        "\n",
        "print(\"INFORMATION 'FROM' DATASET\")\n",
        "print(sales.sum())\n",
        "print(sales.min())\n",
        "print(sales.max())\n",
        "print(sales.mean())\n",
        "\n",
        "print(\"\")\n",
        "\n",
        "print(\"INFORMATION 'ABOUT' DATASET\") # Label\n",
        "print(sales.idxmax())\n",
        "print(sales.idxmin())"
      ],
      "execution_count": null,
      "outputs": [
        {
          "output_type": "stream",
          "text": [
            "INFORMATION 'FROM' DATASET\n",
            "15999\n",
            "3000\n",
            "3999\n",
            "3199.8\n",
            "\n",
            "INFORMATION 'ABOUT' DATASET\n",
            "7/4/2021\n",
            "8/4/2021\n"
          ],
          "name": "stdout"
        }
      ]
    },
    {
      "cell_type": "code",
      "metadata": {
        "colab": {
          "base_uri": "https://localhost:8080/"
        },
        "id": "WD0CxSNIRzgL",
        "outputId": "9ac95173-20db-4794-9dc7-2292c5c50f6f"
      },
      "source": [
        "# Non-mathematical for non-numeric\n",
        "print(sales.head())\n",
        "print(\"\")\n",
        "print(sales.tail(2))   # You can be specific\n",
        "print(\"\")\n",
        "print(sales.describe(include='all'))\n",
        "print(\"\")\n",
        "print(sales.shape)"
      ],
      "execution_count": null,
      "outputs": [
        {
          "output_type": "stream",
          "text": [
            "7/4/2021     3999\n",
            "8/4/2021     3000\n",
            "8/23/2021    3000\n",
            "5/15/2020    3000\n",
            "6/12/2019    3000\n",
            "dtype: int64\n",
            "\n",
            "5/15/2020    3000\n",
            "6/12/2019    3000\n",
            "dtype: int64\n",
            "\n",
            "count       5.000000\n",
            "mean     3199.800000\n",
            "std       446.766382\n",
            "min      3000.000000\n",
            "25%      3000.000000\n",
            "50%      3000.000000\n",
            "75%      3000.000000\n",
            "max      3999.000000\n",
            "dtype: float64\n",
            "\n",
            "(5,)\n"
          ],
          "name": "stdout"
        }
      ]
    },
    {
      "cell_type": "markdown",
      "metadata": {
        "id": "KZ5yMpkUVRIn"
      },
      "source": [
        "### **Pandas DataFrame**\n",
        "- DataFrame: Multi-column data(2D data structure: columns and rows) \n",
        "- vs Series: Single (1D: rows)\n"
      ]
    },
    {
      "cell_type": "code",
      "metadata": {
        "colab": {
          "base_uri": "https://localhost:8080/",
          "height": 143
        },
        "id": "jA9xCzzzUNwh",
        "outputId": "8b53a17e-2297-496a-8c14-da290142db98"
      },
      "source": [
        "data = {'ProductName':['Product A','Product B','Product C'],\n",
        "        'ProductPrice': [200,31,51]}\n",
        "\n",
        "df = pd.DataFrame(data)\n",
        "df"
      ],
      "execution_count": null,
      "outputs": [
        {
          "output_type": "execute_result",
          "data": {
            "text/html": [
              "<div>\n",
              "<style scoped>\n",
              "    .dataframe tbody tr th:only-of-type {\n",
              "        vertical-align: middle;\n",
              "    }\n",
              "\n",
              "    .dataframe tbody tr th {\n",
              "        vertical-align: top;\n",
              "    }\n",
              "\n",
              "    .dataframe thead th {\n",
              "        text-align: right;\n",
              "    }\n",
              "</style>\n",
              "<table border=\"1\" class=\"dataframe\">\n",
              "  <thead>\n",
              "    <tr style=\"text-align: right;\">\n",
              "      <th></th>\n",
              "      <th>ProductName</th>\n",
              "      <th>ProductPrice</th>\n",
              "    </tr>\n",
              "  </thead>\n",
              "  <tbody>\n",
              "    <tr>\n",
              "      <th>0</th>\n",
              "      <td>Product A</td>\n",
              "      <td>200</td>\n",
              "    </tr>\n",
              "    <tr>\n",
              "      <th>1</th>\n",
              "      <td>Product B</td>\n",
              "      <td>31</td>\n",
              "    </tr>\n",
              "    <tr>\n",
              "      <th>2</th>\n",
              "      <td>Product C</td>\n",
              "      <td>51</td>\n",
              "    </tr>\n",
              "  </tbody>\n",
              "</table>\n",
              "</div>"
            ],
            "text/plain": [
              "  ProductName  ProductPrice\n",
              "0   Product A           200\n",
              "1   Product B            31\n",
              "2   Product C            51"
            ]
          },
          "metadata": {
            "tags": []
          },
          "execution_count": 55
        }
      ]
    },
    {
      "cell_type": "code",
      "metadata": {
        "colab": {
          "base_uri": "https://localhost:8080/",
          "height": 143
        },
        "id": "dPXbMQ83gBi6",
        "outputId": "0b232f5e-9811-4b27-fde2-000305629a4f"
      },
      "source": [
        "# With specified Index\n",
        "df = pd.DataFrame(data, index=['A','B','C'])\n",
        "df"
      ],
      "execution_count": null,
      "outputs": [
        {
          "output_type": "execute_result",
          "data": {
            "text/html": [
              "<div>\n",
              "<style scoped>\n",
              "    .dataframe tbody tr th:only-of-type {\n",
              "        vertical-align: middle;\n",
              "    }\n",
              "\n",
              "    .dataframe tbody tr th {\n",
              "        vertical-align: top;\n",
              "    }\n",
              "\n",
              "    .dataframe thead th {\n",
              "        text-align: right;\n",
              "    }\n",
              "</style>\n",
              "<table border=\"1\" class=\"dataframe\">\n",
              "  <thead>\n",
              "    <tr style=\"text-align: right;\">\n",
              "      <th></th>\n",
              "      <th>ProductName</th>\n",
              "      <th>ProductPrice</th>\n",
              "    </tr>\n",
              "  </thead>\n",
              "  <tbody>\n",
              "    <tr>\n",
              "      <th>A</th>\n",
              "      <td>Product A</td>\n",
              "      <td>200</td>\n",
              "    </tr>\n",
              "    <tr>\n",
              "      <th>B</th>\n",
              "      <td>Product B</td>\n",
              "      <td>31</td>\n",
              "    </tr>\n",
              "    <tr>\n",
              "      <th>C</th>\n",
              "      <td>Product C</td>\n",
              "      <td>51</td>\n",
              "    </tr>\n",
              "  </tbody>\n",
              "</table>\n",
              "</div>"
            ],
            "text/plain": [
              "  ProductName  ProductPrice\n",
              "A   Product A           200\n",
              "B   Product B            31\n",
              "C   Product C            51"
            ]
          },
          "metadata": {
            "tags": []
          },
          "execution_count": 56
        }
      ]
    },
    {
      "cell_type": "code",
      "metadata": {
        "colab": {
          "base_uri": "https://localhost:8080/",
          "height": 143
        },
        "id": "tneNMa9NgpxT",
        "outputId": "04786d15-351f-4257-d121-0c1e09d727d8"
      },
      "source": [
        "# Pro Way\n",
        "product_IDs = ['A','B','C']\n",
        "df = pd.DataFrame(data, index=product_IDs)\n",
        "df"
      ],
      "execution_count": null,
      "outputs": [
        {
          "output_type": "execute_result",
          "data": {
            "text/html": [
              "<div>\n",
              "<style scoped>\n",
              "    .dataframe tbody tr th:only-of-type {\n",
              "        vertical-align: middle;\n",
              "    }\n",
              "\n",
              "    .dataframe tbody tr th {\n",
              "        vertical-align: top;\n",
              "    }\n",
              "\n",
              "    .dataframe thead th {\n",
              "        text-align: right;\n",
              "    }\n",
              "</style>\n",
              "<table border=\"1\" class=\"dataframe\">\n",
              "  <thead>\n",
              "    <tr style=\"text-align: right;\">\n",
              "      <th></th>\n",
              "      <th>ProductName</th>\n",
              "      <th>ProductPrice</th>\n",
              "    </tr>\n",
              "  </thead>\n",
              "  <tbody>\n",
              "    <tr>\n",
              "      <th>A</th>\n",
              "      <td>Product A</td>\n",
              "      <td>200</td>\n",
              "    </tr>\n",
              "    <tr>\n",
              "      <th>B</th>\n",
              "      <td>Product B</td>\n",
              "      <td>31</td>\n",
              "    </tr>\n",
              "    <tr>\n",
              "      <th>C</th>\n",
              "      <td>Product C</td>\n",
              "      <td>51</td>\n",
              "    </tr>\n",
              "  </tbody>\n",
              "</table>\n",
              "</div>"
            ],
            "text/plain": [
              "  ProductName  ProductPrice\n",
              "A   Product A           200\n",
              "B   Product B            31\n",
              "C   Product C            51"
            ]
          },
          "metadata": {
            "tags": []
          },
          "execution_count": 57
        }
      ]
    },
    {
      "cell_type": "code",
      "metadata": {
        "colab": {
          "base_uri": "https://localhost:8080/",
          "height": 143
        },
        "id": "H7C-XSElhKgY",
        "outputId": "a6de4394-8432-4c34-e534-c46bae5570bf"
      },
      "source": [
        "# Construct a DF from a dictionary of pandas series\n",
        "ser_products = pd.Series(['Product A','Product B','Product C'], index=product_IDs)\n",
        "ser_prices = pd.Series([200,31,51], index=product_IDs)\n",
        "\n",
        "data = {'ProductName':ser_products, 'ProductPrice':ser_prices}\n",
        "df = pd.DataFrame(data)\n",
        "df"
      ],
      "execution_count": null,
      "outputs": [
        {
          "output_type": "execute_result",
          "data": {
            "text/html": [
              "<div>\n",
              "<style scoped>\n",
              "    .dataframe tbody tr th:only-of-type {\n",
              "        vertical-align: middle;\n",
              "    }\n",
              "\n",
              "    .dataframe tbody tr th {\n",
              "        vertical-align: top;\n",
              "    }\n",
              "\n",
              "    .dataframe thead th {\n",
              "        text-align: right;\n",
              "    }\n",
              "</style>\n",
              "<table border=\"1\" class=\"dataframe\">\n",
              "  <thead>\n",
              "    <tr style=\"text-align: right;\">\n",
              "      <th></th>\n",
              "      <th>ProductName</th>\n",
              "      <th>ProductPrice</th>\n",
              "    </tr>\n",
              "  </thead>\n",
              "  <tbody>\n",
              "    <tr>\n",
              "      <th>A</th>\n",
              "      <td>Product A</td>\n",
              "      <td>200</td>\n",
              "    </tr>\n",
              "    <tr>\n",
              "      <th>B</th>\n",
              "      <td>Product B</td>\n",
              "      <td>31</td>\n",
              "    </tr>\n",
              "    <tr>\n",
              "      <th>C</th>\n",
              "      <td>Product C</td>\n",
              "      <td>51</td>\n",
              "    </tr>\n",
              "  </tbody>\n",
              "</table>\n",
              "</div>"
            ],
            "text/plain": [
              "  ProductName  ProductPrice\n",
              "A   Product A           200\n",
              "B   Product B            31\n",
              "C   Product C            51"
            ]
          },
          "metadata": {
            "tags": []
          },
          "execution_count": 59
        }
      ]
    },
    {
      "cell_type": "code",
      "metadata": {
        "colab": {
          "base_uri": "https://localhost:8080/",
          "height": 143
        },
        "id": "GLP0ZrZ0ieDY",
        "outputId": "2ce14a9e-17b0-47f7-b9b8-d624776174b7"
      },
      "source": [
        "# Setting col_names\n",
        "df.columns =['Name','Price']\n",
        "df"
      ],
      "execution_count": null,
      "outputs": [
        {
          "output_type": "execute_result",
          "data": {
            "text/html": [
              "<div>\n",
              "<style scoped>\n",
              "    .dataframe tbody tr th:only-of-type {\n",
              "        vertical-align: middle;\n",
              "    }\n",
              "\n",
              "    .dataframe tbody tr th {\n",
              "        vertical-align: top;\n",
              "    }\n",
              "\n",
              "    .dataframe thead th {\n",
              "        text-align: right;\n",
              "    }\n",
              "</style>\n",
              "<table border=\"1\" class=\"dataframe\">\n",
              "  <thead>\n",
              "    <tr style=\"text-align: right;\">\n",
              "      <th></th>\n",
              "      <th>Name</th>\n",
              "      <th>Price</th>\n",
              "    </tr>\n",
              "  </thead>\n",
              "  <tbody>\n",
              "    <tr>\n",
              "      <th>A</th>\n",
              "      <td>Product A</td>\n",
              "      <td>200</td>\n",
              "    </tr>\n",
              "    <tr>\n",
              "      <th>B</th>\n",
              "      <td>Product B</td>\n",
              "      <td>31</td>\n",
              "    </tr>\n",
              "    <tr>\n",
              "      <th>C</th>\n",
              "      <td>Product C</td>\n",
              "      <td>51</td>\n",
              "    </tr>\n",
              "  </tbody>\n",
              "</table>\n",
              "</div>"
            ],
            "text/plain": [
              "        Name  Price\n",
              "A  Product A    200\n",
              "B  Product B     31\n",
              "C  Product C     51"
            ]
          },
          "metadata": {
            "tags": []
          },
          "execution_count": 60
        }
      ]
    },
    {
      "cell_type": "code",
      "metadata": {
        "colab": {
          "base_uri": "https://localhost:8080/",
          "height": 143
        },
        "id": "10N4i6eLjfKW",
        "outputId": "47645736-13c7-4629-96c5-3dc278cae9d4"
      },
      "source": [
        "# Setting Index\n",
        "df.index = ['A1','B2','C3']\n",
        "df"
      ],
      "execution_count": null,
      "outputs": [
        {
          "output_type": "execute_result",
          "data": {
            "text/html": [
              "<div>\n",
              "<style scoped>\n",
              "    .dataframe tbody tr th:only-of-type {\n",
              "        vertical-align: middle;\n",
              "    }\n",
              "\n",
              "    .dataframe tbody tr th {\n",
              "        vertical-align: top;\n",
              "    }\n",
              "\n",
              "    .dataframe thead th {\n",
              "        text-align: right;\n",
              "    }\n",
              "</style>\n",
              "<table border=\"1\" class=\"dataframe\">\n",
              "  <thead>\n",
              "    <tr style=\"text-align: right;\">\n",
              "      <th></th>\n",
              "      <th>Name</th>\n",
              "      <th>Price</th>\n",
              "    </tr>\n",
              "  </thead>\n",
              "  <tbody>\n",
              "    <tr>\n",
              "      <th>A1</th>\n",
              "      <td>Product A</td>\n",
              "      <td>200</td>\n",
              "    </tr>\n",
              "    <tr>\n",
              "      <th>B2</th>\n",
              "      <td>Product B</td>\n",
              "      <td>31</td>\n",
              "    </tr>\n",
              "    <tr>\n",
              "      <th>C3</th>\n",
              "      <td>Product C</td>\n",
              "      <td>51</td>\n",
              "    </tr>\n",
              "  </tbody>\n",
              "</table>\n",
              "</div>"
            ],
            "text/plain": [
              "         Name  Price\n",
              "A1  Product A    200\n",
              "B2  Product B     31\n",
              "C3  Product C     51"
            ]
          },
          "metadata": {
            "tags": []
          },
          "execution_count": 61
        }
      ]
    },
    {
      "cell_type": "code",
      "metadata": {
        "colab": {
          "base_uri": "https://localhost:8080/",
          "height": 161
        },
        "id": "opGEkS3Wjxhk",
        "outputId": "87a9a5f9-da17-4bd4-e417-d1a6369b7e3d"
      },
      "source": [
        "# Professional Way\n",
        "df = pd.DataFrame(data = [['Product A', 222], ['Product B', 22], ['Product C', 332]],\n",
        "                  columns = ['PName','PPrice'],\n",
        "                  index = ['A1','A2','A3'])\n",
        "display(df)\n",
        "print(df.shape)"
      ],
      "execution_count": null,
      "outputs": [
        {
          "output_type": "display_data",
          "data": {
            "text/html": [
              "<div>\n",
              "<style scoped>\n",
              "    .dataframe tbody tr th:only-of-type {\n",
              "        vertical-align: middle;\n",
              "    }\n",
              "\n",
              "    .dataframe tbody tr th {\n",
              "        vertical-align: top;\n",
              "    }\n",
              "\n",
              "    .dataframe thead th {\n",
              "        text-align: right;\n",
              "    }\n",
              "</style>\n",
              "<table border=\"1\" class=\"dataframe\">\n",
              "  <thead>\n",
              "    <tr style=\"text-align: right;\">\n",
              "      <th></th>\n",
              "      <th>PName</th>\n",
              "      <th>PPrice</th>\n",
              "    </tr>\n",
              "  </thead>\n",
              "  <tbody>\n",
              "    <tr>\n",
              "      <th>A1</th>\n",
              "      <td>Product A</td>\n",
              "      <td>222</td>\n",
              "    </tr>\n",
              "    <tr>\n",
              "      <th>A2</th>\n",
              "      <td>Product B</td>\n",
              "      <td>22</td>\n",
              "    </tr>\n",
              "    <tr>\n",
              "      <th>A3</th>\n",
              "      <td>Product C</td>\n",
              "      <td>332</td>\n",
              "    </tr>\n",
              "  </tbody>\n",
              "</table>\n",
              "</div>"
            ],
            "text/plain": [
              "        PName  PPrice\n",
              "A1  Product A     222\n",
              "A2  Product B      22\n",
              "A3  Product C     332"
            ]
          },
          "metadata": {
            "tags": []
          }
        },
        {
          "output_type": "stream",
          "text": [
            "(3, 2)\n"
          ],
          "name": "stdout"
        }
      ]
    },
    {
      "cell_type": "markdown",
      "metadata": {
        "id": "S63vt8bek_IT"
      },
      "source": [
        "### **Data Cleaning and Data Preprocessing**\n",
        "- Data Cleaning: Deprived of inconsistencies\n",
        "- Data Preprocessing: Applying Statistical Methods\n"
      ]
    },
    {
      "cell_type": "markdown",
      "metadata": {
        "id": "FCO9hfznrebk"
      },
      "source": [
        "#### **Pandas Series II**"
      ]
    },
    {
      "cell_type": "markdown",
      "metadata": {
        "id": "7FhMs7djxwQY"
      },
      "source": [
        "##### Common methods"
      ]
    },
    {
      "cell_type": "code",
      "metadata": {
        "id": "LC654mGOkXX9",
        "colab": {
          "base_uri": "https://localhost:8080/"
        },
        "outputId": "2f7200b0-9edd-45a7-b1cc-3ef7e3619bf6"
      },
      "source": [
        "data = pd.read_csv(\"/content/drive/MyDrive/Colab Notebooks/365 Data Science/Programming/Pandas/Location.csv\", \n",
        "                   squeeze = True) # squeeze: to directly obtain the series\n",
        "\n",
        "location_data = data.copy()\n",
        "print(location_data.head())\n",
        "print(type(location_data))"
      ],
      "execution_count": null,
      "outputs": [
        {
          "output_type": "stream",
          "text": [
            "0     Location 3\n",
            "1     Location 6\n",
            "2     Location 8\n",
            "3    Location 26\n",
            "4    Location 34\n",
            "Name: Location, dtype: object\n",
            "<class 'pandas.core.series.Series'>\n"
          ],
          "name": "stdout"
        }
      ]
    },
    {
      "cell_type": "code",
      "metadata": {
        "colab": {
          "base_uri": "https://localhost:8080/"
        },
        "id": "Q_BsEe7jvh7J",
        "outputId": "100e9191-d815-40d9-8c95-6bae4b35de41"
      },
      "source": [
        "#location_data.describe()\n",
        "# What's .describe?:\n",
        "#len(location_data)\n",
        "location_data.nunique() # Count distinct observations over requested axis. -\n",
        "# Return Series with number of distinct observations. Can ignore NaN values.\n",
        "#type(location_data.nunique())\n",
        "\n",
        "# .unique() delivers the values in the order they have appeared in the data set"
      ],
      "execution_count": null,
      "outputs": [
        {
          "output_type": "execute_result",
          "data": {
            "text/plain": [
              "296"
            ]
          },
          "metadata": {
            "tags": []
          },
          "execution_count": 6
        }
      ]
    },
    {
      "cell_type": "markdown",
      "metadata": {
        "id": "tPjpbjvNxrCM"
      },
      "source": [
        "##### Converting Series into Arrays"
      ]
    },
    {
      "cell_type": "code",
      "metadata": {
        "colab": {
          "base_uri": "https://localhost:8080/"
        },
        "id": "MnAseZv-vzI2",
        "outputId": "3f64e4bf-226c-4f43-cc6c-96eafa1cec48"
      },
      "source": [
        "# Not recommended\n",
        "location_data.values"
      ],
      "execution_count": null,
      "outputs": [
        {
          "output_type": "execute_result",
          "data": {
            "text/plain": [
              "array(['Location 3', 'Location 6', 'Location 8', ..., 'Location 11',\n",
              "       'Location 26', 'Location 94'], dtype=object)"
            ]
          },
          "metadata": {
            "tags": []
          },
          "execution_count": 7
        }
      ]
    },
    {
      "cell_type": "code",
      "metadata": {
        "id": "whkBkOhdx_e4"
      },
      "source": [
        "# Better way: yields the same result but in a better format\n",
        "location_data.array"
      ],
      "execution_count": null,
      "outputs": []
    },
    {
      "cell_type": "code",
      "metadata": {
        "colab": {
          "base_uri": "https://localhost:8080/"
        },
        "id": "WVXldA5Ryc2I",
        "outputId": "597032a3-660e-4ecd-9541-db68acdf0c65"
      },
      "source": [
        "# Convert Series into np array\n",
        "location_data.to_numpy()\n",
        "\n",
        "# You can also use it to convert data types float <-> int \n",
        "# var = df[indices/column].to_numpy(dtype='float')"
      ],
      "execution_count": null,
      "outputs": [
        {
          "output_type": "execute_result",
          "data": {
            "text/plain": [
              "array(['Location 3', 'Location 6', 'Location 8', ..., 'Location 11',\n",
              "       'Location 26', 'Location 94'], dtype=object)"
            ]
          },
          "metadata": {
            "tags": []
          },
          "execution_count": 9
        }
      ]
    },
    {
      "cell_type": "markdown",
      "metadata": {
        "id": "AK7iarui33xO"
      },
      "source": [
        "##### sort_values()"
      ]
    },
    {
      "cell_type": "code",
      "metadata": {
        "colab": {
          "base_uri": "https://localhost:8080/"
        },
        "id": "Ic62orV_4GgJ",
        "outputId": "18de404d-d305-49c3-90cd-fa86c4e02294"
      },
      "source": [
        "numbers = pd.Series([1,22,11,13,6])\n",
        "\n",
        "# Default: ascending\n",
        "numbers.sort_values()  # Descending: sort_values(ascending=False)"
      ],
      "execution_count": null,
      "outputs": [
        {
          "output_type": "execute_result",
          "data": {
            "text/plain": [
              "0     1\n",
              "4     6\n",
              "2    11\n",
              "3    13\n",
              "1    22\n",
              "dtype: int64"
            ]
          },
          "metadata": {
            "tags": []
          },
          "execution_count": 14
        }
      ]
    },
    {
      "cell_type": "markdown",
      "metadata": {
        "id": "b-IkffMg50sl"
      },
      "source": [
        "##### Attribute and Method Chaining"
      ]
    },
    {
      "cell_type": "code",
      "metadata": {
        "colab": {
          "base_uri": "https://localhost:8080/",
          "height": 156
        },
        "id": "zgHhpSRf54qp",
        "outputId": "8e0b9708-f567-4d75-9e30-ab93b4aa7723"
      },
      "source": [
        "# Attribute Chaining\n",
        "\n",
        "print(location_data.index)\n",
        "print(location_data.name)\n",
        "display(location_data.head())"
      ],
      "execution_count": null,
      "outputs": [
        {
          "output_type": "stream",
          "text": [
            "RangeIndex(start=0, stop=1043, step=1)\n",
            "Location\n"
          ],
          "name": "stdout"
        },
        {
          "output_type": "display_data",
          "data": {
            "text/plain": [
              "0     Location 3\n",
              "1     Location 6\n",
              "2     Location 8\n",
              "3    Location 26\n",
              "4    Location 34\n",
              "Name: Location, dtype: object"
            ]
          },
          "metadata": {
            "tags": []
          }
        }
      ]
    },
    {
      "cell_type": "code",
      "metadata": {
        "colab": {
          "base_uri": "https://localhost:8080/"
        },
        "id": "WQKZ8lhB6YJh",
        "outputId": "c4a59304-90ad-4650-9f79-77bca34d120b"
      },
      "source": [
        "# Notice the index\n",
        "location_data.index.name = 'Index'\n",
        "location_data"
      ],
      "execution_count": null,
      "outputs": [
        {
          "output_type": "execute_result",
          "data": {
            "text/plain": [
              "Index\n",
              "0        Location 3\n",
              "1        Location 6\n",
              "2        Location 8\n",
              "3       Location 26\n",
              "4       Location 34\n",
              "           ...     \n",
              "1038    Location 73\n",
              "1039    Location 82\n",
              "1040    Location 11\n",
              "1041    Location 26\n",
              "1042    Location 94\n",
              "Name: Location, Length: 1043, dtype: object"
            ]
          },
          "metadata": {
            "tags": []
          },
          "execution_count": 20
        }
      ]
    },
    {
      "cell_type": "code",
      "metadata": {
        "colab": {
          "base_uri": "https://localhost:8080/"
        },
        "id": "2tGq9wAP698V",
        "outputId": "9486d91e-b247-476c-93cc-a0fd7b17875e"
      },
      "source": [
        "# Method Chaining\n",
        "\n",
        "location_data.sort_values().head()"
      ],
      "execution_count": null,
      "outputs": [
        {
          "output_type": "execute_result",
          "data": {
            "text/plain": [
              "Index\n",
              "637     Location 1\n",
              "884     Location 1\n",
              "465     Location 1\n",
              "716    Location 10\n",
              "623    Location 10\n",
              "Name: Location, dtype: object"
            ]
          },
          "metadata": {
            "tags": []
          },
          "execution_count": 22
        }
      ]
    },
    {
      "cell_type": "code",
      "metadata": {
        "colab": {
          "base_uri": "https://localhost:8080/"
        },
        "id": "6PiY1j1d7TC5",
        "outputId": "cc0aa7f3-4f3a-44a0-9d7a-1daef3fc10a2"
      },
      "source": [
        "print(location_data.index)\n",
        "print(type(location_data.index))"
      ],
      "execution_count": null,
      "outputs": [
        {
          "output_type": "stream",
          "text": [
            "RangeIndex(start=0, stop=1043, step=1, name='Index')\n",
            "<class 'pandas.core.indexes.range.RangeIndex'>\n"
          ],
          "name": "stdout"
        }
      ]
    },
    {
      "cell_type": "code",
      "metadata": {
        "colab": {
          "base_uri": "https://localhost:8080/"
        },
        "id": "uTBRKbqd75MA",
        "outputId": "4d1a7c17-346d-4c8b-d469-6abd1ddf6e06"
      },
      "source": [
        "# You can directly convert the index into an array\n",
        "location_data.index.to_numpy()"
      ],
      "execution_count": null,
      "outputs": [
        {
          "output_type": "execute_result",
          "data": {
            "text/plain": [
              "array([   0,    1,    2, ..., 1040, 1041, 1042])"
            ]
          },
          "metadata": {
            "tags": []
          },
          "execution_count": 24
        }
      ]
    },
    {
      "cell_type": "markdown",
      "metadata": {
        "id": "C9eJu_3C8bzG"
      },
      "source": [
        "##### .sort_index()"
      ]
    },
    {
      "cell_type": "code",
      "metadata": {
        "colab": {
          "base_uri": "https://localhost:8080/"
        },
        "id": "deFtu5T88hBd",
        "outputId": "ee0a9840-c9b9-4834-df1a-86438a970e28"
      },
      "source": [
        "location_data_sv = location_data.sort_values(ascending=False)\n",
        "location_data_sv.head()"
      ],
      "execution_count": null,
      "outputs": [
        {
          "output_type": "execute_result",
          "data": {
            "text/plain": [
              "Index\n",
              "372    Location 99\n",
              "757    Location 98\n",
              "669    Location 97\n",
              "128    Location 97\n",
              "482    Location 97\n",
              "Name: Location, dtype: object"
            ]
          },
          "metadata": {
            "tags": []
          },
          "execution_count": 28
        }
      ]
    },
    {
      "cell_type": "code",
      "metadata": {
        "colab": {
          "base_uri": "https://localhost:8080/"
        },
        "id": "D4JKJL0t9BA6",
        "outputId": "c3383c21-4040-43de-8dc9-f4fee6cce1a1"
      },
      "source": [
        "# Notice that the \"index\" is not sorted\n",
        "location_data_sv.index"
      ],
      "execution_count": null,
      "outputs": [
        {
          "output_type": "execute_result",
          "data": {
            "text/plain": [
              "Int64Index([ 372,  757,  669,  128,  482,  271,   29,  612,  598,  518,\n",
              "            ...\n",
              "            1010,  329,  542,  298,   56,  623,  716,  465,  884,  637],\n",
              "           dtype='int64', name='Index', length=1043)"
            ]
          },
          "metadata": {
            "tags": []
          },
          "execution_count": 26
        }
      ]
    },
    {
      "cell_type": "code",
      "metadata": {
        "colab": {
          "base_uri": "https://localhost:8080/"
        },
        "id": "miWRY6Ys9QZi",
        "outputId": "0c8ef6de-507f-45c9-a2ef-ad71a5da1481"
      },
      "source": [
        "location_data_sv.index.sort_values() \n",
        "# This did not overwrite the contents of the data, try with .head() to confirm \n",
        "# .index.sort_values() is only useful if you need to obtain the sorted index structure as a seperate entity for some reason "
      ],
      "execution_count": null,
      "outputs": [
        {
          "output_type": "execute_result",
          "data": {
            "text/plain": [
              "Int64Index([   0,    1,    2,    3,    4,    5,    6,    7,    8,    9,\n",
              "            ...\n",
              "            1033, 1034, 1035, 1036, 1037, 1038, 1039, 1040, 1041, 1042],\n",
              "           dtype='int64', name='Index', length=1043)"
            ]
          },
          "metadata": {
            "tags": []
          },
          "execution_count": 27
        }
      ]
    },
    {
      "cell_type": "code",
      "metadata": {
        "id": "ITOWZVvW-Nvn"
      },
      "source": [
        "# Rerun to try the omega way\n",
        "#location_data_sv = location_data.sort_values(ascending=False)\n",
        "\n",
        "# Without storing it into a variable, it doesn't affect the state of the initial data set -\n",
        "# It only creates a \"temporary\" copy of the object's data it's been applied to and displays the output of its manipulation"
      ],
      "execution_count": null,
      "outputs": []
    },
    {
      "cell_type": "code",
      "metadata": {
        "colab": {
          "base_uri": "https://localhost:8080/"
        },
        "id": "-qt6P1k48E1g",
        "outputId": "d7cc9d3a-e1d2-4c62-c558-85277113e8be"
      },
      "source": [
        "location_data_sv = location_data.sort_index()\n",
        "location_data_sv"
      ],
      "execution_count": null,
      "outputs": [
        {
          "output_type": "execute_result",
          "data": {
            "text/plain": [
              "Index\n",
              "0        Location 3\n",
              "1        Location 6\n",
              "2        Location 8\n",
              "3       Location 26\n",
              "4       Location 34\n",
              "           ...     \n",
              "1038    Location 73\n",
              "1039    Location 82\n",
              "1040    Location 11\n",
              "1041    Location 26\n",
              "1042    Location 94\n",
              "Name: Location, Length: 1043, dtype: object"
            ]
          },
          "metadata": {
            "tags": []
          },
          "execution_count": 29
        }
      ]
    },
    {
      "cell_type": "markdown",
      "metadata": {
        "id": "gQPVEUIZVn_K"
      },
      "source": [
        "#### **Pandas DataFrames II**\n"
      ]
    },
    {
      "cell_type": "markdown",
      "metadata": {
        "id": "-2KiG3V_cQoa"
      },
      "source": [
        "##### A Revision to pandas DataFrames"
      ]
    },
    {
      "cell_type": "code",
      "metadata": {
        "id": "r9QD9dgmAo2y",
        "colab": {
          "base_uri": "https://localhost:8080/",
          "height": 147
        },
        "outputId": "60f779fb-f6a0-4834-80b7-d9976916c7df"
      },
      "source": [
        "array_a = np.array([[3, 2, 1], [4,3,2]]) # Notice 2D \n",
        "print(array_a)\n",
        "\n",
        "df = pd.DataFrame(array_a, columns = ['Column 1','Column 2','Column 3']) # Set columns\n",
        "display(df)"
      ],
      "execution_count": null,
      "outputs": [
        {
          "output_type": "stream",
          "text": [
            "[[3 2 1]\n",
            " [4 3 2]]\n"
          ],
          "name": "stdout"
        },
        {
          "output_type": "display_data",
          "data": {
            "text/html": [
              "<div>\n",
              "<style scoped>\n",
              "    .dataframe tbody tr th:only-of-type {\n",
              "        vertical-align: middle;\n",
              "    }\n",
              "\n",
              "    .dataframe tbody tr th {\n",
              "        vertical-align: top;\n",
              "    }\n",
              "\n",
              "    .dataframe thead th {\n",
              "        text-align: right;\n",
              "    }\n",
              "</style>\n",
              "<table border=\"1\" class=\"dataframe\">\n",
              "  <thead>\n",
              "    <tr style=\"text-align: right;\">\n",
              "      <th></th>\n",
              "      <th>Column 1</th>\n",
              "      <th>Column 2</th>\n",
              "      <th>Column 3</th>\n",
              "    </tr>\n",
              "  </thead>\n",
              "  <tbody>\n",
              "    <tr>\n",
              "      <th>0</th>\n",
              "      <td>3</td>\n",
              "      <td>2</td>\n",
              "      <td>1</td>\n",
              "    </tr>\n",
              "    <tr>\n",
              "      <th>1</th>\n",
              "      <td>4</td>\n",
              "      <td>3</td>\n",
              "      <td>2</td>\n",
              "    </tr>\n",
              "  </tbody>\n",
              "</table>\n",
              "</div>"
            ],
            "text/plain": [
              "   Column 1  Column 2  Column 3\n",
              "0         3         2         1\n",
              "1         4         3         2"
            ]
          },
          "metadata": {
            "tags": []
          }
        }
      ]
    },
    {
      "cell_type": "code",
      "metadata": {
        "colab": {
          "base_uri": "https://localhost:8080/",
          "height": 112
        },
        "id": "EGgz8ysNamll",
        "outputId": "71d226f8-2987-4993-840f-3848a30c1a20"
      },
      "source": [
        "df = pd.DataFrame(array_a, columns = ['Column 1','Column 2','Column 3'], index = ['Row 1', 'Row 2']) # + Index\n",
        "df"
      ],
      "execution_count": null,
      "outputs": [
        {
          "output_type": "execute_result",
          "data": {
            "text/html": [
              "<div>\n",
              "<style scoped>\n",
              "    .dataframe tbody tr th:only-of-type {\n",
              "        vertical-align: middle;\n",
              "    }\n",
              "\n",
              "    .dataframe tbody tr th {\n",
              "        vertical-align: top;\n",
              "    }\n",
              "\n",
              "    .dataframe thead th {\n",
              "        text-align: right;\n",
              "    }\n",
              "</style>\n",
              "<table border=\"1\" class=\"dataframe\">\n",
              "  <thead>\n",
              "    <tr style=\"text-align: right;\">\n",
              "      <th></th>\n",
              "      <th>Column 1</th>\n",
              "      <th>Column 2</th>\n",
              "      <th>Column 3</th>\n",
              "    </tr>\n",
              "  </thead>\n",
              "  <tbody>\n",
              "    <tr>\n",
              "      <th>Row 1</th>\n",
              "      <td>3</td>\n",
              "      <td>2</td>\n",
              "      <td>1</td>\n",
              "    </tr>\n",
              "    <tr>\n",
              "      <th>Row 2</th>\n",
              "      <td>4</td>\n",
              "      <td>3</td>\n",
              "      <td>2</td>\n",
              "    </tr>\n",
              "  </tbody>\n",
              "</table>\n",
              "</div>"
            ],
            "text/plain": [
              "       Column 1  Column 2  Column 3\n",
              "Row 1         3         2         1\n",
              "Row 2         4         3         2"
            ]
          },
          "metadata": {
            "tags": []
          },
          "execution_count": 3
        }
      ]
    },
    {
      "cell_type": "code",
      "metadata": {
        "colab": {
          "base_uri": "https://localhost:8080/",
          "height": 344
        },
        "id": "BbvfKaf7bNNN",
        "outputId": "b858f382-9587-4094-8524-febc3e7a5206"
      },
      "source": [
        "data = pd.read_csv('/content/drive/MyDrive/Colab Notebooks/365 Data Science/Programming/Pandas/ex3/4_6_lending-company-data.zip',\n",
        "                   index_col = 'StringID') # Assign \"LoanID\" as index column\n",
        "lending_co_data = data.copy()\n",
        "lending_co_data.head()"
      ],
      "execution_count": null,
      "outputs": [
        {
          "output_type": "execute_result",
          "data": {
            "text/html": [
              "<div>\n",
              "<style scoped>\n",
              "    .dataframe tbody tr th:only-of-type {\n",
              "        vertical-align: middle;\n",
              "    }\n",
              "\n",
              "    .dataframe tbody tr th {\n",
              "        vertical-align: top;\n",
              "    }\n",
              "\n",
              "    .dataframe thead th {\n",
              "        text-align: right;\n",
              "    }\n",
              "</style>\n",
              "<table border=\"1\" class=\"dataframe\">\n",
              "  <thead>\n",
              "    <tr style=\"text-align: right;\">\n",
              "      <th></th>\n",
              "      <th>LoanID</th>\n",
              "      <th>Product</th>\n",
              "      <th>CustomerGender</th>\n",
              "      <th>Location</th>\n",
              "      <th>Region</th>\n",
              "      <th>TotalPrice</th>\n",
              "      <th>StartDate</th>\n",
              "      <th>Deposit</th>\n",
              "      <th>DailyRate</th>\n",
              "      <th>TotalDaysYr</th>\n",
              "      <th>AmtPaid36</th>\n",
              "      <th>AmtPaid60</th>\n",
              "      <th>AmtPaid360</th>\n",
              "      <th>LoanStatus</th>\n",
              "    </tr>\n",
              "    <tr>\n",
              "      <th>StringID</th>\n",
              "      <th></th>\n",
              "      <th></th>\n",
              "      <th></th>\n",
              "      <th></th>\n",
              "      <th></th>\n",
              "      <th></th>\n",
              "      <th></th>\n",
              "      <th></th>\n",
              "      <th></th>\n",
              "      <th></th>\n",
              "      <th></th>\n",
              "      <th></th>\n",
              "      <th></th>\n",
              "      <th></th>\n",
              "    </tr>\n",
              "  </thead>\n",
              "  <tbody>\n",
              "    <tr>\n",
              "      <th>LoanID_1</th>\n",
              "      <td>1</td>\n",
              "      <td>Product B</td>\n",
              "      <td>Female</td>\n",
              "      <td>Location 3</td>\n",
              "      <td>Region 2</td>\n",
              "      <td>17600.0</td>\n",
              "      <td>04/07/2018</td>\n",
              "      <td>2200</td>\n",
              "      <td>45</td>\n",
              "      <td>365</td>\n",
              "      <td>3221</td>\n",
              "      <td>4166</td>\n",
              "      <td>14621</td>\n",
              "      <td>Active</td>\n",
              "    </tr>\n",
              "    <tr>\n",
              "      <th>LoanID_2</th>\n",
              "      <td>2</td>\n",
              "      <td>Product D</td>\n",
              "      <td>Female</td>\n",
              "      <td>Location 6</td>\n",
              "      <td>Region 6</td>\n",
              "      <td>NaN</td>\n",
              "      <td>02/01/2019</td>\n",
              "      <td>2200</td>\n",
              "      <td>45</td>\n",
              "      <td>365</td>\n",
              "      <td>3161</td>\n",
              "      <td>4096</td>\n",
              "      <td>16041</td>\n",
              "      <td>Active</td>\n",
              "    </tr>\n",
              "    <tr>\n",
              "      <th>LoanID_3</th>\n",
              "      <td>3</td>\n",
              "      <td>Product B</td>\n",
              "      <td>Male</td>\n",
              "      <td>Location 8</td>\n",
              "      <td>Region 3</td>\n",
              "      <td>16600.0</td>\n",
              "      <td>08/12/2016</td>\n",
              "      <td>1000</td>\n",
              "      <td>45</td>\n",
              "      <td>365</td>\n",
              "      <td>2260</td>\n",
              "      <td>3205</td>\n",
              "      <td>16340</td>\n",
              "      <td>NaN</td>\n",
              "    </tr>\n",
              "    <tr>\n",
              "      <th>LoanID_4</th>\n",
              "      <td>4</td>\n",
              "      <td>Product A</td>\n",
              "      <td>Male</td>\n",
              "      <td>Location 26</td>\n",
              "      <td>Region 2</td>\n",
              "      <td>17600.0</td>\n",
              "      <td>NaN</td>\n",
              "      <td>2200</td>\n",
              "      <td>45</td>\n",
              "      <td>365</td>\n",
              "      <td>3141</td>\n",
              "      <td>4166</td>\n",
              "      <td>16321</td>\n",
              "      <td>Active</td>\n",
              "    </tr>\n",
              "    <tr>\n",
              "      <th>LoanID_5</th>\n",
              "      <td>5</td>\n",
              "      <td>Product B</td>\n",
              "      <td>Female</td>\n",
              "      <td>Location 34</td>\n",
              "      <td>Region 3</td>\n",
              "      <td>21250.0</td>\n",
              "      <td>28/10/2017</td>\n",
              "      <td>2200</td>\n",
              "      <td>55</td>\n",
              "      <td>365</td>\n",
              "      <td>3570</td>\n",
              "      <td>4745</td>\n",
              "      <td>14720</td>\n",
              "      <td>Active</td>\n",
              "    </tr>\n",
              "  </tbody>\n",
              "</table>\n",
              "</div>"
            ],
            "text/plain": [
              "          LoanID    Product CustomerGender  ... AmtPaid60 AmtPaid360  LoanStatus\n",
              "StringID                                    ...                                 \n",
              "LoanID_1       1  Product B         Female  ...      4166      14621      Active\n",
              "LoanID_2       2  Product D         Female  ...      4096      16041      Active\n",
              "LoanID_3       3  Product B           Male  ...      3205      16340         NaN\n",
              "LoanID_4       4  Product A           Male  ...      4166      16321      Active\n",
              "LoanID_5       5  Product B         Female  ...      4745      14720      Active\n",
              "\n",
              "[5 rows x 14 columns]"
            ]
          },
          "metadata": {
            "tags": []
          },
          "execution_count": 27
        }
      ]
    },
    {
      "cell_type": "markdown",
      "metadata": {
        "id": "3-LeRuOHdBV4"
      },
      "source": [
        "##### Common Attributes for Working with DataFrames"
      ]
    },
    {
      "cell_type": "code",
      "metadata": {
        "colab": {
          "base_uri": "https://localhost:8080/"
        },
        "id": "zVA6Yj0jc2y0",
        "outputId": "901b4999-6b31-46b8-cde4-f09340b60372"
      },
      "source": [
        "print(lending_co_data.index) # Dont confuse with the default integer index: 0,1,2,3\n",
        "print(lending_co_data.columns)"
      ],
      "execution_count": null,
      "outputs": [
        {
          "output_type": "stream",
          "text": [
            "Int64Index([   1,    2,    3,    4,    5,    6,    7,    8,    9,   10,\n",
            "            ...\n",
            "            1034, 1035, 1036, 1037, 1038, 1039, 1040, 1041, 1042, 1043],\n",
            "           dtype='int64', name='LoanID', length=1043)\n",
            "Index(['StringID', 'Product', 'CustomerGender', 'Location', 'Region',\n",
            "       'TotalPrice', 'StartDate', 'Deposit', 'DailyRate', 'TotalDaysYr',\n",
            "       'AmtPaid36', 'AmtPaid60', 'AmtPaid360', 'LoanStatus'],\n",
            "      dtype='object')\n"
          ],
          "name": "stdout"
        }
      ]
    },
    {
      "cell_type": "code",
      "metadata": {
        "colab": {
          "base_uri": "https://localhost:8080/"
        },
        "id": "EHsGx1dFdUmC",
        "outputId": "cc3c535c-2dba-468e-ed71-00381599f926"
      },
      "source": [
        "lending_co_data.axes  # Combined .index and .columns"
      ],
      "execution_count": null,
      "outputs": [
        {
          "output_type": "execute_result",
          "data": {
            "text/plain": [
              "[Int64Index([   1,    2,    3,    4,    5,    6,    7,    8,    9,   10,\n",
              "             ...\n",
              "             1034, 1035, 1036, 1037, 1038, 1039, 1040, 1041, 1042, 1043],\n",
              "            dtype='int64', name='LoanID', length=1043),\n",
              " Index(['StringID', 'Product', 'CustomerGender', 'Location', 'Region',\n",
              "        'TotalPrice', 'StartDate', 'Deposit', 'DailyRate', 'TotalDaysYr',\n",
              "        'AmtPaid36', 'AmtPaid60', 'AmtPaid360', 'LoanStatus'],\n",
              "       dtype='object')]"
            ]
          },
          "metadata": {
            "tags": []
          },
          "execution_count": 8
        }
      ]
    },
    {
      "cell_type": "code",
      "metadata": {
        "colab": {
          "base_uri": "https://localhost:8080/"
        },
        "id": "_7YaC_E0fSgU",
        "outputId": "02514f3a-ce12-40f9-d262-149c45ac54fd"
      },
      "source": [
        "print(lending_co_data.dtypes)\n",
        "print(lending_co_data.shape)"
      ],
      "execution_count": null,
      "outputs": [
        {
          "output_type": "stream",
          "text": [
            "StringID           object\n",
            "Product            object\n",
            "CustomerGender     object\n",
            "Location           object\n",
            "Region             object\n",
            "TotalPrice        float64\n",
            "StartDate          object\n",
            "Deposit             int64\n",
            "DailyRate           int64\n",
            "TotalDaysYr         int64\n",
            "AmtPaid36           int64\n",
            "AmtPaid60           int64\n",
            "AmtPaid360          int64\n",
            "LoanStatus         object\n",
            "dtype: object\n",
            "(1043, 14)\n"
          ],
          "name": "stdout"
        }
      ]
    },
    {
      "cell_type": "code",
      "metadata": {
        "colab": {
          "base_uri": "https://localhost:8080/"
        },
        "id": "XOXegEPtfzZW",
        "outputId": "3f915348-0f40-40c8-83e1-641fd594e257"
      },
      "source": [
        "lending_co_data.values # But use the better method, coming up"
      ],
      "execution_count": null,
      "outputs": [
        {
          "output_type": "execute_result",
          "data": {
            "text/plain": [
              "array([['LoanID_1', 'Product B', 'Female', ..., 4166, 14621, 'Active'],\n",
              "       ['LoanID_2', 'Product D', 'Female', ..., 4096, 16041, 'Active'],\n",
              "       ['LoanID_3', 'Product B', 'Male', ..., 3205, 16340, nan],\n",
              "       ...,\n",
              "       ['LoanID_1041', 'Product A', 'NotSpecified', ..., 5143, 16617,\n",
              "        'Finished Payment'],\n",
              "       ['LoanID_1042', 'Product B', 'Female', ..., 3462, 15617,\n",
              "        'Finished Payment'],\n",
              "       ['LoanID_1043', 'Product A', 'NotSpecified', ..., 4743, 16617,\n",
              "        'Finished Payment']], dtype=object)"
            ]
          },
          "metadata": {
            "tags": []
          },
          "execution_count": 10
        }
      ]
    },
    {
      "cell_type": "code",
      "metadata": {
        "colab": {
          "base_uri": "https://localhost:8080/"
        },
        "id": "Nny6gDMcgIbA",
        "outputId": "dd6f7667-7d73-4db4-d9b8-99d07bcaf283"
      },
      "source": [
        "lending_co_data.to_numpy() # BOOM CHAKALAKA (For compatibility issues in the long term)"
      ],
      "execution_count": null,
      "outputs": [
        {
          "output_type": "execute_result",
          "data": {
            "text/plain": [
              "array([['LoanID_1', 'Product B', 'Female', ..., 4166, 14621, 'Active'],\n",
              "       ['LoanID_2', 'Product D', 'Female', ..., 4096, 16041, 'Active'],\n",
              "       ['LoanID_3', 'Product B', 'Male', ..., 3205, 16340, nan],\n",
              "       ...,\n",
              "       ['LoanID_1041', 'Product A', 'NotSpecified', ..., 5143, 16617,\n",
              "        'Finished Payment'],\n",
              "       ['LoanID_1042', 'Product B', 'Female', ..., 3462, 15617,\n",
              "        'Finished Payment'],\n",
              "       ['LoanID_1043', 'Product A', 'NotSpecified', ..., 4743, 16617,\n",
              "        'Finished Payment']], dtype=object)"
            ]
          },
          "metadata": {
            "tags": []
          },
          "execution_count": 11
        }
      ]
    },
    {
      "cell_type": "markdown",
      "metadata": {
        "id": "ofzsXGluhzuK"
      },
      "source": [
        "##### Data Selection\n",
        "- Python is Case-sensitive"
      ]
    },
    {
      "cell_type": "code",
      "metadata": {
        "colab": {
          "base_uri": "https://localhost:8080/"
        },
        "id": "pt0JXHjjgez4",
        "outputId": "009bc649-adb2-4b31-832d-57a1d09e7b5b"
      },
      "source": [
        "lending_co_data.Product   # Select specific column from the dataset"
      ],
      "execution_count": null,
      "outputs": [
        {
          "output_type": "execute_result",
          "data": {
            "text/plain": [
              "LoanID\n",
              "1       Product B\n",
              "2       Product D\n",
              "3       Product B\n",
              "4       Product A\n",
              "5       Product B\n",
              "          ...    \n",
              "1039    Product B\n",
              "1040    Product A\n",
              "1041    Product A\n",
              "1042    Product B\n",
              "1043    Product A\n",
              "Name: Product, Length: 1043, dtype: object"
            ]
          },
          "metadata": {
            "tags": []
          },
          "execution_count": 13
        }
      ]
    },
    {
      "cell_type": "code",
      "metadata": {
        "colab": {
          "base_uri": "https://localhost:8080/"
        },
        "id": "GkZS5Lg1ifno",
        "outputId": "df5fb19e-3a01-4e20-ccd7-d9e4ff4c1e3d"
      },
      "source": [
        "# Alternative: Indexing Operator\n",
        "# Only way if \"column name\" has white \"spaces\" since .notation will throw an error\n",
        "lending_co_data['Product']"
      ],
      "execution_count": null,
      "outputs": [
        {
          "output_type": "execute_result",
          "data": {
            "text/plain": [
              "LoanID\n",
              "1       Product B\n",
              "2       Product D\n",
              "3       Product B\n",
              "4       Product A\n",
              "5       Product B\n",
              "          ...    \n",
              "1039    Product B\n",
              "1040    Product A\n",
              "1041    Product A\n",
              "1042    Product B\n",
              "1043    Product A\n",
              "Name: Product, Length: 1043, dtype: object"
            ]
          },
          "metadata": {
            "tags": []
          },
          "execution_count": 14
        }
      ]
    },
    {
      "cell_type": "code",
      "metadata": {
        "colab": {
          "base_uri": "https://localhost:8080/",
          "height": 455
        },
        "id": "Et0Tv2OJizGx",
        "outputId": "6df7d009-6220-49ca-a5e3-0dac638e1a30"
      },
      "source": [
        "# Nesting a list\n",
        "lending_co_data[['Product']] # Notice the change of the output, it's now a data frame"
      ],
      "execution_count": null,
      "outputs": [
        {
          "output_type": "execute_result",
          "data": {
            "text/html": [
              "<div>\n",
              "<style scoped>\n",
              "    .dataframe tbody tr th:only-of-type {\n",
              "        vertical-align: middle;\n",
              "    }\n",
              "\n",
              "    .dataframe tbody tr th {\n",
              "        vertical-align: top;\n",
              "    }\n",
              "\n",
              "    .dataframe thead th {\n",
              "        text-align: right;\n",
              "    }\n",
              "</style>\n",
              "<table border=\"1\" class=\"dataframe\">\n",
              "  <thead>\n",
              "    <tr style=\"text-align: right;\">\n",
              "      <th></th>\n",
              "      <th>Product</th>\n",
              "    </tr>\n",
              "    <tr>\n",
              "      <th>LoanID</th>\n",
              "      <th></th>\n",
              "    </tr>\n",
              "  </thead>\n",
              "  <tbody>\n",
              "    <tr>\n",
              "      <th>1</th>\n",
              "      <td>Product B</td>\n",
              "    </tr>\n",
              "    <tr>\n",
              "      <th>2</th>\n",
              "      <td>Product D</td>\n",
              "    </tr>\n",
              "    <tr>\n",
              "      <th>3</th>\n",
              "      <td>Product B</td>\n",
              "    </tr>\n",
              "    <tr>\n",
              "      <th>4</th>\n",
              "      <td>Product A</td>\n",
              "    </tr>\n",
              "    <tr>\n",
              "      <th>5</th>\n",
              "      <td>Product B</td>\n",
              "    </tr>\n",
              "    <tr>\n",
              "      <th>...</th>\n",
              "      <td>...</td>\n",
              "    </tr>\n",
              "    <tr>\n",
              "      <th>1039</th>\n",
              "      <td>Product B</td>\n",
              "    </tr>\n",
              "    <tr>\n",
              "      <th>1040</th>\n",
              "      <td>Product A</td>\n",
              "    </tr>\n",
              "    <tr>\n",
              "      <th>1041</th>\n",
              "      <td>Product A</td>\n",
              "    </tr>\n",
              "    <tr>\n",
              "      <th>1042</th>\n",
              "      <td>Product B</td>\n",
              "    </tr>\n",
              "    <tr>\n",
              "      <th>1043</th>\n",
              "      <td>Product A</td>\n",
              "    </tr>\n",
              "  </tbody>\n",
              "</table>\n",
              "<p>1043 rows × 1 columns</p>\n",
              "</div>"
            ],
            "text/plain": [
              "          Product\n",
              "LoanID           \n",
              "1       Product B\n",
              "2       Product D\n",
              "3       Product B\n",
              "4       Product A\n",
              "5       Product B\n",
              "...           ...\n",
              "1039    Product B\n",
              "1040    Product A\n",
              "1041    Product A\n",
              "1042    Product B\n",
              "1043    Product A\n",
              "\n",
              "[1043 rows x 1 columns]"
            ]
          },
          "metadata": {
            "tags": []
          },
          "execution_count": 15
        }
      ]
    },
    {
      "cell_type": "code",
      "metadata": {
        "colab": {
          "base_uri": "https://localhost:8080/",
          "height": 237
        },
        "id": "eYhHIaL5k4Ym",
        "outputId": "48214f2c-d750-4f46-a99a-4727b6f9be6d"
      },
      "source": [
        "lending_co_data[['Product', 'Location']].head()"
      ],
      "execution_count": null,
      "outputs": [
        {
          "output_type": "execute_result",
          "data": {
            "text/html": [
              "<div>\n",
              "<style scoped>\n",
              "    .dataframe tbody tr th:only-of-type {\n",
              "        vertical-align: middle;\n",
              "    }\n",
              "\n",
              "    .dataframe tbody tr th {\n",
              "        vertical-align: top;\n",
              "    }\n",
              "\n",
              "    .dataframe thead th {\n",
              "        text-align: right;\n",
              "    }\n",
              "</style>\n",
              "<table border=\"1\" class=\"dataframe\">\n",
              "  <thead>\n",
              "    <tr style=\"text-align: right;\">\n",
              "      <th></th>\n",
              "      <th>Product</th>\n",
              "      <th>Location</th>\n",
              "    </tr>\n",
              "    <tr>\n",
              "      <th>LoanID</th>\n",
              "      <th></th>\n",
              "      <th></th>\n",
              "    </tr>\n",
              "  </thead>\n",
              "  <tbody>\n",
              "    <tr>\n",
              "      <th>1</th>\n",
              "      <td>Product B</td>\n",
              "      <td>Location 3</td>\n",
              "    </tr>\n",
              "    <tr>\n",
              "      <th>2</th>\n",
              "      <td>Product D</td>\n",
              "      <td>Location 6</td>\n",
              "    </tr>\n",
              "    <tr>\n",
              "      <th>3</th>\n",
              "      <td>Product B</td>\n",
              "      <td>Location 8</td>\n",
              "    </tr>\n",
              "    <tr>\n",
              "      <th>4</th>\n",
              "      <td>Product A</td>\n",
              "      <td>Location 26</td>\n",
              "    </tr>\n",
              "    <tr>\n",
              "      <th>5</th>\n",
              "      <td>Product B</td>\n",
              "      <td>Location 34</td>\n",
              "    </tr>\n",
              "  </tbody>\n",
              "</table>\n",
              "</div>"
            ],
            "text/plain": [
              "          Product     Location\n",
              "LoanID                        \n",
              "1       Product B   Location 3\n",
              "2       Product D   Location 6\n",
              "3       Product B   Location 8\n",
              "4       Product A  Location 26\n",
              "5       Product B  Location 34"
            ]
          },
          "metadata": {
            "tags": []
          },
          "execution_count": 17
        }
      ]
    },
    {
      "cell_type": "code",
      "metadata": {
        "colab": {
          "base_uri": "https://localhost:8080/",
          "height": 237
        },
        "id": "aRtKyoRtjyfh",
        "outputId": "821df664-43aa-4846-bb46-96956210e4fb"
      },
      "source": [
        "prod_loc = ['Product', 'Location'] \n",
        "lending_co_data[prod_loc].head()"
      ],
      "execution_count": null,
      "outputs": [
        {
          "output_type": "execute_result",
          "data": {
            "text/html": [
              "<div>\n",
              "<style scoped>\n",
              "    .dataframe tbody tr th:only-of-type {\n",
              "        vertical-align: middle;\n",
              "    }\n",
              "\n",
              "    .dataframe tbody tr th {\n",
              "        vertical-align: top;\n",
              "    }\n",
              "\n",
              "    .dataframe thead th {\n",
              "        text-align: right;\n",
              "    }\n",
              "</style>\n",
              "<table border=\"1\" class=\"dataframe\">\n",
              "  <thead>\n",
              "    <tr style=\"text-align: right;\">\n",
              "      <th></th>\n",
              "      <th>Product</th>\n",
              "      <th>Location</th>\n",
              "    </tr>\n",
              "    <tr>\n",
              "      <th>LoanID</th>\n",
              "      <th></th>\n",
              "      <th></th>\n",
              "    </tr>\n",
              "  </thead>\n",
              "  <tbody>\n",
              "    <tr>\n",
              "      <th>1</th>\n",
              "      <td>Product B</td>\n",
              "      <td>Location 3</td>\n",
              "    </tr>\n",
              "    <tr>\n",
              "      <th>2</th>\n",
              "      <td>Product D</td>\n",
              "      <td>Location 6</td>\n",
              "    </tr>\n",
              "    <tr>\n",
              "      <th>3</th>\n",
              "      <td>Product B</td>\n",
              "      <td>Location 8</td>\n",
              "    </tr>\n",
              "    <tr>\n",
              "      <th>4</th>\n",
              "      <td>Product A</td>\n",
              "      <td>Location 26</td>\n",
              "    </tr>\n",
              "    <tr>\n",
              "      <th>5</th>\n",
              "      <td>Product B</td>\n",
              "      <td>Location 34</td>\n",
              "    </tr>\n",
              "  </tbody>\n",
              "</table>\n",
              "</div>"
            ],
            "text/plain": [
              "          Product     Location\n",
              "LoanID                        \n",
              "1       Product B   Location 3\n",
              "2       Product D   Location 6\n",
              "3       Product B   Location 8\n",
              "4       Product A  Location 26\n",
              "5       Product B  Location 34"
            ]
          },
          "metadata": {
            "tags": []
          },
          "execution_count": 16
        }
      ]
    },
    {
      "cell_type": "markdown",
      "metadata": {
        "id": "I0tGqdUnll8e"
      },
      "source": [
        "##### Data Selection - Indexing Data with .iloc[]\n",
        "- \"i\" for Integer and \"loc\" for location\n",
        "- Purely integer-location based indexing for selection by position.\n",
        "- .iloc[] is primarily integer position based (from 0 to length-1 of the axis), but may also be used with a boolean array."
      ]
    },
    {
      "cell_type": "code",
      "metadata": {
        "colab": {
          "base_uri": "https://localhost:8080/"
        },
        "id": "VT2w0yUskgbg",
        "outputId": "626ddf2f-4a53-43fe-b908-bd45b7361f80"
      },
      "source": [
        "lending_co_data.iloc[1]"
      ],
      "execution_count": null,
      "outputs": [
        {
          "output_type": "execute_result",
          "data": {
            "text/plain": [
              "StringID            LoanID_2\n",
              "Product            Product D\n",
              "CustomerGender        Female\n",
              "Location          Location 6\n",
              "Region              Region 6\n",
              "TotalPrice               NaN\n",
              "StartDate         02/01/2019\n",
              "Deposit                 2200\n",
              "DailyRate                 45\n",
              "TotalDaysYr              365\n",
              "AmtPaid36               3161\n",
              "AmtPaid60               4096\n",
              "AmtPaid360             16041\n",
              "LoanStatus            Active\n",
              "Name: 2, dtype: object"
            ]
          },
          "metadata": {
            "tags": []
          },
          "execution_count": 18
        }
      ]
    },
    {
      "cell_type": "code",
      "metadata": {
        "colab": {
          "base_uri": "https://localhost:8080/",
          "height": 35
        },
        "id": "aeyf9biCmgnp",
        "outputId": "2b181426-0002-414e-94b8-af07f8be6e6e"
      },
      "source": [
        "lending_co_data.iloc[1, 3] # The SECOND row [1] of the FOURTH column [3] "
      ],
      "execution_count": null,
      "outputs": [
        {
          "output_type": "execute_result",
          "data": {
            "application/vnd.google.colaboratory.intrinsic+json": {
              "type": "string"
            },
            "text/plain": [
              "'Location 6'"
            ]
          },
          "metadata": {
            "tags": []
          },
          "execution_count": 20
        }
      ]
    },
    {
      "cell_type": "code",
      "metadata": {
        "colab": {
          "base_uri": "https://localhost:8080/"
        },
        "id": "2jQNafQ4mq0z",
        "outputId": "02de07b6-7516-45fd-e78e-84172fd2a00c"
      },
      "source": [
        "# Obtain the entire \"2nd row\" from the dataframe using iloc\n",
        "lending_co_data.iloc[1,:]   # \":\" means data from all columns , can also be used as data from all rows"
      ],
      "execution_count": null,
      "outputs": [
        {
          "output_type": "execute_result",
          "data": {
            "text/plain": [
              "StringID            LoanID_2\n",
              "Product            Product D\n",
              "CustomerGender        Female\n",
              "Location          Location 6\n",
              "Region              Region 6\n",
              "TotalPrice               NaN\n",
              "StartDate         02/01/2019\n",
              "Deposit                 2200\n",
              "DailyRate                 45\n",
              "TotalDaysYr              365\n",
              "AmtPaid36               3161\n",
              "AmtPaid60               4096\n",
              "AmtPaid360             16041\n",
              "LoanStatus            Active\n",
              "Name: 2, dtype: object"
            ]
          },
          "metadata": {
            "tags": []
          },
          "execution_count": 21
        }
      ]
    },
    {
      "cell_type": "code",
      "metadata": {
        "colab": {
          "base_uri": "https://localhost:8080/"
        },
        "id": "Ge07kAcPnef7",
        "outputId": "4841c6f7-4c66-4cb8-e3a6-165194dd085c"
      },
      "source": [
        "# Obtain the entire \"Location column\" from the data\n",
        "lending_co_data.iloc[:, 3]"
      ],
      "execution_count": null,
      "outputs": [
        {
          "output_type": "execute_result",
          "data": {
            "text/plain": [
              "LoanID\n",
              "1        Location 3\n",
              "2        Location 6\n",
              "3        Location 8\n",
              "4       Location 26\n",
              "5       Location 34\n",
              "           ...     \n",
              "1039    Location 73\n",
              "1040    Location 82\n",
              "1041    Location 11\n",
              "1042    Location 26\n",
              "1043    Location 94\n",
              "Name: Location, Length: 1043, dtype: object"
            ]
          },
          "metadata": {
            "tags": []
          },
          "execution_count": 24
        }
      ]
    },
    {
      "cell_type": "code",
      "metadata": {
        "colab": {
          "base_uri": "https://localhost:8080/",
          "height": 198
        },
        "id": "Afipj3kUoPde",
        "outputId": "64899d41-34a9-4172-cddb-45cad6aa95dc"
      },
      "source": [
        "# Obtain entire 2nd and 4th rows\n",
        "# [1, 3] row specifier\n",
        "lending_co_data.iloc[[1, 3], :]"
      ],
      "execution_count": null,
      "outputs": [
        {
          "output_type": "execute_result",
          "data": {
            "text/html": [
              "<div>\n",
              "<style scoped>\n",
              "    .dataframe tbody tr th:only-of-type {\n",
              "        vertical-align: middle;\n",
              "    }\n",
              "\n",
              "    .dataframe tbody tr th {\n",
              "        vertical-align: top;\n",
              "    }\n",
              "\n",
              "    .dataframe thead th {\n",
              "        text-align: right;\n",
              "    }\n",
              "</style>\n",
              "<table border=\"1\" class=\"dataframe\">\n",
              "  <thead>\n",
              "    <tr style=\"text-align: right;\">\n",
              "      <th></th>\n",
              "      <th>StringID</th>\n",
              "      <th>Product</th>\n",
              "      <th>CustomerGender</th>\n",
              "      <th>Location</th>\n",
              "      <th>Region</th>\n",
              "      <th>TotalPrice</th>\n",
              "      <th>StartDate</th>\n",
              "      <th>Deposit</th>\n",
              "      <th>DailyRate</th>\n",
              "      <th>TotalDaysYr</th>\n",
              "      <th>AmtPaid36</th>\n",
              "      <th>AmtPaid60</th>\n",
              "      <th>AmtPaid360</th>\n",
              "      <th>LoanStatus</th>\n",
              "    </tr>\n",
              "    <tr>\n",
              "      <th>LoanID</th>\n",
              "      <th></th>\n",
              "      <th></th>\n",
              "      <th></th>\n",
              "      <th></th>\n",
              "      <th></th>\n",
              "      <th></th>\n",
              "      <th></th>\n",
              "      <th></th>\n",
              "      <th></th>\n",
              "      <th></th>\n",
              "      <th></th>\n",
              "      <th></th>\n",
              "      <th></th>\n",
              "      <th></th>\n",
              "    </tr>\n",
              "  </thead>\n",
              "  <tbody>\n",
              "    <tr>\n",
              "      <th>2</th>\n",
              "      <td>LoanID_2</td>\n",
              "      <td>Product D</td>\n",
              "      <td>Female</td>\n",
              "      <td>Location 6</td>\n",
              "      <td>Region 6</td>\n",
              "      <td>NaN</td>\n",
              "      <td>02/01/2019</td>\n",
              "      <td>2200</td>\n",
              "      <td>45</td>\n",
              "      <td>365</td>\n",
              "      <td>3161</td>\n",
              "      <td>4096</td>\n",
              "      <td>16041</td>\n",
              "      <td>Active</td>\n",
              "    </tr>\n",
              "    <tr>\n",
              "      <th>4</th>\n",
              "      <td>LoanID_4</td>\n",
              "      <td>Product A</td>\n",
              "      <td>Male</td>\n",
              "      <td>Location 26</td>\n",
              "      <td>Region 2</td>\n",
              "      <td>17600.0</td>\n",
              "      <td>NaN</td>\n",
              "      <td>2200</td>\n",
              "      <td>45</td>\n",
              "      <td>365</td>\n",
              "      <td>3141</td>\n",
              "      <td>4166</td>\n",
              "      <td>16321</td>\n",
              "      <td>Active</td>\n",
              "    </tr>\n",
              "  </tbody>\n",
              "</table>\n",
              "</div>"
            ],
            "text/plain": [
              "        StringID    Product CustomerGender  ... AmtPaid60 AmtPaid360  LoanStatus\n",
              "LoanID                                      ...                                 \n",
              "2       LoanID_2  Product D         Female  ...      4096      16041      Active\n",
              "4       LoanID_4  Product A           Male  ...      4166      16321      Active\n",
              "\n",
              "[2 rows x 14 columns]"
            ]
          },
          "metadata": {
            "tags": []
          },
          "execution_count": 25
        }
      ]
    },
    {
      "cell_type": "code",
      "metadata": {
        "colab": {
          "base_uri": "https://localhost:8080/",
          "height": 455
        },
        "id": "MgZwc_CLpT3E",
        "outputId": "73c5ab5b-5935-43ec-a9c4-46e08c62727d"
      },
      "source": [
        "# Obtain entire 2nd and 4th columns\n",
        "# Here, [1, 3] is a column specifier\n",
        "lending_co_data.iloc[:, [1, 3]]"
      ],
      "execution_count": null,
      "outputs": [
        {
          "output_type": "execute_result",
          "data": {
            "text/html": [
              "<div>\n",
              "<style scoped>\n",
              "    .dataframe tbody tr th:only-of-type {\n",
              "        vertical-align: middle;\n",
              "    }\n",
              "\n",
              "    .dataframe tbody tr th {\n",
              "        vertical-align: top;\n",
              "    }\n",
              "\n",
              "    .dataframe thead th {\n",
              "        text-align: right;\n",
              "    }\n",
              "</style>\n",
              "<table border=\"1\" class=\"dataframe\">\n",
              "  <thead>\n",
              "    <tr style=\"text-align: right;\">\n",
              "      <th></th>\n",
              "      <th>Product</th>\n",
              "      <th>Location</th>\n",
              "    </tr>\n",
              "    <tr>\n",
              "      <th>LoanID</th>\n",
              "      <th></th>\n",
              "      <th></th>\n",
              "    </tr>\n",
              "  </thead>\n",
              "  <tbody>\n",
              "    <tr>\n",
              "      <th>1</th>\n",
              "      <td>Product B</td>\n",
              "      <td>Location 3</td>\n",
              "    </tr>\n",
              "    <tr>\n",
              "      <th>2</th>\n",
              "      <td>Product D</td>\n",
              "      <td>Location 6</td>\n",
              "    </tr>\n",
              "    <tr>\n",
              "      <th>3</th>\n",
              "      <td>Product B</td>\n",
              "      <td>Location 8</td>\n",
              "    </tr>\n",
              "    <tr>\n",
              "      <th>4</th>\n",
              "      <td>Product A</td>\n",
              "      <td>Location 26</td>\n",
              "    </tr>\n",
              "    <tr>\n",
              "      <th>5</th>\n",
              "      <td>Product B</td>\n",
              "      <td>Location 34</td>\n",
              "    </tr>\n",
              "    <tr>\n",
              "      <th>...</th>\n",
              "      <td>...</td>\n",
              "      <td>...</td>\n",
              "    </tr>\n",
              "    <tr>\n",
              "      <th>1039</th>\n",
              "      <td>Product B</td>\n",
              "      <td>Location 73</td>\n",
              "    </tr>\n",
              "    <tr>\n",
              "      <th>1040</th>\n",
              "      <td>Product A</td>\n",
              "      <td>Location 82</td>\n",
              "    </tr>\n",
              "    <tr>\n",
              "      <th>1041</th>\n",
              "      <td>Product A</td>\n",
              "      <td>Location 11</td>\n",
              "    </tr>\n",
              "    <tr>\n",
              "      <th>1042</th>\n",
              "      <td>Product B</td>\n",
              "      <td>Location 26</td>\n",
              "    </tr>\n",
              "    <tr>\n",
              "      <th>1043</th>\n",
              "      <td>Product A</td>\n",
              "      <td>Location 94</td>\n",
              "    </tr>\n",
              "  </tbody>\n",
              "</table>\n",
              "<p>1043 rows × 2 columns</p>\n",
              "</div>"
            ],
            "text/plain": [
              "          Product     Location\n",
              "LoanID                        \n",
              "1       Product B   Location 3\n",
              "2       Product D   Location 6\n",
              "3       Product B   Location 8\n",
              "4       Product A  Location 26\n",
              "5       Product B  Location 34\n",
              "...           ...          ...\n",
              "1039    Product B  Location 73\n",
              "1040    Product A  Location 82\n",
              "1041    Product A  Location 11\n",
              "1042    Product B  Location 26\n",
              "1043    Product A  Location 94\n",
              "\n",
              "[1043 rows x 2 columns]"
            ]
          },
          "metadata": {
            "tags": []
          },
          "execution_count": 26
        }
      ]
    },
    {
      "cell_type": "markdown",
      "metadata": {
        "id": "TXbY19g8scqU"
      },
      "source": [
        "##### Data Selection - Indexing Data with .loc[]\n",
        "- sub-select info from a df by referring to its index labels\n"
      ]
    },
    {
      "cell_type": "code",
      "metadata": {
        "colab": {
          "base_uri": "https://localhost:8080/"
        },
        "id": "u-UNZ_CcsgOc",
        "outputId": "7fbc49ae-dba0-41dc-d045-40aeae0d13ea"
      },
      "source": [
        "# Specific row (entire)\n",
        "lending_co_data.loc['LoanID_3'] "
      ],
      "execution_count": null,
      "outputs": [
        {
          "output_type": "execute_result",
          "data": {
            "text/plain": [
              "LoanID                     3\n",
              "Product            Product B\n",
              "CustomerGender          Male\n",
              "Location          Location 8\n",
              "Region              Region 3\n",
              "TotalPrice             16600\n",
              "StartDate         08/12/2016\n",
              "Deposit                 1000\n",
              "DailyRate                 45\n",
              "TotalDaysYr              365\n",
              "AmtPaid36               2260\n",
              "AmtPaid60               3205\n",
              "AmtPaid360             16340\n",
              "LoanStatus               NaN\n",
              "Name: LoanID_3, dtype: object"
            ]
          },
          "metadata": {
            "tags": []
          },
          "execution_count": 28
        }
      ]
    },
    {
      "cell_type": "code",
      "metadata": {
        "colab": {
          "base_uri": "https://localhost:8080/"
        },
        "id": "pIfhAiiDtT6B",
        "outputId": "9893e9b5-3a80-45a6-ef8c-802529ad332e"
      },
      "source": [
        "# More readable?\n",
        "lending_co_data.loc['LoanID_3', :]"
      ],
      "execution_count": null,
      "outputs": [
        {
          "output_type": "execute_result",
          "data": {
            "text/plain": [
              "LoanID                     3\n",
              "Product            Product B\n",
              "CustomerGender          Male\n",
              "Location          Location 8\n",
              "Region              Region 3\n",
              "TotalPrice             16600\n",
              "StartDate         08/12/2016\n",
              "Deposit                 1000\n",
              "DailyRate                 45\n",
              "TotalDaysYr              365\n",
              "AmtPaid36               2260\n",
              "AmtPaid60               3205\n",
              "AmtPaid360             16340\n",
              "LoanStatus               NaN\n",
              "Name: LoanID_3, dtype: object"
            ]
          },
          "metadata": {
            "tags": []
          },
          "execution_count": 29
        }
      ]
    },
    {
      "cell_type": "code",
      "metadata": {
        "colab": {
          "base_uri": "https://localhost:8080/",
          "height": 35
        },
        "id": "ItZvFEImtd8h",
        "outputId": "b48fdbe8-54c6-449d-9f7c-9e9f090b757a"
      },
      "source": [
        "# Trace the entry for the \"3rd\" loan and its \"Region\"\n",
        "lending_co_data.loc['LoanID_3', 'Region']"
      ],
      "execution_count": null,
      "outputs": [
        {
          "output_type": "execute_result",
          "data": {
            "application/vnd.google.colaboratory.intrinsic+json": {
              "type": "string"
            },
            "text/plain": [
              "'Region 3'"
            ]
          },
          "metadata": {
            "tags": []
          },
          "execution_count": 30
        }
      ]
    },
    {
      "cell_type": "code",
      "metadata": {
        "colab": {
          "base_uri": "https://localhost:8080/"
        },
        "id": "JymJkgvVt6yz",
        "outputId": "e84a17c1-bd49-47b6-9f3a-0cf85c3b7cff"
      },
      "source": [
        "# Entire Column\n",
        "# lending_co_data['Location'] is the same as, but using loc\n",
        "# Without \":\" will throw an error\n",
        "lending_co_data.loc[:, 'Location']"
      ],
      "execution_count": null,
      "outputs": [
        {
          "output_type": "execute_result",
          "data": {
            "text/plain": [
              "StringID\n",
              "LoanID_1        Location 3\n",
              "LoanID_2        Location 6\n",
              "LoanID_3        Location 8\n",
              "LoanID_4       Location 26\n",
              "LoanID_5       Location 34\n",
              "                  ...     \n",
              "LoanID_1039    Location 73\n",
              "LoanID_1040    Location 82\n",
              "LoanID_1041    Location 11\n",
              "LoanID_1042    Location 26\n",
              "LoanID_1043    Location 94\n",
              "Name: Location, Length: 1043, dtype: object"
            ]
          },
          "metadata": {
            "tags": []
          },
          "execution_count": 32
        }
      ]
    },
    {
      "cell_type": "markdown",
      "metadata": {
        "id": "l6VtI1TOvNwl"
      },
      "source": [
        "##### A Few Comments on Using .loc[] and .iloc[]"
      ]
    },
    {
      "cell_type": "code",
      "metadata": {
        "colab": {
          "base_uri": "https://localhost:8080/"
        },
        "id": "7HmDAR46upnm",
        "outputId": "e5e5530d-a171-45de-e553-e8d620182e24"
      },
      "source": [
        "lending_co_data['TotalPrice'].iloc[0] # Row 1 of TotalPrice column"
      ],
      "execution_count": null,
      "outputs": [
        {
          "output_type": "execute_result",
          "data": {
            "text/plain": [
              "17600.0"
            ]
          },
          "metadata": {
            "tags": []
          },
          "execution_count": 38
        }
      ]
    },
    {
      "cell_type": "code",
      "metadata": {
        "colab": {
          "base_uri": "https://localhost:8080/"
        },
        "id": "XsF8rH87wKBC",
        "outputId": "21354c54-666a-47c4-acef-2036a5ab715b"
      },
      "source": [
        "lending_co_data['TotalPrice'].loc['LoanID_1'] "
      ],
      "execution_count": null,
      "outputs": [
        {
          "output_type": "execute_result",
          "data": {
            "text/plain": [
              "17600.0"
            ]
          },
          "metadata": {
            "tags": []
          },
          "execution_count": 39
        }
      ]
    },
    {
      "cell_type": "code",
      "metadata": {
        "colab": {
          "base_uri": "https://localhost:8080/"
        },
        "id": "GHrt7WqGwx4H",
        "outputId": "eca1ff45-2acc-4cc0-caed-f197d0683a0c"
      },
      "source": [
        "lending_co_data.iloc[0, 5] # \"0\" Row, \"5\" column specifier"
      ],
      "execution_count": null,
      "outputs": [
        {
          "output_type": "execute_result",
          "data": {
            "text/plain": [
              "17600.0"
            ]
          },
          "metadata": {
            "tags": []
          },
          "execution_count": 40
        }
      ]
    },
    {
      "cell_type": "code",
      "metadata": {
        "colab": {
          "base_uri": "https://localhost:8080/"
        },
        "id": "i3TCT_lJyeCe",
        "outputId": "8c05716f-7b5d-488b-d406-9a612b9e2bc7"
      },
      "source": [
        "lending_co_data.loc['LoanID_1', 'TotalPrice'] # Explicitly"
      ],
      "execution_count": null,
      "outputs": [
        {
          "output_type": "execute_result",
          "data": {
            "text/plain": [
              "17600.0"
            ]
          },
          "metadata": {
            "tags": []
          },
          "execution_count": 41
        }
      ]
    },
    {
      "cell_type": "code",
      "metadata": {
        "colab": {
          "base_uri": "https://localhost:8080/",
          "height": 198
        },
        "id": "1GxaG8J_ymWV",
        "outputId": "f1eb22a9-3ab2-4e45-b03f-16b4bfd53dda"
      },
      "source": [
        "# Can also obtain a dataframe \n",
        "#lending_co_data.loc[['LoanID_1', 'LoanID_6']]\n",
        "\n",
        "# This is the ADVICED approach: \n",
        "lending_co_data.loc[['LoanID_1', 'LoanID_6'], :]"
      ],
      "execution_count": null,
      "outputs": [
        {
          "output_type": "execute_result",
          "data": {
            "text/html": [
              "<div>\n",
              "<style scoped>\n",
              "    .dataframe tbody tr th:only-of-type {\n",
              "        vertical-align: middle;\n",
              "    }\n",
              "\n",
              "    .dataframe tbody tr th {\n",
              "        vertical-align: top;\n",
              "    }\n",
              "\n",
              "    .dataframe thead th {\n",
              "        text-align: right;\n",
              "    }\n",
              "</style>\n",
              "<table border=\"1\" class=\"dataframe\">\n",
              "  <thead>\n",
              "    <tr style=\"text-align: right;\">\n",
              "      <th></th>\n",
              "      <th>LoanID</th>\n",
              "      <th>Product</th>\n",
              "      <th>CustomerGender</th>\n",
              "      <th>Location</th>\n",
              "      <th>Region</th>\n",
              "      <th>TotalPrice</th>\n",
              "      <th>StartDate</th>\n",
              "      <th>Deposit</th>\n",
              "      <th>DailyRate</th>\n",
              "      <th>TotalDaysYr</th>\n",
              "      <th>AmtPaid36</th>\n",
              "      <th>AmtPaid60</th>\n",
              "      <th>AmtPaid360</th>\n",
              "      <th>LoanStatus</th>\n",
              "    </tr>\n",
              "    <tr>\n",
              "      <th>StringID</th>\n",
              "      <th></th>\n",
              "      <th></th>\n",
              "      <th></th>\n",
              "      <th></th>\n",
              "      <th></th>\n",
              "      <th></th>\n",
              "      <th></th>\n",
              "      <th></th>\n",
              "      <th></th>\n",
              "      <th></th>\n",
              "      <th></th>\n",
              "      <th></th>\n",
              "      <th></th>\n",
              "      <th></th>\n",
              "    </tr>\n",
              "  </thead>\n",
              "  <tbody>\n",
              "    <tr>\n",
              "      <th>LoanID_1</th>\n",
              "      <td>1</td>\n",
              "      <td>Product B</td>\n",
              "      <td>Female</td>\n",
              "      <td>Location 3</td>\n",
              "      <td>Region 2</td>\n",
              "      <td>17600.0</td>\n",
              "      <td>04/07/2018</td>\n",
              "      <td>2200</td>\n",
              "      <td>45</td>\n",
              "      <td>365</td>\n",
              "      <td>3221</td>\n",
              "      <td>4166</td>\n",
              "      <td>14621</td>\n",
              "      <td>Active</td>\n",
              "    </tr>\n",
              "    <tr>\n",
              "      <th>LoanID_6</th>\n",
              "      <td>6</td>\n",
              "      <td>Product A</td>\n",
              "      <td>Male</td>\n",
              "      <td>Location 34</td>\n",
              "      <td>Region 1</td>\n",
              "      <td>NaN</td>\n",
              "      <td>19/04/2019</td>\n",
              "      <td>2200</td>\n",
              "      <td>45</td>\n",
              "      <td>365</td>\n",
              "      <td>3301</td>\n",
              "      <td>4066</td>\n",
              "      <td>15141</td>\n",
              "      <td>Active</td>\n",
              "    </tr>\n",
              "  </tbody>\n",
              "</table>\n",
              "</div>"
            ],
            "text/plain": [
              "          LoanID    Product CustomerGender  ... AmtPaid60 AmtPaid360  LoanStatus\n",
              "StringID                                    ...                                 \n",
              "LoanID_1       1  Product B         Female  ...      4166      14621      Active\n",
              "LoanID_6       6  Product A           Male  ...      4066      15141      Active\n",
              "\n",
              "[2 rows x 14 columns]"
            ]
          },
          "metadata": {
            "tags": []
          },
          "execution_count": 44
        }
      ]
    },
    {
      "cell_type": "code",
      "metadata": {
        "colab": {
          "base_uri": "https://localhost:8080/"
        },
        "id": "A2-hsWcqy5OM",
        "outputId": "6bfc42d3-0ec0-43f1-e4c3-a35d25fdbead"
      },
      "source": [
        "# Noob way: lending_co_data['TotalPrice'].iloc[[0, 5]]\n",
        "# Using \":\" is more professional\n",
        "lending_co_data.loc[:, 'TotalPrice'].iloc[[0, 5]]"
      ],
      "execution_count": null,
      "outputs": [
        {
          "output_type": "execute_result",
          "data": {
            "text/plain": [
              "StringID\n",
              "LoanID_1    17600.0\n",
              "LoanID_6        NaN\n",
              "Name: TotalPrice, dtype: float64"
            ]
          },
          "metadata": {
            "tags": []
          },
          "execution_count": 47
        }
      ]
    }
  ]
}