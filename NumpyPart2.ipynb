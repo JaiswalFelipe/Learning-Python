{
  "nbformat": 4,
  "nbformat_minor": 0,
  "metadata": {
    "colab": {
      "name": "NumpyPart2.ipynb",
      "provenance": [],
      "collapsed_sections": [
        "GJjbnMLJuaeZ",
        "rNnR1S51vPu5",
        "yBl1bn0N0lg0",
        "U1eN826H6If3",
        "SG96eij495L7",
        "cM9Ev9BrFbFo",
        "07fHTuMRK9Ax",
        "QffNWv-WOVL2",
        "LNXDP5OGFrlx",
        "Nw1oW877LbDj",
        "mq5-vegpOZNX",
        "zmNJOnbfjEcc",
        "NXbIJRX6mJWh",
        "o5SHHpmspDY9",
        "xdcXJMPYuFLH",
        "QlOm7JJ4wiSb"
      ],
      "mount_file_id": "1_kbkmVt4Y4V9G9Bstn5oRxsMQumsrhvA",
      "authorship_tag": "ABX9TyOKL8YcvcPPdhd5czAcMLp/",
      "include_colab_link": true
    },
    "kernelspec": {
      "name": "python3",
      "display_name": "Python 3"
    },
    "language_info": {
      "name": "python"
    }
  },
  "cells": [
    {
      "cell_type": "markdown",
      "metadata": {
        "id": "view-in-github",
        "colab_type": "text"
      },
      "source": [
        "<a href=\"https://colab.research.google.com/github/JaiswalFelipe/Learning-Python/blob/main/NumpyPart2.ipynb\" target=\"_parent\"><img src=\"https://colab.research.google.com/assets/colab-badge.svg\" alt=\"Open In Colab\"/></a>"
      ]
    },
    {
      "cell_type": "markdown",
      "metadata": {
        "id": "vVpWJFzLuquE"
      },
      "source": [
        "# **NumPy Part 2**\n",
        "- Importing and Saving Data with NumPy\n",
        "- Statistics with NumPy"
      ]
    },
    {
      "cell_type": "code",
      "metadata": {
        "id": "Armkhy8Svaap"
      },
      "source": [
        "import numpy as np\n",
        "import matplotlib.pyplot as plt"
      ],
      "execution_count": null,
      "outputs": []
    },
    {
      "cell_type": "markdown",
      "metadata": {
        "id": "GJjbnMLJuaeZ"
      },
      "source": [
        "### **Importing and Saving Data with NumPy**\n",
        "- Note: Delimiters are Pre-defined symbols (e.g. \",\" and \";\") which are used to define distinct fields in text files (e.g. cells in a row, rows in a table) \n",
        "  - Check delimeter manually by using notepad++\n",
        "- It is crucial to make sure we import our data in the most appropriate type\n",
        "- It's important to know how to use both approaches (.npy vs .csv/.txt)\n",
        "  - .npy files are much more efficient"
      ]
    },
    {
      "cell_type": "markdown",
      "metadata": {
        "id": "rNnR1S51vPu5"
      },
      "source": [
        "##### np.loadtxt() vs np.genfromtxt()\n",
        "- np.array_equal() to check if files are identical"
      ]
    },
    {
      "cell_type": "code",
      "metadata": {
        "colab": {
          "base_uri": "https://localhost:8080/"
        },
        "id": "gi9fmcNKuVHD",
        "outputId": "49088211-9f15-401c-b9ac-20dd3fad8359"
      },
      "source": [
        "# np.loadtxt() \"load\" implies the data is ready to be directly imported and used \n",
        "# FASTER but breaks when we feed it \"incomplete or ill-formatted\" datasets\n",
        "lending_co_data_numeric_1 = np.loadtxt(\"/content/drive/MyDrive/Colab Notebooks/365 Data Science/Programming/Numpy/Files for NumpyPart2/Importing and Saving Data with Numpy/Lending-Company-Numeric-Data.csv\",\n",
        "                                       delimiter = \",\")\n",
        "lending_co_data_numeric_1"
      ],
      "execution_count": null,
      "outputs": [
        {
          "output_type": "execute_result",
          "data": {
            "text/plain": [
              "array([[ 2000.,    40.,   365.,  3121.,  4241., 13621.],\n",
              "       [ 2000.,    40.,   365.,  3061.,  4171., 15041.],\n",
              "       [ 1000.,    40.,   365.,  2160.,  3280., 15340.],\n",
              "       ...,\n",
              "       [ 2000.,    40.,   365.,  4201.,  5001., 16600.],\n",
              "       [ 1000.,    40.,   365.,  2080.,  3320., 15600.],\n",
              "       [ 2000.,    40.,   365.,  4601.,  4601., 16600.]])"
            ]
          },
          "metadata": {
            "tags": []
          },
          "execution_count": 2
        }
      ]
    },
    {
      "cell_type": "code",
      "metadata": {
        "colab": {
          "base_uri": "https://localhost:8080/"
        },
        "id": "WGwTw5RSy6wc",
        "outputId": "85c0bdd8-05fe-4558-9f10-5b163fccc8a8"
      },
      "source": [
        "# np.genfromtxt() \"generate\" indicates that the function creates the dataset from the textfile (HAS MORE FLEXIBILITY)\n",
        "# SLIGHTLY SLOWER but can handle \"MISSING VALUES\"\n",
        "# PREFERRED when working with data not created by yourself\n",
        "lending_co_data_numeric_2 = np.genfromtxt(\"/content/drive/MyDrive/Colab Notebooks/365 Data Science/Programming/Numpy/Files for NumpyPart2/Importing and Saving Data with Numpy/Lending-Company-Numeric-Data.csv\",\n",
        "                                       delimiter = \",\")\n",
        "lending_co_data_numeric_2"
      ],
      "execution_count": null,
      "outputs": [
        {
          "output_type": "execute_result",
          "data": {
            "text/plain": [
              "array([[ 2000.,    40.,   365.,  3121.,  4241., 13621.],\n",
              "       [ 2000.,    40.,   365.,  3061.,  4171., 15041.],\n",
              "       [ 1000.,    40.,   365.,  2160.,  3280., 15340.],\n",
              "       ...,\n",
              "       [ 2000.,    40.,   365.,  4201.,  5001., 16600.],\n",
              "       [ 1000.,    40.,   365.,  2080.,  3320., 15600.],\n",
              "       [ 2000.,    40.,   365.,  4601.,  4601., 16600.]])"
            ]
          },
          "metadata": {
            "tags": []
          },
          "execution_count": 3
        }
      ]
    },
    {
      "cell_type": "code",
      "metadata": {
        "colab": {
          "base_uri": "https://localhost:8080/"
        },
        "id": "wFQf6N_uzNKt",
        "outputId": "b23b149f-21b7-427b-918e-2b772dbfd2a5"
      },
      "source": [
        "# Check if they are Identical\n",
        "np.array_equal(lending_co_data_numeric_1, lending_co_data_numeric_2)"
      ],
      "execution_count": null,
      "outputs": [
        {
          "output_type": "execute_result",
          "data": {
            "text/plain": [
              "True"
            ]
          },
          "metadata": {
            "tags": []
          },
          "execution_count": 4
        }
      ]
    },
    {
      "cell_type": "markdown",
      "metadata": {
        "id": "yBl1bn0N0lg0"
      },
      "source": [
        "##### Simple Cleaning when Importing\n",
        "- delimiter\n",
        "- skip_header\n",
        "- skip_footer\n",
        "- usecols\n",
        "- unpack"
      ]
    },
    {
      "cell_type": "code",
      "metadata": {
        "colab": {
          "base_uri": "https://localhost:8080/"
        },
        "id": "OhcTvDKozYi1",
        "outputId": "8e47f040-961f-4c6c-ab96-f415c3e9df4f"
      },
      "source": [
        "lending_co_data_numeric_NAN = np.genfromtxt(\"/content/drive/MyDrive/Colab Notebooks/365 Data Science/Programming/Numpy/Files for NumpyPart2/Importing and Saving Data with Numpy/Lending-Company-Numeric-Data-NAN.csv\",\n",
        "                                       delimiter = \";\")\n",
        "lending_co_data_numeric_NAN"
      ],
      "execution_count": null,
      "outputs": [
        {
          "output_type": "execute_result",
          "data": {
            "text/plain": [
              "array([[ 2000.,    40.,   365.,  3121.,  4241., 13621.],\n",
              "       [ 2000.,    40.,   365.,  3061.,  4171., 15041.],\n",
              "       [ 1000.,    40.,   365.,  2160.,  3280., 15340.],\n",
              "       ...,\n",
              "       [   nan,    40.,   365.,  4201.,  5001., 16600.],\n",
              "       [ 1000.,    40.,   365.,  2080.,  3320., 15600.],\n",
              "       [ 2000.,    40.,   365.,  4601.,  4601., 16600.]])"
            ]
          },
          "metadata": {
            "tags": []
          },
          "execution_count": 5
        }
      ]
    },
    {
      "cell_type": "code",
      "metadata": {
        "colab": {
          "base_uri": "https://localhost:8080/"
        },
        "id": "nhFRA9Y318yp",
        "outputId": "3ce9f80c-afba-4396-db38-344c9ab849ad"
      },
      "source": [
        "# skip_header: Convinient when text files include several lines of comments and notes from the authors\n",
        "# skip_footer: Vice versa\n",
        "lending_co_data_numeric_NAN = np.genfromtxt(\"/content/drive/MyDrive/Colab Notebooks/365 Data Science/Programming/Numpy/Files for NumpyPart2/Importing and Saving Data with Numpy/Lending-Company-Numeric-Data-NAN.csv\",\n",
        "                                       delimiter = \";\",\n",
        "                                       skip_header = 2) # Removes the first 2 lines of the dataset \n",
        "lending_co_data_numeric_NAN"
      ],
      "execution_count": null,
      "outputs": [
        {
          "output_type": "execute_result",
          "data": {
            "text/plain": [
              "array([[ 1000.,    40.,   365.,  2160.,  3280., 15340.],\n",
              "       [ 2000.,    40.,   365.,  3041.,  4241., 15321.],\n",
              "       [ 2000.,    50.,   365.,  3470.,  4820., 13720.],\n",
              "       ...,\n",
              "       [   nan,    40.,   365.,  4201.,  5001., 16600.],\n",
              "       [ 1000.,    40.,   365.,  2080.,  3320., 15600.],\n",
              "       [ 2000.,    40.,   365.,  4601.,  4601., 16600.]])"
            ]
          },
          "metadata": {
            "tags": []
          },
          "execution_count": 6
        }
      ]
    },
    {
      "cell_type": "code",
      "metadata": {
        "colab": {
          "base_uri": "https://localhost:8080/"
        },
        "id": "GdGWaxgw2z5c",
        "outputId": "a65fbfa6-c536-4ebb-d9d6-0bd608d736ca"
      },
      "source": [
        "# \"usecols\" == use columns\n",
        "lending_co_data_numeric_NAN = np.genfromtxt(\"/content/drive/MyDrive/Colab Notebooks/365 Data Science/Programming/Numpy/Files for NumpyPart2/Importing and Saving Data with Numpy/Lending-Company-Numeric-Data-NAN.csv\",\n",
        "                                       delimiter = \";\",\n",
        "                                       usecols = (0,1,5)) # Tells python we're only interested in the first \"0\", second \"1\", and 6th \"5\" columns\n",
        "                                                          # You can reorder the columns i.e. (5,0,1)\n",
        "lending_co_data_numeric_NAN"
      ],
      "execution_count": null,
      "outputs": [
        {
          "output_type": "execute_result",
          "data": {
            "text/plain": [
              "array([[ 2000.,    40., 13621.],\n",
              "       [ 2000.,    40., 15041.],\n",
              "       [ 1000.,    40., 15340.],\n",
              "       ...,\n",
              "       [   nan,    40., 16600.],\n",
              "       [ 1000.,    40., 15600.],\n",
              "       [ 2000.,    40., 16600.]])"
            ]
          },
          "metadata": {
            "tags": []
          },
          "execution_count": 7
        }
      ]
    },
    {
      "cell_type": "code",
      "metadata": {
        "colab": {
          "base_uri": "https://localhost:8080/"
        },
        "id": "k10Uxrxk4P4M",
        "outputId": "a58b528b-026c-4d65-8ff4-e0343f70a4d6"
      },
      "source": [
        "# Assign each column to \"separate\" variables?\n",
        "# unpack = True\n",
        "lending_co_data_5, lending_co_data_0, lending_co_data_1 = np.genfromtxt(\"/content/drive/MyDrive/Colab Notebooks/365 Data Science/Programming/Numpy/Files for NumpyPart2/Importing and Saving Data with Numpy/Lending-Company-Numeric-Data-NAN.csv\",\n",
        "                                                                        delimiter = \";\",\n",
        "                                                                        usecols = (5,0,1),\n",
        "                                                                        unpack = True)     # This splits the output: one for each variable\n",
        "\n",
        "print(lending_co_data_5)\n",
        "print(lending_co_data_0)\n",
        "print(lending_co_data_1)"
      ],
      "execution_count": null,
      "outputs": [
        {
          "output_type": "stream",
          "text": [
            "[13621. 15041. 15340. ... 16600. 15600. 16600.]\n",
            "[2000. 2000. 1000. ...   nan 1000. 2000.]\n",
            "[40. 40. 40. ... 40. 40. 40.]\n"
          ],
          "name": "stdout"
        }
      ]
    },
    {
      "cell_type": "markdown",
      "metadata": {
        "id": "U1eN826H6If3"
      },
      "source": [
        "##### String vs Object vs Numbers\n",
        "- nan = not a number"
      ]
    },
    {
      "cell_type": "code",
      "metadata": {
        "colab": {
          "base_uri": "https://localhost:8080/"
        },
        "id": "RyTo62jE5bxn",
        "outputId": "646df252-edb8-4368-c8ad-303699abc16b"
      },
      "source": [
        "lending_co_lt = np.genfromtxt(\"/content/drive/MyDrive/Colab Notebooks/365 Data Science/Programming/Numpy/Files for NumpyPart2/Importing and Saving Data with Numpy/lending-co-LT.csv\",\n",
        "                                       delimiter = \",\")\n",
        "print(lending_co_lt) # To display neater/organized"
      ],
      "execution_count": null,
      "outputs": [
        {
          "output_type": "stream",
          "text": [
            "[[      nan       nan       nan ...       nan       nan       nan]\n",
            " [1.000e+00       nan       nan ...       nan       nan 1.660e+04]\n",
            " [2.000e+00       nan       nan ...       nan       nan 1.660e+04]\n",
            " ...\n",
            " [1.041e+03       nan       nan ...       nan       nan 1.660e+04]\n",
            " [1.042e+03       nan       nan ...       nan       nan 1.560e+04]\n",
            " [1.043e+03       nan       nan ...       nan       nan 1.660e+04]]\n"
          ],
          "name": "stdout"
        }
      ]
    },
    {
      "cell_type": "code",
      "metadata": {
        "colab": {
          "base_uri": "https://localhost:8080/"
        },
        "id": "43zWRgkC7nyn",
        "outputId": "066b615b-5a92-4648-b0b4-581c801b22fa"
      },
      "source": [
        "# Import as Int\n",
        "lending_co_lt = np.genfromtxt(\"/content/drive/MyDrive/Colab Notebooks/365 Data Science/Programming/Numpy/Files for NumpyPart2/Importing and Saving Data with Numpy/lending-co-LT.csv\",\n",
        "                                       delimiter = \",\",\n",
        "                                       dtype = np.int32)  \n",
        "print(lending_co_lt)\n",
        "\n",
        "# Now, the output is not in scientific notation values\n",
        "# While nans are now \"-1\""
      ],
      "execution_count": null,
      "outputs": [
        {
          "output_type": "stream",
          "text": [
            "[[   -1    -1    -1 ...    -1    -1    -1]\n",
            " [    1    -1    -1 ...    -1    -1 16600]\n",
            " [    2    -1    -1 ...    -1    -1 16600]\n",
            " ...\n",
            " [ 1041    -1    -1 ...    -1    -1 16600]\n",
            " [ 1042    -1    -1 ...    -1    -1 15600]\n",
            " [ 1043    -1    -1 ...    -1    -1 16600]]\n"
          ],
          "name": "stdout"
        }
      ]
    },
    {
      "cell_type": "code",
      "metadata": {
        "colab": {
          "base_uri": "https://localhost:8080/"
        },
        "id": "-jQXOx-g8rcQ",
        "outputId": "45862452-a65f-4524-fcb4-39ce44fbf4c9"
      },
      "source": [
        "# Import as text\n",
        "lending_co_lt = np.genfromtxt(\"/content/drive/MyDrive/Colab Notebooks/365 Data Science/Programming/Numpy/Files for NumpyPart2/Importing and Saving Data with Numpy/lending-co-LT.csv\",\n",
        "                                       delimiter = \",\",\n",
        "                                       dtype = np.str)  \n",
        "print(lending_co_lt)"
      ],
      "execution_count": null,
      "outputs": [
        {
          "output_type": "stream",
          "text": [
            "[['LoanID' 'StringID' 'Product' ... 'Location' 'Region' 'TotalPrice']\n",
            " ['1' 'id_1' 'Product B' ... 'Location 2' 'Region 2' '16600.0']\n",
            " ['2' 'id_2' 'Product B' ... 'Location 3' '' '16600.0']\n",
            " ...\n",
            " ['1041' 'id_1041' 'Product B' ... 'Location 23' 'Region 4' '16600.0']\n",
            " ['1042' 'id_1042' 'Product C' ... 'Location 52' 'Region 6' '15600.0']\n",
            " ['1043' 'id_1043' 'Product B' ... 'Location 142' 'Region 6' '16600.0']]\n"
          ],
          "name": "stdout"
        }
      ]
    },
    {
      "cell_type": "code",
      "metadata": {
        "colab": {
          "base_uri": "https://localhost:8080/"
        },
        "id": "aAkj56ot8zzk",
        "outputId": "62eccac3-8dd1-4551-ada7-5b7cf21bc6bb"
      },
      "source": [
        "# Import as objects\n",
        "# WARNING: SERIES NO LONGER STORE STRINGS AS OBJECTS (NOT USEFUL NOW)\n",
        "lending_co_lt = np.genfromtxt(\"/content/drive/MyDrive/Colab Notebooks/365 Data Science/Programming/Numpy/Files for NumpyPart2/Importing and Saving Data with Numpy/lending-co-LT.csv\",\n",
        "                                       delimiter = \",\",\n",
        "                                       dtype = np.object)  \n",
        "print(lending_co_lt)\n",
        "\n",
        "# \"b\" means that the data inside is not just plain text, so we can't freeøy manipulate the values"
      ],
      "execution_count": null,
      "outputs": [
        {
          "output_type": "stream",
          "text": [
            "[[b'LoanID' b'StringID' b'Product' ... b'Location' b'Region'\n",
            "  b'TotalPrice']\n",
            " [b'1' b'id_1' b'Product B' ... b'Location 2' b'Region 2' b'16600.0']\n",
            " [b'2' b'id_2' b'Product B' ... b'Location 3' b'' b'16600.0']\n",
            " ...\n",
            " [b'1041' b'id_1041' b'Product B' ... b'Location 23' b'Region 4'\n",
            "  b'16600.0']\n",
            " [b'1042' b'id_1042' b'Product C' ... b'Location 52' b'Region 6'\n",
            "  b'15600.0']\n",
            " [b'1043' b'id_1043' b'Product B' ... b'Location 142' b'Region 6'\n",
            "  b'16600.0']]\n"
          ],
          "name": "stdout"
        }
      ]
    },
    {
      "cell_type": "markdown",
      "metadata": {
        "id": "SG96eij495L7"
      },
      "source": [
        "##### np.save()\n",
        "- Creates a \"file-name.npy\" file\n",
        "- NPY is a special type of text file native to NumPy\n",
        "- Faster than CSV\n",
        "- takes up less memory space\n",
        "\n",
        "**Note:**\n",
        "  - Load a dataset != import a dataset\n",
        "  - Importing does not keep track of the datatype of the original array "
      ]
    },
    {
      "cell_type": "code",
      "metadata": {
        "id": "SlQ7qaoi9FeL",
        "colab": {
          "base_uri": "https://localhost:8080/"
        },
        "outputId": "117f1829-4ff8-4b12-e7dc-4ae6abc46592"
      },
      "source": [
        "lending_co = np.genfromtxt(\"/content/drive/MyDrive/Colab Notebooks/365 Data Science/Programming/Numpy/Files for NumpyPart2/Importing and Saving Data with Numpy/Lending-Company-Saving.csv\",\n",
        "                           delimiter = \",\",\n",
        "                           dtype = np.str)\n",
        "print(lending_co)"
      ],
      "execution_count": null,
      "outputs": [
        {
          "output_type": "stream",
          "text": [
            "[['LoanID' 'StringID' 'Product' ... 'Location' 'Region' 'TotalPrice']\n",
            " ['1' 'id_1' 'Product B' ... 'Location 2' 'Region 2' '16600.0']\n",
            " ['2' 'id_2' 'Product B' ... 'Location 3' '' '16600.0']\n",
            " ...\n",
            " ['1041' 'id_1041' 'Product B' ... 'Location 23' 'Region 4' '16600.0']\n",
            " ['1042' 'id_1042' 'Product C' ... 'Location 52' 'Region 6' '15600.0']\n",
            " ['1043' 'id_1043' 'Product B' ... 'Location 142' 'Region 6' '16600.0']]\n"
          ],
          "name": "stdout"
        }
      ]
    },
    {
      "cell_type": "code",
      "metadata": {
        "id": "PekI1r7pDTBP"
      },
      "source": [
        "# This generates NPY file\n",
        "#np.save(\"Lending-Company-Saving\", lending_co)"
      ],
      "execution_count": null,
      "outputs": []
    },
    {
      "cell_type": "markdown",
      "metadata": {
        "id": "cM9Ev9BrFbFo"
      },
      "source": [
        "##### np.savez()"
      ]
    },
    {
      "cell_type": "code",
      "metadata": {
        "id": "w1fTPss6HE1A"
      },
      "source": [
        "lending_co = np.genfromtxt(\"/content/drive/MyDrive/Colab Notebooks/365 Data Science/Programming/Numpy/Files for NumpyPart2/Importing and Saving Data with Numpy/Lending-Company-Saving.csv\",\n",
        "                           delimiter = \",\",\n",
        "                           dtype = np.str)\n",
        "\n",
        "lending_data_save = np.load(\"Lending-Company-Saving,npy\")"
      ],
      "execution_count": null,
      "outputs": []
    },
    {
      "cell_type": "code",
      "metadata": {
        "id": "p92kGKgGFeHD"
      },
      "source": [
        "# Creates .npz file\n",
        "# NPZ is like an archive of NPYs that can store \"MULTIPLE ARRAYS\"\n",
        "# Instead of storing different datasets in separate NPY files, we can store all of them in a single NPZ\n",
        "# Useful when working with large amts of data\n",
        "np.savez(\"/content/drive/MyDrive/Colab Notebooks/365 Data Science/Programming/Numpy/Files for NumpyPart2/Importing and Saving Data with Numpy/Lending-Company-Saving\",\n",
        "         lending_co,\n",
        "         lending_data_save) # As input of npz"
      ],
      "execution_count": null,
      "outputs": []
    },
    {
      "cell_type": "code",
      "metadata": {
        "id": "G6bIqt4AHnjs"
      },
      "source": [
        "# Loading the file\n",
        "lending_data_savez = np.load(\"/content/drive/MyDrive/Colab Notebooks/365 Data Science/Programming/Numpy/Files for NumpyPart2/Importing and Saving Data with Numpy/Lending-Company-Saving.npz\")\n",
        "\n",
        "# The NPZ contains a collection of arrays\n",
        "# So we must specify the array we want to open like so:\n",
        "# For the very first 1:\n",
        "\n",
        "print(lending_data_savez[\"arr_0\"])"
      ],
      "execution_count": null,
      "outputs": []
    },
    {
      "cell_type": "code",
      "metadata": {
        "id": "AOh_DQ3LJK9U"
      },
      "source": [
        "# To avoid using [\"arr_0\"]\n",
        "\n",
        "np.savez(\"/content/drive/MyDrive/Colab Notebooks/365 Data Science/Programming/Numpy/Files for NumpyPart2/Importing and Saving Data with Numpy/Lending-Company-Saving\",\n",
        "         company = lending_co,\n",
        "         data_save = lending_data_save)"
      ],
      "execution_count": null,
      "outputs": []
    },
    {
      "cell_type": "code",
      "metadata": {
        "id": "53PZyBHDJ_DL"
      },
      "source": [
        "# Now load\n",
        "lending_data_savez = np.load(\"/content/drive/MyDrive/Colab Notebooks/365 Data Science/Programming/Numpy/Files for NumpyPart2/Importing and Saving Data with Numpy/Lending-Company-Saving.npz\")"
      ],
      "execution_count": null,
      "outputs": []
    },
    {
      "cell_type": "code",
      "metadata": {
        "id": "Ucf2P04TKlYK"
      },
      "source": [
        "# Check files\n",
        "lending_data_savez.files"
      ],
      "execution_count": null,
      "outputs": []
    },
    {
      "cell_type": "code",
      "metadata": {
        "id": "8XfVYr-xKsbC"
      },
      "source": [
        "# Now instead of using [\"arr_0\"]\n",
        "print(lending_data_savez[\"company\"])"
      ],
      "execution_count": null,
      "outputs": []
    },
    {
      "cell_type": "markdown",
      "metadata": {
        "id": "07fHTuMRK9Ax"
      },
      "source": [
        "##### np.savetxt()\n",
        "- Not limited to numpy vs savez, and save"
      ]
    },
    {
      "cell_type": "code",
      "metadata": {
        "id": "PEU4mmhBK9xW"
      },
      "source": [
        "lending_co = np.genfromtxt(\"/content/drive/MyDrive/Colab Notebooks/365 Data Science/Programming/Numpy/Files for NumpyPart2/Importing and Saving Data with Numpy/Lending-Company-Saving.csv\",\n",
        "                           delimiter = \",\",\n",
        "                           dtype = np.str)"
      ],
      "execution_count": null,
      "outputs": []
    },
    {
      "cell_type": "code",
      "metadata": {
        "id": "TjKsFWcBLY-k"
      },
      "source": [
        "# Specify .txt\n",
        "np.savetxt(\"/content/drive/MyDrive/Colab Notebooks/365 Data Science/Programming/Numpy/Files for NumpyPart2/Importing and Saving Data with Numpy/Lending-Company-Saving.txt\",\n",
        "           lending_co,\n",
        "           fmt = '%s', # Format specifier for string values\n",
        "           delimiter = ',') "
      ],
      "execution_count": null,
      "outputs": []
    },
    {
      "cell_type": "code",
      "metadata": {
        "colab": {
          "base_uri": "https://localhost:8080/"
        },
        "id": "lnFUw7WmMPWm",
        "outputId": "81d97c4d-0d4c-457f-fcea-12b0a1bea957"
      },
      "source": [
        "# np.savetxt() requires importing the file\n",
        "lending_data_savetxt = np.genfromtxt(\"/content/drive/MyDrive/Colab Notebooks/365 Data Science/Programming/Numpy/Files for NumpyPart2/Importing and Saving Data with Numpy/Lending-Company-Saving.txt\",\n",
        "                                     delimiter = ',',\n",
        "                                     dtype = np.str)\n",
        "print(lending_data_savetxt)"
      ],
      "execution_count": null,
      "outputs": [
        {
          "output_type": "stream",
          "text": [
            "[['LoanID' 'StringID' 'Product' ... 'Location' 'Region' 'TotalPrice']\n",
            " ['1' 'id_1' 'Product B' ... 'Location 2' 'Region 2' '16600.0']\n",
            " ['2' 'id_2' 'Product B' ... 'Location 3' '' '16600.0']\n",
            " ...\n",
            " ['1041' 'id_1041' 'Product B' ... 'Location 23' 'Region 4' '16600.0']\n",
            " ['1042' 'id_1042' 'Product C' ... 'Location 52' 'Region 6' '15600.0']\n",
            " ['1043' 'id_1043' 'Product B' ... 'Location 142' 'Region 6' '16600.0']]\n"
          ],
          "name": "stdout"
        }
      ]
    },
    {
      "cell_type": "markdown",
      "metadata": {
        "id": "QffNWv-WOVL2"
      },
      "source": [
        "### **Statistics with NumPy**"
      ]
    },
    {
      "cell_type": "markdown",
      "metadata": {
        "id": "LNXDP5OGFrlx"
      },
      "source": [
        "##### np.mean()"
      ]
    },
    {
      "cell_type": "code",
      "metadata": {
        "id": "YN48cDOtObnV",
        "colab": {
          "base_uri": "https://localhost:8080/"
        },
        "outputId": "ca50798d-c493-4400-cdac-db492058223d"
      },
      "source": [
        "matrix_A = np.array([[1,2,3,4,5],[0,5,3,1,2],[9,5,7,8,8]])\n",
        "matrix_A"
      ],
      "execution_count": null,
      "outputs": [
        {
          "output_type": "execute_result",
          "data": {
            "text/plain": [
              "array([[1, 2, 3, 4, 5],\n",
              "       [0, 5, 3, 1, 2],\n",
              "       [9, 5, 7, 8, 8]])"
            ]
          },
          "metadata": {
            "tags": []
          },
          "execution_count": 2
        }
      ]
    },
    {
      "cell_type": "code",
      "metadata": {
        "colab": {
          "base_uri": "https://localhost:8080/"
        },
        "id": "4wfIOkX4GRBB",
        "outputId": "1fd05dc0-975d-4a54-bd4b-0915667984f5"
      },
      "source": [
        "# Whole matrix\n",
        "print(np.mean(matrix_A))\n",
        "print(\"\")\n",
        "\n",
        "# First array\n",
        "print(np.mean(matrix_A[0]))\n",
        "print(\"\")\n",
        "\n",
        "# First column\n",
        "print(np.mean(matrix_A[:,0]))\n",
        "print(\"\")\n",
        "\n",
        "# Using axis: to calculate every columns (useful with big datasets)\n",
        "print(np.mean(matrix_A, axis = 0))\n",
        "print(\"\")\n",
        "\n",
        "# For every row:\n",
        "# In addition, you can also control the datatype of the outputs\n",
        "print(np.mean(matrix_A, axis = 1, dtype = np.int64))\n",
        "print(\"\")\n",
        "\n",
        "# Squareroot of every element within the array\n",
        "print(np.sqrt(matrix_A))"
      ],
      "execution_count": null,
      "outputs": [
        {
          "output_type": "stream",
          "text": [
            "4.2\n",
            "\n",
            "3.0\n",
            "\n",
            "3.3333333333333335\n",
            "\n",
            "[3.33333333 4.         4.33333333 4.33333333 5.        ]\n",
            "\n",
            "[3 2 7]\n",
            "\n",
            "[[1.         1.41421356 1.73205081 2.         2.23606798]\n",
            " [0.         2.23606798 1.73205081 1.         1.41421356]\n",
            " [3.         2.23606798 2.64575131 2.82842712 2.82842712]]\n"
          ],
          "name": "stdout"
        }
      ]
    },
    {
      "cell_type": "markdown",
      "metadata": {
        "id": "Nw1oW877LbDj"
      },
      "source": [
        "##### Minimal and Maximal Values in NumPy"
      ]
    },
    {
      "cell_type": "code",
      "metadata": {
        "colab": {
          "base_uri": "https://localhost:8080/"
        },
        "id": "AUQ8T-IlG8oo",
        "outputId": "9e48a619-5b2c-4eec-81fa-8d5271d52da6"
      },
      "source": [
        "print(np.min(matrix_A)) # Is the same as np.amin()\n",
        "print(\"\")\n",
        "\n",
        "# np.minimum() compares the values at the same position in each of the arrays before taking the lowest one\n",
        "# Hence requires \"ATLEAST\" 2 input arrays\n",
        "print(np.minimum(matrix_A[1], matrix_A[2]))\n"
      ],
      "execution_count": null,
      "outputs": [
        {
          "output_type": "stream",
          "text": [
            "0\n",
            "\n",
            "[0 5 3 1 2]\n"
          ],
          "name": "stdout"
        }
      ]
    },
    {
      "cell_type": "markdown",
      "metadata": {
        "id": "mq5-vegpOZNX"
      },
      "source": [
        "##### Statistical Order Functions in NumPy\n",
        "- np.ptp()\n",
        "- np.percentile()\n",
        "- np.quantile()\n",
        "- np.median()"
      ]
    },
    {
      "cell_type": "code",
      "metadata": {
        "colab": {
          "base_uri": "https://localhost:8080/"
        },
        "id": "FTszPk3BNHHe",
        "outputId": "f360e9f5-f133-4483-e1fb-ecdf07c83525"
      },
      "source": [
        "# np.ptp() peak to peak: Returns the difference between the highest and lowest values within an array\n",
        "np.ptp(matrix_A)  # Highest 9 - Lowest 0 = 9"
      ],
      "execution_count": null,
      "outputs": [
        {
          "output_type": "execute_result",
          "data": {
            "text/plain": [
              "9"
            ]
          },
          "metadata": {
            "tags": []
          },
          "execution_count": 18
        }
      ]
    },
    {
      "cell_type": "code",
      "metadata": {
        "colab": {
          "base_uri": "https://localhost:8080/"
        },
        "id": "nlizGOH0XouO",
        "outputId": "13ad4685-82e5-4b8b-fc47-2e1f9fa2873d"
      },
      "source": [
        "# np.percentile() returns a specific percentile of a given set\n",
        "# Requires a second input: the percentile\n",
        "# A percentile is a value that is greater than the corresponding % of the dataset\n",
        "# I.E. The 70th percentile is greater than 70% of the data\n",
        "# Another way to look at this: We're 70% through a sorted version of the array (in increasing order)\n",
        "print(np.percentile(matrix_A, 70))\n",
        "print(\"\")\n",
        "# In addition, interpolation can be set\n",
        "#print(np.percentile(matrix_A, 70, interpolation = \"nearest\"))   # lower, higher, midpoint, nearest(round: recommended)\n",
        "\n",
        "# Median: middle value of a sorted dataset\n",
        "print(np.percentile(matrix_A, 50))\n",
        "print(\"\")\n",
        "\n",
        "#Or the right way for Median:\n",
        "print(np.median(matrix_A))"
      ],
      "execution_count": null,
      "outputs": [
        {
          "output_type": "stream",
          "text": [
            "5.0\n",
            "\n",
            "4.0\n",
            "\n",
            "4.0\n"
          ],
          "name": "stdout"
        }
      ]
    },
    {
      "cell_type": "code",
      "metadata": {
        "colab": {
          "base_uri": "https://localhost:8080/"
        },
        "id": "dGaBFwCOdYpS",
        "outputId": "0ef90176-842f-4836-d03f-fc17aad3dc47"
      },
      "source": [
        "# np.quantile() A value that is greater than the corresponding part of the dataset\n",
        "# 70th percentile == 0.7 quantile\n",
        "print(np.quantile(matrix_A, 0.70))"
      ],
      "execution_count": null,
      "outputs": [
        {
          "output_type": "stream",
          "text": [
            "5.0\n"
          ],
          "name": "stdout"
        }
      ]
    },
    {
      "cell_type": "markdown",
      "metadata": {
        "id": "zmNJOnbfjEcc"
      },
      "source": [
        "##### Variance, STD, and Mean !=totally Average"
      ]
    },
    {
      "cell_type": "code",
      "metadata": {
        "id": "O9raLKeBjJV1"
      },
      "source": [
        "# np.average() can compute the weighted avg of a dataset unlike np.mean()"
      ],
      "execution_count": null,
      "outputs": []
    },
    {
      "cell_type": "code",
      "metadata": {
        "colab": {
          "base_uri": "https://localhost:8080/"
        },
        "id": "pRuDFNgok8mp",
        "outputId": "c398c72e-ecff-4c10-b45f-398e8d1a27dd"
      },
      "source": [
        "# Variance\n",
        "np.var(matrix_A)"
      ],
      "execution_count": null,
      "outputs": [
        {
          "output_type": "execute_result",
          "data": {
            "text/plain": [
              "7.493333333333334"
            ]
          },
          "metadata": {
            "tags": []
          },
          "execution_count": 27
        }
      ]
    },
    {
      "cell_type": "code",
      "metadata": {
        "colab": {
          "base_uri": "https://localhost:8080/"
        },
        "id": "xXNZkedAlCcj",
        "outputId": "8fcec5dc-99e2-44b8-eeb4-d00cd9b567f4"
      },
      "source": [
        "# STD\n",
        "np.std(matrix_A)"
      ],
      "execution_count": null,
      "outputs": [
        {
          "output_type": "execute_result",
          "data": {
            "text/plain": [
              "2.737395355686375"
            ]
          },
          "metadata": {
            "tags": []
          },
          "execution_count": 28
        }
      ]
    },
    {
      "cell_type": "markdown",
      "metadata": {
        "id": "NXbIJRX6mJWh"
      },
      "source": [
        "##### Covariance and Correlation in NumPy"
      ]
    },
    {
      "cell_type": "code",
      "metadata": {
        "colab": {
          "base_uri": "https://localhost:8080/"
        },
        "id": "sDoGYIlllj72",
        "outputId": "f8194294-7de1-4bc6-ae8c-ead1cc8eb1d8"
      },
      "source": [
        "print(matrix_A)\n",
        "print(\"\")\n",
        "\n",
        "# Covariance\n",
        "print(np.cov(matrix_A))"
      ],
      "execution_count": null,
      "outputs": [
        {
          "output_type": "stream",
          "text": [
            "[[1 2 3 4 5]\n",
            " [0 5 3 1 2]\n",
            " [9 5 7 8 8]]\n",
            "\n",
            "[[ 2.5   0.    0.25]\n",
            " [ 0.    3.7  -2.85]\n",
            " [ 0.25 -2.85  2.3 ]]\n"
          ],
          "name": "stdout"
        }
      ]
    },
    {
      "cell_type": "code",
      "metadata": {
        "colab": {
          "base_uri": "https://localhost:8080/"
        },
        "id": "EqC0i7VimVuI",
        "outputId": "592dca1f-0473-4f72-d48a-293ef69cfece"
      },
      "source": [
        "# Correlation\n",
        "np.corrcoef(matrix_A)"
      ],
      "execution_count": null,
      "outputs": [
        {
          "output_type": "execute_result",
          "data": {
            "text/plain": [
              "array([[ 1.        ,  0.        ,  0.10425721],\n",
              "       [ 0.        ,  1.        , -0.97696742],\n",
              "       [ 0.10425721, -0.97696742,  1.        ]])"
            ]
          },
          "metadata": {
            "tags": []
          },
          "execution_count": 32
        }
      ]
    },
    {
      "cell_type": "markdown",
      "metadata": {
        "id": "o5SHHpmspDY9"
      },
      "source": [
        "##### Histograms\n",
        "- A way to examine a dataset by dissecting its density: \n",
        "  - How many values from a daset fall within some predetermined range"
      ]
    },
    {
      "cell_type": "code",
      "metadata": {
        "colab": {
          "base_uri": "https://localhost:8080/"
        },
        "id": "bTTdfdGmqLFm",
        "outputId": "11bfd1ad-bce2-4a68-e4d3-1c22eddda6ea"
      },
      "source": [
        "#import matplotlib.pyplot as plt\n",
        "\n",
        "np.sort(matrix_A, axis = None)"
      ],
      "execution_count": null,
      "outputs": [
        {
          "output_type": "execute_result",
          "data": {
            "text/plain": [
              "array([0, 1, 1, 2, 2, 3, 3, 4, 5, 5, 5, 7, 8, 8, 9])"
            ]
          },
          "metadata": {
            "tags": []
          },
          "execution_count": 33
        }
      ]
    },
    {
      "cell_type": "code",
      "metadata": {
        "colab": {
          "base_uri": "https://localhost:8080/"
        },
        "id": "AqeWaUaHqQTz",
        "outputId": "ddbeede9-7e4c-4423-9636-bcae7aafe58b"
      },
      "source": [
        "print(np.histogram(matrix_A))\n",
        "print(\"\")\n",
        "# The first array represents how many times a values falls within each bin\n",
        "# The second array depicts the edge of each bins: end point of the first bin, and starting point of the next\n",
        "# Hence, 1st array is always \"1\" greater than the 2nd\n",
        "\n",
        "# You can select which array you are interested specifically:\n",
        "print(np.histogram(matrix_A)[0])"
      ],
      "execution_count": null,
      "outputs": [
        {
          "output_type": "stream",
          "text": [
            "(array([1, 2, 2, 2, 1, 3, 0, 1, 2, 1]), array([0. , 0.9, 1.8, 2.7, 3.6, 4.5, 5.4, 6.3, 7.2, 8.1, 9. ]))\n",
            "\n",
            "[1 2 2 2 1 3 0 1 2 1]\n"
          ],
          "name": "stdout"
        }
      ]
    },
    {
      "cell_type": "code",
      "metadata": {
        "colab": {
          "base_uri": "https://localhost:8080/"
        },
        "id": "4yHEa4UKqTSy",
        "outputId": "3ca9d8a8-e39d-4c7c-9be6-33522b050001"
      },
      "source": [
        "# The default bin is not always optimal for every dataset, therefore you can set it:\n",
        "np.histogram(matrix_A, bins = 4)"
      ],
      "execution_count": null,
      "outputs": [
        {
          "output_type": "execute_result",
          "data": {
            "text/plain": [
              "(array([5, 3, 3, 4]), array([0.  , 2.25, 4.5 , 6.75, 9.  ]))"
            ]
          },
          "metadata": {
            "tags": []
          },
          "execution_count": 36
        }
      ]
    },
    {
      "cell_type": "code",
      "metadata": {
        "colab": {
          "base_uri": "https://localhost:8080/"
        },
        "id": "S0dZfJI5tAH5",
        "outputId": "c3030c6e-e288-445b-b8fe-a4f8973457ff"
      },
      "source": [
        "# You can also set the \"range\"(fixed interval): Very easy way to ignore outliers\n",
        "np.histogram(matrix_A, bins = 4, range = (1,7))   # Excluded 0, 8, and 9"
      ],
      "execution_count": null,
      "outputs": [
        {
          "output_type": "execute_result",
          "data": {
            "text/plain": [
              "(array([4, 2, 4, 1]), array([1. , 2.5, 4. , 5.5, 7. ]))"
            ]
          },
          "metadata": {
            "tags": []
          },
          "execution_count": 37
        }
      ]
    },
    {
      "cell_type": "code",
      "metadata": {
        "colab": {
          "base_uri": "https://localhost:8080/",
          "height": 265
        },
        "id": "hxJ9p69OuPHn",
        "outputId": "3aaedf84-9f91-4e10-a370-5731c08a4260"
      },
      "source": [
        "# Visualize\n",
        "plt.hist(matrix_A.flat, bins = np.histogram(matrix_A)[1])\n",
        "plt.show()"
      ],
      "execution_count": null,
      "outputs": [
        {
          "output_type": "display_data",
          "data": {
            "image/png": "[encoded data removed]",
            "text/plain": [
              "<Figure size 432x288 with 1 Axes>"
            ]
          },
          "metadata": {
            "tags": [],
            "needs_background": "light"
          }
        }
      ]
    },
    {
      "cell_type": "markdown",
      "metadata": {
        "id": "xdcXJMPYuFLH"
      },
      "source": [
        "##### Multidimensional Histograms\n",
        "- Histogram ontop of a scatterplot"
      ]
    },
    {
      "cell_type": "code",
      "metadata": {
        "colab": {
          "base_uri": "https://localhost:8080/"
        },
        "id": "4NxtpkyyvA9C",
        "outputId": "8d880547-99a3-4921-a49f-e8711dcc79b2"
      },
      "source": [
        "matrix_A"
      ],
      "execution_count": null,
      "outputs": [
        {
          "output_type": "execute_result",
          "data": {
            "text/plain": [
              "array([[1, 2, 3, 4, 5],\n",
              "       [0, 5, 3, 1, 2],\n",
              "       [9, 5, 7, 8, 8]])"
            ]
          },
          "metadata": {
            "tags": []
          },
          "execution_count": 40
        }
      ]
    },
    {
      "cell_type": "code",
      "metadata": {
        "colab": {
          "base_uri": "https://localhost:8080/"
        },
        "id": "fHAecSGUvZzG",
        "outputId": "2380bca9-610e-4a1d-83bd-0d7dcc692a09"
      },
      "source": [
        "np.histogram2d(matrix_A[0], matrix_A[1], bins = 4)\n",
        "# The 2D array is the density array\n",
        "# The other 2 are bin edges for each plane "
      ],
      "execution_count": null,
      "outputs": [
        {
          "output_type": "execute_result",
          "data": {
            "text/plain": [
              "(array([[1., 0., 0., 0.],\n",
              "        [0., 0., 0., 1.],\n",
              "        [0., 0., 1., 0.],\n",
              "        [1., 1., 0., 0.]]),\n",
              " array([1., 2., 3., 4., 5.]),\n",
              " array([0.  , 1.25, 2.5 , 3.75, 5.  ]))"
            ]
          },
          "metadata": {
            "tags": []
          },
          "execution_count": 42
        }
      ]
    },
    {
      "cell_type": "markdown",
      "metadata": {
        "id": "QlOm7JJ4wiSb"
      },
      "source": [
        "##### NAN Equivalent Functions in NumPy\n",
        "- The np.mean() does not provide any numeric value when facing INCOMPLETE DATA\n",
        "- SO np.nanmean()\n",
        "- They run while ignoring all NAN values in the data"
      ]
    },
    {
      "cell_type": "code",
      "metadata": {
        "colab": {
          "base_uri": "https://localhost:8080/"
        },
        "id": "GMeDi91bvpHE",
        "outputId": "725049e9-e704-429d-fa1f-b7fc51166d22"
      },
      "source": [
        "# Matrix that has nan \n",
        "matrix_B = np.array([[1,2,3,4,5],[2,5,np.nan,4,7],[7,4,9,7,5]])\n",
        "matrix_B"
      ],
      "execution_count": null,
      "outputs": [
        {
          "output_type": "execute_result",
          "data": {
            "text/plain": [
              "array([[ 1.,  2.,  3.,  4.,  5.],\n",
              "       [ 2.,  5., nan,  4.,  7.],\n",
              "       [ 7.,  4.,  9.,  7.,  5.]])"
            ]
          },
          "metadata": {
            "tags": []
          },
          "execution_count": 43
        }
      ]
    },
    {
      "cell_type": "code",
      "metadata": {
        "colab": {
          "base_uri": "https://localhost:8080/"
        },
        "id": "AlmO6R5WxL3y",
        "outputId": "580a7b6e-51ab-46ea-b8e2-c3bee574a0ed"
      },
      "source": [
        "np.nanmean(matrix_B)"
      ],
      "execution_count": null,
      "outputs": [
        {
          "output_type": "execute_result",
          "data": {
            "text/plain": [
              "4.642857142857143"
            ]
          },
          "metadata": {
            "tags": []
          },
          "execution_count": 44
        }
      ]
    },
    {
      "cell_type": "code",
      "metadata": {
        "colab": {
          "base_uri": "https://localhost:8080/"
        },
        "id": "ewxY9mzXxSFQ",
        "outputId": "85b288b4-ed4b-4c63-c04b-c57c6db70866"
      },
      "source": [
        "# Can also use to other functions, I.E.\n",
        "print(np.nanquantile(matrix_B, 0.7))\n",
        "print(\"\")\n",
        "\n",
        "print(np.nanvar(matrix_B))"
      ],
      "execution_count": null,
      "outputs": [
        {
          "output_type": "stream",
          "text": [
            "5.199999999999999\n",
            "\n",
            "4.801020408163266\n"
          ],
          "name": "stdout"
        }
      ]
    }
  ]
}