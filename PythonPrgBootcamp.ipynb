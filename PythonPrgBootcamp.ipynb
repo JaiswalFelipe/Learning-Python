{
  "nbformat": 4,
  "nbformat_minor": 0,
  "metadata": {
    "colab": {
      "name": "PythonPrgBootcamp.ipynb",
      "provenance": [],
      "collapsed_sections": [
        "nGDdL0FzAJFU",
        "ZaQ0bkc9rWru",
        "kzMg3Kwtejd9",
        "-GXwdUj6rk6P",
        "r8XeN8i9viMv",
        "ltvWICJqwDB3",
        "B5vIJM7OTg2f",
        "Px8tULKp6qw8",
        "JGg-cw_RMOWN",
        "BWXCWzc2QnuY",
        "QzIDZpNlVHSa",
        "I-foEzm3xxy0",
        "Bqdgg8CRAhF2",
        "Rw-N_RqUAlXv",
        "z-MLovKCAo9p",
        "jCBAbCD4bhrg",
        "P2ks5tBD5JMO",
        "ot0kEzxewSuM",
        "nnuqbZr-aFEm",
        "ZQkhZpNJbbZ8",
        "4B6shf5VopcB",
        "kCu9JIQCwJ_w"
      ],
      "mount_file_id": "1kAh5KJOnPj7noVh5_3tYOSdnSOBl9CWt",
      "authorship_tag": "ABX9TyMmXgCtVXc9WMHnA9bn5F4o",
      "include_colab_link": true
    },
    "kernelspec": {
      "name": "python3",
      "display_name": "Python 3"
    },
    "language_info": {
      "name": "python"
    }
  },
  "cells": [
    {
      "cell_type": "markdown",
      "metadata": {
        "id": "view-in-github",
        "colab_type": "text"
      },
      "source": [
        "<a href=\"https://colab.research.google.com/github/JaiswalFelipe/Learning-Python/blob/main/PythonPrgBootcamp.ipynb\" target=\"_parent\"><img src=\"https://colab.research.google.com/assets/colab-badge.svg\" alt=\"Open In Colab\"/></a>"
      ]
    },
    {
      "cell_type": "code",
      "metadata": {
        "id": "wfQHilbCAQs-"
      },
      "source": [
        "#Imports\n",
        "\n",
        "import pandas as pd\n",
        "import numpy as np\n"
      ],
      "execution_count": null,
      "outputs": []
    },
    {
      "cell_type": "code",
      "metadata": {
        "id": "IJO4MXPSAqSA"
      },
      "source": [
        "#for making functions later\n",
        "#this is the allwaste_vs_co2_2012to19\n",
        "dummy_df = pd.read_csv('/content/drive/MyDrive/Colab Notebooks/DataCommonsScotland/Demo/allwaste_vs_co2_2012to19.csv')"
      ],
      "execution_count": null,
      "outputs": []
    },
    {
      "cell_type": "markdown",
      "metadata": {
        "id": "nGDdL0FzAJFU"
      },
      "source": [
        "### **Basics**"
      ]
    },
    {
      "cell_type": "code",
      "metadata": {
        "colab": {
          "base_uri": "https://localhost:8080/"
        },
        "id": "Nvnxj8hl98v0",
        "outputId": "3564c448-1ceb-488f-91fa-e34185fde4d0"
      },
      "source": [
        "#New line in output \"\\n\"\n",
        "print(\"hello \\nworld\")"
      ],
      "execution_count": null,
      "outputs": [
        {
          "output_type": "stream",
          "text": [
            "hello \n",
            "world\n"
          ],
          "name": "stdout"
        }
      ]
    },
    {
      "cell_type": "code",
      "metadata": {
        "colab": {
          "base_uri": "https://localhost:8080/"
        },
        "id": "gcbwdg8A_zOI",
        "outputId": "b63b44b8-ce06-4a98-cc71-ca941017d00c"
      },
      "source": [
        "#Indention \"\\t\"\n",
        "print(\"hello \\n\\tworld\")"
      ],
      "execution_count": null,
      "outputs": [
        {
          "output_type": "stream",
          "text": [
            "hello \n",
            "\tworld\n"
          ],
          "name": "stdout"
        }
      ]
    },
    {
      "cell_type": "code",
      "metadata": {
        "colab": {
          "base_uri": "https://localhost:8080/"
        },
        "id": "EKBnyq-vAm_P",
        "outputId": "440694cc-dd6f-4ce0-c3a9-6d7f60389a17"
      },
      "source": [
        "# \"\\\" serves as an escape character\n",
        "print('how\\'s it going?')\n",
        "\n",
        "# also can be done by using double quotations (\"\") \n",
        "print(\"how's it going?\")"
      ],
      "execution_count": null,
      "outputs": [
        {
          "output_type": "stream",
          "text": [
            "how's it going?\n",
            "how's it going?\n"
          ],
          "name": "stdout"
        }
      ]
    },
    {
      "cell_type": "code",
      "metadata": {
        "colab": {
          "base_uri": "https://localhost:8080/"
        },
        "id": "6RFjaeMoB0II",
        "outputId": "87b2328b-a6c9-43ea-f7fd-6ba8bb21f698"
      },
      "source": [
        "#Print func Exercise\n",
        "print('One, \\'two\\', \\\"three\\\", four, \\\\five\\\\\\n\\tonce,\\'I\\' caught a\\ fish\\n\\t\\t\\'//alive\\\\\\\\\\'')"
      ],
      "execution_count": null,
      "outputs": [
        {
          "output_type": "stream",
          "text": [
            "One, 'two', \"three\", four, \\five\\\n",
            "\tonce,'I' caught a\\ fish\n",
            "\t\t'//alive\\\\'\n"
          ],
          "name": "stdout"
        }
      ]
    },
    {
      "cell_type": "code",
      "metadata": {
        "id": "8xrzgUg5DXnm",
        "colab": {
          "base_uri": "https://localhost:8080/"
        },
        "outputId": "f0d503db-f514-4d85-ea98-f7e7db94a731"
      },
      "source": [
        "#Basic program: calculating are of a circle given the radius\n",
        "radius = float(input('Enter the circle radius \\n'))\n",
        "\n",
        "pi = 3.14159\n",
        "area = pi * radius**2\n",
        "\n",
        "\n",
        "print('You endtered',radius, ', the area of the circle is',area)"
      ],
      "execution_count": null,
      "outputs": [
        {
          "output_type": "stream",
          "text": [
            "Enter the circle radius \n",
            "5\n",
            "You endtered 5.0 , the area of the circle is 78.53975\n"
          ],
          "name": "stdout"
        }
      ]
    },
    {
      "cell_type": "code",
      "metadata": {
        "colab": {
          "base_uri": "https://localhost:8080/"
        },
        "id": "gExC5dRakHjg",
        "outputId": "233310eb-f851-4317-da29-ad8dbd279377"
      },
      "source": [
        "#Converting fahrenheit to celcius\n",
        "\n",
        "far = float(input('Enter temp in fahrenheit \\n'))\n",
        "cel = (far - 32) * 5/9\n",
        "\n",
        "print(far,'fahrenheit in celcius is',cel)"
      ],
      "execution_count": null,
      "outputs": [
        {
          "output_type": "stream",
          "text": [
            "Enter temp in fahrenheit \n",
            "60\n",
            "60.0 fahrenheit in celcius is 15.555555555555555\n"
          ],
          "name": "stdout"
        }
      ]
    },
    {
      "cell_type": "code",
      "metadata": {
        "colab": {
          "base_uri": "https://localhost:8080/"
        },
        "id": "QnTk6EB2mcTP",
        "outputId": "6c7f4024-12b8-494c-a0f7-37f8efbcffb6"
      },
      "source": [
        "#Sum of 2 numbers\n",
        "first_number = int(input('Please enter first number >>> '))\n",
        "second_number = int(input('Please enter second number >>> '))\n",
        "print('the sum of ' + str(first_number) + ' and ' + str(second_number)\n",
        "+ ' is ' + str(first_number + second_number))\n"
      ],
      "execution_count": null,
      "outputs": [
        {
          "output_type": "stream",
          "text": [
            "Please enter first number >>> 23\n",
            "Please enter second number >>> 21\n",
            "the sum of 23 and 21 is 44\n"
          ],
          "name": "stdout"
        }
      ]
    },
    {
      "cell_type": "code",
      "metadata": {
        "colab": {
          "base_uri": "https://localhost:8080/"
        },
        "id": "taYeWAvcnvqi",
        "outputId": "04d0957f-603f-4365-e22d-6129ec68d8f3"
      },
      "source": [
        "#Product\n",
        "num_1 = int(input('Please enter first number >>>'))\n",
        "num_2 = int(input('Please enter second number >>>'))\n",
        "product = num_1 * num_2\n",
        "print('the product of ',num_1, 'and ' ,num_2, 'is ', product)"
      ],
      "execution_count": null,
      "outputs": [
        {
          "output_type": "stream",
          "text": [
            "Please enter first number >>>123\n",
            "Please enter second number >>>123\n",
            "the product of  123 and  123 is  15129\n"
          ],
          "name": "stdout"
        }
      ]
    },
    {
      "cell_type": "markdown",
      "metadata": {
        "id": "ZaQ0bkc9rWru"
      },
      "source": [
        "### **Conditionals**"
      ]
    },
    {
      "cell_type": "code",
      "metadata": {
        "colab": {
          "base_uri": "https://localhost:8080/"
        },
        "id": "tny1Il8NppdL",
        "outputId": "3ea40ef9-0cd6-45d5-bf40-20ff064f756c"
      },
      "source": [
        "grade = float(input('Enter grade \\n'))\n",
        "\n",
        "if grade < 50:\n",
        "  print('your grade ',grade, 'is failed')\n",
        "elif grade >= 50 and grade < 70:\n",
        "  print('your grade ',grade, 'is merit')\n",
        "elif grade >= 70 and grade <= 100:\n",
        "  print('your grade ',grade, 'is distinction')\n",
        "elif grade >= 101:\n",
        "  print('get the fuck oout! lol')\n",
        "else:\n",
        "  print('Please take the exam') \n"
      ],
      "execution_count": null,
      "outputs": [
        {
          "output_type": "stream",
          "text": [
            "Enter grade \n",
            "300\n",
            "get the fuck oout! lol\n"
          ],
          "name": "stdout"
        }
      ]
    },
    {
      "cell_type": "code",
      "metadata": {
        "colab": {
          "base_uri": "https://localhost:8080/"
        },
        "id": "8YPNhNcex4Eu",
        "outputId": "91b2b5be-d1c5-44ce-c2f9-80b4f03ff610"
      },
      "source": [
        "#converting to lower and uppercase\n",
        "my_string = 'Hello World'\n",
        "\n",
        "#print(my_string.upper())\n",
        "print(my_string.lower())"
      ],
      "execution_count": null,
      "outputs": [
        {
          "output_type": "stream",
          "text": [
            "hello world\n"
          ],
          "name": "stdout"
        }
      ]
    },
    {
      "cell_type": "markdown",
      "metadata": {
        "id": "kzMg3Kwtejd9"
      },
      "source": [
        "### **For loops and Lists**"
      ]
    },
    {
      "cell_type": "code",
      "metadata": {
        "id": "CGDT2g2V2soX",
        "colab": {
          "base_uri": "https://localhost:8080/"
        },
        "outputId": "66045e2b-82f5-4c34-d2e7-bd05bf4fdd75"
      },
      "source": [
        "my_list = [1,21,31,41,51,123]\n",
        "\n",
        "for i in range(6):\n",
        "  print(my_list[i])"
      ],
      "execution_count": null,
      "outputs": [
        {
          "output_type": "stream",
          "text": [
            "1\n",
            "21\n",
            "31\n",
            "41\n",
            "51\n",
            "123\n"
          ],
          "name": "stdout"
        }
      ]
    },
    {
      "cell_type": "code",
      "metadata": {
        "colab": {
          "base_uri": "https://localhost:8080/"
        },
        "id": "w0CcZ-aje0RD",
        "outputId": "3ede6c38-7e1d-4030-958b-758f1b6c1b94"
      },
      "source": [
        "#some functions in python\n",
        "data = [32,51,123,546,2131,512,12]\n",
        "\n",
        "print(sorted(data))\n",
        "print(max(data))\n",
        "print(sum(data))"
      ],
      "execution_count": null,
      "outputs": [
        {
          "output_type": "stream",
          "text": [
            "[12, 32, 51, 123, 512, 546, 2131]\n",
            "2131\n",
            "3407\n"
          ],
          "name": "stdout"
        }
      ]
    },
    {
      "cell_type": "code",
      "metadata": {
        "colab": {
          "base_uri": "https://localhost:8080/"
        },
        "id": "2cscBTc7kE4r",
        "outputId": "165657a8-e5fe-4608-c063-95574a9d03dc"
      },
      "source": [
        "#some methods\n",
        "sorted_data = sorted(data)\n",
        "sorted_data.append(3000)\n",
        "sorted_data.extend([4000,5000])\n",
        "sorted_data.remove(12)\n",
        "sorted_data.reverse()\n",
        "\n",
        "sorted_data"
      ],
      "execution_count": null,
      "outputs": [
        {
          "output_type": "execute_result",
          "data": {
            "text/plain": [
              "[5000, 4000, 3000, 2131, 546, 512, 123, 51, 32]"
            ]
          },
          "metadata": {
            "tags": []
          },
          "execution_count": 13
        }
      ]
    },
    {
      "cell_type": "markdown",
      "metadata": {
        "id": "-GXwdUj6rk6P"
      },
      "source": [
        "### **While loop**"
      ]
    },
    {
      "cell_type": "code",
      "metadata": {
        "colab": {
          "base_uri": "https://localhost:8080/"
        },
        "id": "jgx0cg0joCD3",
        "outputId": "62b5cc52-4003-4933-c17f-7a1de7f7ad24"
      },
      "source": [
        "n = 10\n",
        "\n",
        "while n > 0:\n",
        "  print(n)\n",
        "  n = n-1"
      ],
      "execution_count": null,
      "outputs": [
        {
          "output_type": "stream",
          "text": [
            "10\n",
            "9\n",
            "8\n",
            "7\n",
            "6\n",
            "5\n",
            "4\n",
            "3\n",
            "2\n",
            "1\n"
          ],
          "name": "stdout"
        }
      ]
    },
    {
      "cell_type": "code",
      "metadata": {
        "colab": {
          "base_uri": "https://localhost:8080/"
        },
        "id": "OOWA3NzFryct",
        "outputId": "93a34ffe-ca89-4b80-c2d8-0516d330a5e6"
      },
      "source": [
        "count = 0\n",
        "class_names =  []\n",
        "name = input('Please enter name, and type n to stop:')\n",
        "\n",
        "while name != 'n':\n",
        "  count += 1 \n",
        "  class_names.append(name)\n",
        "  print(f'{name} has been added.')             #new print way\n",
        "  name = input('Next name?:')\n",
        "\n",
        "print(f'There are {count} people in the family, they are {class_names}')"
      ],
      "execution_count": null,
      "outputs": [
        {
          "output_type": "stream",
          "text": [
            "Please enter name, and type n to stop:Bunok Seniora\n",
            "Bunok Seniora has been added.\n",
            "Next name?:Bunok 2\n",
            "Bunok 2 has been added.\n",
            "Next name?:Bunok 3\n",
            "Bunok 3 has been added.\n",
            "Next name?:Bunoknok\n",
            "Bunoknok has been added.\n",
            "Next name?:ME\n",
            "ME has been added.\n",
            "Next name?:n\n",
            "There are 5 people in the family, they are ['Bunok Seniora', 'Bunok 2', 'Bunok 3', 'Bunoknok', 'ME']\n"
          ],
          "name": "stdout"
        }
      ]
    },
    {
      "cell_type": "markdown",
      "metadata": {
        "id": "r8XeN8i9viMv"
      },
      "source": [
        "### **modulo %**\n",
        "Gives the remainder"
      ]
    },
    {
      "cell_type": "code",
      "metadata": {
        "colab": {
          "base_uri": "https://localhost:8080/"
        },
        "id": "T-8guEens8C9",
        "outputId": "12d0bba4-92a5-48a2-ce33-5921bd453552"
      },
      "source": [
        "45 % 5"
      ],
      "execution_count": null,
      "outputs": [
        {
          "output_type": "execute_result",
          "data": {
            "text/plain": [
              "0"
            ]
          },
          "metadata": {
            "tags": []
          },
          "execution_count": 19
        }
      ]
    },
    {
      "cell_type": "code",
      "metadata": {
        "colab": {
          "base_uri": "https://localhost:8080/"
        },
        "id": "yRgtvT18v1pf",
        "outputId": "1cd58bd3-fe2d-418e-82db-c80450390d50"
      },
      "source": [
        "110%15"
      ],
      "execution_count": null,
      "outputs": [
        {
          "output_type": "execute_result",
          "data": {
            "text/plain": [
              "5"
            ]
          },
          "metadata": {
            "tags": []
          },
          "execution_count": 21
        }
      ]
    },
    {
      "cell_type": "markdown",
      "metadata": {
        "id": "ltvWICJqwDB3"
      },
      "source": [
        "### **Practical Challenge**"
      ]
    },
    {
      "cell_type": "code",
      "metadata": {
        "colab": {
          "base_uri": "https://localhost:8080/"
        },
        "id": "9IKMOVPmv6XQ",
        "outputId": "dd23c0fc-2784-4a9a-b337-c3ba9a23147d"
      },
      "source": [
        "'''\n",
        "Question 1\n",
        "Ask the user for two numbers between 1 and 100. Then count from the\n",
        "lower number to the higher number. Print the results to the screen.\n",
        "'''\n",
        "\n",
        "num_1 = int(input('Choose number between 1 - 100:> '))\n",
        "num_2 = int(input('Choose number between 1 - 100:> '))\n",
        "\n",
        "while num_1 < 0 and num_2 < 0 or num_1 > 100 and num_2 > 100:\n",
        "  print('Invalid numbers, please try again')\n",
        "  num_1 = int(input('Choose number between 1 - 100:> '))\n",
        "  num_2 = int(input('Choose number between 1 - 100:> '))\n",
        "if num_1 < num_2:\n",
        "  for i in range(num_1,num_2+1):\n",
        "    print(i, end=' ')\n",
        "else:\n",
        "  for i in range(num_2,num_1+1):\n",
        "    print(i, end=' ')\n"
      ],
      "execution_count": null,
      "outputs": [
        {
          "output_type": "stream",
          "text": [
            "Choose number between 1 - 100:> 23\n",
            "Choose number between 1 - 100:> 26\n",
            "23 24 25 26 "
          ],
          "name": "stdout"
        }
      ]
    },
    {
      "cell_type": "code",
      "metadata": {
        "colab": {
          "base_uri": "https://localhost:8080/"
        },
        "id": "qrOhhlWIx-Du",
        "outputId": "a40fec9e-6a97-4faa-c009-03e56ba146f8"
      },
      "source": [
        "'''\n",
        "Question 2\n",
        "Ask the user to input a string and then print it out to the screen in\n",
        "reverse order (use a for loop).\n",
        "'''\n",
        "word = str(input('Enter word: '))\n",
        "\n",
        "print()\n",
        "print(word[::-1])"
      ],
      "execution_count": null,
      "outputs": [
        {
          "output_type": "stream",
          "text": [
            "Enter word: python is fun\n",
            "\n",
            "nuf si nohtyp\n"
          ],
          "name": "stdout"
        }
      ]
    },
    {
      "cell_type": "markdown",
      "metadata": {
        "id": "B5vIJM7OTg2f"
      },
      "source": [
        "### **Dictionaries**"
      ]
    },
    {
      "cell_type": "code",
      "metadata": {
        "id": "0nBM6VuMzwEr"
      },
      "source": [
        "#Python modules\n",
        "#import math        \n",
        "#import random"
      ],
      "execution_count": null,
      "outputs": []
    },
    {
      "cell_type": "code",
      "metadata": {
        "id": "pCy_EkE9Un6X"
      },
      "source": [
        "my_dick = {\"Mine\":\"Big\", \"yours\":\"SMALL\", \"your dad's\":\"MICROSCOPIC LOL\"}"
      ],
      "execution_count": null,
      "outputs": []
    },
    {
      "cell_type": "code",
      "metadata": {
        "colab": {
          "base_uri": "https://localhost:8080/",
          "height": 35
        },
        "id": "r2mgpNaxWlZD",
        "outputId": "8eb8bece-b13d-43c6-b725-57c191417112"
      },
      "source": [
        "my_dick[\"your dad's\"]"
      ],
      "execution_count": null,
      "outputs": [
        {
          "output_type": "execute_result",
          "data": {
            "application/vnd.google.colaboratory.intrinsic+json": {
              "type": "string"
            },
            "text/plain": [
              "'MICROSCOPIC LOL'"
            ]
          },
          "metadata": {
            "tags": []
          },
          "execution_count": 5
        }
      ]
    },
    {
      "cell_type": "code",
      "metadata": {
        "colab": {
          "base_uri": "https://localhost:8080/"
        },
        "id": "qVmKBuzgWoPz",
        "outputId": "ce465e56-3bbc-4e09-f587-7bd022201dca"
      },
      "source": [
        "print(my_dick.items())\n",
        "print(my_dick.keys())\n",
        "print(my_dick.values())"
      ],
      "execution_count": null,
      "outputs": [
        {
          "output_type": "stream",
          "text": [
            "dict_items([('Mine', 'Big'), ('yours', 'SMALL'), (\"your dad's\", 'MICROSCOPIC LOL')])\n",
            "dict_keys(['Mine', 'yours', \"your dad's\"])\n",
            "dict_values(['Big', 'SMALL', 'MICROSCOPIC LOL'])\n"
          ],
          "name": "stdout"
        }
      ]
    },
    {
      "cell_type": "code",
      "metadata": {
        "colab": {
          "base_uri": "https://localhost:8080/"
        },
        "id": "RMu6c64qXDmA",
        "outputId": "e2f8a9d7-1b0a-4b9e-c38e-8d42d40af630"
      },
      "source": [
        "#Standard way = we iterate over the key\n",
        "for dick in my_dick:\n",
        "  print(dick)"
      ],
      "execution_count": null,
      "outputs": [
        {
          "output_type": "stream",
          "text": [
            "Mine\n",
            "yours\n",
            "your dad's\n"
          ],
          "name": "stdout"
        }
      ]
    },
    {
      "cell_type": "code",
      "metadata": {
        "colab": {
          "base_uri": "https://localhost:8080/"
        },
        "id": "Me1ryW6kXkIC",
        "outputId": "1d5e09f7-cf7e-4f6a-a00a-00816c2826f2"
      },
      "source": [
        "#Iterate over the key,value pairs too\n",
        "for k,v in my_dick.items():\n",
        "  print(f'kind of dicks= {k} is {v}')"
      ],
      "execution_count": null,
      "outputs": [
        {
          "output_type": "stream",
          "text": [
            "kind of dicks= Mine is Big\n",
            "kind of dicks= yours is SMALL\n",
            "kind of dicks= your dad's is MICROSCOPIC LOL\n"
          ],
          "name": "stdout"
        }
      ]
    },
    {
      "cell_type": "code",
      "metadata": {
        "colab": {
          "base_uri": "https://localhost:8080/"
        },
        "id": "pEQV_0S6YOZ5",
        "outputId": "3634415b-8c04-49cd-a91c-01d900b05658"
      },
      "source": [
        "#checking for a particular key in a dic\n",
        "if 'Mine' in my_dick:\n",
        "  print('yes')"
      ],
      "execution_count": null,
      "outputs": [
        {
          "output_type": "stream",
          "text": [
            "yes\n"
          ],
          "name": "stdout"
        }
      ]
    },
    {
      "cell_type": "markdown",
      "metadata": {
        "id": "Px8tULKp6qw8"
      },
      "source": [
        "### **Zip function**"
      ]
    },
    {
      "cell_type": "code",
      "metadata": {
        "id": "fuXV2CSvaona",
        "colab": {
          "base_uri": "https://localhost:8080/"
        },
        "outputId": "54d33310-3c2b-496d-c072-585561fe2c71"
      },
      "source": [
        "# Zip function\n",
        "my_list_1 = [1,2,3,4,5]\n",
        "my_list_2 = [\"a\",\"b\",\"c\",\"d\",\"e\"]\n",
        "\n",
        "joined = list(zip(my_list_1, my_list_2))\n",
        "\n",
        "joined"
      ],
      "execution_count": null,
      "outputs": [
        {
          "output_type": "execute_result",
          "data": {
            "text/plain": [
              "[(1, 'a'), (2, 'b'), (3, 'c'), (4, 'd'), (5, 'e')]"
            ]
          },
          "metadata": {
            "tags": []
          },
          "execution_count": 15
        }
      ]
    },
    {
      "cell_type": "code",
      "metadata": {
        "colab": {
          "base_uri": "https://localhost:8080/"
        },
        "id": "JTIhdFAR3Duy",
        "outputId": "76f17593-ca8c-46f8-fdc4-acc519e2cc71"
      },
      "source": [
        "#Unpacking using ZIP\n",
        "i, j = zip(*joined)\n",
        "\n",
        "print(i)\n",
        "print(j)"
      ],
      "execution_count": null,
      "outputs": [
        {
          "output_type": "stream",
          "text": [
            "(1, 2, 3, 4, 5)\n",
            "('a', 'b', 'c', 'd', 'e')\n"
          ],
          "name": "stdout"
        }
      ]
    },
    {
      "cell_type": "code",
      "metadata": {
        "colab": {
          "base_uri": "https://localhost:8080/"
        },
        "id": "R_Lmxypq6zy-",
        "outputId": "bfc6ff31-6c86-447d-dcd3-65b1eed98582"
      },
      "source": [
        "#.split()\n",
        "stringy = \"Hello ! My name is blab bla bla\"\n",
        "sample_split = stringy.split(' ')\n",
        "\n",
        "print(sample_split)"
      ],
      "execution_count": null,
      "outputs": [
        {
          "output_type": "stream",
          "text": [
            "['Hello', '!', 'My', 'name', 'is', 'blab', 'bla', 'bla']\n"
          ],
          "name": "stdout"
        }
      ]
    },
    {
      "cell_type": "code",
      "metadata": {
        "colab": {
          "base_uri": "https://localhost:8080/"
        },
        "id": "KesROozIK3uF",
        "outputId": "3a5eda45-9e0f-4f0a-f3bd-f83dc9b74c91"
      },
      "source": [
        "#.strip\n",
        "for i in range(len(sample_split)):\n",
        "  sample_split[i] = sample_split[i].strip('\\n')   #removes new line char (not present in this case)\n",
        "\n",
        "print(sample_split)"
      ],
      "execution_count": null,
      "outputs": [
        {
          "output_type": "stream",
          "text": [
            "['Hello', '!', 'My', 'name', 'is', 'blab', 'bla', 'bla']\n"
          ],
          "name": "stdout"
        }
      ]
    },
    {
      "cell_type": "markdown",
      "metadata": {
        "id": "JGg-cw_RMOWN"
      },
      "source": [
        "### **Summary**\n",
        "- List = MUTABLE\n",
        "- Dict = MUTABLE (WHEN YOU WANT TO MATCH KEYS TO VALUES\n",
        "- TUPLES = IMMUTABLE\n",
        "- Strings = IMMUTABLE\n",
        "- SETS = MUTABLE (UNIQUE VALS)"
      ]
    },
    {
      "cell_type": "code",
      "metadata": {
        "colab": {
          "base_uri": "https://localhost:8080/"
        },
        "id": "TQy1YfDULpxA",
        "outputId": "ec156d3d-6b85-4c4e-8523-7c45864bcf8f"
      },
      "source": [
        "#Add extra dimensions to Lists and Dicts\n",
        "\n",
        "another_list = [[1,2,3], [4,5,6], [7,8,9]]\n",
        "\n",
        "print(another_list[2])\n",
        "print(another_list[2][1])\n"
      ],
      "execution_count": null,
      "outputs": [
        {
          "output_type": "stream",
          "text": [
            "[7, 8, 9]\n",
            "8\n"
          ],
          "name": "stdout"
        }
      ]
    },
    {
      "cell_type": "code",
      "metadata": {
        "id": "83dV7kvzOGZc"
      },
      "source": [
        "#Dict\n",
        "countries = {\"Norway\":{\"Capital\": \"Oslo\", \"Lang\": \"Norwegian\"}, \"UK\":{\"Capital\":\"London\", \"Lang\": \"English\"}}"
      ],
      "execution_count": null,
      "outputs": []
    },
    {
      "cell_type": "code",
      "metadata": {
        "colab": {
          "base_uri": "https://localhost:8080/"
        },
        "id": "9KjSCXb7PJQy",
        "outputId": "30cdf56e-db9a-4013-e2da-9b9b816682cc"
      },
      "source": [
        "countries['Norway']"
      ],
      "execution_count": null,
      "outputs": [
        {
          "output_type": "execute_result",
          "data": {
            "text/plain": [
              "{'Capital': 'Oslo', 'Lang': 'Norwegian'}"
            ]
          },
          "metadata": {
            "tags": []
          },
          "execution_count": 27
        }
      ]
    },
    {
      "cell_type": "code",
      "metadata": {
        "colab": {
          "base_uri": "https://localhost:8080/"
        },
        "id": "B13d_cedPSUP",
        "outputId": "8a88e425-a09c-4b26-cc8a-ebdf30522380"
      },
      "source": [
        "for key, value in countries.items():\n",
        "  print(key,value)"
      ],
      "execution_count": null,
      "outputs": [
        {
          "output_type": "stream",
          "text": [
            "Norway {'Capital': 'Oslo', 'Lang': 'Norwegian'}\n",
            "UK {'Capital': 'London', 'Lang': 'English'}\n"
          ],
          "name": "stdout"
        }
      ]
    },
    {
      "cell_type": "code",
      "metadata": {
        "colab": {
          "base_uri": "https://localhost:8080/"
        },
        "id": "TAN6bktfPc4W",
        "outputId": "222b8660-1c55-4bba-fb1d-d155fe1a7cb3"
      },
      "source": [
        "#Access info from nested dict\n",
        "for key, value in countries.items():\n",
        "  print(f'{value[\"Capital\"]} is the capital of {key}, they speak {value[\"Lang\"]}')"
      ],
      "execution_count": null,
      "outputs": [
        {
          "output_type": "stream",
          "text": [
            "Oslo is the capital of Norway, they speak Norwegian\n",
            "London is the capital of UK, they speak English\n"
          ],
          "name": "stdout"
        }
      ]
    },
    {
      "cell_type": "markdown",
      "metadata": {
        "id": "BWXCWzc2QnuY"
      },
      "source": [
        "### **Import counters** and **Comprehensions**"
      ]
    },
    {
      "cell_type": "code",
      "metadata": {
        "id": "0PPMd6B6QtPu"
      },
      "source": [
        "from collections import Counter"
      ],
      "execution_count": null,
      "outputs": []
    },
    {
      "cell_type": "code",
      "metadata": {
        "colab": {
          "base_uri": "https://localhost:8080/"
        },
        "id": "IyLMEshhQ3gY",
        "outputId": "c7ec47fe-ad70-4319-dd30-195aab3c89fb"
      },
      "source": [
        "#stringy = \"Hello ! My name is blab bla bla\"\n",
        "print(Counter(stringy.lower()))"
      ],
      "execution_count": null,
      "outputs": [
        {
          "output_type": "stream",
          "text": [
            "Counter({' ': 7, 'l': 5, 'a': 4, 'b': 4, 'e': 2, 'm': 2, 'h': 1, 'o': 1, '!': 1, 'y': 1, 'n': 1, 'i': 1, 's': 1})\n"
          ],
          "name": "stdout"
        }
      ]
    },
    {
      "cell_type": "code",
      "metadata": {
        "colab": {
          "base_uri": "https://localhost:8080/"
        },
        "id": "7Xtf692URMY1",
        "outputId": "44bd094e-1158-4446-d4b4-9d6b61633438"
      },
      "source": [
        "#to dict\n",
        "new_dict = dict(Counter(stringy.lower()))\n",
        "\n",
        "new_dict"
      ],
      "execution_count": null,
      "outputs": [
        {
          "output_type": "execute_result",
          "data": {
            "text/plain": [
              "{' ': 7,\n",
              " '!': 1,\n",
              " 'a': 4,\n",
              " 'b': 4,\n",
              " 'e': 2,\n",
              " 'h': 1,\n",
              " 'i': 1,\n",
              " 'l': 5,\n",
              " 'm': 2,\n",
              " 'n': 1,\n",
              " 'o': 1,\n",
              " 's': 1,\n",
              " 'y': 1}"
            ]
          },
          "metadata": {
            "tags": []
          },
          "execution_count": 33
        }
      ]
    },
    {
      "cell_type": "code",
      "metadata": {
        "colab": {
          "base_uri": "https://localhost:8080/"
        },
        "id": "GuHHzIPTR0gI",
        "outputId": "0ae144c0-fc54-4beb-ccd5-e6aa88d6b071"
      },
      "source": [
        "#Dictionary Comprehension\n",
        "another_dict = {k:v for k,v in new_dict.items() if k.isalpha()} #alphanumeric\n",
        "\n",
        "another_dict"
      ],
      "execution_count": null,
      "outputs": [
        {
          "output_type": "execute_result",
          "data": {
            "text/plain": [
              "{'a': 4,\n",
              " 'b': 4,\n",
              " 'e': 2,\n",
              " 'h': 1,\n",
              " 'i': 1,\n",
              " 'l': 5,\n",
              " 'm': 2,\n",
              " 'n': 1,\n",
              " 'o': 1,\n",
              " 's': 1,\n",
              " 'y': 1}"
            ]
          },
          "metadata": {
            "tags": []
          },
          "execution_count": 38
        }
      ]
    },
    {
      "cell_type": "code",
      "metadata": {
        "colab": {
          "base_uri": "https://localhost:8080/"
        },
        "id": "gflHg_v5Satm",
        "outputId": "84bba66e-5cfa-4f45-b837-8da0262e35a7"
      },
      "source": [
        "#Noob way\n",
        "M = []\n",
        "for x in range(1,11):\n",
        " M.append(x**2)\n",
        "\n",
        "print(M)\n",
        "print()\n",
        "\n",
        "#List Comprehension: PYTHONIC WAY\n",
        "m = [x**2 for x in range(1,11)]\n",
        "\n",
        "print(m)"
      ],
      "execution_count": null,
      "outputs": [
        {
          "output_type": "stream",
          "text": [
            "[1, 4, 9, 16, 25, 36, 49, 64, 81, 100]\n",
            "\n",
            "[1, 4, 9, 16, 25, 36, 49, 64, 81, 100]\n"
          ],
          "name": "stdout"
        }
      ]
    },
    {
      "cell_type": "markdown",
      "metadata": {
        "id": "QzIDZpNlVHSa"
      },
      "source": [
        "### **SOME PRACTICAL**\n",
        "- Fibonacci\n",
        "- datetime"
      ]
    },
    {
      "cell_type": "code",
      "metadata": {
        "colab": {
          "base_uri": "https://localhost:8080/"
        },
        "id": "FhhVDE7nTaGq",
        "outputId": "9f3a4fed-4a02-4933-f342-933ab92f0533"
      },
      "source": [
        "#Write a python code that will create a dictionary kontaining key, value pairs that represent the\n",
        "#first 12 values of the Fibonacci sequence\n",
        "\n",
        "n = 12\n",
        "a = 0\n",
        "b = 1\n",
        "d = dict()\n",
        "for i in range(1,n+1):\n",
        "  d[i] = a\n",
        "  a,b = b, a+b\n",
        "\n",
        "print(d)"
      ],
      "execution_count": null,
      "outputs": [
        {
          "output_type": "stream",
          "text": [
            "{1: 0, 2: 1, 3: 1, 4: 2, 5: 3, 6: 5, 7: 8, 8: 13, 9: 21, 10: 34, 11: 55, 12: 89}\n"
          ],
          "name": "stdout"
        }
      ]
    },
    {
      "cell_type": "code",
      "metadata": {
        "colab": {
          "base_uri": "https://localhost:8080/"
        },
        "id": "uQzySNoaW8xe",
        "outputId": "6eebd547-77ac-48ef-d1f1-5775ad356972"
      },
      "source": [
        "#Date Time\n",
        "import datetime\n",
        "\n",
        "today = datetime.date.today()\n",
        "xmas = datetime.date(2021,12,25)\n",
        "delta = xmas - today\n",
        "\n",
        "print(f'Just {delta.days} days until Christmas!')"
      ],
      "execution_count": null,
      "outputs": [
        {
          "output_type": "stream",
          "text": [
            "Just 195 days until Christmas!\n"
          ],
          "name": "stdout"
        }
      ]
    },
    {
      "cell_type": "markdown",
      "metadata": {
        "id": "I-foEzm3xxy0"
      },
      "source": [
        "### **Files and Functions**"
      ]
    },
    {
      "cell_type": "markdown",
      "metadata": {
        "id": "Bqdgg8CRAhF2"
      },
      "source": [
        "##### Write"
      ]
    },
    {
      "cell_type": "code",
      "metadata": {
        "id": "shF2AljkY1M2"
      },
      "source": [
        "#Write on files, or create\n",
        "f = open('Kate.txt','w')"
      ],
      "execution_count": null,
      "outputs": []
    },
    {
      "cell_type": "code",
      "metadata": {
        "id": "NkOToFsgzY8t"
      },
      "source": [
        "f.write('I don\\'t really know how many roadblocks there is, \\n')\n",
        "\n",
        "f.write('I can\\'t really count how many people are against us, \\n')\n",
        "\n",
        "f.write('I don\\'t really know how many times these will try to break us apart, \\n')\n",
        "\n",
        "f.write('But I only know one thing, \\n')\n",
        "\n",
        "f.write('I\\'ll jump off the plane at any height if you hold my hand.')\n",
        "\n",
        "f.close()"
      ],
      "execution_count": null,
      "outputs": []
    },
    {
      "cell_type": "markdown",
      "metadata": {
        "id": "Rw-N_RqUAlXv"
      },
      "source": [
        "##### Read"
      ]
    },
    {
      "cell_type": "code",
      "metadata": {
        "colab": {
          "base_uri": "https://localhost:8080/"
        },
        "id": "aVYfo0SK1JVg",
        "outputId": "c2dfa592-f766-4e71-a5d7-cadd9340e1e4"
      },
      "source": [
        "r = open('/content/Kate.txt','r')\n",
        "\n",
        "print(r.read())   #Read all lines\n",
        "r.close()"
      ],
      "execution_count": null,
      "outputs": [
        {
          "output_type": "stream",
          "text": [
            "I don't really know how many roadblocks there is, \n",
            "I can't really count how many people are against us, \n",
            "I don't really know how many times these will try to break us apart, \n",
            "But I only know one thing, \n",
            "I'll jump off the plane at any height if you hold my hand.\n"
          ],
          "name": "stdout"
        }
      ]
    },
    {
      "cell_type": "code",
      "metadata": {
        "colab": {
          "base_uri": "https://localhost:8080/"
        },
        "id": "fCFMp3jz1Kgc",
        "outputId": "ecbd6711-d9e2-4a24-a559-63aa4d1d8626"
      },
      "source": [
        "r = open('/content/Kate.txt','r')\n",
        "\n",
        "print(r.readline())  #Line by line (first line)\n",
        "r.close()"
      ],
      "execution_count": null,
      "outputs": [
        {
          "output_type": "stream",
          "text": [
            "I don't really know how many roadblocks there is, \n",
            "\n"
          ],
          "name": "stdout"
        }
      ]
    },
    {
      "cell_type": "code",
      "metadata": {
        "colab": {
          "base_uri": "https://localhost:8080/"
        },
        "id": "yv0sjsnj3CMH",
        "outputId": "d351abca-c1cd-4175-d727-50164097014d"
      },
      "source": [
        "r = open('/content/Kate.txt','r')\n",
        "\n",
        "content = r.readlines()   #lines put into a list (assigned to a variable)\n",
        "print(content)  \n",
        "\n",
        "r.close()"
      ],
      "execution_count": null,
      "outputs": [
        {
          "output_type": "stream",
          "text": [
            "[\"I don't really know how many roadblocks there is, \\n\", \"I can't really count how many people are against us, \\n\", \"I don't really know how many times these will try to break us apart, \\n\", 'But I only know one thing, \\n', \"I'll jump off the plane at any height if you hold my hand.\"]\n"
          ],
          "name": "stdout"
        }
      ]
    },
    {
      "cell_type": "markdown",
      "metadata": {
        "id": "z-MLovKCAo9p"
      },
      "source": [
        "##### Append"
      ]
    },
    {
      "cell_type": "code",
      "metadata": {
        "id": "LthpL8hK3psw"
      },
      "source": [
        " f = open('/content/Kate.txt', 'a')\n",
        "\n",
        " f.write('\\n You\\'ve told me about the hell-loop you went through, \\n')\n",
        "\n",
        " f.write('and the one that you still walk into, \\n')\n",
        "\n",
        " f.write('Come with me and share with mine, I will carry you through. \\n')\n",
        "\n",
        " f.write('A better husband, I cannot promise, \\n')\n",
        "\n",
        " f.write('But a husband, in this life-time and the nexts')\n",
        "\n",
        " f.close()"
      ],
      "execution_count": null,
      "outputs": []
    },
    {
      "cell_type": "code",
      "metadata": {
        "id": "VfN4lN2YZXKk"
      },
      "source": [
        "#Efficient way (with open)\n",
        "with open ('/content/Kate.txt','r') as f:\n",
        "  for line in f.readlines():\n",
        "    print(line,end='')"
      ],
      "execution_count": null,
      "outputs": []
    },
    {
      "cell_type": "markdown",
      "metadata": {
        "id": "jCBAbCD4bhrg"
      },
      "source": [
        "#### **Functions**\n",
        "**THE CONCEPT OF ABSTRACTION**\n",
        "- Additional: Use of \"*\" as part of the argument"
      ]
    },
    {
      "cell_type": "code",
      "metadata": {
        "colab": {
          "base_uri": "https://localhost:8080/"
        },
        "id": "L9QYlpTJbkyr",
        "outputId": "3e52b76b-7d4b-44c2-9088-392967ee8526"
      },
      "source": [
        "def hello():\n",
        "   print('hello world')\n",
        "\n",
        "hello()"
      ],
      "execution_count": null,
      "outputs": [
        {
          "output_type": "stream",
          "text": [
            "hello world\n"
          ],
          "name": "stdout"
        }
      ]
    },
    {
      "cell_type": "code",
      "metadata": {
        "colab": {
          "base_uri": "https://localhost:8080/"
        },
        "id": "ekuYJr_lfRUn",
        "outputId": "e37f148a-2e5f-47c3-fe54-773ada783175"
      },
      "source": [
        "for i in range(5):\n",
        "  hello()"
      ],
      "execution_count": null,
      "outputs": [
        {
          "output_type": "stream",
          "text": [
            "hello world\n",
            "hello world\n",
            "hello world\n",
            "hello world\n",
            "hello world\n"
          ],
          "name": "stdout"
        }
      ]
    },
    {
      "cell_type": "code",
      "metadata": {
        "colab": {
          "base_uri": "https://localhost:8080/"
        },
        "id": "h1Z_ByYafgRT",
        "outputId": "a248c5ec-1eee-4d0b-b09a-01f4c52aa9d6"
      },
      "source": [
        "#Function with argument\n",
        "def hi(name):\n",
        "  print(f'Hello, {name}!')\n",
        "\n",
        "hi('Kate')"
      ],
      "execution_count": null,
      "outputs": [
        {
          "output_type": "stream",
          "text": [
            "Hello, Kate!\n"
          ],
          "name": "stdout"
        }
      ]
    },
    {
      "cell_type": "code",
      "metadata": {
        "colab": {
          "base_uri": "https://localhost:8080/"
        },
        "id": "4rilIvkFggsL",
        "outputId": "48d9ccbd-8538-4f13-87b9-1dd6ec3eeb8c"
      },
      "source": [
        "#Keyword argument\n",
        "def hi_2(name='Kate'):\n",
        "  print(f'I love, {name}')\n",
        "\n",
        "#hi_2()   #WILL DEFAULT TO 'Kate' if left empty)\n",
        "hi_2('Eunice')"
      ],
      "execution_count": null,
      "outputs": [
        {
          "output_type": "stream",
          "text": [
            "I love, Eunice\n"
          ],
          "name": "stdout"
        }
      ]
    },
    {
      "cell_type": "code",
      "metadata": {
        "id": "ntQS5rCrhF4p"
      },
      "source": [
        "#Fibbo in function\n",
        "def fib(n):     #Header\n",
        "\n",
        "  a = 0         #Body of the function which calcus the fibo sequence\n",
        "  b = 1\n",
        "  for i in range(n):\n",
        "    a,b = b,a+b\n",
        "  return a"
      ],
      "execution_count": null,
      "outputs": []
    },
    {
      "cell_type": "code",
      "metadata": {
        "colab": {
          "base_uri": "https://localhost:8080/"
        },
        "id": "3YCuQf_cjOVX",
        "outputId": "c40e33e5-749c-4289-9c41-ce25654da098"
      },
      "source": [
        "fib_num = fib(25)  #put the func into a variable; here \"n\" is 20\n",
        "print(fib_num)"
      ],
      "execution_count": null,
      "outputs": [
        {
          "output_type": "stream",
          "text": [
            "75025\n"
          ],
          "name": "stdout"
        }
      ]
    },
    {
      "cell_type": "code",
      "metadata": {
        "colab": {
          "base_uri": "https://localhost:8080/"
        },
        "id": "yK3leGCBkbQE",
        "outputId": "a507db4e-dbb2-4800-fc36-59681817ffcb"
      },
      "source": [
        "#Put function into a for loop\n",
        "for i in range(20):\n",
        "  print(fib(i))"
      ],
      "execution_count": null,
      "outputs": [
        {
          "output_type": "stream",
          "text": [
            "0\n",
            "1\n",
            "1\n",
            "2\n",
            "3\n",
            "5\n",
            "8\n",
            "13\n",
            "21\n",
            "34\n",
            "55\n",
            "89\n",
            "144\n",
            "233\n",
            "377\n",
            "610\n",
            "987\n",
            "1597\n",
            "2584\n",
            "4181\n"
          ],
          "name": "stdout"
        }
      ]
    },
    {
      "cell_type": "code",
      "metadata": {
        "id": "Uc-p_eUrkpYj"
      },
      "source": [
        "#Using Docstring '''\n",
        "def fib(n):     #Header\n",
        "  '''\n",
        "  Here is a Docstring to explain what the function does;\n",
        "  So here calculates and returns the nth fib\n",
        "  '''\n",
        "  a = 0         #Body of the function which calcus the fibo sequence\n",
        "  b = 1\n",
        "  for i in range(n):\n",
        "    a,b = b,a+b\n",
        "  return a"
      ],
      "execution_count": null,
      "outputs": []
    },
    {
      "cell_type": "code",
      "metadata": {
        "colab": {
          "base_uri": "https://localhost:8080/"
        },
        "id": "7pU5KKjXlIJW",
        "outputId": "b7a82630-dd96-4224-d722-4f37bd61313f"
      },
      "source": [
        "#Using * which means if we don't exactly know how many inputs are we passing to our function, please still calculate/handle it\n",
        "\n",
        "def calc_mean(first, *remainder): #remainder will be a tuple\n",
        "  '''\n",
        "  This calculates the mean of numbers\n",
        "  '''\n",
        "  mean = (first + sum(remainder))/ (1 + len(remainder))\n",
        "  print(type(remainder))\n",
        "  return mean\n",
        "\n",
        "print(calc_mean(23,42,67,123,53,66,1234)) #You can make this how long you want because we used *\n"
      ],
      "execution_count": null,
      "outputs": [
        {
          "output_type": "stream",
          "text": [
            "<class 'tuple'>\n",
            "229.71428571428572\n"
          ],
          "name": "stdout"
        }
      ]
    },
    {
      "cell_type": "code",
      "metadata": {
        "id": "MyFZyFFwmc5-"
      },
      "source": [
        "#Recursion: Functions ability to call themselves\n",
        "#Can be computationally expensive!!!"
      ],
      "execution_count": null,
      "outputs": []
    },
    {
      "cell_type": "markdown",
      "metadata": {
        "id": "P2ks5tBD5JMO"
      },
      "source": [
        "### **Classes**"
      ]
    },
    {
      "cell_type": "markdown",
      "metadata": {
        "id": "ot0kEzxewSuM"
      },
      "source": [
        "##### Basics"
      ]
    },
    {
      "cell_type": "code",
      "metadata": {
        "id": "m9LJ6GW95M4I"
      },
      "source": [
        "#Class\n",
        "class Patient(object):\n",
        "  '''Medical centre patient'''\n",
        "\n",
        "  #Method: function inside a class\n",
        "  #__init__ function: Create variables which contains vals for each instance of the object(Patient)\n",
        "  #Constructor: Constructs and initializes the variables below and takes these args: (self,name,age)\n",
        "  #Placeholder 'self' means we don't know the name of the object that the class is going to create because that's up to the user\n",
        "  #But whatever it's called we want these values \"name,age\" be equal to the variables below\n",
        "  def __init__(self,name,age):\n",
        "\n",
        "    self.name = name     #Creates a var called name\n",
        "    self.age = age   "
      ],
      "execution_count": null,
      "outputs": []
    },
    {
      "cell_type": "code",
      "metadata": {
        "colab": {
          "base_uri": "https://localhost:8080/"
        },
        "id": "bHOdGxsCOe7f",
        "outputId": "9e63dc19-cedc-450a-afa6-998a6eeac2c1"
      },
      "source": [
        "Kate = Patient('Kate Felipe',23)\n",
        "jb = Patient('JB Felipe',27)\n",
        "\n",
        "print(Kate.name)\n",
        "print(Kate.age)\n",
        "print(jb.name)\n",
        "print(jb.age)"
      ],
      "execution_count": null,
      "outputs": [
        {
          "output_type": "stream",
          "text": [
            "Kate Felipe\n",
            "23\n",
            "JB Felipe\n",
            "27\n"
          ],
          "name": "stdout"
        }
      ]
    },
    {
      "cell_type": "markdown",
      "metadata": {
        "id": "nnuqbZr-aFEm"
      },
      "source": [
        "##### Class Variables"
      ]
    },
    {
      "cell_type": "code",
      "metadata": {
        "id": "peQdDyf9QU2R"
      },
      "source": [
        "class Patient(object):\n",
        "  '''Medical centre patient'''\n",
        "\n",
        "  status = 'patient'    #This is the class variable\n",
        " \n",
        "  def __init__(self,name,age):\n",
        "\n",
        "    self.name = name    \n",
        "    self.age = age   \n",
        "\n",
        "Kate = Patient('Kate Felipe',23)\n",
        "jb = Patient('JB Felipe',27)   "
      ],
      "execution_count": null,
      "outputs": []
    },
    {
      "cell_type": "code",
      "metadata": {
        "colab": {
          "base_uri": "https://localhost:8080/",
          "height": 35
        },
        "id": "KXTkws2Ca1OY",
        "outputId": "69f78ddd-80a8-4cfd-c346-3e70ffa41b7e"
      },
      "source": [
        "#Using the class variable\n",
        "Kate.status"
      ],
      "execution_count": null,
      "outputs": [
        {
          "output_type": "execute_result",
          "data": {
            "application/vnd.google.colaboratory.intrinsic+json": {
              "type": "string"
            },
            "text/plain": [
              "'patient'"
            ]
          },
          "metadata": {
            "tags": []
          },
          "execution_count": 17
        }
      ]
    },
    {
      "cell_type": "markdown",
      "metadata": {
        "id": "ZQkhZpNJbbZ8"
      },
      "source": [
        "##### Methods\n",
        "- function inside a class is called a method"
      ]
    },
    {
      "cell_type": "code",
      "metadata": {
        "id": "wtbpe-dpa4Lt"
      },
      "source": [
        "class Patient(object):\n",
        "  '''Medical centre patient'''\n",
        "\n",
        "  status = 'patient'    #This is the class variable\n",
        " \n",
        "  def __init__(self,name,age):  #This is a method\n",
        "\n",
        "    self.name = name    \n",
        "    self.age = age   \n",
        "  \n",
        "  def get_details(self):    #THIS IS THE NEW METHOD TO DEMONSTRATE\n",
        "    print(f'Patient record: {self.name}, {self.age} years.')\n",
        "\n",
        "Kate = Patient('Kate Felipe',23)\n",
        "jb = Patient('JB Felipe',27) "
      ],
      "execution_count": null,
      "outputs": []
    },
    {
      "cell_type": "code",
      "metadata": {
        "colab": {
          "base_uri": "https://localhost:8080/"
        },
        "id": "hGntAjFNci3v",
        "outputId": "52b30472-234d-4537-bae6-0be30b444b2c"
      },
      "source": [
        "#Using the method above \"get_details\"\n",
        "Kate.get_details()"
      ],
      "execution_count": null,
      "outputs": [
        {
          "output_type": "stream",
          "text": [
            "Patient record: Kate Felipe, 23 years.\n"
          ],
          "name": "stdout"
        }
      ]
    },
    {
      "cell_type": "code",
      "metadata": {
        "id": "4RM4p3oacmWl"
      },
      "source": [
        "class Patient(object):\n",
        "  '''Medical centre patient'''\n",
        "\n",
        "  status = 'patient'    \n",
        " \n",
        "  def __init__(self,name,age):  \n",
        "\n",
        "    self.name = name    \n",
        "    self.age = age \n",
        "    self.conditions = []   #New variable; an empty list\n",
        "  \n",
        "  def get_details(self):    \n",
        "    print(f'Patient record: {self.name}, {self.age} years.' \\\n",
        "          f'Current information: {self.conditions}.')   #remember to include the content of \"self.conditions\" variable\n",
        "\n",
        "  def add_info(self,information):   #New method\n",
        "    self.conditions.append(information) #will refer to the empty list\n",
        "\n",
        "Kate = Patient('Kate Felipe',23)\n",
        "jb = Patient('JB Felipe',27) "
      ],
      "execution_count": null,
      "outputs": []
    },
    {
      "cell_type": "code",
      "metadata": {
        "id": "vszvPnGKm7M4"
      },
      "source": [
        "#Using the \"add_info\" method\n",
        "Kate.add_info(\"JB Felipe's wife\")"
      ],
      "execution_count": null,
      "outputs": []
    },
    {
      "cell_type": "code",
      "metadata": {
        "colab": {
          "base_uri": "https://localhost:8080/"
        },
        "id": "v2U-CjIznKwD",
        "outputId": "6de42e70-925f-4128-d5ec-ae4966a83289"
      },
      "source": [
        "#Testing\n",
        "Kate.get_details()"
      ],
      "execution_count": null,
      "outputs": [
        {
          "output_type": "stream",
          "text": [
            "Patient record: Kate Felipe, 23 years.Current information: [\"JB Felipe's wife\"].\n"
          ],
          "name": "stdout"
        }
      ]
    },
    {
      "cell_type": "markdown",
      "metadata": {
        "id": "4B6shf5VopcB"
      },
      "source": [
        "##### Inheritance\n",
        "- Create new classes that are derived from other classes\n",
        "- These new classes become the \"Child\" classes of the \"Parent\" Classes from which they're derived."
      ]
    },
    {
      "cell_type": "code",
      "metadata": {
        "id": "h9QSoZFBnPk5"
      },
      "source": [
        "#\"Patient\" is the parent class from code above, and \"Infant\" a child class of class \"Patient\"\n",
        "#\"Infant\" class will INHERIT everything from \"Patient\" class \n",
        "class Infant(Patient):\n",
        "  ''' Attributes\n",
        "      ----------\n",
        "      name: Patient name\n",
        "      age: Patient age\n",
        "      conditions: Existing medical conditions\n",
        "  '''\n",
        "\n",
        "  def __init__(self,name,age):\n",
        "    self.vaccinations = []   #new variable for this class\n",
        "    #super() function searches the parent class for this command \"__init__(name,age)\"\n",
        "    #It initialises the variables from the parent class\n",
        "    super().__init__(name,age)  \n",
        "\n",
        "  def add_vac(self,vaccine):\n",
        "    self.vaccinations.append(vaccine)\n",
        "\n",
        "  def get_details(self):\n",
        "    print(f'Patient record: {self.name}, {self.age} years.' \\\n",
        "          f'Patient has had: {self.vaccinations} vaccines.' \\\n",
        "          f'Current Information: {self.conditions}.' \\\n",
        "          f'\\n{self.name} IS AN INFANT')\n",
        "\n",
        "minibee = Infant('Minibee', 0)\n",
        "#Using add_vac method on the instance\n",
        "minibee.add_vac('MMR')"
      ],
      "execution_count": null,
      "outputs": []
    },
    {
      "cell_type": "code",
      "metadata": {
        "colab": {
          "base_uri": "https://localhost:8080/"
        },
        "id": "nz_cx3tbtJJU",
        "outputId": "f5c9490f-f8f3-4aec-a871-46cd277fe823"
      },
      "source": [
        "minibee.get_details()"
      ],
      "execution_count": null,
      "outputs": [
        {
          "output_type": "stream",
          "text": [
            "Patient record: Minibee, 0 years.Patient has had: ['MMR'] vaccines.Current Information: [].\n",
            "Minibee IS AN INFANT\n"
          ],
          "name": "stdout"
        }
      ]
    },
    {
      "cell_type": "markdown",
      "metadata": {
        "id": "kCu9JIQCwJ_w"
      },
      "source": [
        "##### Some practicals"
      ]
    },
    {
      "cell_type": "code",
      "metadata": {
        "id": "CrsLxQAkvkbb"
      },
      "source": [
        "'''\n",
        "Question 1\n",
        "\n",
        "Create a class to represent a bank account. It will need to have a balance,\n",
        "a method of withdrawing money, depositing money and displaying the balance to\n",
        "the screen. Create an instance of the bank account and check that the methods \n",
        "work as expected.\n",
        "'''\n",
        "\n",
        "class BankAccount(object):\n",
        "    ''' Docstring to go here'''\n",
        "    \n",
        "    def __init__(self,balance=0.0):\n",
        "        self.balance = balance\n",
        "        \n",
        "    def display_balance(self):\n",
        "        print(f'Your balance is {self.balance}')\n",
        "        \n",
        "    def make_deposit(self):\n",
        "        amount = float(input('How much would you like to deposit?:> '))\n",
        "        self.balance += amount\n",
        "        print(f'Balance is now {self.balance}.')\n",
        "        \n",
        "    def make_withdrawal(self):\n",
        "        amount = float(input('How much would you like to withdraw?:> '))\n",
        "        if amount > self.balance:\n",
        "            print(f'You do not have sufficient funds, your balance is {self.balance}')\n",
        "        else:\n",
        "            self.balance -= amount\n",
        "            print(f'Withdrawal successful: balance is now {self.balance}.')\n",
        "            "
      ],
      "execution_count": null,
      "outputs": []
    },
    {
      "cell_type": "code",
      "metadata": {
        "id": "grrIw8CI4QtF"
      },
      "source": [
        "my_bank = BankAccount(300)"
      ],
      "execution_count": null,
      "outputs": []
    },
    {
      "cell_type": "code",
      "metadata": {
        "colab": {
          "base_uri": "https://localhost:8080/"
        },
        "id": "HiYMdn004Yz6",
        "outputId": "382d9f75-30d6-4fee-aa1f-6e6a1c8b60be"
      },
      "source": [
        "my_bank.display_balance()"
      ],
      "execution_count": null,
      "outputs": [
        {
          "output_type": "stream",
          "text": [
            "Your balance is 300\n"
          ],
          "name": "stdout"
        }
      ]
    },
    {
      "cell_type": "code",
      "metadata": {
        "colab": {
          "base_uri": "https://localhost:8080/"
        },
        "id": "hQRtJD8M4gr4",
        "outputId": "d4c7457c-b9f5-4332-8bb8-9411199af670"
      },
      "source": [
        "my_bank.make_deposit()"
      ],
      "execution_count": null,
      "outputs": [
        {
          "output_type": "stream",
          "text": [
            "How much would you like to deposit?:> 300\n",
            "Balance is now 600.0.\n"
          ],
          "name": "stdout"
        }
      ]
    },
    {
      "cell_type": "code",
      "metadata": {
        "colab": {
          "base_uri": "https://localhost:8080/"
        },
        "id": "LMg2Xb9s42fv",
        "outputId": "44a0ce48-044a-46ea-beca-63bfa47da1af"
      },
      "source": [
        "my_bank.make_withdrawal()"
      ],
      "execution_count": null,
      "outputs": [
        {
          "output_type": "stream",
          "text": [
            "How much would you like to withdraw?:> 700\n",
            "You do not have sufficient funds, your balance is 600.0\n"
          ],
          "name": "stdout"
        }
      ]
    },
    {
      "cell_type": "code",
      "metadata": {
        "id": "9VBbQsWP5DN7"
      },
      "source": [
        "'''\n",
        "Question 2\n",
        " Create a circle class that will take the value of a radius and \n",
        " return the area of the circle\n",
        "'''\n",
        "import math\n",
        "\n",
        "class Circle(object):\n",
        "    ''' Represents a circle with radius. Calculates area.'''\n",
        "    \n",
        "    def __init__(self,radius):\n",
        "        self.radius = radius\n",
        "        \n",
        "    def calc_area(self):\n",
        "        area = math.pi * (self.radius)**2\n",
        "        return area\n",
        "        "
      ],
      "execution_count": null,
      "outputs": []
    },
    {
      "cell_type": "code",
      "metadata": {
        "colab": {
          "base_uri": "https://localhost:8080/"
        },
        "id": "oefziDXz9ziD",
        "outputId": "3632893a-787d-4e61-a4ef-c08c11715cdd"
      },
      "source": [
        "#Now create a circle\n",
        "my_circle = Circle(20)\n",
        "\n",
        "#and calcu it's area\n",
        "my_circle.calc_area()"
      ],
      "execution_count": null,
      "outputs": [
        {
          "output_type": "execute_result",
          "data": {
            "text/plain": [
              "1256.6370614359173"
            ]
          },
          "metadata": {
            "tags": []
          },
          "execution_count": 9
        }
      ]
    },
    {
      "cell_type": "markdown",
      "metadata": {
        "id": "efcdBJ0I-I2d"
      },
      "source": [
        "### **General Tips**\n",
        "- python.org\n",
        "- stackoverflow\n",
        "- pep8: Naming conventions i.e. \"MY FUNCTION\" = my_function, \"MY CLASS\" = MyClass\n",
        "- Comment your code\n",
        "- Plan before you code"
      ]
    },
    {
      "cell_type": "markdown",
      "metadata": {
        "id": "cIRjlitbYhB9"
      },
      "source": [
        "### **Big O**\n",
        "- How much time and space it takes a computer to do something with a particular algo.\n",
        "- It's a measure of how a particular algo scales when you throw more data at it\n",
        "\n",
        "- **Constant Time**: Just go into the end of an array (so run independently from how many number of items in that array) --> this will happen in constant time. \n",
        "\n",
        "\n",
        "- **Linear Time or O(n)**: THROUGH EVERY ITEM(in the array) and write it's price down. Linear Time means: as (n) grows, the time to complete the task also grows \n",
        "\n",
        "\n",
        "- **O(n^2)**: Take each item, and for each item, compare it to all the other items, and write down whether it's more expensive or less than that item at that place. As (n) grows, the time it is to process (n) increases as n^2. (I.E. Nested loops)\n",
        "\n",
        "\n",
        "- **N-Factorial O(n!)**: Take the items on the shelf and put them in every possible config to see which one looks best for maximizing sales. As (n) increases, the time to process (n) increases as N-Factorial. AVOID\n",
        "\n",
        "- **Summary**: It is importart in terms of **choosing efficient algos** to consider the **time complexity** of the algo that you are using specially if the amount of data that you are processing starts to grow \n"
      ]
    }
  ]
}