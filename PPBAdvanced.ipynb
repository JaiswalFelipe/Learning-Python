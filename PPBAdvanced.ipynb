{
  "nbformat": 4,
  "nbformat_minor": 0,
  "metadata": {
    "colab": {
      "name": "PPBAdvanced.ipynb",
      "provenance": [],
      "collapsed_sections": [
        "11S7Eb6W4A6X",
        "H2gAuiR971gD",
        "i7xg1oWjBIu6",
        "xC37Qd0AGVgr",
        "mB7hGafoMcwr",
        "2WS41kbHtOGT",
        "ErIj6mC1zlNM",
        "TjhaPUJVKPo2",
        "xOY-UYX1QT-0",
        "w_AUc_qxYIAp",
        "tclF9IVZZC2U",
        "nUFRMwOMdohO",
        "37QSYicnGyKf",
        "yCJ2jbYxkhXF",
        "wqZRsx3YpP0L",
        "IbymcZmTrP4y",
        "3jhuq1yjwHJT",
        "gS8D8G5nHEjj",
        "ReGJ-3ibHBAg",
        "SuzX34R7f-jh",
        "P3tdZXWx20DO",
        "9Y122wsHL7fF",
        "5Kre4_AiPBwN",
        "nZtzHWdCPNRQ",
        "tUg6mmA4lu4q",
        "Ik1OTPv4oavd"
      ],
      "mount_file_id": "1ppvcBU35mE0oWZrymaO_LerVrNmcr7_R",
      "authorship_tag": "ABX9TyMQYIrbVw2xYqhaZl2qHFqw",
      "include_colab_link": true
    },
    "kernelspec": {
      "name": "python3",
      "display_name": "Python 3"
    },
    "language_info": {
      "name": "python"
    }
  },
  "cells": [
    {
      "cell_type": "markdown",
      "metadata": {
        "id": "view-in-github",
        "colab_type": "text"
      },
      "source": [
        "<a href=\"https://colab.research.google.com/github/JaiswalFelipe/Learning-Python/blob/main/PPBAdvanced.ipynb\" target=\"_parent\"><img src=\"https://colab.research.google.com/assets/colab-badge.svg\" alt=\"Open In Colab\"/></a>"
      ]
    },
    {
      "cell_type": "markdown",
      "metadata": {
        "id": "11S7Eb6W4A6X"
      },
      "source": [
        "### **Advanced Python: Caesar two sum**"
      ]
    },
    {
      "cell_type": "markdown",
      "metadata": {
        "id": "H2gAuiR971gD"
      },
      "source": [
        "##### **Ceasar Cipher**"
      ]
    },
    {
      "cell_type": "code",
      "metadata": {
        "id": "wJTd5Htr9izJ"
      },
      "source": [
        "alphabet = 'abcdefghijklmnopqrstuvwxyz'\n",
        "input_text= 'hello'"
      ],
      "execution_count": null,
      "outputs": []
    },
    {
      "cell_type": "code",
      "metadata": {
        "colab": {
          "base_uri": "https://localhost:8080/"
        },
        "id": "D08Js8dZ91DX",
        "outputId": "c46662e7-2d5a-4f14-a76a-9711df29d08b"
      },
      "source": [
        "# Simple version\n",
        "\n",
        "output = ''\n",
        "\n",
        "for char in input_text:                       \n",
        "  alpha_index = alphabet.find(char)           # find the index of each char in 'input_text' from 'alphabet' \n",
        "  output = output + alphabet[alpha_index+3]   # Output will be output plus the current index of alphabet of that particular char + 3 (the shift that we want)\n",
        "\n",
        "print(output)"
      ],
      "execution_count": null,
      "outputs": [
        {
          "output_type": "stream",
          "text": [
            "khoor\n"
          ],
          "name": "stdout"
        }
      ]
    },
    {
      "cell_type": "markdown",
      "metadata": {
        "id": "i7xg1oWjBIu6"
      },
      "source": [
        "##### What if cipher index goes beyond end of alphabet? \n",
        "- i.e. alphabet[alpha_index+30]"
      ]
    },
    {
      "cell_type": "code",
      "metadata": {
        "id": "ka3i17zrBVxy"
      },
      "source": [
        "# A function to deal with shift\n",
        "def shift_amount(i):\n",
        "  '''Will determine the shift, taking into account the length of the 'alphabet'''\n",
        "  return i%26     # Modulo, 26 letters in the alphabet"
      ],
      "execution_count": null,
      "outputs": []
    },
    {
      "cell_type": "code",
      "metadata": {
        "colab": {
          "base_uri": "https://localhost:8080/"
        },
        "id": "R1O-UX3TCutw",
        "outputId": "b98a8553-dfff-4191-91ba-08516ff3a9a8"
      },
      "source": [
        "output_1 = ''\n",
        "\n",
        "for char in input_text:                       \n",
        "  alpha_index = alphabet.find(char)           \n",
        "  output_1 = output_1 + alphabet[shift_amount(alpha_index+30)]   \n",
        "print(output_1)"
      ],
      "execution_count": null,
      "outputs": [
        {
          "output_type": "stream",
          "text": [
            "lipps\n"
          ],
          "name": "stdout"
        }
      ]
    },
    {
      "cell_type": "code",
      "metadata": {
        "id": "-MTbnVzO2OEc"
      },
      "source": [
        "# The Complete Function\n",
        "def encrypt(text, required_shift):   # Takes in arguments; the text and the required shift\n",
        "  out_string = ''\n",
        "  text = text.lower()\n",
        "  for char in text:\n",
        "    if char not in alphabet:            # Deal with symbols and whitespaces\n",
        "      out_string = out_string + char\n",
        "    else:\n",
        "      alpha_index = alphabet.find(char)\n",
        "      out_string = out_string + alphabet[shift_amount(alpha_index + required_shift)]\n",
        "  return out_string\n"
      ],
      "execution_count": null,
      "outputs": []
    },
    {
      "cell_type": "code",
      "metadata": {
        "id": "R1NPgkBvEFac"
      },
      "source": [
        "new_string = 'Hello World'\n",
        "shift = encrypt(new_string,5)     # Encrypt the new_string with 5 shifts"
      ],
      "execution_count": null,
      "outputs": []
    },
    {
      "cell_type": "code",
      "metadata": {
        "colab": {
          "base_uri": "https://localhost:8080/",
          "height": 35
        },
        "id": "GllcT2n5E_XT",
        "outputId": "fb750335-eb47-40d7-94a6-8e0cb01badc8"
      },
      "source": [
        "# Test encryption\n",
        "shift"
      ],
      "execution_count": null,
      "outputs": [
        {
          "output_type": "execute_result",
          "data": {
            "application/vnd.google.colaboratory.intrinsic+json": {
              "type": "string"
            },
            "text/plain": [
              "'mjqqt btwqi'"
            ]
          },
          "metadata": {
            "tags": []
          },
          "execution_count": 8
        }
      ]
    },
    {
      "cell_type": "code",
      "metadata": {
        "colab": {
          "base_uri": "https://localhost:8080/"
        },
        "id": "noV23JeqFCYD",
        "outputId": "eb475406-aa2a-407d-c76c-dffb5c9435fe"
      },
      "source": [
        "# Decription\n",
        "print(encrypt(shift,-5))          "
      ],
      "execution_count": null,
      "outputs": [
        {
          "output_type": "stream",
          "text": [
            "hello world\n"
          ],
          "name": "stdout"
        }
      ]
    },
    {
      "cell_type": "markdown",
      "metadata": {
        "id": "xC37Qd0AGVgr"
      },
      "source": [
        "##### **Two sum**"
      ]
    },
    {
      "cell_type": "code",
      "metadata": {
        "id": "SieRxaywF5xq"
      },
      "source": [
        "def two_sum(nums, target):    \n",
        "  d = {}\n",
        "\n",
        "  for i in range(len(nums)):  # For i in the length of the list 'nums'  \n",
        "    if target - nums[i] in d:         # If 'target' - the value of the list at that index [i] is in 'd'(the dictionary)\n",
        "      print(d)\n",
        "      return [d[target-nums[i]],i]    # Then return the result (the index value stored in a dictionary and the iteration that we're on)\n",
        "\n",
        "    d[nums[i]] = i                    # If it's not then we add those values to our 'd' \n",
        "\n",
        "  return -1                           # If it can't find anything, return '-1'"
      ],
      "execution_count": null,
      "outputs": []
    },
    {
      "cell_type": "code",
      "metadata": {
        "colab": {
          "base_uri": "https://localhost:8080/"
        },
        "id": "kvZXKfhrIrNF",
        "outputId": "084c4adc-f1c1-40d8-e257-a30928963c41"
      },
      "source": [
        "# Example\n",
        "L = [8,6,11,3]\n",
        "print(two_sum(L,9))      #Sum of 9      "
      ],
      "execution_count": null,
      "outputs": [
        {
          "output_type": "stream",
          "text": [
            "{8: 0, 6: 1, 11: 2}\n",
            "[1, 3]\n"
          ],
          "name": "stdout"
        }
      ]
    },
    {
      "cell_type": "markdown",
      "metadata": {
        "id": "mB7hGafoMcwr"
      },
      "source": [
        "##### **Playing card class**"
      ]
    },
    {
      "cell_type": "code",
      "metadata": {
        "id": "8yLs47jzKxAt"
      },
      "source": [
        "class Card(object):\n",
        "  '''Creates a Playing Card when instanciated'''\n",
        "\n",
        "  def __init__(self, value, suit):   # Initialize the variables\n",
        "    self.value = value\n",
        "    self.suit = suit\n",
        "\n",
        "  def get_value(self):\n",
        "    return self.get_value\n",
        "  \n",
        "  def get_suit(self):\n",
        "    return self.get_suit\n",
        "\n",
        "  def __str__(self):                 # Creates a string that will be printed when you print the object that you've created from ths class 'Card'\n",
        "\n",
        "    my_card = str(self.value) + ' of ' + str(self.suit)\n",
        "    return my_card"
      ],
      "execution_count": null,
      "outputs": []
    },
    {
      "cell_type": "code",
      "metadata": {
        "colab": {
          "base_uri": "https://localhost:8080/"
        },
        "id": "lZu2aoxgOg_T",
        "outputId": "541b6de7-a3fb-40fa-faca-2089e5e37b37"
      },
      "source": [
        "# Test the __str__\n",
        "my_card = Card(3,'diamonds')\n",
        "print(my_card)"
      ],
      "execution_count": null,
      "outputs": [
        {
          "output_type": "stream",
          "text": [
            "3 of d\n"
          ],
          "name": "stdout"
        }
      ]
    },
    {
      "cell_type": "markdown",
      "metadata": {
        "id": "2WS41kbHtOGT"
      },
      "source": [
        "### **STACKS** Data Structure\n",
        "- Peek\n",
        "- Pop\n",
        "- Push\n",
        "- Stack Overflow: If computer runs out of memo"
      ]
    },
    {
      "cell_type": "markdown",
      "metadata": {
        "id": "ErIj6mC1zlNM"
      },
      "source": [
        "##### List example"
      ]
    },
    {
      "cell_type": "code",
      "metadata": {
        "id": "yZcsF0u3jDRb"
      },
      "source": [
        "class Stack():\n",
        "  \n",
        "  def __init__(self):             # Initialize by empty list\n",
        "    self.list_stack = []\n",
        "\n",
        "  def is_empty(self):             # Check if empty or not\n",
        "    if not self.list_stack:\n",
        "      return True\n",
        "    else:\n",
        "      return False\n",
        "\n",
        "  def push(self,item):            # Appends an item to the stack\n",
        "    self.list_stack.append(item)\n",
        "\n",
        "  def pop(self):                  # Pops an item from the stack\n",
        "    return self.list_stack.pop()\n",
        "\n",
        "  def peek(self):                 # is empty or not\n",
        "    if self.list_stack == []:\n",
        "      return None\n",
        "    else:\n",
        "      return self.list_stack[-1]  \n",
        "\n",
        "  def __repr__(self):              # prints out what's contained in this method so the list_stack\n",
        "    return repr(self.list_stack)"
      ],
      "execution_count": null,
      "outputs": []
    },
    {
      "cell_type": "code",
      "metadata": {
        "colab": {
          "base_uri": "https://localhost:8080/"
        },
        "id": "J77FVXUxyC8p",
        "outputId": "8cdb31ac-3b9d-4f97-c938-065be1124061"
      },
      "source": [
        "new_stack = Stack()\n",
        "print(new_stack.is_empty())"
      ],
      "execution_count": null,
      "outputs": [
        {
          "output_type": "stream",
          "text": [
            "True\n"
          ],
          "name": "stdout"
        }
      ]
    },
    {
      "cell_type": "code",
      "metadata": {
        "colab": {
          "base_uri": "https://localhost:8080/"
        },
        "id": "VghCLq-2zMM_",
        "outputId": "0c9ff88d-6f38-4526-d171-ad9eb82a99c5"
      },
      "source": [
        "new_stack.push(4)\n",
        "new_stack.peek()"
      ],
      "execution_count": null,
      "outputs": [
        {
          "output_type": "execute_result",
          "data": {
            "text/plain": [
              "4"
            ]
          },
          "metadata": {
            "tags": []
          },
          "execution_count": 8
        }
      ]
    },
    {
      "cell_type": "code",
      "metadata": {
        "colab": {
          "base_uri": "https://localhost:8080/"
        },
        "id": "MPIt0g26zYf4",
        "outputId": "c28c51ec-f532-4316-e888-b9a95deee71c"
      },
      "source": [
        "new_stack.push(8)\n",
        "print(new_stack)"
      ],
      "execution_count": null,
      "outputs": [
        {
          "output_type": "stream",
          "text": [
            "[4, 8]\n"
          ],
          "name": "stdout"
        }
      ]
    },
    {
      "cell_type": "code",
      "metadata": {
        "id": "UgTGPk4Fzelc"
      },
      "source": [
        "'''Challenge:\n",
        "Write a function to determine whether a string of brackets is balanced\n",
        "It should return True if balanced.\n",
        "[[({})]] is an example of balanced brackets. [({)})] is not balanced.\n",
        "'''\n",
        "\n",
        "def balanced_brackets(s):\n",
        "        \n",
        "    stack = []\n",
        "    brackets = {'(':')','[':']','{':'}'}\n",
        "    \n",
        "    for char in s:\n",
        "        \n",
        "        if char in brackets.keys():\n",
        "            \n",
        "            stack.append(char)\n",
        "            \n",
        "        else:\n",
        "            \n",
        "            if len(stack) == 0 or brackets[stack.pop()] != char:\n",
        "                return False\n",
        "            \n",
        "    return len(stack) == 0"
      ],
      "execution_count": null,
      "outputs": []
    },
    {
      "cell_type": "code",
      "metadata": {
        "id": "on65oSol4Gl3"
      },
      "source": [
        "string = '[[({})]]'"
      ],
      "execution_count": null,
      "outputs": []
    },
    {
      "cell_type": "code",
      "metadata": {
        "colab": {
          "base_uri": "https://localhost:8080/"
        },
        "id": "d0aa9GQN4K3F",
        "outputId": "c30a0475-82b9-48a3-a004-0630410be029"
      },
      "source": [
        "balanced_brackets(string)"
      ],
      "execution_count": null,
      "outputs": [
        {
          "output_type": "execute_result",
          "data": {
            "text/plain": [
              "True"
            ]
          },
          "metadata": {
            "tags": []
          },
          "execution_count": 12
        }
      ]
    },
    {
      "cell_type": "code",
      "metadata": {
        "colab": {
          "base_uri": "https://localhost:8080/"
        },
        "id": "O7-z_QB84Nx2",
        "outputId": "a3f96b56-9eba-4f18-83f3-8511c925bf1a"
      },
      "source": [
        "string_2 = '[({)})]'\n",
        "balanced_brackets(string_2)"
      ],
      "execution_count": null,
      "outputs": [
        {
          "output_type": "execute_result",
          "data": {
            "text/plain": [
              "False"
            ]
          },
          "metadata": {
            "tags": []
          },
          "execution_count": 13
        }
      ]
    },
    {
      "cell_type": "code",
      "metadata": {
        "colab": {
          "base_uri": "https://localhost:8080/"
        },
        "id": "r7utcHij4QHo",
        "outputId": "b9edce42-5bbe-41ac-f3ec-ce4a829fc6a9"
      },
      "source": [
        "string_3 = '][[({})]]'\n",
        "balanced_brackets(string_3)"
      ],
      "execution_count": null,
      "outputs": [
        {
          "output_type": "execute_result",
          "data": {
            "text/plain": [
              "False"
            ]
          },
          "metadata": {
            "tags": []
          },
          "execution_count": 14
        }
      ]
    },
    {
      "cell_type": "markdown",
      "metadata": {
        "id": "TjhaPUJVKPo2"
      },
      "source": [
        "##### Tower of Hanoi \n",
        "-Stack and Recurssion"
      ]
    },
    {
      "cell_type": "code",
      "metadata": {
        "id": "AhPOE9lMKJyG"
      },
      "source": [
        "# The 3 towers A, B, and C, (3 Stacks)\n",
        "A = [3,2,1]     # Try changing the number of disks i.e. [4,3,2,1]\n",
        "B = []\n",
        "C = []"
      ],
      "execution_count": null,
      "outputs": []
    },
    {
      "cell_type": "code",
      "metadata": {
        "id": "-FjjfO-fLu9X"
      },
      "source": [
        "# According to our rules, if we want to move all disks 3,2,1 from A to C, we first move 2 disks from A to B.\n",
        "# we then move the base disk from A to C and then the stack of two from B to C\n",
        "\n",
        "count = 0\n",
        "\n",
        "def towers_of_hanoi(A,B,C,n):\n",
        "  global count                   # This function will have access to the 'count' variable using key-world 'global' to get how many moves\n",
        "\n",
        "  if n == 1:                     # This is the Base Case where if n == 1 (1 disk) put disk from A to C\n",
        "    disk = A.pop()\n",
        "    C.append(disk)\n",
        "    count += 1\n",
        "\n",
        "  else: \n",
        "\n",
        "    towers_of_hanoi(A,C,B,n-1)\n",
        "\n",
        "    towers_of_hanoi(A,B,C,1)\n",
        "\n",
        "    towers_of_hanoi(B,A,C,n-1)\n",
        "  return count"
      ],
      "execution_count": null,
      "outputs": []
    },
    {
      "cell_type": "code",
      "metadata": {
        "colab": {
          "base_uri": "https://localhost:8080/"
        },
        "id": "7FH3wBq2NnMJ",
        "outputId": "becb1c52-d693-4ffc-f32a-2a9e9064bce8"
      },
      "source": [
        "# Test\n",
        "towers_of_hanoi(A,B,C,3)    # n = number of disk"
      ],
      "execution_count": null,
      "outputs": [
        {
          "output_type": "execute_result",
          "data": {
            "text/plain": [
              "7"
            ]
          },
          "metadata": {
            "tags": []
          },
          "execution_count": 14
        }
      ]
    },
    {
      "cell_type": "markdown",
      "metadata": {
        "id": "xOY-UYX1QT-0"
      },
      "source": [
        "##### Enumerate, Sets & none"
      ]
    },
    {
      "cell_type": "code",
      "metadata": {
        "id": "zcBEQrqKPGXw"
      },
      "source": [
        "alphabet = 'abcdefghijklmnopqrstuvwxyz'\n",
        "alpha_list = list(alphabet)\n",
        "#alpha_list"
      ],
      "execution_count": null,
      "outputs": []
    },
    {
      "cell_type": "code",
      "metadata": {
        "colab": {
          "base_uri": "https://localhost:8080/"
        },
        "id": "ke_AWRm-RJUK",
        "outputId": "aa0549ca-ea56-4381-ff7f-4ed2fae42c5a"
      },
      "source": [
        "#Noob mode\n",
        "for i in range(len(alpha_list)):\n",
        "  print(i,alpha_list[i])"
      ],
      "execution_count": null,
      "outputs": [
        {
          "output_type": "stream",
          "text": [
            "0 a\n",
            "1 b\n",
            "2 c\n",
            "3 d\n",
            "4 e\n",
            "5 f\n",
            "6 g\n",
            "7 h\n",
            "8 i\n",
            "9 j\n",
            "10 k\n",
            "11 l\n",
            "12 m\n",
            "13 n\n",
            "14 o\n",
            "15 p\n",
            "16 q\n",
            "17 r\n",
            "18 s\n",
            "19 t\n",
            "20 u\n",
            "21 v\n",
            "22 w\n",
            "23 x\n",
            "24 y\n",
            "25 z\n"
          ],
          "name": "stdout"
        }
      ]
    },
    {
      "cell_type": "code",
      "metadata": {
        "colab": {
          "base_uri": "https://localhost:8080/"
        },
        "id": "fimIQRIDRoPK",
        "outputId": "f69a1d9e-e78a-4d81-d528-317c24ea92a9"
      },
      "source": [
        "# With enumerate (returns a tuple)\n",
        "for count, item in enumerate(alpha_list):\n",
        "  print(count,item)"
      ],
      "execution_count": null,
      "outputs": [
        {
          "output_type": "stream",
          "text": [
            "0 a\n",
            "1 b\n",
            "2 c\n",
            "3 d\n",
            "4 e\n",
            "5 f\n",
            "6 g\n",
            "7 h\n",
            "8 i\n",
            "9 j\n",
            "10 k\n",
            "11 l\n",
            "12 m\n",
            "13 n\n",
            "14 o\n",
            "15 p\n",
            "16 q\n",
            "17 r\n",
            "18 s\n",
            "19 t\n",
            "20 u\n",
            "21 v\n",
            "22 w\n",
            "23 x\n",
            "24 y\n",
            "25 z\n"
          ],
          "name": "stdout"
        }
      ]
    },
    {
      "cell_type": "code",
      "metadata": {
        "id": "JkcYR_tOSGYx"
      },
      "source": [
        "# Sets are like lists, but can't have duplicates\n",
        "\n",
        "A = [1,2,3,1,1,3,4,5,1,3,4,4]\n",
        "B = [11,11,22,33,22,33,14,15,16,15,1,2,3,5,6]"
      ],
      "execution_count": null,
      "outputs": []
    },
    {
      "cell_type": "code",
      "metadata": {
        "colab": {
          "base_uri": "https://localhost:8080/"
        },
        "id": "te4jOJyqVraN",
        "outputId": "4dc218a6-25c8-4beb-db91-2d91443ea51b"
      },
      "source": [
        "A = set(A)\n",
        "A"
      ],
      "execution_count": null,
      "outputs": [
        {
          "output_type": "execute_result",
          "data": {
            "text/plain": [
              "{1, 2, 3, 4, 5}"
            ]
          },
          "metadata": {
            "tags": []
          },
          "execution_count": 26
        }
      ]
    },
    {
      "cell_type": "code",
      "metadata": {
        "colab": {
          "base_uri": "https://localhost:8080/"
        },
        "id": "_4579KWsVv0d",
        "outputId": "57d77f29-f9fc-4c0c-debb-e97a4b92a9ae"
      },
      "source": [
        "B = set(B)\n",
        "B"
      ],
      "execution_count": null,
      "outputs": [
        {
          "output_type": "execute_result",
          "data": {
            "text/plain": [
              "{1, 2, 3, 5, 6, 11, 14, 15, 16, 22, 33}"
            ]
          },
          "metadata": {
            "tags": []
          },
          "execution_count": 24
        }
      ]
    },
    {
      "cell_type": "code",
      "metadata": {
        "colab": {
          "base_uri": "https://localhost:8080/"
        },
        "id": "3yfMt3K0VyUj",
        "outputId": "316065be-7a83-43bf-ae13-f4c3721155b4"
      },
      "source": [
        "# Operations you can do on SETS\n",
        "\n",
        "# Intersection (Items that are both in A and B)\n",
        "print(A & B)\n",
        " \n",
        "# Union (All the items in A and B)\n",
        "print(A | B)\n",
        "\n",
        "# Difference (What items in A aren't in B)\n",
        "print(A - B)\n",
        "\n",
        "# Symmetric Difference ()\n",
        "print(A ^ B)"
      ],
      "execution_count": null,
      "outputs": [
        {
          "output_type": "stream",
          "text": [
            "{1, 2, 3, 5}\n",
            "{1, 2, 3, 4, 5, 6, 11, 14, 15, 16, 22, 33}\n",
            "{4}\n",
            "{33, 4, 6, 11, 14, 15, 16, 22}\n"
          ],
          "name": "stdout"
        }
      ]
    },
    {
      "cell_type": "code",
      "metadata": {
        "id": "VlbgHRYaWFt9"
      },
      "source": [
        "# 'None' gives you an empty variable\n",
        "z = None"
      ],
      "execution_count": null,
      "outputs": []
    },
    {
      "cell_type": "markdown",
      "metadata": {
        "id": "w_AUc_qxYIAp"
      },
      "source": [
        "### **Search and Sort**"
      ]
    },
    {
      "cell_type": "markdown",
      "metadata": {
        "id": "tclF9IVZZC2U"
      },
      "source": [
        "##### Linear Search\n",
        "- It has linear time O(n)\n",
        "- Not Efficient\n",
        "- For small amts of data"
      ]
    },
    {
      "cell_type": "code",
      "metadata": {
        "id": "N2cUjQLQYLbB"
      },
      "source": [
        "def linear_search(item,my_list): # Will search the 'item' that we're looking for, and the list = 'my_list' where we're searching for the item\n",
        "  i = 0                          # To keep track of where we are\n",
        "  found = False                  # To keep track of whether or not we have found the 'Item' that we're looking for\n",
        "\n",
        "  while i < len(my_list) and found == False: # 2 Conditions: first, we dont want to go beyond the list length, and second, stop searching if item is found\n",
        "    if my_list[i] == item:                   # If the item that we're on [i] is equal to the item that we're looking for\n",
        "      found = True                           # Then the search is over\n",
        "    else:                                    # Otherwise \n",
        "      i += 1                                 # increment [i] then move on to the next item\n",
        "  return found                               # Will return True or False (if item is found or not)"
      ],
      "execution_count": null,
      "outputs": []
    },
    {
      "cell_type": "code",
      "metadata": {
        "colab": {
          "base_uri": "https://localhost:8080/"
        },
        "id": "1gBf15U1c6My",
        "outputId": "efa0d3aa-2df6-4009-9e53-19ad4be307fa"
      },
      "source": [
        "# Test linear_search\n",
        "test = [4,5,6,7,8,9,10,21,23,41]\n",
        "print(linear_search(21,test))    # Remember, the item and the list as parameters\n",
        "print(linear_search(50,test))"
      ],
      "execution_count": null,
      "outputs": [
        {
          "output_type": "stream",
          "text": [
            "True\n",
            "False\n"
          ],
          "name": "stdout"
        }
      ]
    },
    {
      "cell_type": "markdown",
      "metadata": {
        "id": "nUFRMwOMdohO"
      },
      "source": [
        "##### Binary Search \n",
        "- **Efficient** algo but it depends on the list being **sorted** \n",
        "- Instead of starting from the beginning or the end of the list, you start at the **middle** then if the item that you are looking for is **higher**, it **discards those are lower** from the list, and **vise versa**\n",
        "- You keep repeating that process until you find the item that you are looking for. So each iteration, you're cutting the length of the list you have to search through by **half**"
      ]
    },
    {
      "cell_type": "code",
      "metadata": {
        "id": "zeMi-afcdcTU"
      },
      "source": [
        "def binary_search(item, my_list):\n",
        "  found = False                       # To begin with\n",
        "  first = 0\n",
        "  last = len(my_list) - 1             # -1 because of the 0 indexing in Python\n",
        "\n",
        "  while first <= last and found == False:  # First and last should be in the right order\n",
        "    midpoint = (first + last)//2           # Half of the list \n",
        "    if my_list[midpoint] == item:          # If this condition is met then search is over\n",
        "      found = True\n",
        "    else:\n",
        "      if my_list[midpoint] < item:         # If the midpoint is lesser than the item\n",
        "        first = midpoint + 1               # \"midpoint + 1 \" will be the new value of \"first\"\n",
        "      else:                                # And vise versa\n",
        "        last = midpoint - 1                \n",
        "\n",
        "  return found"
      ],
      "execution_count": null,
      "outputs": []
    },
    {
      "cell_type": "code",
      "metadata": {
        "colab": {
          "base_uri": "https://localhost:8080/"
        },
        "id": "GNLJPgN09Vfc",
        "outputId": "e31f5032-3a5f-44e4-b9c8-871d1988701f"
      },
      "source": [
        "# Test linear_search\n",
        "testB = [4,5,6,7,8,9,10,21,23,41]\n",
        "print(binary_search(23,testB))    # Remember, the item and the list as parameters\n",
        "print(binary_search(42,testB))"
      ],
      "execution_count": null,
      "outputs": [
        {
          "output_type": "stream",
          "text": [
            "True\n",
            "False\n"
          ],
          "name": "stdout"
        }
      ]
    },
    {
      "cell_type": "markdown",
      "metadata": {
        "id": "_3ueTqOEDB-t"
      },
      "source": [
        "##### Bubble Sort"
      ]
    },
    {
      "cell_type": "code",
      "metadata": {
        "id": "li8JOc9DDFj8"
      },
      "source": [
        "def bubble_sort(my_list):\n",
        "  swap_again = True\n",
        "  n = len(my_list)\n",
        "  while n > 0 and swap_again == True:\n",
        "    n = n - 1\n",
        "    swap_again == False\n",
        "\n",
        "    for i in range(n):\n",
        "      if my_list[i] > my_list[i+1]:\n",
        "        my_list[i], my_list[i+1] = my_list[i+1], my_list[i]  # Switch\n",
        "        swap_again = True\n",
        "  return my_list"
      ],
      "execution_count": null,
      "outputs": []
    },
    {
      "cell_type": "code",
      "metadata": {
        "colab": {
          "base_uri": "https://localhost:8080/"
        },
        "id": "HZLm4Q9gER21",
        "outputId": "9b86360f-8ad9-406e-cdf0-d18ba6a45ac4"
      },
      "source": [
        "# Test bubble_sort\n",
        "testBubble = [4,5,6,7,8,9,10,21,23,41]\n",
        "print(bubble_sort(testBubble))    "
      ],
      "execution_count": null,
      "outputs": [
        {
          "output_type": "stream",
          "text": [
            "[4, 5, 6, 7, 8, 9, 10, 21, 23, 41]\n"
          ],
          "name": "stdout"
        }
      ]
    },
    {
      "cell_type": "markdown",
      "metadata": {
        "id": "0xFZ1Ad0_SS9"
      },
      "source": [
        "##### Insertion sort\n",
        "- If the first item in the list is smaller than the next item, do nothing.\n",
        "- Else if larger, then shift the next item(smaller) to the left. \n",
        "- i.e. 3 2 7 5 (3 <--> 2) **insert** item \"3\" where item \"2\" was\n",
        "- and so on..."
      ]
    },
    {
      "cell_type": "code",
      "metadata": {
        "id": "Mdc3D-T1_R1u"
      },
      "source": [
        "def insertion_sort(my_list):\n",
        "  n = len(my_list)\n",
        "  for i in range(1,n):\n",
        "    value = my_list[i]\n",
        "    j = i\n",
        "    while j > 0 and my_list[j-1] > value:\n",
        "      my_list[j] = my_list[j-1]\n",
        "      j = j - 1                           # j will keep decreasing until while condition is no longer True\n",
        "    my_list[j] = value                    # Update the value of the list (where \"j\" is)\n",
        "\n",
        "  return my_list"
      ],
      "execution_count": null,
      "outputs": []
    },
    {
      "cell_type": "markdown",
      "metadata": {
        "id": "37QSYicnGyKf"
      },
      "source": [
        "### **Advanced Python: Cards and Coins**\n",
        "- Luhn's algorithm (Credit card validation check)\n",
        "1. Multiply every 2nd digit by 2 starting from the 2nd to last then add those digits product together  \n",
        "  - i.e. 17, 18 = 1 + 7 + 1 + 8 = 17\n",
        "2. Add that number to the sum of the digits that were **not** multiplied by 2\n",
        "  - i.e. 17 + (sum of diigits unmultied by 2)\n",
        "3. Find the remainder when that is divided by 10, if remainder is 0 then the credit card number is valid\n",
        "  - i.e. 80/10 = 0\n"
      ]
    },
    {
      "cell_type": "code",
      "metadata": {
        "colab": {
          "base_uri": "https://localhost:8080/"
        },
        "id": "KyW7h-zuG5G5",
        "outputId": "39eb0381-b2cf-41c1-9ec3-e52e57ede931"
      },
      "source": [
        "# Step 1: Request input\n",
        "number = input('Please enter credit card number:> ')"
      ],
      "execution_count": null,
      "outputs": [
        {
          "output_type": "stream",
          "text": [
            "Please enter credit card number:> 4771240040399447\n"
          ],
          "name": "stdout"
        }
      ]
    },
    {
      "cell_type": "code",
      "metadata": {
        "id": "CsSrq7znId4e"
      },
      "source": [
        "# Check validity of number\n",
        "num_list = [int(char) for char in number]\n",
        "num_len = len(num_list)\n",
        "num_list_rev = num_list[::-1]\n",
        "double = 0\n",
        "single = 0\n",
        "for i in range(0,num_len):\n",
        "    if i%2 != 0:\n",
        "        if 2*num_list_rev[i]>9:\n",
        "            double = double + 2*num_list_rev[i] - 9\n",
        "        else:\n",
        "            double = double + 2 * num_list_rev[i]\n",
        "    else:\n",
        "        single = single + num_list_rev[i]\n",
        "\n",
        "if (double+single)%10 == 0:\n",
        "    print(f'{number} is a valid credit card number.')\n",
        "else:\n",
        "    print(f'{number} is not a valid credit card number.')\n"
      ],
      "execution_count": null,
      "outputs": []
    },
    {
      "cell_type": "markdown",
      "metadata": {
        "id": "yCJ2jbYxkhXF"
      },
      "source": [
        "### **Advanced Python: Debugging**"
      ]
    },
    {
      "cell_type": "markdown",
      "metadata": {
        "id": "wqZRsx3YpP0L"
      },
      "source": [
        "##### Using print()"
      ]
    },
    {
      "cell_type": "code",
      "metadata": {
        "id": "8DEaVPhilSha"
      },
      "source": [
        "def add(L):\n",
        "  ''' Adds the integer items of a list'''\n",
        "  size = len(L)\n",
        "  total = 0\n",
        "  iterator = 0\n",
        "  while iterator < size:\n",
        "    total = total + L[iterator]\n",
        "  return total"
      ],
      "execution_count": null,
      "outputs": []
    },
    {
      "cell_type": "code",
      "metadata": {
        "id": "gpNXA5c2ntVn"
      },
      "source": [
        "# This will run very long as it shouldn't have() so = DEBUG\n",
        "# Interrupt code\n",
        "my_list = [1,2,3,4,5,6,7]\n",
        "add(my_list)"
      ],
      "execution_count": null,
      "outputs": []
    },
    {
      "cell_type": "code",
      "metadata": {
        "id": "wUMAI2-unzf6"
      },
      "source": [
        "# Using print()\n",
        "def add(L):\n",
        "  ''' Adds the integer items of a list'''\n",
        "  size = len(L)\n",
        "  total = 0\n",
        "  iterator = 0\n",
        "  print('Reached the while loop')    # If this prints out, we know we reached this line\n",
        "  while iterator < size:\n",
        "    total = total + L[iterator]\n",
        "    print(f'Iterator is {iterator} total is {total}')\n",
        "  return total"
      ],
      "execution_count": null,
      "outputs": []
    },
    {
      "cell_type": "code",
      "metadata": {
        "id": "t0ZtUsZCp98s"
      },
      "source": [
        "# Warning! This is an infinite loop\n",
        "# Here the total is increasing but the 'iterator' is not\n",
        "\n",
        "#add(my_list)"
      ],
      "execution_count": null,
      "outputs": []
    },
    {
      "cell_type": "code",
      "metadata": {
        "id": "A1-AOT97qsGe"
      },
      "source": [
        "# Fixed function\n",
        "def add(L):\n",
        "  ''' Adds the integer items of a list'''\n",
        "  size = len(L)\n",
        "  total = 0\n",
        "  iterator = 0\n",
        "#  print('Reached the while loop')    # If this prints out, we know we reached this line\n",
        "  while iterator < size:\n",
        "    total = total + L[iterator]\n",
        "    iterator += 1                     # This is the fix (Which increments the 'iterator', which was the problem)\n",
        "#    print(f'Iterator is {iterator} total is {total}')\n",
        "  return total"
      ],
      "execution_count": null,
      "outputs": []
    },
    {
      "cell_type": "code",
      "metadata": {
        "colab": {
          "base_uri": "https://localhost:8080/"
        },
        "id": "cxAgR7mFq6Zr",
        "outputId": "345404f6-a703-4ac8-de64-5406104f2906"
      },
      "source": [
        "# Test after debug\n",
        "add(my_list)"
      ],
      "execution_count": null,
      "outputs": [
        {
          "output_type": "execute_result",
          "data": {
            "text/plain": [
              "28"
            ]
          },
          "metadata": {
            "tags": []
          },
          "execution_count": 8
        }
      ]
    },
    {
      "cell_type": "markdown",
      "metadata": {
        "id": "IbymcZmTrP4y"
      },
      "source": [
        "##### Python Built-in Debugger\n",
        "- Sets a **breakpoint** in your code so you can stop the program running at that point, and then run through it line by line\n",
        "- See which vars are changing, which part is being executed, is the logic is flowing as you expected to"
      ]
    },
    {
      "cell_type": "code",
      "metadata": {
        "id": "tDRwLeT4ra1Z"
      },
      "source": [
        "# This will throw the error\n",
        "L2 = [1,2,3,4,5,6,7,8,'eight']          \n",
        "add(L2)                        "
      ],
      "execution_count": null,
      "outputs": []
    },
    {
      "cell_type": "code",
      "metadata": {
        "id": "7saqDEy6sLVk"
      },
      "source": [
        "import pdb   # Name of the module\n",
        "\n",
        "def add(L):\n",
        "  ''' Adds the integer items of a list'''\n",
        "  size = len(L)\n",
        "  total = 0\n",
        "  iterator = 0\n",
        "  pdb.set_trace()                  # Pause the running of that function at that point    \n",
        "#  print('Reached the while loop')    \n",
        "  while iterator < size:\n",
        "    total = total + L[iterator]\n",
        "    iterator += 1                     \n",
        "#    print(f'Iterator is {iterator} total is {total}')\n",
        "  return total"
      ],
      "execution_count": null,
      "outputs": []
    },
    {
      "cell_type": "code",
      "metadata": {
        "id": "j_BlroyftfAe"
      },
      "source": [
        "# The next line that we are going to encounter is \"while iterator < size:\"\n",
        "# Type 'n' is next line\n",
        "# Type 'c' to run the rest of the program (or next breakpoint)\n",
        "# L2 = [1,2,3,4,5,6,7,8,'eight'] we can see that this was the problem\n",
        "add(L2)"
      ],
      "execution_count": null,
      "outputs": []
    },
    {
      "cell_type": "code",
      "metadata": {
        "id": "5dcRU6BhwB_g"
      },
      "source": [
        "help(pdb)"
      ],
      "execution_count": null,
      "outputs": []
    },
    {
      "cell_type": "markdown",
      "metadata": {
        "id": "3jhuq1yjwHJT"
      },
      "source": [
        "### **Advanced Python: Strings and Expressions**"
      ]
    },
    {
      "cell_type": "markdown",
      "metadata": {
        "id": "gS8D8G5nHEjj"
      },
      "source": [
        "##### More on strings"
      ]
    },
    {
      "cell_type": "code",
      "metadata": {
        "id": "VAtyhCUsxlrP",
        "colab": {
          "base_uri": "https://localhost:8080/"
        },
        "outputId": "c8073422-910f-4200-c299-50345468ecc0"
      },
      "source": [
        "# String formatting\n",
        "import math\n",
        "\n",
        "pi = math.pi\n",
        "\n",
        "print(f'pi is equal to {pi} \\n' \\\n",
        "      f'3 decimal points = float(f) {pi:.3f} \\n' \\\n",
        "      f'12 white spaces {pi:12.3f} \\n' \\\n",
        "      f'leading zeros {pi:012.3f}, 12 spaces long \\n' \\\n",
        "      f'Displaying signs {pi:+.3f} \\n'\n",
        "      f'also try <(left), ^(center), =+(padding and plus sign)'\n",
        "      )"
      ],
      "execution_count": null,
      "outputs": [
        {
          "output_type": "stream",
          "text": [
            "pi is equal to 3.141592653589793 \n",
            "3 decimal points = float(f) 3.142 \n",
            "12 white spaces        3.142 \n",
            "leading zeros 00000003.142, 12 spaces long \n",
            "Displaying signs +3.142 \n",
            "also try <(left), ^(center), =+(padding and plus sign)\n"
          ],
          "name": "stdout"
        }
      ]
    },
    {
      "cell_type": "markdown",
      "metadata": {
        "id": "ReGJ-3ibHBAg"
      },
      "source": [
        "##### Regular Expressions\n",
        "- Allows you to search text or patterns"
      ]
    },
    {
      "cell_type": "code",
      "metadata": {
        "colab": {
          "base_uri": "https://localhost:8080/"
        },
        "id": "KxiBjeB8DcwU",
        "outputId": "e34fea24-ffa5-4bd5-9c66-7f43341f4883"
      },
      "source": [
        "import re     # Regular expression module\n",
        "\n",
        "pattern = re.compile(r'Kate')\n",
        "pattern\n",
        "\n",
        "# \"r\" means raw string\n",
        "# Unicode is a standard way of encoding text"
      ],
      "execution_count": null,
      "outputs": [
        {
          "output_type": "execute_result",
          "data": {
            "text/plain": [
              "re.compile(r'Kate', re.UNICODE)"
            ]
          },
          "metadata": {
            "tags": []
          },
          "execution_count": 6
        }
      ]
    },
    {
      "cell_type": "code",
      "metadata": {
        "colab": {
          "base_uri": "https://localhost:8080/"
        },
        "id": "BeqAuGo6Iqkz",
        "outputId": "7d9a5fc5-fcda-49c6-9bc4-9efdca215a03"
      },
      "source": [
        "# Span tells you where the match occurs\n",
        "pattern.match('Kate')"
      ],
      "execution_count": null,
      "outputs": [
        {
          "output_type": "execute_result",
          "data": {
            "text/plain": [
              "<re.Match object; span=(0, 4), match='Kate'>"
            ]
          },
          "metadata": {
            "tags": []
          },
          "execution_count": 7
        }
      ]
    },
    {
      "cell_type": "code",
      "metadata": {
        "colab": {
          "base_uri": "https://localhost:8080/",
          "height": 35
        },
        "id": "gvkOemaNI_Gx",
        "outputId": "7de72ffe-7f3b-4f26-f61d-414fa43ed73e"
      },
      "source": [
        "# Access what has been matched\n",
        "me = pattern.match('Kate')\n",
        "me.group()"
      ],
      "execution_count": null,
      "outputs": [
        {
          "output_type": "execute_result",
          "data": {
            "application/vnd.google.colaboratory.intrinsic+json": {
              "type": "string"
            },
            "text/plain": [
              "'Kate'"
            ]
          },
          "metadata": {
            "tags": []
          },
          "execution_count": 8
        }
      ]
    },
    {
      "cell_type": "code",
      "metadata": {
        "colab": {
          "base_uri": "https://localhost:8080/"
        },
        "id": "cY58J4qlJRFZ",
        "outputId": "bd81111c-3161-4486-875c-22f3ff849ac3"
      },
      "source": [
        "# Now for the \"SEARCH\"\n",
        "me_1 = pattern.search('Hello Kate')\n",
        "me_1\n",
        "\n",
        "# It mached from space 6-10 where the matched string is "
      ],
      "execution_count": null,
      "outputs": [
        {
          "output_type": "execute_result",
          "data": {
            "text/plain": [
              "<re.Match object; span=(6, 10), match='Kate'>"
            ]
          },
          "metadata": {
            "tags": []
          },
          "execution_count": 10
        }
      ]
    },
    {
      "cell_type": "code",
      "metadata": {
        "colab": {
          "base_uri": "https://localhost:8080/"
        },
        "id": "eKYZr05pJpGk",
        "outputId": "9be1fff3-1664-48b9-bab1-a82f740b79a3"
      },
      "source": [
        "# \\D matches any non-digit character: equivalent to the class[^0-9]\n",
        "# Here, we're looking for \"K\" and any character after \"K\" that IS NOT a digit \n",
        "pattern_2 = re.compile(r'K\\D')\n",
        "\n",
        "# It only captured 2 characters\n",
        "pattern_2.match('Kate1120')"
      ],
      "execution_count": null,
      "outputs": [
        {
          "output_type": "execute_result",
          "data": {
            "text/plain": [
              "<re.Match object; span=(0, 2), match='Ka'>"
            ]
          },
          "metadata": {
            "tags": []
          },
          "execution_count": 19
        }
      ]
    },
    {
      "cell_type": "code",
      "metadata": {
        "colab": {
          "base_uri": "https://localhost:8080/"
        },
        "id": "YCb8YHSOMvVo",
        "outputId": "7ffc29d2-6f8e-4ea7-a51a-e708cb39c882"
      },
      "source": [
        "# If you add +\n",
        "pattern_2 = re.compile(r'K\\D+')\n",
        "pattern_2.match('Kate1120')"
      ],
      "execution_count": null,
      "outputs": [
        {
          "output_type": "execute_result",
          "data": {
            "text/plain": [
              "<re.Match object; span=(0, 4), match='Kate'>"
            ]
          },
          "metadata": {
            "tags": []
          },
          "execution_count": 20
        }
      ]
    },
    {
      "cell_type": "code",
      "metadata": {
        "colab": {
          "base_uri": "https://localhost:8080/"
        },
        "id": "-x45wUR9M3vs",
        "outputId": "bc5afc2c-5de6-4851-efba-0a805762dc3a"
      },
      "source": [
        "# \\w matches any alphanumeric character; this is equivalent to the class [a-zA-Z0-9_]\n",
        "# so that includes numbers aswell\n",
        "\n",
        "pattern_2 = re.compile(r'K\\w+')\n",
        "pattern_2.match('Kate1120')"
      ],
      "execution_count": null,
      "outputs": [
        {
          "output_type": "execute_result",
          "data": {
            "text/plain": [
              "<re.Match object; span=(0, 8), match='Kate1120'>"
            ]
          },
          "metadata": {
            "tags": []
          },
          "execution_count": 22
        }
      ]
    },
    {
      "cell_type": "code",
      "metadata": {
        "id": "Z99wIH5FNqhT"
      },
      "source": [
        "# Quite good for finding file names\n",
        "\n",
        "string = 'image.jpg, image.png, another_doc, my_doc.doc, not_file,hello.gif'\n",
        "\n",
        "pattern_3 = re.compile(r'(\\w+)\\.(jpg|png|gif)')"
      ],
      "execution_count": null,
      "outputs": []
    },
    {
      "cell_type": "code",
      "metadata": {
        "colab": {
          "base_uri": "https://localhost:8080/"
        },
        "id": "Kcukq9KVOThJ",
        "outputId": "84f19b48-c21a-422a-f8be-ccca621b0e40"
      },
      "source": [
        "for m in re.finditer(pattern_3, string):\n",
        "  print(m.group())"
      ],
      "execution_count": null,
      "outputs": [
        {
          "output_type": "stream",
          "text": [
            "image.jpg\n",
            "image.png\n",
            "hello.gif\n"
          ],
          "name": "stdout"
        }
      ]
    },
    {
      "cell_type": "markdown",
      "metadata": {
        "id": "SuzX34R7f-jh"
      },
      "source": [
        "##### Type hints\n",
        "- THIS CAN BE CONFUSING "
      ]
    },
    {
      "cell_type": "code",
      "metadata": {
        "id": "RQ73s1_sOZT1",
        "colab": {
          "base_uri": "https://localhost:8080/",
          "height": 35
        },
        "outputId": "592852bc-d174-45e3-bda9-55f85a423fd0"
      },
      "source": [
        "#def hello(name):\n",
        "  #return f'Helo {name}'\n",
        "\n",
        "# With Type Hints\n",
        "def hello(name: str) -> str:\n",
        "  return f'Hello {name}'\n",
        "\n",
        "hello('Kate')"
      ],
      "execution_count": null,
      "outputs": [
        {
          "output_type": "execute_result",
          "data": {
            "application/vnd.google.colaboratory.intrinsic+json": {
              "type": "string"
            },
            "text/plain": [
              "'Hello Kate'"
            ]
          },
          "metadata": {
            "tags": []
          },
          "execution_count": 1
        }
      ]
    },
    {
      "cell_type": "markdown",
      "metadata": {
        "id": "P3tdZXWx20DO"
      },
      "source": [
        "### **CAPSTONE: COMPUTER VISION**\n",
        "- This works on VSCode"
      ]
    },
    {
      "cell_type": "code",
      "metadata": {
        "id": "jvjRgzWk4G9s"
      },
      "source": [
        "import numpy as np\n",
        "import cv2"
      ],
      "execution_count": null,
      "outputs": []
    },
    {
      "cell_type": "code",
      "metadata": {
        "id": "TbRvZsasBBuX"
      },
      "source": [
        "from google.colab.patches import cv2_imshow"
      ],
      "execution_count": null,
      "outputs": []
    },
    {
      "cell_type": "code",
      "metadata": {
        "id": "1EDDNvzO3A_y"
      },
      "source": [
        "# Gets the brightness values of the circles\n",
        "def av_pix(img,circles,size):\n",
        "    av_value = []\n",
        "    for coords in circles[0,:]:\n",
        "        col = np.mean(img[coords[1]-size:coords[1]+size,coords[0]-size:coords[0]+size])\n",
        "        #print(img[coords[1]-size:coords[1]+size,coords[0]-size:coords[0]+size])\n",
        "        av_value.append(col)\n",
        "    return av_value   \n",
        "\n",
        "# Gets the circles radius values\n",
        "def get_radius(circles):      \n",
        "    radius = []\n",
        "    for coords in circles[0,:]:\n",
        "        radius.append(coords[2])    \n",
        "    return radius\n",
        "\n",
        "img = cv2.imread('/content/drive/MyDrive/Colab Notebooks/365 Data Science/PythonPrgBootcamp/19.4 capstone_coins (2).png',cv2.IMREAD_GRAYSCALE)  # Grayscale\n",
        "original_image = cv2.imread('/content/drive/MyDrive/Colab Notebooks/365 Data Science/PythonPrgBootcamp/19.4 capstone_coins (2).png',1)          # Original\n",
        "img = cv2.GaussianBlur(img, (5,5), 0)  # Add Blur\n",
        "\n",
        "# Finds the coords of the circles and their radius \n",
        "circles = cv2.HoughCircles(img,cv2.HOUGH_GRADIENT,0.9,120,param1=50,param2=27,minRadius=60,maxRadius=120)\n",
        "\n",
        "print(circles)\n",
        "\n",
        "circles = np.uint16(np.around(circles)) # Round the circles to INT\n",
        "count = 1 # Start count \n",
        "# This loop finds the circles (recognize and label)\n",
        "for i in circles[0,:]:\n",
        "    \n",
        "    # Draw the outer circle\n",
        "    cv2.circle(original_image,(i[0],i[1]),i[2],(0,255,0),2) # (coordinates, (color of the circles to draw in \"rgb format\"), line thickness)\n",
        "    # Draw the center of the circle\n",
        "    cv2.circle(original_image,(i[0],i[1]),2,(0,0,255),3)\n",
        "    cv2.putText(original_image, str(count),(i[0],i[1]), cv2.FONT_HERSHEY_SIMPLEX, 2, (0,0,0), 2)\n",
        "    count += 1\n",
        "\n",
        "# Using the functions \n",
        "radii = get_radius(circles)   \n",
        "print(radii)\n",
        "\n",
        "bright_values = av_pix(img,circles,20)\n",
        "print(bright_values)\n",
        "\n",
        "# Classifying the coins\n",
        "values = []\n",
        "for a,b in zip(bright_values,radii):\n",
        "    if a > 150 and b > 110:\n",
        "        values.append(10)\n",
        "    elif a > 150 and b <= 110:\n",
        "        values.append(5)\n",
        "    elif a < 150 and b > 110:\n",
        "        values.append(2)\n",
        "    elif a < 150 and b < 110:\n",
        "        values.append(1)        \n",
        "print(values)           \n",
        "count_2 = 0\n",
        "for i in circles[0,:]:\n",
        "    \n",
        "    cv2.putText(original_image, str(values[count_2]) + 'p',(i[0],i[1]), cv2.FONT_HERSHEY_SIMPLEX, 2, (0,0,0), 2)  # Label img \"original_image\"\n",
        "    count_2 += 1\n",
        "cv2.putText(original_image, 'ESTIMATED TOTAL VALUE: ' + str(sum(values)) + 'p', (200,100), cv2.FONT_HERSHEY_SIMPLEX, 1.3, 255)\n",
        "\n",
        "\n",
        "\n",
        "cv2.cv2_imshow('Detected Coins',original_image)  \n",
        "cv2.waitKey(0)\n",
        "cv2.destroyAllWindows()"
      ],
      "execution_count": null,
      "outputs": []
    },
    {
      "cell_type": "markdown",
      "metadata": {
        "id": "9Y122wsHL7fF"
      },
      "source": [
        "### **Exception handling**\n",
        "EXCEPTION IS AN OBJECT"
      ]
    },
    {
      "cell_type": "markdown",
      "metadata": {
        "id": "5Kre4_AiPBwN"
      },
      "source": [
        "##### try, except"
      ]
    },
    {
      "cell_type": "code",
      "metadata": {
        "colab": {
          "base_uri": "https://localhost:8080/"
        },
        "id": "MiZ-7vLAL_Bx",
        "outputId": "e754c932-ece6-4cac-eccf-b53fdd2381fa"
      },
      "source": [
        "def division(x:float, y:float) -> float:\n",
        "  return x/y\n",
        "\n",
        "division(3.0,2.0)"
      ],
      "execution_count": null,
      "outputs": [
        {
          "output_type": "execute_result",
          "data": {
            "text/plain": [
              "1.5"
            ]
          },
          "metadata": {
            "tags": []
          },
          "execution_count": 2
        }
      ]
    },
    {
      "cell_type": "code",
      "metadata": {
        "id": "YWW_5ydbMPQd"
      },
      "source": [
        "# THE ERROR TO HANDLE\n",
        "division(3.0,0)"
      ],
      "execution_count": null,
      "outputs": []
    },
    {
      "cell_type": "code",
      "metadata": {
        "colab": {
          "base_uri": "https://localhost:8080/"
        },
        "id": "Hf-ZhRO_MaqT",
        "outputId": "9a5b318a-e3ea-4c7c-e1a3-e4057d4657e2"
      },
      "source": [
        "# How Python handles errors\n",
        "try:\n",
        "  division(3.0,0)          # Try this function\n",
        "except ZeroDivisionError:  # If error, print\n",
        "  print(\"Cannot divide by 0\")"
      ],
      "execution_count": null,
      "outputs": [
        {
          "output_type": "stream",
          "text": [
            "Cannot divide by 0\n"
          ],
          "name": "stdout"
        }
      ]
    },
    {
      "cell_type": "code",
      "metadata": {
        "colab": {
          "base_uri": "https://localhost:8080/"
        },
        "id": "x_kNYMobMyQ2",
        "outputId": "d644bbc4-b80f-4621-9a8c-a0117fa3da49"
      },
      "source": [
        "# EXCEPTION IS AN OBJECT (as)\n",
        "try:\n",
        "  division(3.0,0)          \n",
        "except ZeroDivisionError as err: \n",
        "  print(err) \n",
        "  print(\"Cannot divide by 0\")"
      ],
      "execution_count": null,
      "outputs": [
        {
          "output_type": "stream",
          "text": [
            "float division by zero\n",
            "Cannot divide by 0\n"
          ],
          "name": "stdout"
        }
      ]
    },
    {
      "cell_type": "code",
      "metadata": {
        "colab": {
          "base_uri": "https://localhost:8080/"
        },
        "id": "mHaDm555OAyu",
        "outputId": "996a4c9d-44ab-4c50-c786-c298f80d1ba7"
      },
      "source": [
        "# What if someone entered a string?\n",
        "try:\n",
        "  division(3.0,\"potato\")          \n",
        "except ZeroDivisionError as err: \n",
        "  print(err) \n",
        "  print(\"Cannot divide by 0\")\n",
        "except TypeError as t_err:\n",
        "  print(t_err)\n",
        "  print(\"Please input a number\")"
      ],
      "execution_count": null,
      "outputs": [
        {
          "output_type": "stream",
          "text": [
            "unsupported operand type(s) for /: 'float' and 'str'\n",
            "Please input a number\n"
          ],
          "name": "stdout"
        }
      ]
    },
    {
      "cell_type": "markdown",
      "metadata": {
        "id": "nZtzHWdCPNRQ"
      },
      "source": [
        "##### The block stops running as soon as the exception is encountered"
      ]
    },
    {
      "cell_type": "code",
      "metadata": {
        "id": "5OgvmLaYPO0K"
      },
      "source": [
        "def division2(x:float, y:float) -> float:\n",
        "  print(\"Let's get startet\")\n",
        "  output = x/y                  # It stops here\n",
        "  print(\"All done!\")\n",
        "  return output"
      ],
      "execution_count": null,
      "outputs": []
    },
    {
      "cell_type": "code",
      "metadata": {
        "colab": {
          "base_uri": "https://localhost:8080/"
        },
        "id": "Rvw82blx3uLQ",
        "outputId": "1993cb47-f03e-4eb7-c26c-4f24bbe1bee0"
      },
      "source": [
        "# As soon as it gets the error, it doesnt continue to --> print(\"All done!\")\n",
        "print(\"Entering try block\")\n",
        "try:\n",
        "  division2(3.0,\"potato\")\n",
        "except ZeroDivisionError as err:\n",
        "  print(err)\n",
        "  print(\"Cannot divide by zero\")\n",
        "except TypeError as t_err:\n",
        "  print(t_err)\n",
        "  print(\"Please input a number\")\n",
        "print(\"Program finished\")"
      ],
      "execution_count": null,
      "outputs": [
        {
          "output_type": "stream",
          "text": [
            "Entering try block\n",
            "Let's get startet\n",
            "unsupported operand type(s) for /: 'float' and 'str'\n",
            "Please input a number\n",
            "Program finished\n"
          ],
          "name": "stdout"
        }
      ]
    },
    {
      "cell_type": "code",
      "metadata": {
        "id": "uiUcEJc54Vy8",
        "colab": {
          "base_uri": "https://localhost:8080/"
        },
        "outputId": "c9807d41-d7c6-48b6-fee0-0253563c9599"
      },
      "source": [
        "# Here's without an error\n",
        "print(\"Entering try block\")\n",
        "try:\n",
        "  division2(3.0,2.0)\n",
        "except ZeroDivisionError as err:\n",
        "  print(err)\n",
        "  print(\"Cannot divide by zero\")\n",
        "except TypeError as t_err:\n",
        "  print(t_err)\n",
        "  print(\"Please input a number\")\n",
        "print(\"Program finished\")"
      ],
      "execution_count": null,
      "outputs": [
        {
          "output_type": "stream",
          "text": [
            "Entering try block\n",
            "Let's get startet\n",
            "All done!\n",
            "Program finished\n"
          ],
          "name": "stdout"
        }
      ]
    },
    {
      "cell_type": "code",
      "metadata": {
        "colab": {
          "base_uri": "https://localhost:8080/"
        },
        "id": "xYsbfBtsjPNs",
        "outputId": "8add080c-da52-4684-c6cb-81e924dff84e"
      },
      "source": [
        "# Optional \"else\" block\n",
        "# Executes if no errors are encountered\n",
        "print(\"Entering try block\")\n",
        "try:\n",
        "  division2(3.0,2)\n",
        "except ZeroDivisionError as err:\n",
        "  print(err)\n",
        "  print(\"Cannot divide by zero\")\n",
        "except TypeError as t_err:\n",
        "  print(t_err)\n",
        "  print(\"Please input a number\")\n",
        "else:\n",
        "  print(\"Program finished without error\")\n"
      ],
      "execution_count": null,
      "outputs": [
        {
          "output_type": "stream",
          "text": [
            "Entering try block\n",
            "Let's get startet\n",
            "All done!\n",
            "Program finished without error\n"
          ],
          "name": "stdout"
        }
      ]
    },
    {
      "cell_type": "code",
      "metadata": {
        "colab": {
          "base_uri": "https://localhost:8080/"
        },
        "id": "zvZWqPxGkgiW",
        "outputId": "b6513518-f773-45a9-ab60-4ff5b0c18c71"
      },
      "source": [
        "# Optional \"finally\" block\n",
        "# This will execute whatever the outcome of the try block\n",
        "print(\"Entering try block\")\n",
        "try:\n",
        "  division2(3.0,0)\n",
        "except ZeroDivisionError as err:\n",
        "  print(err)\n",
        "  print(\"Cannot divide by zero\")\n",
        "except TypeError as t_err:\n",
        "  print(t_err)\n",
        "  print(\"Please input a number\")\n",
        "else:\n",
        "  print(\"Program finished without error\")\n",
        "\n",
        "finally:\n",
        "  print(\"That concludes this code block\")"
      ],
      "execution_count": null,
      "outputs": [
        {
          "output_type": "stream",
          "text": [
            "Entering try block\n",
            "Let's get startet\n",
            "float division by zero\n",
            "Cannot divide by zero\n",
            "That concludes this code block\n"
          ],
          "name": "stdout"
        }
      ]
    },
    {
      "cell_type": "code",
      "metadata": {
        "colab": {
          "base_uri": "https://localhost:8080/"
        },
        "id": "99IwL1Fwl6UH",
        "outputId": "065722de-e98d-4c57-c783-f638c992483a"
      },
      "source": [
        "# Generic block for unknown errors\n",
        "# Add a \"generic except block\" to catch any \"unexpected errors\"\n",
        "print(\"Entering try block\")\n",
        "try:\n",
        "  division2(3.0,0)\n",
        "except ZeroDivisionError as err:\n",
        "  print(err)\n",
        "  print(\"Cannot divide by zero\")\n",
        "except TypeError as t_err:\n",
        "  print(t_err)\n",
        "  print(\"Please input a number\")\n",
        "except:                                         # The generic except block\n",
        "  print(\"Something unforeseen happened\") \n",
        "else:\n",
        "  print(\"Program finished without error\")\n",
        "\n",
        "finally:\n",
        "  print(\"That concludes this code block\")"
      ],
      "execution_count": null,
      "outputs": [
        {
          "output_type": "stream",
          "text": [
            "Entering try block\n",
            "Let's get startet\n",
            "float division by zero\n",
            "Cannot divide by zero\n",
            "That concludes this code block\n"
          ],
          "name": "stdout"
        }
      ]
    },
    {
      "cell_type": "markdown",
      "metadata": {
        "id": "tUg6mmA4lu4q"
      },
      "source": [
        "##### When to use tryblock"
      ]
    },
    {
      "cell_type": "code",
      "metadata": {
        "colab": {
          "base_uri": "https://localhost:8080/"
        },
        "id": "gJuk8IMJl5c2",
        "outputId": "c9d4d4e1-96fc-4ef5-f55c-b2efdedc57b0"
      },
      "source": [
        "while True:\n",
        "  try:\n",
        "    x = int(input(\"Please enter a number: \"))\n",
        "    break\n",
        "  except ValueError:\n",
        "    print(\"That was not a valid number, Try again\")"
      ],
      "execution_count": null,
      "outputs": [
        {
          "output_type": "stream",
          "text": [
            "Please enter a number: a\n",
            "That was not a valid number, Try again\n",
            "Please enter a number: 1\n"
          ],
          "name": "stdout"
        }
      ]
    },
    {
      "cell_type": "markdown",
      "metadata": {
        "id": "Ik1OTPv4oavd"
      },
      "source": [
        "##### Raising Exceptions"
      ]
    },
    {
      "cell_type": "code",
      "metadata": {
        "colab": {
          "base_uri": "https://localhost:8080/"
        },
        "id": "MSiEimXCoFhZ",
        "outputId": "32debe3d-b3bb-471c-aa07-fef2c4ab74aa"
      },
      "source": [
        "try:\n",
        "\n",
        "  x = \"Her name is Kate\"\n",
        "\n",
        "  if not type(x) is int:\n",
        "    raise TypeError(\"Only integers are allowed\")\n",
        "except TypeError as e:\n",
        "  print(e)\n",
        "else:\n",
        "  print(\"Valid input\")"
      ],
      "execution_count": null,
      "outputs": [
        {
          "output_type": "stream",
          "text": [
            "Only integers are allowed\n"
          ],
          "name": "stdout"
        }
      ]
    }
  ]
}