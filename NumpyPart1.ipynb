{
  "nbformat": 4,
  "nbformat_minor": 0,
  "metadata": {
    "colab": {
      "name": "NumpyPart1.ipynb",
      "provenance": [],
      "collapsed_sections": [
        "MT60zMvBeCue",
        "o1r4rkcwS3nO",
        "a2G9fPPirYIl",
        "xl4WPXj_rlC6",
        "oANbL7Kd02gU",
        "l7GzR6Q668Ay",
        "2OHQQRsL_Dzb",
        "MveJBj9rISq1",
        "ZBPQE041KXsv",
        "bf_7yHX2NgYo",
        "hEQ4wTr5Oh0w",
        "B2PsdEivP_lP",
        "cbH-bsRSSSe3",
        "gfeYthiQZNVu",
        "9VDqJ_fZbe9a",
        "KAIVnw-JgZia",
        "ILL7mq8sknk5",
        "TFbItG6Vohw0",
        "LRiQXKpRp8Yy",
        "bpfQ6f4yszn2",
        "tMvMxag6z0rT",
        "NXYypP9Y5JfL",
        "hA9Z_PRq9fmf",
        "3KH4hRx8Midh"
      ],
      "authorship_tag": "ABX9TyM+3+3qQmBd7eGQm6zT2vHf",
      "include_colab_link": true
    },
    "kernelspec": {
      "name": "python3",
      "display_name": "Python 3"
    },
    "language_info": {
      "name": "python"
    }
  },
  "cells": [
    {
      "cell_type": "markdown",
      "metadata": {
        "id": "view-in-github",
        "colab_type": "text"
      },
      "source": [
        "<a href=\"https://colab.research.google.com/github/JaiswalFelipe/Learning-Python/blob/main/NumpyPart1.ipynb\" target=\"_parent\"><img src=\"https://colab.research.google.com/assets/colab-badge.svg\" alt=\"Open In Colab\"/></a>"
      ]
    },
    {
      "cell_type": "markdown",
      "metadata": {
        "id": "K44gvVbybFYm"
      },
      "source": [
        "# **Numeric Python**\n",
        "Documentation: numpy.org"
      ]
    },
    {
      "cell_type": "code",
      "metadata": {
        "id": "O2ysiahra6QA"
      },
      "source": [
        "import numpy as np"
      ],
      "execution_count": null,
      "outputs": []
    },
    {
      "cell_type": "markdown",
      "metadata": {
        "id": "MT60zMvBeCue"
      },
      "source": [
        "### **N-D array**\n",
        "- Point \".\" Represents object Oth dimension (Single Data point) 0-D array\n",
        "- Line \"___\" \" \" \" 1st dimension (Sequence of points) 1-D array\n",
        "- Plane      \" \" \" 2nd dimension (Sequence of infinitely many lines placed next to one another) 2-D array: collection of 1-D sequences\n",
        "- Arrays == Vectors (Linear Algebra)\n",
        "- N-Dimensional array: N --> Natural Numbers\n",
        "- N of opening/closing brackets == N-dimensions "
      ]
    },
    {
      "cell_type": "code",
      "metadata": {
        "colab": {
          "base_uri": "https://localhost:8080/"
        },
        "id": "_c9UbvjTgplI",
        "outputId": "e1c55535-1eb1-4c94-a3fa-c907ccd5dfc2"
      },
      "source": [
        "array_2D = np.array([[1,2,3],[ 4,5,6]])\n",
        "print(array_2D)\n",
        "print(type(array_2D))\n",
        "\n",
        "# Two 1D arrays each containing exactly 3 elements (2x3 table: 2 Rows and 3 Cols)\n",
        "print(array_2D.shape)  \n",
        "\n",
        "# You can index the shape\n",
        "print(\"\")\n",
        "print(array_2D.shape[0]) # How many rows\n",
        "print(array_2D.shape[1]) # How many cols"
      ],
      "execution_count": null,
      "outputs": [
        {
          "output_type": "stream",
          "text": [
            "[[1 2 3]\n",
            " [4 5 6]]\n",
            "<class 'numpy.ndarray'>\n",
            "(2, 3)\n",
            "\n",
            "2\n",
            "3\n"
          ],
          "name": "stdout"
        }
      ]
    },
    {
      "cell_type": "markdown",
      "metadata": {
        "id": "o1r4rkcwS3nO"
      },
      "source": [
        "##### Arrays and Lists"
      ]
    },
    {
      "cell_type": "code",
      "metadata": {
        "colab": {
          "base_uri": "https://localhost:8080/"
        },
        "id": "HPseAlDDQJjQ",
        "outputId": "1447a35f-84d0-4ec4-9237-7e7b026b9582"
      },
      "source": [
        "# Plug in lists as inputs of the np.array() function\n",
        "list_a = [[4,5,7],[9,3,1]]\n",
        "print(list_a) # Lists showcase all the values in a single line (does not have shape)\n",
        "\n",
        "array_a = np.array(list_a)\n",
        "\n",
        "print(\"\")\n",
        "print(array_a) # While arrays stack them like a table with 2 rows and 3 cols (have shape)"
      ],
      "execution_count": null,
      "outputs": [
        {
          "output_type": "stream",
          "text": [
            "[[4, 5, 7], [9, 3, 1]]\n",
            "\n",
            "[[4 5 7]\n",
            " [9 3 1]]\n"
          ],
          "name": "stdout"
        }
      ]
    },
    {
      "cell_type": "code",
      "metadata": {
        "colab": {
          "base_uri": "https://localhost:8080/"
        },
        "id": "nzOCojfRTeVc",
        "outputId": "655cefc7-ba02-42cb-d634-e26fec5cd943"
      },
      "source": [
        "# Array Operations works elementwise while list ops don't\n",
        "list_b = list_a[0] + list_a[1]\n",
        "array_b = array_a[0] + array_a[1]\n",
        "\n",
        "print(list_b) # List concats\n",
        "print(\"\")\n",
        "print(array_b) # Array sums (each col == elementwise)"
      ],
      "execution_count": null,
      "outputs": [
        {
          "output_type": "stream",
          "text": [
            "[4, 5, 7, 9, 3, 1]\n",
            "\n",
            "[13  8  8]\n"
          ],
          "name": "stdout"
        }
      ]
    },
    {
      "cell_type": "code",
      "metadata": {
        "colab": {
          "base_uri": "https://localhost:8080/"
        },
        "id": "UYsnyPBuWS6s",
        "outputId": "0c5db5af-bd58-448e-8521-695094cc5e31"
      },
      "source": [
        "# Mathematical functions\n",
        "np.sqrt(array_a)"
      ],
      "execution_count": null,
      "outputs": [
        {
          "output_type": "execute_result",
          "data": {
            "text/plain": [
              "array([[2.        , 2.23606798, 2.64575131],\n",
              "       [3.        , 1.73205081, 1.        ]])"
            ]
          },
          "metadata": {
            "tags": []
          },
          "execution_count": 5
        }
      ]
    },
    {
      "cell_type": "markdown",
      "metadata": {
        "id": "a2G9fPPirYIl"
      },
      "source": [
        "### **Numpy Fundamentals**"
      ]
    },
    {
      "cell_type": "markdown",
      "metadata": {
        "id": "xl4WPXj_rlC6"
      },
      "source": [
        "##### Indexing\n",
        "- Like many other programming languages, python uses 0 indexing\n",
        "- When working with 2D arrays, ROWS == ELEMENETS, \n",
        "- SEPARATE NUMERIC VALS == INDIVIDUAL ELEMENTS "
      ]
    },
    {
      "cell_type": "code",
      "metadata": {
        "id": "fuUNf-SUWkbb",
        "colab": {
          "base_uri": "https://localhost:8080/"
        },
        "outputId": "650f473f-3b4e-41fa-9570-cbb2a76dd43d"
      },
      "source": [
        "print(array_a)\n",
        "print(\"\")\n",
        "\n",
        "# Specific values\n",
        "print(array_a[0])\n",
        "print(\"\")\n",
        "print(array_a[1])"
      ],
      "execution_count": null,
      "outputs": [
        {
          "output_type": "stream",
          "text": [
            "[[4 5 7]\n",
            " [9 3 1]]\n",
            "\n",
            "[4 5 7]\n",
            "\n",
            "[9 3 1]\n"
          ],
          "name": "stdout"
        }
      ]
    },
    {
      "cell_type": "code",
      "metadata": {
        "colab": {
          "base_uri": "https://localhost:8080/"
        },
        "id": "HhGxeSjXrXHZ",
        "outputId": "9d2e9d56-310e-4103-9e67-7c49657c0d0d"
      },
      "source": [
        "# INDIVIDUAL ELEMENTS\n",
        "# \"Second\" element of row \"one\"\n",
        "print(array_a[0][1])\n",
        "\n",
        "# Is the same as:\n",
        "\n",
        "print(array_a[0,1])"
      ],
      "execution_count": null,
      "outputs": [
        {
          "output_type": "stream",
          "text": [
            "5\n",
            "5\n"
          ],
          "name": "stdout"
        }
      ]
    },
    {
      "cell_type": "code",
      "metadata": {
        "colab": {
          "base_uri": "https://localhost:8080/"
        },
        "id": "4uBOgkN1uD-2",
        "outputId": "a9ffe2b5-36a6-4ded-b42e-69861afeac44"
      },
      "source": [
        "# Slicing: Go through all the rows from this column\n",
        "# all the first \"individual\" elements of the 2 rows\n",
        "array_a[:,0]"
      ],
      "execution_count": null,
      "outputs": [
        {
          "output_type": "execute_result",
          "data": {
            "text/plain": [
              "array([4, 9])"
            ]
          },
          "metadata": {
            "tags": []
          },
          "execution_count": 14
        }
      ]
    },
    {
      "cell_type": "code",
      "metadata": {
        "colab": {
          "base_uri": "https://localhost:8080/"
        },
        "id": "RXobTQk5vMi0",
        "outputId": "65a32177-639e-435a-aac7-797475eb55ed"
      },
      "source": [
        "# Negative indices: Traversing the array backwards\n",
        "\n",
        "# Last element\n",
        "print(array_a[-1])\n",
        "\n",
        "# Last \"individual\" element of the last element\n",
        "print(array_a[-1][-1])\n",
        "\n",
        "# Last \"individual\" elements of the Rows\n",
        "print(array_a[:,-1])"
      ],
      "execution_count": null,
      "outputs": [
        {
          "output_type": "stream",
          "text": [
            "[9 3 1]\n",
            "1\n",
            "[7 1]\n"
          ],
          "name": "stdout"
        }
      ]
    },
    {
      "cell_type": "markdown",
      "metadata": {
        "id": "oANbL7Kd02gU"
      },
      "source": [
        "##### Assigning Values"
      ]
    },
    {
      "cell_type": "code",
      "metadata": {
        "colab": {
          "base_uri": "https://localhost:8080/"
        },
        "id": "Ul7nBv6g0D46",
        "outputId": "4cccfeff-34fa-4320-f5fd-db10729da274"
      },
      "source": [
        "array_a"
      ],
      "execution_count": null,
      "outputs": [
        {
          "output_type": "execute_result",
          "data": {
            "text/plain": [
              "array([[4, 5, 7],\n",
              "       [9, 3, 1]])"
            ]
          },
          "metadata": {
            "tags": []
          },
          "execution_count": 19
        }
      ]
    },
    {
      "cell_type": "code",
      "metadata": {
        "colab": {
          "base_uri": "https://localhost:8080/"
        },
        "id": "oxfzyhtl1TSs",
        "outputId": "9f0a7b4c-dc91-4707-c638-087c20b50d37"
      },
      "source": [
        "# Alter individual elements within an array\n",
        "# I.E. Set the 3rd individual element of the first row to a different number\n",
        "array_a[0,-1] = 5\n",
        "\n",
        "# Set individual elements of the 2nd row to 0\n",
        "array_a[-1] = 0\n",
        "\n",
        "print(array_a)"
      ],
      "execution_count": null,
      "outputs": [
        {
          "output_type": "stream",
          "text": [
            "[[4 5 5]\n",
            " [0 0 0]]\n"
          ],
          "name": "stdout"
        }
      ]
    },
    {
      "cell_type": "code",
      "metadata": {
        "colab": {
          "base_uri": "https://localhost:8080/"
        },
        "id": "lBjr8jwc2NHp",
        "outputId": "da79d18a-9db0-4c3a-d497-6513e340dc1a"
      },
      "source": [
        "# Using list to set individual values\n",
        "list_a = [1,2,3]\n",
        "\n",
        "array_a[0] = list_a\n",
        "array_a"
      ],
      "execution_count": null,
      "outputs": [
        {
          "output_type": "execute_result",
          "data": {
            "text/plain": [
              "array([[1, 2, 3],\n",
              "       [0, 0, 0]])"
            ]
          },
          "metadata": {
            "tags": []
          },
          "execution_count": 31
        }
      ]
    },
    {
      "cell_type": "code",
      "metadata": {
        "colab": {
          "base_uri": "https://localhost:8080/"
        },
        "id": "DXI87gbx58M1",
        "outputId": "d72a8295-2028-4b35-9037-df762c814600"
      },
      "source": [
        "# Go through all the rows and assign each one the same value\n",
        "array_a[:] = 5\n",
        "array_a"
      ],
      "execution_count": null,
      "outputs": [
        {
          "output_type": "execute_result",
          "data": {
            "text/plain": [
              "array([[5, 5, 5],\n",
              "       [5, 5, 5]])"
            ]
          },
          "metadata": {
            "tags": []
          },
          "execution_count": 32
        }
      ]
    },
    {
      "cell_type": "markdown",
      "metadata": {
        "id": "l7GzR6Q668Ay"
      },
      "source": [
        "##### Elementwise Properties\n",
        "- Whatever mathematical computation we are conducting, we are doing it to each element of the array"
      ]
    },
    {
      "cell_type": "code",
      "metadata": {
        "colab": {
          "base_uri": "https://localhost:8080/"
        },
        "id": "EAi8vux56lXd",
        "outputId": "d69166d1-4f82-47d5-80b8-7e34c34dc932"
      },
      "source": [
        "array_a"
      ],
      "execution_count": null,
      "outputs": [
        {
          "output_type": "execute_result",
          "data": {
            "text/plain": [
              "array([[5, 5, 5],\n",
              "       [5, 5, 5]])"
            ]
          },
          "metadata": {
            "tags": []
          },
          "execution_count": 33
        }
      ]
    },
    {
      "cell_type": "code",
      "metadata": {
        "colab": {
          "base_uri": "https://localhost:8080/"
        },
        "id": "7dQZTCPF8GbT",
        "outputId": "2baacab4-2903-4e29-ea92-6dd69b154d10"
      },
      "source": [
        "array_a + 2"
      ],
      "execution_count": null,
      "outputs": [
        {
          "output_type": "execute_result",
          "data": {
            "text/plain": [
              "array([[7, 7, 7],\n",
              "       [7, 7, 7]])"
            ]
          },
          "metadata": {
            "tags": []
          },
          "execution_count": 34
        }
      ]
    },
    {
      "cell_type": "code",
      "metadata": {
        "colab": {
          "base_uri": "https://localhost:8080/"
        },
        "id": "RM-VDhR38LjB",
        "outputId": "ea4ab26a-1001-42eb-9608-dda247d185f3"
      },
      "source": [
        "# Elementwise Addition\n",
        "# Each individual element is added up with its corresponding counterpart from the other array\n",
        "array_b"
      ],
      "execution_count": null,
      "outputs": [
        {
          "output_type": "stream",
          "text": [
            "[13  8  8]\n"
          ],
          "name": "stdout"
        }
      ]
    },
    {
      "cell_type": "code",
      "metadata": {
        "colab": {
          "base_uri": "https://localhost:8080/"
        },
        "id": "7bR0AgbJ9LV9",
        "outputId": "1ae9c351-be76-40cc-b237-620cfbb7d78f"
      },
      "source": [
        "array_a[0] * array_b"
      ],
      "execution_count": null,
      "outputs": [
        {
          "output_type": "execute_result",
          "data": {
            "text/plain": [
              "array([65, 40, 40])"
            ]
          },
          "metadata": {
            "tags": []
          },
          "execution_count": 38
        }
      ]
    },
    {
      "cell_type": "code",
      "metadata": {
        "colab": {
          "base_uri": "https://localhost:8080/"
        },
        "id": "OOxrl25z9efS",
        "outputId": "b9b9509a-4ee0-4ca5-e7a6-f7b3c26eccde"
      },
      "source": [
        "# Conduct operations between arrays of different dimensions\n",
        "# NOTE: The shapes of the arrays need to be compatible, \n",
        "# The length of the 1-D array must match the \"length\" of the 2_D array\n",
        "array_c = np.array([[1,2,3],[5,6,7]])\n",
        "\n",
        "array_a + array_c"
      ],
      "execution_count": null,
      "outputs": [
        {
          "output_type": "execute_result",
          "data": {
            "text/plain": [
              "array([[ 6,  7,  8],\n",
              "       [10, 11, 12]])"
            ]
          },
          "metadata": {
            "tags": []
          },
          "execution_count": 39
        }
      ]
    },
    {
      "cell_type": "markdown",
      "metadata": {
        "id": "2OHQQRsL_Dzb"
      },
      "source": [
        "##### Types of Data Supported by NumPy\n",
        "- Arrays can contain numbers (All Numerical datatypes)\n"
      ]
    },
    {
      "cell_type": "code",
      "metadata": {
        "colab": {
          "base_uri": "https://localhost:8080/"
        },
        "id": "h0uEWKud-m3E",
        "outputId": "467c80c5-f708-4653-e237-e948c26ef23f"
      },
      "source": [
        "array_d = np.array([[1,2,3],[5,6,7]], dtype = \"float32\") # 32 bits of memory for each element of the array\n",
        "array_d"
      ],
      "execution_count": null,
      "outputs": [
        {
          "output_type": "execute_result",
          "data": {
            "text/plain": [
              "array([[1., 2., 3.],\n",
              "       [5., 6., 7.]], dtype=float32)"
            ]
          },
          "metadata": {
            "tags": []
          },
          "execution_count": 40
        }
      ]
    },
    {
      "cell_type": "code",
      "metadata": {
        "colab": {
          "base_uri": "https://localhost:8080/"
        },
        "id": "TNISt5bkAlr5",
        "outputId": "237bde75-2d80-4aa6-c8e8-ccab31fb4404"
      },
      "source": [
        "# Is the same as:\n",
        "array_d = np.array([[1,2,3],[5,6,7]], dtype = np.float16) # 16 bits of memory for each element of the array\n",
        "array_d"
      ],
      "execution_count": null,
      "outputs": [
        {
          "output_type": "execute_result",
          "data": {
            "text/plain": [
              "array([[1., 2., 3.],\n",
              "       [5., 6., 7.]], dtype=float16)"
            ]
          },
          "metadata": {
            "tags": []
          },
          "execution_count": 41
        }
      ]
    },
    {
      "cell_type": "code",
      "metadata": {
        "colab": {
          "base_uri": "https://localhost:8080/"
        },
        "id": "EpYTS-7rDK8D",
        "outputId": "858e3c43-9c9b-4615-f6c9-3fe587555572"
      },
      "source": [
        "# Booleans\n",
        "# Anything different from 0 is equated to \"True\" when using Booleans\n",
        "array_d = np.array([[1,2,0],[5,6,7]], dtype = np.bool) \n",
        "array_d"
      ],
      "execution_count": null,
      "outputs": [
        {
          "output_type": "execute_result",
          "data": {
            "text/plain": [
              "array([[ True,  True, False],\n",
              "       [ True,  True,  True]])"
            ]
          },
          "metadata": {
            "tags": []
          },
          "execution_count": 43
        }
      ]
    },
    {
      "cell_type": "code",
      "metadata": {
        "colab": {
          "base_uri": "https://localhost:8080/"
        },
        "id": "HqJclE-yE2ri",
        "outputId": "398282dd-ad2c-429a-f26d-bc8aa990bfa8"
      },
      "source": [
        "# Str\n",
        "array_d = np.array([[1,2,0],[5,6,7]], dtype = np.str)  # dtype='<U1' == Unicode values of length up to 1 \n",
        "array_d"
      ],
      "execution_count": null,
      "outputs": [
        {
          "output_type": "execute_result",
          "data": {
            "text/plain": [
              "array([['1', '2', '0'],\n",
              "       ['5', '6', '7']], dtype='<U1')"
            ]
          },
          "metadata": {
            "tags": []
          },
          "execution_count": 45
        }
      ]
    },
    {
      "cell_type": "code",
      "metadata": {
        "colab": {
          "base_uri": "https://localhost:8080/"
        },
        "id": "upkbnksVGXXI",
        "outputId": "c5b85a0e-0d9e-4c99-c94c-5749ad7d1307"
      },
      "source": [
        "# Str: dtype='<U2' == Unicode values of length up to 2 \n",
        "array_d = np.array([[11,2,0],[5,6,7]], dtype = np.str)  # \"11\" first indiv. element of the first element/row\n",
        "array_d"
      ],
      "execution_count": null,
      "outputs": [
        {
          "output_type": "execute_result",
          "data": {
            "text/plain": [
              "array([['11', '2', '0'],\n",
              "       ['5', '6', '7']], dtype='<U2')"
            ]
          },
          "metadata": {
            "tags": []
          },
          "execution_count": 46
        }
      ]
    },
    {
      "cell_type": "markdown",
      "metadata": {
        "id": "MveJBj9rISq1"
      },
      "source": [
        "### **Characteristics of NumPy Functions**\n",
        "- Universal Functions:\n",
        "  - Work with NDarrays on an element-by-element bases\n",
        "  - An extension of the elementwise operations\n",
        "  - Mathematical operations, trigonomentric functions, comparison functions\n",
        "  - Supports Broadcasting, Typecasting, Computing over a given axis"
      ]
    },
    {
      "cell_type": "markdown",
      "metadata": {
        "id": "ZBPQE041KXsv"
      },
      "source": [
        "##### BROADCASTING\n",
        "- Conduct elementwise operations BUT have elements of diff sizes, and/or dimensions\n",
        "- We can broadcast the smaller variable and create a broadcasted version with the size of the larger one"
      ]
    },
    {
      "cell_type": "code",
      "metadata": {
        "colab": {
          "base_uri": "https://localhost:8080/"
        },
        "id": "ZUPcM1Q8IAzq",
        "outputId": "5b4bf0b8-609d-40f3-a1a6-371840184219"
      },
      "source": [
        "array_a = np.array([1,2,3])\n",
        "array_b = np.array([[1],[2]])\n",
        "matrix_c = np.array([[1,2,3],[4,5,6]])\n",
        "\n",
        "print(array_a)\n",
        "print(\"\")\n",
        "print(array_b)\n",
        "print(\"\")\n",
        "print(matrix_c)"
      ],
      "execution_count": null,
      "outputs": [
        {
          "output_type": "stream",
          "text": [
            "[1 2 3]\n",
            "\n",
            "[[1]\n",
            " [2]]\n",
            "\n",
            "[[1 2 3]\n",
            " [4 5 6]]\n"
          ],
          "name": "stdout"
        }
      ]
    },
    {
      "cell_type": "code",
      "metadata": {
        "colab": {
          "base_uri": "https://localhost:8080/"
        },
        "id": "bhdnHf-RLSMI",
        "outputId": "d67a6d89-cf25-41ce-d3d7-9600e537cb69"
      },
      "source": [
        "# Add array_a to each row of matrix_c\n",
        "# Here, we're broadcasting the array to a 2x3 matrix \n",
        "np.add(array_a,matrix_c)"
      ],
      "execution_count": null,
      "outputs": [
        {
          "output_type": "execute_result",
          "data": {
            "text/plain": [
              "array([[2, 4, 6],\n",
              "       [5, 7, 9]])"
            ]
          },
          "metadata": {
            "tags": []
          },
          "execution_count": 48
        }
      ]
    },
    {
      "cell_type": "markdown",
      "metadata": {
        "id": "bf_7yHX2NgYo"
      },
      "source": [
        "##### TYPECASTING\n",
        "- Taking every element of an array and changing it to a specified datatype\n",
        "- Widely used\n",
        "- The preferred way to unify datatypes across a project"
      ]
    },
    {
      "cell_type": "code",
      "metadata": {
        "colab": {
          "base_uri": "https://localhost:8080/"
        },
        "id": "iAIuIgzwLx0G",
        "outputId": "46676e74-023a-48c7-d147-1d3be06ed271"
      },
      "source": [
        "np.add(array_a,matrix_c, dtype = np.float64)"
      ],
      "execution_count": null,
      "outputs": [
        {
          "output_type": "execute_result",
          "data": {
            "text/plain": [
              "array([[2., 4., 6.],\n",
              "       [5., 7., 9.]])"
            ]
          },
          "metadata": {
            "tags": []
          },
          "execution_count": 49
        }
      ]
    },
    {
      "cell_type": "markdown",
      "metadata": {
        "id": "hEQ4wTr5Oh0w"
      },
      "source": [
        "##### Computing over a given axis\n",
        "We can use this feature to run a function along each row or column"
      ]
    },
    {
      "cell_type": "code",
      "metadata": {
        "colab": {
          "base_uri": "https://localhost:8080/"
        },
        "id": "P1SuFuA2PfnW",
        "outputId": "0277b93b-4dee-4437-c4f5-a74d0b808d0d"
      },
      "source": [
        "matrix_c"
      ],
      "execution_count": null,
      "outputs": [
        {
          "output_type": "execute_result",
          "data": {
            "text/plain": [
              "array([[1, 2, 3],\n",
              "       [4, 5, 6]])"
            ]
          },
          "metadata": {
            "tags": []
          },
          "execution_count": 51
        }
      ]
    },
    {
      "cell_type": "code",
      "metadata": {
        "colab": {
          "base_uri": "https://localhost:8080/"
        },
        "id": "Unbs87FcOOaG",
        "outputId": "2e892a52-f457-43dc-efa8-022acb0f6d9b"
      },
      "source": [
        "# axis = 0: Find the mean of each \"column\" of the array\n",
        "np.mean(matrix_c, axis = 0)"
      ],
      "execution_count": null,
      "outputs": [
        {
          "output_type": "execute_result",
          "data": {
            "text/plain": [
              "array([2.5, 3.5, 4.5])"
            ]
          },
          "metadata": {
            "tags": []
          },
          "execution_count": 50
        }
      ]
    },
    {
      "cell_type": "code",
      "metadata": {
        "colab": {
          "base_uri": "https://localhost:8080/"
        },
        "id": "2m809HbTPZJf",
        "outputId": "d1ecbf45-2590-4da5-cd68-fb0799d82ec0"
      },
      "source": [
        "# axis = 1: Find the mean of each \"row\" of the array\n",
        "np.mean(matrix_c, axis = 1)"
      ],
      "execution_count": null,
      "outputs": [
        {
          "output_type": "execute_result",
          "data": {
            "text/plain": [
              "array([2., 5.])"
            ]
          },
          "metadata": {
            "tags": []
          },
          "execution_count": 52
        }
      ]
    },
    {
      "cell_type": "markdown",
      "metadata": {
        "id": "B2PsdEivP_lP"
      },
      "source": [
        "### **Working with Arrays**\n",
        "- Highlights:\n",
        "  - Slicing\n",
        "  - np.squeeze()"
      ]
    },
    {
      "cell_type": "markdown",
      "metadata": {
        "id": "cbH-bsRSSSe3"
      },
      "source": [
        "##### Basic Slicing\n",
        "- Creating a new array by taking chunks of values out of an existing array\n",
        "- Slices are just smaller arrays\n",
        "- Slicing = interval indexing"
      ]
    },
    {
      "cell_type": "code",
      "metadata": {
        "colab": {
          "base_uri": "https://localhost:8080/"
        },
        "id": "lo6ZCNSJVDzW",
        "outputId": "b039b174-0817-4a3d-9e97-cfba2442523f"
      },
      "source": [
        "matrix_d = np.array([[1,2,3],\n",
        "                     [4,5,6],\n",
        "                     [7,8,9]])\n",
        "matrix_d"
      ],
      "execution_count": null,
      "outputs": [
        {
          "output_type": "execute_result",
          "data": {
            "text/plain": [
              "array([[1, 2, 3],\n",
              "       [4, 5, 6],\n",
              "       [7, 8, 9]])"
            ]
          },
          "metadata": {
            "tags": []
          },
          "execution_count": 60
        }
      ]
    },
    {
      "cell_type": "code",
      "metadata": {
        "colab": {
          "base_uri": "https://localhost:8080/"
        },
        "id": "UuTdAQW7QCnz",
        "outputId": "7d2bc537-aa50-45f2-9e10-6019ac261bbb"
      },
      "source": [
        "matrix_d[:]"
      ],
      "execution_count": null,
      "outputs": [
        {
          "output_type": "execute_result",
          "data": {
            "text/plain": [
              "array([[1, 2, 3],\n",
              "       [4, 5, 6],\n",
              "       [7, 8, 9]])"
            ]
          },
          "metadata": {
            "tags": []
          },
          "execution_count": 61
        }
      ]
    },
    {
      "cell_type": "code",
      "metadata": {
        "colab": {
          "base_uri": "https://localhost:8080/"
        },
        "id": "T7Z-L1-4SXvG",
        "outputId": "9125e651-9378-4a7c-fb1e-64c34b6e1d60"
      },
      "source": [
        "# No data\n",
        "matrix_d[0:0]"
      ],
      "execution_count": null,
      "outputs": [
        {
          "output_type": "execute_result",
          "data": {
            "text/plain": [
              "array([], shape=(0, 3), dtype=int64)"
            ]
          },
          "metadata": {
            "tags": []
          },
          "execution_count": 62
        }
      ]
    },
    {
      "cell_type": "code",
      "metadata": {
        "colab": {
          "base_uri": "https://localhost:8080/"
        },
        "id": "TPdcyVU5URF8",
        "outputId": "5b160948-eeec-4565-d0e7-a0513416be2f"
      },
      "source": [
        "# First row of the matrix\n",
        "# Starts at Index 0 and stops before the row of index 1\n",
        "matrix_d[0:1]"
      ],
      "execution_count": null,
      "outputs": [
        {
          "output_type": "execute_result",
          "data": {
            "text/plain": [
              "array([[1, 2, 3]])"
            ]
          },
          "metadata": {
            "tags": []
          },
          "execution_count": 63
        }
      ]
    },
    {
      "cell_type": "code",
      "metadata": {
        "colab": {
          "base_uri": "https://localhost:8080/"
        },
        "id": "7wtott8GUnna",
        "outputId": "6d431cad-3716-485f-f502-c4b44fc1a0ef"
      },
      "source": [
        "# Starts at Index 0 and stops before the row of index 2\n",
        "matrix_d[0:2]"
      ],
      "execution_count": null,
      "outputs": [
        {
          "output_type": "execute_result",
          "data": {
            "text/plain": [
              "array([[1, 2, 3],\n",
              "       [4, 5, 6]])"
            ]
          },
          "metadata": {
            "tags": []
          },
          "execution_count": 64
        }
      ]
    },
    {
      "cell_type": "code",
      "metadata": {
        "colab": {
          "base_uri": "https://localhost:8080/"
        },
        "id": "OWoyv_8rWnLo",
        "outputId": "55945c87-fc86-4003-cb03-1def747547b9"
      },
      "source": [
        "# Starts at Index 1\n",
        "matrix_d[1:]"
      ],
      "execution_count": null,
      "outputs": [
        {
          "output_type": "execute_result",
          "data": {
            "text/plain": [
              "array([[4, 5, 6],\n",
              "       [7, 8, 9]])"
            ]
          },
          "metadata": {
            "tags": []
          },
          "execution_count": 66
        }
      ]
    },
    {
      "cell_type": "code",
      "metadata": {
        "colab": {
          "base_uri": "https://localhost:8080/"
        },
        "id": "hnYaQinLWpGt",
        "outputId": "abb56ff1-c96d-4c30-8d23-32a4974e8345"
      },
      "source": [
        "# Negative slicing\n",
        "# Upto but not including the last row\n",
        "matrix_d[:-1]"
      ],
      "execution_count": null,
      "outputs": [
        {
          "output_type": "execute_result",
          "data": {
            "text/plain": [
              "array([[1, 2, 3],\n",
              "       [4, 5, 6]])"
            ]
          },
          "metadata": {
            "tags": []
          },
          "execution_count": 69
        }
      ]
    },
    {
      "cell_type": "code",
      "metadata": {
        "colab": {
          "base_uri": "https://localhost:8080/"
        },
        "id": "lV2vAsBWXxZk",
        "outputId": "3c67bdd7-ed6c-49cd-d345-8faa88c67dbb"
      },
      "source": [
        "# First \":\" is about rows (first dimension)\n",
        "# After the \",\" is about columns (2nd dimension)\n",
        "# So all the rows, and starting from the 2nd column (index 1)\n",
        "matrix_d[:,1:]"
      ],
      "execution_count": null,
      "outputs": [
        {
          "output_type": "execute_result",
          "data": {
            "text/plain": [
              "array([[2, 3],\n",
              "       [5, 6],\n",
              "       [8, 9]])"
            ]
          },
          "metadata": {
            "tags": []
          },
          "execution_count": 70
        }
      ]
    },
    {
      "cell_type": "markdown",
      "metadata": {
        "id": "gfeYthiQZNVu"
      },
      "source": [
        "##### Stepwise Slicing\n",
        "[1:10:3] where 1 is the start, 10 is the end, and 3 is the step\n",
        "- The step argument can be + or - but not 0"
      ]
    },
    {
      "cell_type": "code",
      "metadata": {
        "colab": {
          "base_uri": "https://localhost:8080/"
        },
        "id": "N2vmOBuKYUtV",
        "outputId": "b905867c-6812-40c4-a792-aca4bb4e2d97"
      },
      "source": [
        "matrix_d"
      ],
      "execution_count": null,
      "outputs": [
        {
          "output_type": "execute_result",
          "data": {
            "text/plain": [
              "array([[1, 2, 3],\n",
              "       [4, 5, 6],\n",
              "       [7, 8, 9]])"
            ]
          },
          "metadata": {
            "tags": []
          },
          "execution_count": 71
        }
      ]
    },
    {
      "cell_type": "code",
      "metadata": {
        "colab": {
          "base_uri": "https://localhost:8080/"
        },
        "id": "BZcbTCLoZh2T",
        "outputId": "b4e06cb2-7e99-43fb-b4ce-e2d268b90595"
      },
      "source": [
        "matrix_d[::2,::]"
      ],
      "execution_count": null,
      "outputs": [
        {
          "output_type": "execute_result",
          "data": {
            "text/plain": [
              "array([[1, 2, 3],\n",
              "       [7, 8, 9]])"
            ]
          },
          "metadata": {
            "tags": []
          },
          "execution_count": 72
        }
      ]
    },
    {
      "cell_type": "code",
      "metadata": {
        "colab": {
          "base_uri": "https://localhost:8080/"
        },
        "id": "WCbJRza6aV4C",
        "outputId": "36ab96a4-f363-4dc7-898e-0b5836c4a1de"
      },
      "source": [
        "matrix_d[::,::2]"
      ],
      "execution_count": null,
      "outputs": [
        {
          "output_type": "execute_result",
          "data": {
            "text/plain": [
              "array([[1, 3],\n",
              "       [4, 6],\n",
              "       [7, 9]])"
            ]
          },
          "metadata": {
            "tags": []
          },
          "execution_count": 73
        }
      ]
    },
    {
      "cell_type": "code",
      "metadata": {
        "colab": {
          "base_uri": "https://localhost:8080/"
        },
        "id": "Bvxb_hB6aeAR",
        "outputId": "875c5c45-90c9-499d-f531-ded01aca6925"
      },
      "source": [
        "# Every \"2nd\" value of the rows\n",
        "matrix_d[::2,::2]"
      ],
      "execution_count": null,
      "outputs": [
        {
          "output_type": "execute_result",
          "data": {
            "text/plain": [
              "array([[1, 3],\n",
              "       [7, 9]])"
            ]
          },
          "metadata": {
            "tags": []
          },
          "execution_count": 74
        }
      ]
    },
    {
      "cell_type": "markdown",
      "metadata": {
        "id": "9VDqJ_fZbe9a"
      },
      "source": [
        "##### Conditional Slicing\n",
        "- To filter out certain data"
      ]
    },
    {
      "cell_type": "code",
      "metadata": {
        "colab": {
          "base_uri": "https://localhost:8080/"
        },
        "id": "0haEtFUxamKl",
        "outputId": "5bc3bec8-ea4f-400a-ebd0-295c6304400b"
      },
      "source": [
        "matrix_e = np.array([[1,2,3,4,6],[3,7,3,1,2],[4,2,1,5,6]])\n",
        "matrix_e"
      ],
      "execution_count": null,
      "outputs": [
        {
          "output_type": "execute_result",
          "data": {
            "text/plain": [
              "array([[1, 2, 3, 4, 6],\n",
              "       [3, 7, 3, 1, 2],\n",
              "       [4, 2, 1, 5, 6]])"
            ]
          },
          "metadata": {
            "tags": []
          },
          "execution_count": 75
        }
      ]
    },
    {
      "cell_type": "code",
      "metadata": {
        "colab": {
          "base_uri": "https://localhost:8080/"
        },
        "id": "6wk4lpw9b13Q",
        "outputId": "f94c27dc-548c-4ac1-bf3f-6981087bb6a8"
      },
      "source": [
        "# All the first columns \",0\" of all the rows \":\"\n",
        "matrix_e[:,0]"
      ],
      "execution_count": null,
      "outputs": [
        {
          "output_type": "execute_result",
          "data": {
            "text/plain": [
              "array([1, 3, 4])"
            ]
          },
          "metadata": {
            "tags": []
          },
          "execution_count": 79
        }
      ]
    },
    {
      "cell_type": "code",
      "metadata": {
        "colab": {
          "base_uri": "https://localhost:8080/"
        },
        "id": "Mz20CFVIcOyS",
        "outputId": "e7d221e8-4e6f-48ae-ac8e-791126966118"
      },
      "source": [
        "# Now with condition\n",
        "matrix_e[:,0] > 2"
      ],
      "execution_count": null,
      "outputs": [
        {
          "output_type": "execute_result",
          "data": {
            "text/plain": [
              "array([False,  True,  True])"
            ]
          },
          "metadata": {
            "tags": []
          },
          "execution_count": 80
        }
      ]
    },
    {
      "cell_type": "code",
      "metadata": {
        "colab": {
          "base_uri": "https://localhost:8080/"
        },
        "id": "CIb5Jv-ccliF",
        "outputId": "19820265-5c2b-4cc3-d9c1-8fcb5b942361"
      },
      "source": [
        "matrix_e[:,:] > 2"
      ],
      "execution_count": null,
      "outputs": [
        {
          "output_type": "execute_result",
          "data": {
            "text/plain": [
              "array([[False, False,  True,  True,  True],\n",
              "       [ True,  True,  True, False, False],\n",
              "       [ True, False, False,  True,  True]])"
            ]
          },
          "metadata": {
            "tags": []
          },
          "execution_count": 81
        }
      ]
    },
    {
      "cell_type": "code",
      "metadata": {
        "colab": {
          "base_uri": "https://localhost:8080/"
        },
        "id": "991Elmt0c18q",
        "outputId": "5c0631f4-9c51-48aa-c81f-29732de44474"
      },
      "source": [
        "# All the values of matrix_c which is greater than 2\n",
        "matrix_e[matrix_e[:,:] > 2]"
      ],
      "execution_count": null,
      "outputs": [
        {
          "output_type": "execute_result",
          "data": {
            "text/plain": [
              "array([3, 4, 6, 3, 7, 3, 4, 5, 6])"
            ]
          },
          "metadata": {
            "tags": []
          },
          "execution_count": 82
        }
      ]
    },
    {
      "cell_type": "code",
      "metadata": {
        "colab": {
          "base_uri": "https://localhost:8080/"
        },
        "id": "N-Y9FijBdaAw",
        "outputId": "6bc9cf2e-2a9c-40c4-9bdd-f30db0059ecc"
      },
      "source": [
        "# All the even numbers\n",
        "matrix_e[matrix_e[:,:] % 2 == 0]"
      ],
      "execution_count": null,
      "outputs": [
        {
          "output_type": "execute_result",
          "data": {
            "text/plain": [
              "array([2, 4, 6, 2, 4, 2, 6])"
            ]
          },
          "metadata": {
            "tags": []
          },
          "execution_count": 83
        }
      ]
    },
    {
      "cell_type": "code",
      "metadata": {
        "colab": {
          "base_uri": "https://localhost:8080/"
        },
        "id": "W1qMrf6xeXsj",
        "outputId": "2fed5d83-ba44-403d-d17f-fbf0586119a1"
      },
      "source": [
        "# Multiple Conditions \"&\" == \"and\"\n",
        "# All the \"even\" numbers which are \"lesser than or equal\" to 4\n",
        "matrix_e[(matrix_e[:,:] % 2 == 0) & (matrix_e[:,:] <= 4)]"
      ],
      "execution_count": null,
      "outputs": [
        {
          "output_type": "execute_result",
          "data": {
            "text/plain": [
              "array([2, 4, 2, 4, 2])"
            ]
          },
          "metadata": {
            "tags": []
          },
          "execution_count": 86
        }
      ]
    },
    {
      "cell_type": "markdown",
      "metadata": {
        "id": "KAIVnw-JgZia"
      },
      "source": [
        "##### Dimensions and the Squeeze Function\n",
        "- Removes all the \"unnecessary dimensions\" of an array\n",
        "- When we squeeze an array (holding a single value) along all its axes, we get a single numeric value"
      ]
    },
    {
      "cell_type": "code",
      "metadata": {
        "colab": {
          "base_uri": "https://localhost:8080/"
        },
        "id": "lWyzht4rfScE",
        "outputId": "3ff93694-6a42-4d79-d799-eb828fed3ed9"
      },
      "source": [
        "matrix_e"
      ],
      "execution_count": null,
      "outputs": [
        {
          "output_type": "execute_result",
          "data": {
            "text/plain": [
              "array([[1, 2, 3, 4, 6],\n",
              "       [3, 7, 3, 1, 2],\n",
              "       [4, 2, 1, 5, 6]])"
            ]
          },
          "metadata": {
            "tags": []
          },
          "execution_count": 87
        }
      ]
    },
    {
      "cell_type": "code",
      "metadata": {
        "colab": {
          "base_uri": "https://localhost:8080/"
        },
        "id": "qmLkKBJRhyEj",
        "outputId": "a325043a-cd2c-41c0-edec-f286943d545d"
      },
      "source": [
        "# The method: .squeeze()\n",
        "matrix_e[0:1,0:1].squeeze()"
      ],
      "execution_count": null,
      "outputs": [
        {
          "output_type": "execute_result",
          "data": {
            "text/plain": [
              "array(1)"
            ]
          },
          "metadata": {
            "tags": []
          },
          "execution_count": 88
        }
      ]
    },
    {
      "cell_type": "code",
      "metadata": {
        "colab": {
          "base_uri": "https://localhost:8080/"
        },
        "id": "9k-vGSxjjh1Z",
        "outputId": "7ac5c62f-a546-49a1-c51b-bf3c620a7b83"
      },
      "source": [
        "matrix_e[0:1,0:1].squeeze().shape"
      ],
      "execution_count": null,
      "outputs": [
        {
          "output_type": "execute_result",
          "data": {
            "text/plain": [
              "()"
            ]
          },
          "metadata": {
            "tags": []
          },
          "execution_count": 90
        }
      ]
    },
    {
      "cell_type": "code",
      "metadata": {
        "colab": {
          "base_uri": "https://localhost:8080/"
        },
        "id": "dzq0iALzjrZK",
        "outputId": "116bc621-45ca-42a1-c442-5e35790cd459"
      },
      "source": [
        "# The Equivalent Function: np.squeeze(var_name)\n",
        "np.squeeze(matrix_e[0:1,0:1])"
      ],
      "execution_count": null,
      "outputs": [
        {
          "output_type": "execute_result",
          "data": {
            "text/plain": [
              "array(1)"
            ]
          },
          "metadata": {
            "tags": []
          },
          "execution_count": 91
        }
      ]
    },
    {
      "cell_type": "markdown",
      "metadata": {
        "id": "ILL7mq8sknk5"
      },
      "source": [
        "### **Generating Data with Numpy**\n",
        "- Highlights: \n",
        "  - _like functions\n",
        "  - np.arange()\n",
        "  - Random Generators and Seeds\n",
        "  - .choice"
      ]
    },
    {
      "cell_type": "markdown",
      "metadata": {
        "id": "TFbItG6Vohw0"
      },
      "source": [
        "##### Arrays of 0s and 1s"
      ]
    },
    {
      "cell_type": "code",
      "metadata": {
        "id": "mlAbc3L9kJfP",
        "colab": {
          "base_uri": "https://localhost:8080/"
        },
        "outputId": "0d447327-ebcd-4642-8058-8468e6b6463f"
      },
      "source": [
        "# np.empty() returns an array without initializing entries\n",
        "# Fastest way to generate an N-D array\n",
        "empty_array = np.empty(shape = (2,3))\n",
        "empty_array"
      ],
      "execution_count": null,
      "outputs": [
        {
          "output_type": "execute_result",
          "data": {
            "text/plain": [
              "array([[4.63837304e-310, 0.00000000e+000, 0.00000000e+000],\n",
              "       [0.00000000e+000, 0.00000000e+000, 0.00000000e+000]])"
            ]
          },
          "metadata": {
            "tags": []
          },
          "execution_count": 4
        }
      ]
    },
    {
      "cell_type": "code",
      "metadata": {
        "colab": {
          "base_uri": "https://localhost:8080/"
        },
        "id": "77KinzgPnt-r",
        "outputId": "3492fae5-b845-4d58-955c-8d74893a7ff1"
      },
      "source": [
        "# np.zeros() creates an array full of 0s\n",
        "# Can set the datatype like so:\n",
        "array_0s = np.zeros(shape = (2,3), dtype = np.int8)\n",
        "array_0s"
      ],
      "execution_count": null,
      "outputs": [
        {
          "output_type": "execute_result",
          "data": {
            "text/plain": [
              "array([[0, 0, 0],\n",
              "       [0, 0, 0]], dtype=int8)"
            ]
          },
          "metadata": {
            "tags": []
          },
          "execution_count": 6
        }
      ]
    },
    {
      "cell_type": "code",
      "metadata": {
        "colab": {
          "base_uri": "https://localhost:8080/"
        },
        "id": "FSRjke-7od40",
        "outputId": "c5a8f41d-d4c1-4d06-d830-b97279a3b46b"
      },
      "source": [
        "# np.ones() creates an array full of 1s\n",
        "array_1s = np.ones(shape = (2,3))\n",
        "array_1s"
      ],
      "execution_count": null,
      "outputs": [
        {
          "output_type": "execute_result",
          "data": {
            "text/plain": [
              "array([[1., 1., 1.],\n",
              "       [1., 1., 1.]])"
            ]
          },
          "metadata": {
            "tags": []
          },
          "execution_count": 7
        }
      ]
    },
    {
      "cell_type": "code",
      "metadata": {
        "colab": {
          "base_uri": "https://localhost:8080/"
        },
        "id": "KkrLjJk0pKd8",
        "outputId": "c1c9ef57-8910-4b3b-a7fe-d2fb3f7c23ff"
      },
      "source": [
        "# np.full() generates an array filled entirely with specified value\n",
        "# fill_value takes 'scalar' values, therefore you can set it to str\n",
        "array_full = np.full(shape = (2,3), fill_value = 2)\n",
        "array_full"
      ],
      "execution_count": null,
      "outputs": [
        {
          "output_type": "execute_result",
          "data": {
            "text/plain": [
              "array([[2, 2, 2],\n",
              "       [2, 2, 2]])"
            ]
          },
          "metadata": {
            "tags": []
          },
          "execution_count": 9
        }
      ]
    },
    {
      "cell_type": "markdown",
      "metadata": {
        "id": "LRiQXKpRp8Yy"
      },
      "source": [
        "##### _like functions\n",
        "- == to the np.empty,zeros,ones,full but don't need to specify a shape or type\n",
        "- We need to provide another array (whose shape and type we take)\n",
        "- Why are _like functions useful?\n",
        " - Creates a 2nd array where we store a value or each element of the original one\n",
        " - Convinient when working with huge databases (faster loading times)"
      ]
    },
    {
      "cell_type": "code",
      "metadata": {
        "colab": {
          "base_uri": "https://localhost:8080/"
        },
        "id": "BRghQxsOpnwe",
        "outputId": "b6f5013e-0089-4a81-f8e7-c57fff82f1c2"
      },
      "source": [
        "matrix_A = np.array([[1,2,3,4,5],[4,5,6,7,8],[0,2,1,6,8]])\n",
        "matrix_A"
      ],
      "execution_count": null,
      "outputs": [
        {
          "output_type": "execute_result",
          "data": {
            "text/plain": [
              "array([[1, 2, 3, 4, 5],\n",
              "       [4, 5, 6, 7, 8],\n",
              "       [0, 2, 1, 6, 8]])"
            ]
          },
          "metadata": {
            "tags": []
          },
          "execution_count": 10
        }
      ]
    },
    {
      "cell_type": "code",
      "metadata": {
        "colab": {
          "base_uri": "https://localhost:8080/"
        },
        "id": "zl8GSwz1q2Jb",
        "outputId": "f75042ba-f11c-4f60-8117-cddf55ba37f5"
      },
      "source": [
        "# Pass matrix_A as input\n",
        "array_empty_like = np.empty_like(matrix_A)\n",
        "array_empty_like"
      ],
      "execution_count": null,
      "outputs": [
        {
          "output_type": "execute_result",
          "data": {
            "text/plain": [
              "array([[93881692908928,   210453397554,   206158430253,   193273528374,\n",
              "          240518168626],\n",
              "       [  206158430292,   249108103224,   214748364849,   219043332154,\n",
              "          197568495670],\n",
              "       [  244813135926,   227633266745,   240518168631,             90,\n",
              "                     0]])"
            ]
          },
          "metadata": {
            "tags": []
          },
          "execution_count": 16
        }
      ]
    },
    {
      "cell_type": "code",
      "metadata": {
        "colab": {
          "base_uri": "https://localhost:8080/"
        },
        "id": "7Pk36Z4urRwW",
        "outputId": "83ab67b1-491e-45f4-f738-721f8a16093f"
      },
      "source": [
        "# Application of \"np.zeros_like\" in analysis:  \n",
        "# 1. Starting point for a planner \n",
        "# 2. A \"switch\" where we change the values from 0-1 (and back)\n",
        "# Really useful when working with dummy variables\n",
        "# \n",
        "array_0s_like = np.zeros_like(matrix_A)\n",
        "array_0s_like"
      ],
      "execution_count": null,
      "outputs": [
        {
          "output_type": "execute_result",
          "data": {
            "text/plain": [
              "array([[0, 0, 0, 0, 0],\n",
              "       [0, 0, 0, 0, 0],\n",
              "       [0, 0, 0, 0, 0]])"
            ]
          },
          "metadata": {
            "tags": []
          },
          "execution_count": 17
        }
      ]
    },
    {
      "cell_type": "markdown",
      "metadata": {
        "id": "bpfQ6f4yszn2"
      },
      "source": [
        "##### A Non-Random Sequence of Numbers\n",
        "- np.arange() == array range == np's equivalent of Python's range function\n",
        "- By default: creates a sequence of consecutive integer values within a given range\n",
        "- array range outputs an array\n",
        "- start - stop - step"
      ]
    },
    {
      "cell_type": "code",
      "metadata": {
        "id": "zia0i2GzrgcL"
      },
      "source": [
        "# Python's \"range\"\n",
        "list(range(30))  # Warning! Outputs a long vertical list"
      ],
      "execution_count": null,
      "outputs": []
    },
    {
      "cell_type": "code",
      "metadata": {
        "colab": {
          "base_uri": "https://localhost:8080/"
        },
        "id": "Ko5xiqsbw6vT",
        "outputId": "a548b0c1-aef4-40c0-80f5-2752ac6ad898"
      },
      "source": [
        "# nps \"arange\"\n",
        "array_rng = np.arange(3)\n",
        "array_rng"
      ],
      "execution_count": null,
      "outputs": [
        {
          "output_type": "execute_result",
          "data": {
            "text/plain": [
              "array([0, 1, 2])"
            ]
          },
          "metadata": {
            "tags": []
          },
          "execution_count": 21
        }
      ]
    },
    {
      "cell_type": "code",
      "metadata": {
        "colab": {
          "base_uri": "https://localhost:8080/"
        },
        "id": "hj7s7ZNQxJPm",
        "outputId": "dab16c4e-3f42-4bc9-820a-138f067884f9"
      },
      "source": [
        "# WHen stop argument is not provided: stop == start, and switches the origin to \"0\"\n",
        "array_rng = np.arange(start = 30)\n",
        "array_rng"
      ],
      "execution_count": null,
      "outputs": [
        {
          "output_type": "execute_result",
          "data": {
            "text/plain": [
              "array([ 0,  1,  2,  3,  4,  5,  6,  7,  8,  9, 10, 11, 12, 13, 14, 15, 16,\n",
              "       17, 18, 19, 20, 21, 22, 23, 24, 25, 26, 27, 28, 29])"
            ]
          },
          "metadata": {
            "tags": []
          },
          "execution_count": 26
        }
      ]
    },
    {
      "cell_type": "code",
      "metadata": {
        "colab": {
          "base_uri": "https://localhost:8080/"
        },
        "id": "dJYKlX1zx-Z-",
        "outputId": "edeb8649-48b5-4ee4-f687-8e883834b084"
      },
      "source": [
        "# So specify\n",
        "array_rng = np.arange(start = 0, stop = 30)\n",
        "array_rng"
      ],
      "execution_count": null,
      "outputs": [
        {
          "output_type": "execute_result",
          "data": {
            "text/plain": [
              "array([ 0,  1,  2,  3,  4,  5,  6,  7,  8,  9, 10, 11, 12, 13, 14, 15, 16,\n",
              "       17, 18, 19, 20, 21, 22, 23, 24, 25, 26, 27, 28, 29])"
            ]
          },
          "metadata": {
            "tags": []
          },
          "execution_count": 27
        }
      ]
    },
    {
      "cell_type": "code",
      "metadata": {
        "colab": {
          "base_uri": "https://localhost:8080/"
        },
        "id": "kDkEtq7myKwr",
        "outputId": "3434744a-af1c-477f-8519-6a04927aa833"
      },
      "source": [
        "# With \"step\"\n",
        "array_rng = np.arange(start = 0, stop = 30, step = 2.5)\n",
        "array_rng"
      ],
      "execution_count": null,
      "outputs": [
        {
          "output_type": "execute_result",
          "data": {
            "text/plain": [
              "array([ 0. ,  2.5,  5. ,  7.5, 10. , 12.5, 15. , 17.5, 20. , 22.5, 25. ,\n",
              "       27.5])"
            ]
          },
          "metadata": {
            "tags": []
          },
          "execution_count": 28
        }
      ]
    },
    {
      "cell_type": "code",
      "metadata": {
        "colab": {
          "base_uri": "https://localhost:8080/"
        },
        "id": "A9tsa0s6yWG4",
        "outputId": "d1184b42-38b5-4457-d591-3741f8a2fd01"
      },
      "source": [
        "# You can also set the data type\n",
        "# Because of \"int32\" our stepsize is set to \"2\", that's why there's only 12 values outputed because step 2.5 has only 12 values\n",
        "array_rng = np.arange(start = 0, stop = 30, step = 2.5, dtype = np.int32)\n",
        "array_rng"
      ],
      "execution_count": null,
      "outputs": [
        {
          "output_type": "execute_result",
          "data": {
            "text/plain": [
              "array([ 0,  2,  4,  6,  8, 10, 12, 14, 16, 18, 20, 22], dtype=int32)"
            ]
          },
          "metadata": {
            "tags": []
          },
          "execution_count": 31
        }
      ]
    },
    {
      "cell_type": "markdown",
      "metadata": {
        "id": "tMvMxag6z0rT"
      },
      "source": [
        "##### Random Generators and Seeds\n",
        "- SEED - a set of starting parameters for the algorithm\n",
        "- Everytime we call a method, the Generator randomly selects a \"seed\""
      ]
    },
    {
      "cell_type": "code",
      "metadata": {
        "id": "DF99AbqSypvq"
      },
      "source": [
        "# This allows us to use the generator and pcg without having to write their full name all the time\n",
        "# like so: numpy.random.Generator() and numpy.random.PCG64()\n",
        "# The \"Generator function\" takes a \"bit generator\" as an input and creates generator objects\n",
        "# PCG == Permutation Congruential Generator contains function pointers that can produce values of up to 64 bits in size\n",
        "from numpy.random import Generator as gen\n",
        "from numpy.random import PCG64 as pcg"
      ],
      "execution_count": null,
      "outputs": []
    },
    {
      "cell_type": "code",
      "metadata": {
        "colab": {
          "base_uri": "https://localhost:8080/"
        },
        "id": "Ii42Q-dM01p9",
        "outputId": "5937038f-e5b9-4652-dc97-2b3e98cc51a8"
      },
      "source": [
        "array_RG = gen(pcg())\n",
        "array_RG.normal() # Generates a value from a \"Normal Distribution\""
      ],
      "execution_count": null,
      "outputs": [
        {
          "output_type": "execute_result",
          "data": {
            "text/plain": [
              "-2.4220442620928657"
            ]
          },
          "metadata": {
            "tags": []
          },
          "execution_count": 33
        }
      ]
    },
    {
      "cell_type": "code",
      "metadata": {
        "colab": {
          "base_uri": "https://localhost:8080/"
        },
        "id": "Byas_n2U2HVi",
        "outputId": "584bb586-7d4e-44a4-ab5b-d3e6a52c9984"
      },
      "source": [
        "array_RG = gen(pcg())\n",
        "array_RG.normal(size = 5)"
      ],
      "execution_count": null,
      "outputs": [
        {
          "output_type": "execute_result",
          "data": {
            "text/plain": [
              "array([ 0.85337027,  1.67194058,  0.18540428, -0.17236003,  0.51523516])"
            ]
          },
          "metadata": {
            "tags": []
          },
          "execution_count": 34
        }
      ]
    },
    {
      "cell_type": "code",
      "metadata": {
        "colab": {
          "base_uri": "https://localhost:8080/"
        },
        "id": "3QSPw1ob2hnE",
        "outputId": "65d4c483-92b0-46b1-8308-c529d1fae6f9"
      },
      "source": [
        "array_RG = gen(pcg())\n",
        "array_RG.normal(size = (5,5))"
      ],
      "execution_count": null,
      "outputs": [
        {
          "output_type": "execute_result",
          "data": {
            "text/plain": [
              "array([[-2.32308322,  1.06744012,  1.22753988, -0.33103143,  0.31979892],\n",
              "       [ 0.09108742,  0.44674873,  0.2693962 , -0.02230973,  1.08597386],\n",
              "       [-0.29013409, -0.15396823,  0.20930025,  0.3936152 ,  1.55035939],\n",
              "       [-1.3341902 , -0.29383833, -0.10207863,  0.85958973,  0.18179991],\n",
              "       [-0.48551752,  0.35709392, -0.24772855,  0.31331091,  0.49183655]])"
            ]
          },
          "metadata": {
            "tags": []
          },
          "execution_count": 35
        }
      ]
    },
    {
      "cell_type": "code",
      "metadata": {
        "colab": {
          "base_uri": "https://localhost:8080/"
        },
        "id": "IizjWm8y2njX",
        "outputId": "a7ca5bdb-9efd-4ee0-8204-3ed678ce5963"
      },
      "source": [
        "# SEED - a set of starting parameters for the algorithm\n",
        "# Everytime we call a method, the Generator randomly selects a \"seed\"\n",
        "\n",
        "# Specify a seed for the Generator object\n",
        "# Rerunning this cell will output the same values because of the \"seed\"\n",
        "array_RG = gen(pcg(seed = 365))\n",
        "array_RG.normal(size = (5,5))\n",
        "\n",
        "# A seed only lasts for one execution of a method or function before it is reset\n",
        "# Running \"array_RG.normal(size = (5,5))\" to a different cell will again result different values\n",
        "# So whenever we intend to use a seed, we'll have to reset it every time"
      ],
      "execution_count": null,
      "outputs": [
        {
          "output_type": "execute_result",
          "data": {
            "text/plain": [
              "array([[-0.13640899,  0.09414431, -0.06300442,  1.05391641, -0.6866818 ],\n",
              "       [-0.50922173, -0.7999526 ,  0.73041825,  0.08825439, -2.1177576 ],\n",
              "       [ 0.65526774, -0.48095012, -0.5519114 , -0.58578662, -0.98257896],\n",
              "       [ 1.12378166, -1.30984316, -0.04703774,  0.955272  ,  0.26071745],\n",
              "       [-0.20023668, -1.50172484, -1.4929163 ,  0.96535084,  1.18694633]])"
            ]
          },
          "metadata": {
            "tags": []
          },
          "execution_count": 37
        }
      ]
    },
    {
      "cell_type": "markdown",
      "metadata": {
        "id": "NXYypP9Y5JfL"
      },
      "source": [
        "##### Basic Random Functions in NumPy\n",
        "- numpy.integers()\n",
        "- numpy.random()\n",
        "- numpy.choice() Most useful"
      ]
    },
    {
      "cell_type": "code",
      "metadata": {
        "id": "b9q6plvi36k-"
      },
      "source": [
        "#from numpy.random import Generator as gen\n",
        "#from numpy.random import PCG64 as pcg"
      ],
      "execution_count": null,
      "outputs": []
    },
    {
      "cell_type": "code",
      "metadata": {
        "colab": {
          "base_uri": "https://localhost:8080/"
        },
        "id": "iqZvborg5tp-",
        "outputId": "d8e7c131-6a45-40c1-fea5-1326901af19b"
      },
      "source": [
        "# numpy.integers() generates whole numbers\n",
        "# Requires defining a fixed range of values to choose from\n",
        "array_RG = gen(pcg(seed = 365))\n",
        "array_RG.integers(10, size = (5,5))"
      ],
      "execution_count": null,
      "outputs": [
        {
          "output_type": "execute_result",
          "data": {
            "text/plain": [
              "array([[0, 7, 6, 7, 8],\n",
              "       [6, 6, 2, 0, 6],\n",
              "       [3, 0, 3, 7, 9],\n",
              "       [1, 1, 8, 7, 4],\n",
              "       [4, 8, 6, 4, 9]])"
            ]
          },
          "metadata": {
            "tags": []
          },
          "execution_count": 42
        }
      ]
    },
    {
      "cell_type": "code",
      "metadata": {
        "colab": {
          "base_uri": "https://localhost:8080/"
        },
        "id": "ZeOEC_ow6WRh",
        "outputId": "bc668428-fad7-4c2c-b368-24d6825dc612"
      },
      "source": [
        "# 2 digit numbers\n",
        "array_RG = gen(pcg(seed = 365))\n",
        "array_RG.integers(low = 10, high = 100, size = (5,5))"
      ],
      "execution_count": null,
      "outputs": [
        {
          "output_type": "execute_result",
          "data": {
            "text/plain": [
              "array([[16, 80, 72, 19, 43],\n",
              "       [23, 36, 46, 54, 75],\n",
              "       [53, 30, 66, 43, 59],\n",
              "       [14, 68, 28, 13, 58],\n",
              "       [74, 74, 86, 37, 25]])"
            ]
          },
          "metadata": {
            "tags": []
          },
          "execution_count": 41
        }
      ]
    },
    {
      "cell_type": "code",
      "metadata": {
        "colab": {
          "base_uri": "https://localhost:8080/"
        },
        "id": "tS49OC6K6itq",
        "outputId": "d48e2a85-35d5-4eb6-8ae3-fe01261f3636"
      },
      "source": [
        "# numpy.random() always between 0 and 1\n",
        "array_RG = gen(pcg(seed = 365))\n",
        "array_RG.random(size = (5,5)) "
      ],
      "execution_count": null,
      "outputs": [
        {
          "output_type": "execute_result",
          "data": {
            "text/plain": [
              "array([[0.75915734, 0.7662218 , 0.6291028 , 0.20336599, 0.66501486],\n",
              "       [0.06559111, 0.71326309, 0.10812106, 0.87969046, 0.49405844],\n",
              "       [0.82472673, 0.45652944, 0.07367232, 0.69628564, 0.36690736],\n",
              "       [0.29787156, 0.4996155 , 0.4865245 , 0.62740703, 0.54952637],\n",
              "       [0.64894629, 0.04411757, 0.7206516 , 0.84594003, 0.17159792]])"
            ]
          },
          "metadata": {
            "tags": []
          },
          "execution_count": 43
        }
      ]
    },
    {
      "cell_type": "code",
      "metadata": {
        "colab": {
          "base_uri": "https://localhost:8080/"
        },
        "id": "qBqtkxvZ7kQn",
        "outputId": "f64b0c53-8e24-4cfa-8816-05074999af85"
      },
      "source": [
        "# numpy.choice() simulates the idea of making an arbitrary choice out of a given sequence\n",
        "# Most useful\n",
        "array_RG = gen(pcg(seed = 365))\n",
        "array_RG.choice([1,2,3,4,5], size = (5,5)) "
      ],
      "execution_count": null,
      "outputs": [
        {
          "output_type": "execute_result",
          "data": {
            "text/plain": [
              "array([[1, 4, 4, 4, 5],\n",
              "       [4, 4, 2, 1, 4],\n",
              "       [2, 1, 2, 4, 5],\n",
              "       [1, 1, 5, 4, 3],\n",
              "       [3, 5, 4, 3, 5]])"
            ]
          },
          "metadata": {
            "tags": []
          },
          "execution_count": 44
        }
      ]
    },
    {
      "cell_type": "code",
      "metadata": {
        "colab": {
          "base_uri": "https://localhost:8080/"
        },
        "id": "Rr6mBaia8iT-",
        "outputId": "74d5379a-0304-41fd-885c-08884f93e60a"
      },
      "source": [
        "# You can manually set the \"probabilities\" p of each value of the sequence\n",
        "# But the length should be equal otherwise \"error\"\n",
        "# Notice the \"p\" argument: THEIR SUM SHOULD EQUAL TO 1\n",
        "array_RG = gen(pcg(seed = 365))\n",
        "array_RG.choice([1,2,3,4,5], p = [0.1,0.1,0.1,0.1,0.6], size = (5,5)) "
      ],
      "execution_count": null,
      "outputs": [
        {
          "output_type": "execute_result",
          "data": {
            "text/plain": [
              "array([[5, 5, 5, 3, 5],\n",
              "       [1, 5, 2, 5, 5],\n",
              "       [5, 5, 1, 5, 4],\n",
              "       [3, 5, 5, 5, 5],\n",
              "       [5, 1, 5, 5, 2]])"
            ]
          },
          "metadata": {
            "tags": []
          },
          "execution_count": 47
        }
      ]
    },
    {
      "cell_type": "markdown",
      "metadata": {
        "id": "hA9Z_PRq9fmf"
      },
      "source": [
        "##### Probability Distributions in NumPy\n",
        "- Poisson\n",
        "- Binomial\n",
        "- Logistic"
      ]
    },
    {
      "cell_type": "code",
      "metadata": {
        "colab": {
          "base_uri": "https://localhost:8080/"
        },
        "id": "IWAlXY109CtE",
        "outputId": "236be88e-31c9-425c-c5d8-1f01c15cc58b"
      },
      "source": [
        "#from numpy.random import Generator as gen\n",
        "#from numpy.random import PCG64 as pcg\n",
        "\n",
        "# \"poisson\" method\n",
        "array_RG = gen(pcg(seed = 365))\n",
        "array_RG.poisson(size = (5,5))\n",
        "\n",
        "# The arrays is 0s, 1s, and 2s because the default value of lambda == 1\n",
        "# This means that over a fixed interval of time, distance, or space we expect an event to occur \"exactly\" once"
      ],
      "execution_count": null,
      "outputs": [
        {
          "output_type": "execute_result",
          "data": {
            "text/plain": [
              "array([[2, 0, 1, 1, 2],\n",
              "       [1, 1, 0, 1, 1],\n",
              "       [1, 2, 1, 1, 0],\n",
              "       [0, 1, 0, 2, 1],\n",
              "       [0, 1, 0, 0, 2]])"
            ]
          },
          "metadata": {
            "tags": []
          },
          "execution_count": 48
        }
      ]
    },
    {
      "cell_type": "code",
      "metadata": {
        "colab": {
          "base_uri": "https://localhost:8080/"
        },
        "id": "X5zePM8C-GZ3",
        "outputId": "252494da-5697-447d-febd-09aa6c39cb23"
      },
      "source": [
        "# Set the lambda\n",
        "# Notice the \"lam\" argument\n",
        "array_RG = gen(pcg(seed = 365))\n",
        "array_RG.poisson(lam = 10, size = (5,5))"
      ],
      "execution_count": null,
      "outputs": [
        {
          "output_type": "execute_result",
          "data": {
            "text/plain": [
              "array([[11, 12, 12, 14, 13],\n",
              "       [ 9, 10, 11, 11,  8],\n",
              "       [11,  8, 10,  9, 14],\n",
              "       [ 7,  8,  9, 15, 15],\n",
              "       [13,  8,  8,  7,  9]])"
            ]
          },
          "metadata": {
            "tags": []
          },
          "execution_count": 49
        }
      ]
    },
    {
      "cell_type": "code",
      "metadata": {
        "colab": {
          "base_uri": "https://localhost:8080/"
        },
        "id": "b-qwi0TP_WsZ",
        "outputId": "df0ee37d-5366-46a2-d24f-5959c0bea6bb"
      },
      "source": [
        "# Binomial distribution measures how many times a certain outcome can appear over a series of trials\n",
        "# where there are \"only 2\" possible outcomes\n",
        "# n argument: number of trials\n",
        "# p argument: probability of getting our desired outcome\n",
        "array_RG = gen(pcg(seed = 365))\n",
        "array_RG.binomial(n = 100, p = 0.4, size = (5,5))\n",
        "\n",
        "# Each element is the number of times (out of 100) we've gotten our preferred outcome\n",
        "# On avg, most of outcomes are around \"40\"\n",
        "# 40% proba of getting what we want on each of the 100 indiv trials"
      ],
      "execution_count": null,
      "outputs": [
        {
          "output_type": "execute_result",
          "data": {
            "text/plain": [
              "array([[42, 44, 30, 36, 45],\n",
              "       [36, 41, 38, 42, 41],\n",
              "       [35, 31, 35, 46, 29],\n",
              "       [41, 41, 46, 34, 48],\n",
              "       [45, 45, 45, 40, 43]])"
            ]
          },
          "metadata": {
            "tags": []
          },
          "execution_count": 51
        }
      ]
    },
    {
      "cell_type": "code",
      "metadata": {
        "colab": {
          "base_uri": "https://localhost:8080/"
        },
        "id": "-d207rJ1AuSu",
        "outputId": "83730f62-4b38-4680-f67f-2221e53d18ff"
      },
      "source": [
        "# Logistic\n",
        "# Notice: loc == Location, and scale\n",
        "array_RG = gen(pcg(seed = 365))\n",
        "array_RG.logistic(loc = 9, scale = 1.2, size = (5,5))"
      ],
      "execution_count": null,
      "outputs": [
        {
          "output_type": "execute_result",
          "data": {
            "text/plain": [
              "array([[10.37767822, 10.42451863,  9.63404367,  7.36153427,  9.82286787],\n",
              "       [ 5.81223125, 10.09354231,  6.46790532, 11.38740256,  8.97147918],\n",
              "       [10.85844698,  8.79081317,  5.962079  ,  9.99560681,  8.34539118],\n",
              "       [ 7.97105522,  8.9981544 ,  8.93530194,  9.6253307 ,  9.23850869],\n",
              "       [ 9.73729284,  5.3090678 , 10.13723528, 11.04372782,  7.11078651]])"
            ]
          },
          "metadata": {
            "tags": []
          },
          "execution_count": 53
        }
      ]
    },
    {
      "cell_type": "markdown",
      "metadata": {
        "id": "3KH4hRx8Midh"
      },
      "source": [
        "# **Applications of Random Data in NumPy**\n",
        "- **Test Creation**: When real data isn't available, we sometimes need pseudo-random data to test how well a program performs\n"
      ]
    },
    {
      "cell_type": "code",
      "metadata": {
        "id": "N2-RniQxMrIJ"
      },
      "source": [
        "# Test Creation example:\n",
        "# Generate 5 different arrays\n",
        "# Create a bigger array with all of them in it\n",
        "# Export to CSV\n",
        "array_RG = gen(pcg(seed = 365))\n",
        "\n",
        "array_column_1 = array_RG.normal(loc = 2, scale = 3, size = (1000))\n",
        "array_column_2 = array_RG.normal(loc = 7, scale = 2, size = (1000))\n",
        "array_column_3 = array_RG.logistic(loc = 11, scale = 3, size = (1000))\n",
        "array_column_4 = array_RG.exponential(scale = 4, size = (1000))\n",
        "array_column_5 = array_RG.geometric(p = 0.7, size = (1000))"
      ],
      "execution_count": null,
      "outputs": []
    },
    {
      "cell_type": "code",
      "metadata": {
        "colab": {
          "base_uri": "https://localhost:8080/"
        },
        "id": "YrdthZm4OhNM",
        "outputId": "83924bee-8b52-4181-9681-f61adcbe2781"
      },
      "source": [
        "# Step 1: Generate 5 different arrays\n",
        "random_test_data = np.array([array_column_1, \n",
        "                             array_column_2,\n",
        "                             array_column_3,\n",
        "                             array_column_4,\n",
        "                             array_column_5]).transpose() # Transposing a matrix means transposing rows into columns (and vice versa)\n",
        "\n",
        "random_test_data"
      ],
      "execution_count": null,
      "outputs": [
        {
          "output_type": "execute_result",
          "data": {
            "text/plain": [
              "array([[ 1.59077303,  6.42174295, 10.14698427,  6.91500737,  1.        ],\n",
              "       [ 2.28243293,  8.57902322, 15.93309953,  6.243605  ,  1.        ],\n",
              "       [ 1.81098674,  5.17270135, -0.46878789,  2.44997251,  1.        ],\n",
              "       ...,\n",
              "       [ 0.1973629 ,  4.3465854 ,  2.66485989,  0.80935387,  1.        ],\n",
              "       [-2.21015722,  8.2176402 , 12.69328115,  0.50644607,  2.        ],\n",
              "       [ 2.91161235,  7.90337695, 11.79840961,  4.86816939,  1.        ]])"
            ]
          },
          "metadata": {
            "tags": []
          },
          "execution_count": 58
        }
      ]
    },
    {
      "cell_type": "code",
      "metadata": {
        "colab": {
          "base_uri": "https://localhost:8080/"
        },
        "id": "LwAinXoxPGFF",
        "outputId": "68fd41e7-dbb1-4319-d829-cac8ef5cadba"
      },
      "source": [
        "random_test_data.shape"
      ],
      "execution_count": null,
      "outputs": [
        {
          "output_type": "execute_result",
          "data": {
            "text/plain": [
              "(1000, 5)"
            ]
          },
          "metadata": {
            "tags": []
          },
          "execution_count": 59
        }
      ]
    },
    {
      "cell_type": "code",
      "metadata": {
        "id": "sBEztdXMPHDc"
      },
      "source": [
        "# Step 3: Export to CSV\n",
        "#np.savetxt(\"Random-Test-From-NP.csv\", random_test_data, fmt = \"%s\", delimiter= = \",\")"
      ],
      "execution_count": null,
      "outputs": []
    },
    {
      "cell_type": "code",
      "metadata": {
        "id": "yy9rA2nNQhgg"
      },
      "source": [
        "# Import back CSV into python\n",
        "# np.genfromtxt(\"Random-Test-From-NP.csv\", delimiter= = \",\")"
      ],
      "execution_count": null,
      "outputs": []
    }
  ]
}