{
  "nbformat": 4,
  "nbformat_minor": 0,
  "metadata": {
    "colab": {
      "name": "DataManipulationWithNumPy.ipynb",
      "provenance": [],
      "collapsed_sections": [
        "WM0qXAqW3XNO",
        "XdzZWmlV9lIW",
        "NRxYFkLUYsD4",
        "ka1AcWGpANNv",
        "l-YF3t4La8ci",
        "yFmB0e5SiA1a",
        "m3pnXL2Zm1Zw",
        "qVAkDoBVsqgH",
        "BPP-amOtCjvB",
        "eOzd-9x8GExP",
        "LvQ0I-eFKw6x",
        "mCuug91BdhII",
        "KBeeZ_voSupL"
      ],
      "mount_file_id": "1csYd1DCFzsHaapZZo0fL8l6G9WkiTp-b",
      "authorship_tag": "ABX9TyNI7YVUngSJuojuDY3b/I8c",
      "include_colab_link": true
    },
    "kernelspec": {
      "name": "python3",
      "display_name": "Python 3"
    },
    "language_info": {
      "name": "python"
    }
  },
  "cells": [
    {
      "cell_type": "markdown",
      "metadata": {
        "id": "view-in-github",
        "colab_type": "text"
      },
      "source": [
        "<a href=\"https://colab.research.google.com/github/JaiswalFelipe/Learning-Python/blob/main/DataManipulationWithNumPy.ipynb\" target=\"_parent\"><img src=\"https://colab.research.google.com/assets/colab-badge.svg\" alt=\"Open In Colab\"/></a>"
      ]
    },
    {
      "cell_type": "markdown",
      "metadata": {
        "id": "bYRSUgjj3QOj"
      },
      "source": [
        "### **Dealing with missing values**"
      ]
    },
    {
      "cell_type": "code",
      "metadata": {
        "id": "-nELXbrJ3em9"
      },
      "source": [
        "import numpy as np"
      ],
      "execution_count": null,
      "outputs": []
    },
    {
      "cell_type": "code",
      "metadata": {
        "id": "qGeYV6C734cJ"
      },
      "source": [
        "# This has no missing vals, and is for testing np.isnan(). Hint, np.loadtxt should have thrown an error\n",
        "lending_co_data_numeric = np.loadtxt(\"/content/drive/MyDrive/Colab Notebooks/365 Data Science/Programming/Numpy/Files for NumpyPart2/Importing and Saving Data with Numpy/Lending-Company-Numeric-Data.csv\", \n",
        "                                    delimiter = \",\")"
      ],
      "execution_count": null,
      "outputs": []
    },
    {
      "cell_type": "code",
      "metadata": {
        "id": "X86IUWhm49X9"
      },
      "source": [
        "# This HAS missing vals\n",
        "lending_co_data_numeric_NAN = np.genfromtxt(\"/content/drive/MyDrive/Colab Notebooks/365 Data Science/Programming/Numpy/Files for NumpyPart2/Importing and Saving Data with Numpy/Lending-Company-Numeric-Data-NAN.csv\",\n",
        "                                            delimiter = \";\")"
      ],
      "execution_count": null,
      "outputs": []
    },
    {
      "cell_type": "code",
      "metadata": {
        "colab": {
          "base_uri": "https://localhost:8080/"
        },
        "id": "urQgHyqnDDHE",
        "outputId": "2a0feaa7-4497-441a-8043-058388ec043f"
      },
      "source": [
        "# Fixed\n",
        "# Rerun 2nd cell\n",
        "temporary_fill = np.nanmax(lending_co_data_numeric_NAN).round(2) + 1\n",
        "temporary_mean = np.nanmean(lending_co_data_numeric_NAN, axis = 0).round(2)\n",
        "\n",
        "lending_co_data_numeric_NAN = np.genfromtxt(\"/content/drive/MyDrive/Colab Notebooks/365 Data Science/Programming/Numpy/Files for NumpyPart2/Importing and Saving Data with Numpy/Lending-Company-Numeric-Data-NAN.csv\",\n",
        "                                            delimiter = \";\",\n",
        "                                            filling_values = temporary_fill)\n",
        "\n",
        "for i in range(lending_co_data_numeric_NAN.shape[1]):\n",
        "  lending_co_data_numeric_NAN[:,i] = np.where(lending_co_data_numeric_NAN[:,i] == temporary_fill,\n",
        "                                              temporary_mean[i],\n",
        "                                              lending_co_data_numeric_NAN[:,i])\n",
        "\n",
        "lending_co_data_numeric_NAN\n"
      ],
      "execution_count": null,
      "outputs": [
        {
          "output_type": "execute_result",
          "data": {
            "text/plain": [
              "array([[ 2000.  ,    40.  ,   365.  ,  3121.  ,  4241.  , 13621.  ],\n",
              "       [ 2000.  ,    40.  ,   365.  ,  3061.  ,  4171.  , 15041.  ],\n",
              "       [ 1000.  ,    40.  ,   365.  ,  2160.  ,  3280.  , 15340.  ],\n",
              "       ...,\n",
              "       [ 2250.25,    40.  ,   365.  ,  4201.  ,  5001.  , 16600.  ],\n",
              "       [ 1000.  ,    40.  ,   365.  ,  2080.  ,  3320.  , 15600.  ],\n",
              "       [ 2000.  ,    40.  ,   365.  ,  4601.  ,  4601.  , 16600.  ]])"
            ]
          },
          "metadata": {
            "tags": []
          },
          "execution_count": 12
        }
      ]
    },
    {
      "cell_type": "markdown",
      "metadata": {
        "id": "WM0qXAqW3XNO"
      },
      "source": [
        "##### Checking for missing values\n",
        "- Nan == Not a Number"
      ]
    },
    {
      "cell_type": "code",
      "metadata": {
        "colab": {
          "base_uri": "https://localhost:8080/"
        },
        "id": "jeQ1-WeP4-n3",
        "outputId": "0fb8c6e7-b8ae-4acb-8195-f40eb4cf1ae7"
      },
      "source": [
        "# Without .sum, np.isnan() will return an array of True/False values\n",
        "print(np.isnan(lending_co_data_numeric).sum())\n",
        "print(\"\")\n",
        "\n",
        "# Now this has the NaNs\n",
        "print(np.isnan(lending_co_data_numeric_NAN).sum())"
      ],
      "execution_count": null,
      "outputs": [
        {
          "output_type": "stream",
          "text": [
            "0\n",
            "\n",
            "1043\n"
          ],
          "name": "stdout"
        }
      ]
    },
    {
      "cell_type": "code",
      "metadata": {
        "id": "MEj8LSzdzu_Q"
      },
      "source": [
        "# Fill missing values with 0 during import:  \"filling_values = 0\"\n",
        "# WARNING! THIS IS NOT ALWAYS A GREAT IDEA\n",
        "lending_co_data_numeric_NAN = np.genfromtxt(\"/content/drive/MyDrive/Colab Notebooks/365 Data Science/Programming/Numpy/Files for NumpyPart2/Importing and Saving Data with Numpy/Lending-Company-Numeric-Data-NAN.csv\",\n",
        "                                            delimiter = \";\",\n",
        "                                            filling_values = 0)\n",
        "# Now to test\n",
        "print(np.isnan(lending_co_data_numeric_NAN).sum())"
      ],
      "execution_count": null,
      "outputs": []
    },
    {
      "cell_type": "code",
      "metadata": {
        "colab": {
          "base_uri": "https://localhost:8080/"
        },
        "id": "tTLrm1J95gHW",
        "outputId": "6b75c291-f846-435a-d529-423cf1ac75b4"
      },
      "source": [
        "# Another way is to fill the missing values with a number \"GREATER THAN\" the highest value of the dataset\n",
        "# To get the highest value: np.nanmax()\n",
        "# To test, rerun above cell without \"filling_values = 0\"\n",
        "# .round() is a good practice when working with decimal numbers\n",
        "temporary_fill = np.nanmax(lending_co_data_numeric_NAN).round(2) + 1 \n",
        "temporary_fill"
      ],
      "execution_count": null,
      "outputs": [
        {
          "output_type": "execute_result",
          "data": {
            "text/plain": [
              "64002.0"
            ]
          },
          "metadata": {
            "tags": []
          },
          "execution_count": 12
        }
      ]
    },
    {
      "cell_type": "code",
      "metadata": {
        "colab": {
          "base_uri": "https://localhost:8080/"
        },
        "id": "tG7mfuIh9LKu",
        "outputId": "64789b84-d9f7-467d-e0d6-66e7ba2db3dd"
      },
      "source": [
        "# Now fill with \"temporary_fill\"\n",
        "lending_co_data_numeric_NAN = np.genfromtxt(\"/content/drive/MyDrive/Colab Notebooks/365 Data Science/Programming/Numpy/Files for NumpyPart2/Importing and Saving Data with Numpy/Lending-Company-Numeric-Data-NAN.csv\",\n",
        "                                            delimiter = \";\",\n",
        "                                            filling_values = temporary_fill)\n",
        "# Now to test\n",
        "print(np.isnan(lending_co_data_numeric_NAN).sum())"
      ],
      "execution_count": null,
      "outputs": [
        {
          "output_type": "stream",
          "text": [
            "0\n"
          ],
          "name": "stdout"
        }
      ]
    },
    {
      "cell_type": "markdown",
      "metadata": {
        "id": "XdzZWmlV9lIW"
      },
      "source": [
        "##### Substituting Missing Values in Ndarrays\n",
        "- np.nanmean()\n",
        "\n"
      ]
    },
    {
      "cell_type": "code",
      "metadata": {
        "colab": {
          "base_uri": "https://localhost:8080/"
        },
        "id": "eZvrcAKE9fEt",
        "outputId": "e8926852-674f-41b5-c4b7-663ec8cd9c36"
      },
      "source": [
        "# Filling with \"mean\": won't change the overall interpretation of the dataset\n",
        "# All missing values would be considered avg \n",
        "# NOTE: NOT ALWAYS VALID, BUT OFTEN IS THE PREFERRED APPROACH\n",
        "\n",
        "#Find out the mean, and set it to a variable\n",
        "temporary_mean = np.nanmean(lending_co_data_numeric_NAN, axis = 0).round(2)\n",
        "\n",
        "# Check the mean of the first column\n",
        "temporary_mean[0] "
      ],
      "execution_count": null,
      "outputs": [
        {
          "output_type": "execute_result",
          "data": {
            "text/plain": [
              "2250.25"
            ]
          },
          "metadata": {
            "tags": []
          },
          "execution_count": 17
        }
      ]
    },
    {
      "cell_type": "code",
      "metadata": {
        "colab": {
          "base_uri": "https://localhost:8080/"
        },
        "id": "taPRRB0k-v6T",
        "outputId": "10662a62-ffb6-4c9f-b9f9-186c18a3bb88"
      },
      "source": [
        "temporary_fill = np.nanmax(lending_co_data_numeric_NAN).round(2) + 1\n",
        "\n",
        "lending_co_data_numeric_NAN = np.genfromtxt(\"/content/drive/MyDrive/Colab Notebooks/365 Data Science/Programming/Numpy/Files for NumpyPart2/Importing and Saving Data with Numpy/Lending-Company-Numeric-Data-NAN.csv\",\n",
        "                                            delimiter = \";\",\n",
        "                                            filling_values = temporary_fill)\n",
        "\n",
        "# This value is much greater than the mean of the first column and this makes the filler an OUTLIER\n",
        "temporary_fill"
      ],
      "execution_count": null,
      "outputs": [
        {
          "output_type": "execute_result",
          "data": {
            "text/plain": [
              "64002.0"
            ]
          },
          "metadata": {
            "tags": []
          },
          "execution_count": 22
        }
      ]
    },
    {
      "cell_type": "code",
      "metadata": {
        "colab": {
          "base_uri": "https://localhost:8080/"
        },
        "id": "fAzrey8WBtbX",
        "outputId": "7a7ebe94-dbfb-42d7-c7a9-67ef4dc6f8b2"
      },
      "source": [
        "# Next, find the avg value of the first column of the dataset WITHOUT missing values\n",
        "# Slicing to indicated we're only interested in the column with index 0\n",
        "np.mean(lending_co_data_numeric_NAN[:,0]).round(2)\n",
        "\n",
        "# This mean is distorted due to filling NANs with the \"maximum value + 1\"\n",
        "# The mean of the first column prior to filling it with \"maximum value + 1\" was \"temporary_mean[0] == 2250.25\"\n",
        "# Twice smaller the mean when missing with maximum, and can lead to MISLEADING insights from da data"
      ],
      "execution_count": null,
      "outputs": [
        {
          "output_type": "execute_result",
          "data": {
            "text/plain": [
              "4263.25"
            ]
          },
          "metadata": {
            "tags": []
          },
          "execution_count": 23
        }
      ]
    },
    {
      "cell_type": "code",
      "metadata": {
        "colab": {
          "base_uri": "https://localhost:8080/"
        },
        "id": "wtBpzystD4D7",
        "outputId": "51661eb7-025f-4e97-bb1d-67bf7b46080f"
      },
      "source": [
        "# To fix this, we use np.where()\n",
        "lending_co_data_numeric_NAN[:,0] = np.where(lending_co_data_numeric_NAN[:,0] == temporary_fill,  # If True:\n",
        "                                            temporary_mean[0],                                      # Set to this\n",
        "                                            lending_co_data_numeric_NAN[:,0])                    # If not: set it equal to itself\n",
        "\n",
        "# Now, every \"non-filler\" value will remain unchanged,\n",
        "# And every \"filler\" will now contain the mean of the column instead\n",
        "\n",
        "# Now to check\n",
        "np.mean(lending_co_data_numeric_NAN[:,0]).round(2)"
      ],
      "execution_count": null,
      "outputs": [
        {
          "output_type": "execute_result",
          "data": {
            "text/plain": [
              "2250.25"
            ]
          },
          "metadata": {
            "tags": []
          },
          "execution_count": 25
        }
      ]
    },
    {
      "cell_type": "code",
      "metadata": {
        "id": "-33F1m5AFt7d"
      },
      "source": [
        "# Now we can generalize it to \"ALL\" the columns of the dataset\n",
        "\n",
        "# Call \"range\" function and \".shape\" attribute to get the number of columns in the dataset\n",
        "# [:,0] --> [:,i] we changed 0 into \"i(s)\" to make sure we iterate over \"each column\" \n",
        "for i in range(lending_co_data_numeric_NAN.shape[1]):  # shape[1] because \"1\" gives us the number of columns, \"0\" == rows                                           \n",
        "  lending_co_data_numeric_NAN[:,i] = np.where(lending_co_data_numeric_NAN[:,i] == temporary_fill,  # If true, change to: \n",
        "                                            temporary_mean[i],                                     # the mean of each column                       \n",
        "                                            lending_co_data_numeric_NAN[:,i])                      # If non-filler, don't change"
      ],
      "execution_count": null,
      "outputs": []
    },
    {
      "cell_type": "code",
      "metadata": {
        "id": "AU81kqNjYRZo"
      },
      "source": [
        "# To replace \"Negative values\" to \"0\"\n",
        "for i in range(lending_co_data_numeric_NAN.shape[1]):                                          \n",
        "  lending_co_data_numeric_NAN[:,i] = np.where(lending_co_data_numeric_NAN[:,i] < 0,  # If less than 0 (negative)\n",
        "                                            0,                       # Change to 0                     \n",
        "                                            lending_co_data_numeric_NAN[:,i])"
      ],
      "execution_count": null,
      "outputs": []
    },
    {
      "cell_type": "markdown",
      "metadata": {
        "id": "NRxYFkLUYsD4"
      },
      "source": [
        "##### Reshaping Ndarrays\n",
        "- np.reshape() NOT ALWAYS NEEDED\n",
        "- The act of morphing the shape of an object a certain way\n",
        "- INSTEAD: Use np.transpose()"
      ]
    },
    {
      "cell_type": "code",
      "metadata": {
        "colab": {
          "base_uri": "https://localhost:8080/"
        },
        "id": "AYFccfW-YvwS",
        "outputId": "c4e86a9c-b418-4b75-d2c0-8a1278a028cc"
      },
      "source": [
        "# Rerun first import with the np.loadtxt()\n",
        "lending_co_data_numeric"
      ],
      "execution_count": null,
      "outputs": [
        {
          "output_type": "execute_result",
          "data": {
            "text/plain": [
              "array([[ 2000.,    40.,   365.,  3121.,  4241., 13621.],\n",
              "       [ 2000.,    40.,   365.,  3061.,  4171., 15041.],\n",
              "       [ 1000.,    40.,   365.,  2160.,  3280., 15340.],\n",
              "       ...,\n",
              "       [ 2000.,    40.,   365.,  4201.,  5001., 16600.],\n",
              "       [ 1000.,    40.,   365.,  2080.,  3320., 15600.],\n",
              "       [ 2000.,    40.,   365.,  4601.,  4601., 16600.]])"
            ]
          },
          "metadata": {
            "tags": []
          },
          "execution_count": 29
        }
      ]
    },
    {
      "cell_type": "code",
      "metadata": {
        "colab": {
          "base_uri": "https://localhost:8080/"
        },
        "id": "H6bs-mLywUsb",
        "outputId": "33bb4d65-900b-496e-8aa3-c0c5b33d16c8"
      },
      "source": [
        "# Before reshape\n",
        "lending_co_data_numeric.shape"
      ],
      "execution_count": null,
      "outputs": [
        {
          "output_type": "execute_result",
          "data": {
            "text/plain": [
              "(1043, 6)"
            ]
          },
          "metadata": {
            "tags": []
          },
          "execution_count": 30
        }
      ]
    },
    {
      "cell_type": "code",
      "metadata": {
        "colab": {
          "base_uri": "https://localhost:8080/"
        },
        "id": "rSlSdW37w15U",
        "outputId": "3f768211-043a-4f03-aebe-ea6361125997"
      },
      "source": [
        "np.reshape(lending_co_data_numeric, (6,1043))"
      ],
      "execution_count": null,
      "outputs": [
        {
          "output_type": "execute_result",
          "data": {
            "text/plain": [
              "array([[ 2000.,    40.,   365., ...,   365.,  1581.,  3041.],\n",
              "       [12277.,  2000.,    40., ...,    50.,   365.,  5350.],\n",
              "       [ 6850., 15150.,  1000., ...,  2000.,    40.,   365.],\n",
              "       [ 3101.,  4351., 16600., ..., 16600.,  2000.,    40.],\n",
              "       [  365.,  3441.,  4661., ...,  8450., 22250.,  2000.],\n",
              "       [   40.,   365.,  3701., ...,  4601.,  4601., 16600.]])"
            ]
          },
          "metadata": {
            "tags": []
          },
          "execution_count": 34
        }
      ]
    },
    {
      "cell_type": "code",
      "metadata": {
        "colab": {
          "base_uri": "https://localhost:8080/"
        },
        "id": "wFlQxMUyxVLU",
        "outputId": "355b6676-45f8-417b-9f62-46cb3465cb9a"
      },
      "source": [
        "# Preferred: Transpose \"rows\" into \"Columns\"\n",
        "np.transpose(lending_co_data_numeric)"
      ],
      "execution_count": null,
      "outputs": [
        {
          "output_type": "execute_result",
          "data": {
            "text/plain": [
              "array([[ 2000.,  2000.,  1000., ...,  2000.,  1000.,  2000.],\n",
              "       [   40.,    40.,    40., ...,    40.,    40.,    40.],\n",
              "       [  365.,   365.,   365., ...,   365.,   365.,   365.],\n",
              "       [ 3121.,  3061.,  2160., ...,  4201.,  2080.,  4601.],\n",
              "       [ 4241.,  4171.,  3280., ...,  5001.,  3320.,  4601.],\n",
              "       [13621., 15041., 15340., ..., 16600., 15600., 16600.]])"
            ]
          },
          "metadata": {
            "tags": []
          },
          "execution_count": 35
        }
      ]
    },
    {
      "cell_type": "markdown",
      "metadata": {
        "id": "ka1AcWGpANNv"
      },
      "source": [
        "##### Removing Values from Ndarrays\n",
        "- np.delete()"
      ]
    },
    {
      "cell_type": "code",
      "metadata": {
        "colab": {
          "base_uri": "https://localhost:8080/"
        },
        "id": "u9pU1fErAVA7",
        "outputId": "d3d4e870-a4e6-4784-ca3c-ce58a4b8ea81"
      },
      "source": [
        "# Rerun first import with the np.loadtxt()\n",
        "lending_co_data_numeric"
      ],
      "execution_count": null,
      "outputs": [
        {
          "output_type": "execute_result",
          "data": {
            "text/plain": [
              "array([[ 2000.,    40.,   365.,  3121.,  4241., 13621.],\n",
              "       [ 2000.,    40.,   365.,  3061.,  4171., 15041.],\n",
              "       [ 1000.,    40.,   365.,  2160.,  3280., 15340.],\n",
              "       ...,\n",
              "       [ 2000.,    40.,   365.,  4201.,  5001., 16600.],\n",
              "       [ 1000.,    40.,   365.,  2080.,  3320., 15600.],\n",
              "       [ 2000.,    40.,   365.,  4601.,  4601., 16600.]])"
            ]
          },
          "metadata": {
            "tags": []
          },
          "execution_count": 36
        }
      ]
    },
    {
      "cell_type": "code",
      "metadata": {
        "colab": {
          "base_uri": "https://localhost:8080/"
        },
        "id": "0gByV91wAyx3",
        "outputId": "eba51360-731e-4634-ac07-bb5b8995fb62"
      },
      "source": [
        "# Delete the first value of the flattened array\n",
        "print(np.delete(lending_co_data_numeric, 0))\n",
        "print(\"\")\n",
        "\n",
        "# To verify:\n",
        "print(np.delete(lending_co_data_numeric, 0).shape)\n",
        "print(\"\")\n",
        "\n",
        "# Note: This is the original\n",
        "print(lending_co_data_numeric.size)"
      ],
      "execution_count": null,
      "outputs": [
        {
          "output_type": "stream",
          "text": [
            "[   40.   365.  3121. ...  4601.  4601. 16600.]\n",
            "\n",
            "(6257,)\n",
            "\n",
            "6258\n"
          ],
          "name": "stdout"
        }
      ]
    },
    {
      "cell_type": "code",
      "metadata": {
        "colab": {
          "base_uri": "https://localhost:8080/"
        },
        "id": "RwA3HuCQCrJN",
        "outputId": "8babcc02-0eb1-4815-ae98-3a968cf7301f"
      },
      "source": [
        "# Get rid of entire columns or rows: by passing a value to the axis argument\n",
        "# Remember 0 indexing\n",
        "\n",
        "# This removes the first \"row\" of the matrix: axis = 0\n",
        "print(np.delete(lending_co_data_numeric, 0, axis = 0))\n",
        "print(\"\")\n",
        "\n",
        "# This removes the first \"column\" of the matrix: axis = 1\n",
        "print(np.delete(lending_co_data_numeric, 0, axis = 1))"
      ],
      "execution_count": null,
      "outputs": [
        {
          "output_type": "stream",
          "text": [
            "[[ 2000.    40.   365.  3061.  4171. 15041.]\n",
            " [ 1000.    40.   365.  2160.  3280. 15340.]\n",
            " [ 2000.    40.   365.  3041.  4241. 15321.]\n",
            " ...\n",
            " [ 2000.    40.   365.  4201.  5001. 16600.]\n",
            " [ 1000.    40.   365.  2080.  3320. 15600.]\n",
            " [ 2000.    40.   365.  4601.  4601. 16600.]]\n",
            "\n",
            "[[   40.   365.  3121.  4241. 13621.]\n",
            " [   40.   365.  3061.  4171. 15041.]\n",
            " [   40.   365.  2160.  3280. 15340.]\n",
            " ...\n",
            " [   40.   365.  4201.  5001. 16600.]\n",
            " [   40.   365.  2080.  3320. 15600.]\n",
            " [   40.   365.  4601.  4601. 16600.]]\n"
          ],
          "name": "stdout"
        }
      ]
    },
    {
      "cell_type": "code",
      "metadata": {
        "colab": {
          "base_uri": "https://localhost:8080/"
        },
        "id": "DeDD7R7zYY2L",
        "outputId": "227ca219-4b3b-4ff6-91f1-5c78dc21e2cb"
      },
      "source": [
        "# Removing multiple rows/columns by using a tuple or a list\n",
        "\n",
        "# Remove the 1st, 3rd, 5th columns\n",
        "np.delete(lending_co_data_numeric, (0,2,4), axis = 1)\n",
        "\n",
        "# Delete both rows and columns simultaneously:\n",
        "#np.delete(np.delete(lending_co_data_numeric, [0,2,4], axis = 1), [0,2,-1], axis = 0)"
      ],
      "execution_count": null,
      "outputs": [
        {
          "output_type": "execute_result",
          "data": {
            "text/plain": [
              "array([[   40.,  3121., 13621.],\n",
              "       [   40.,  3061., 15041.],\n",
              "       [   40.,  2160., 15340.],\n",
              "       ...,\n",
              "       [   40.,  4201., 16600.],\n",
              "       [   40.,  2080., 15600.],\n",
              "       [   40.,  4601., 16600.]])"
            ]
          },
          "metadata": {
            "tags": []
          },
          "execution_count": 9
        }
      ]
    },
    {
      "cell_type": "markdown",
      "metadata": {
        "id": "l-YF3t4La8ci"
      },
      "source": [
        "##### Sorting Ndarrays\n",
        "- np.sort() takes an array and returns a sorted version (in ascending order)"
      ]
    },
    {
      "cell_type": "code",
      "metadata": {
        "colab": {
          "base_uri": "https://localhost:8080/"
        },
        "id": "IKu0lsRXbA8g",
        "outputId": "27edd59d-d73f-41ed-bb75-73a0c852668d"
      },
      "source": [
        "# Rerun first import with the np.loadtxt()\n",
        "lending_co_data_numeric"
      ],
      "execution_count": null,
      "outputs": [
        {
          "output_type": "execute_result",
          "data": {
            "text/plain": [
              "array([[ 2000.,    40.,   365.,  3121.,  4241., 13621.],\n",
              "       [ 2000.,    40.,   365.,  3061.,  4171., 15041.],\n",
              "       [ 1000.,    40.,   365.,  2160.,  3280., 15340.],\n",
              "       ...,\n",
              "       [ 2000.,    40.,   365.,  4201.,  5001., 16600.],\n",
              "       [ 1000.,    40.,   365.,  2080.,  3320., 15600.],\n",
              "       [ 2000.,    40.,   365.,  4601.,  4601., 16600.]])"
            ]
          },
          "metadata": {
            "tags": []
          },
          "execution_count": 10
        }
      ]
    },
    {
      "cell_type": "code",
      "metadata": {
        "colab": {
          "base_uri": "https://localhost:8080/"
        },
        "id": "307cLmzgbaKC",
        "outputId": "140ff286-1820-4722-8855-11688006c934"
      },
      "source": [
        "# The default sort: without specifying any other arguments\n",
        "np.sort(lending_co_data_numeric)"
      ],
      "execution_count": null,
      "outputs": [
        {
          "output_type": "execute_result",
          "data": {
            "text/plain": [
              "array([[   40.,   365.,  2000.,  3121.,  4241., 13621.],\n",
              "       [   40.,   365.,  2000.,  3061.,  4171., 15041.],\n",
              "       [   40.,   365.,  1000.,  2160.,  3280., 15340.],\n",
              "       ...,\n",
              "       [   40.,   365.,  2000.,  4201.,  5001., 16600.],\n",
              "       [   40.,   365.,  1000.,  2080.,  3320., 15600.],\n",
              "       [   40.,   365.,  2000.,  4601.,  4601., 16600.]])"
            ]
          },
          "metadata": {
            "tags": []
          },
          "execution_count": 11
        }
      ]
    },
    {
      "cell_type": "code",
      "metadata": {
        "colab": {
          "base_uri": "https://localhost:8080/"
        },
        "id": "LSzIMlZbbqlU",
        "outputId": "4c6cfa7f-f3fc-4f62-f740-53ba723bf25f"
      },
      "source": [
        "# Results an array where all its columns sorted in an ascending order\n",
        "np.sort(lending_co_data_numeric, axis = 0)"
      ],
      "execution_count": null,
      "outputs": [
        {
          "output_type": "execute_result",
          "data": {
            "text/plain": [
              "array([[ 1.0000e+03,  3.5000e+01,  3.6500e+02, -2.8700e+03, -2.8700e+03,\n",
              "        -3.5000e+02],\n",
              "       [ 1.0000e+03,  3.5000e+01,  3.6500e+02, -2.5500e+03, -2.1000e+03,\n",
              "         1.5000e+02],\n",
              "       [ 1.0000e+03,  3.5000e+01,  3.6500e+02, -2.4500e+03, -2.0000e+03,\n",
              "         1.1000e+03],\n",
              "       ...,\n",
              "       [ 9.0000e+03,  1.2500e+02,  3.6500e+02,  1.6751e+04,  1.8751e+04,\n",
              "         5.4625e+04],\n",
              "       [ 9.0000e+03,  1.6500e+02,  3.6500e+02,  1.7650e+04,  2.0001e+04,\n",
              "         5.4625e+04],\n",
              "       [ 9.0000e+03,  1.6500e+02,  3.6500e+02,  1.9001e+04,  2.2001e+04,\n",
              "         6.4001e+04]])"
            ]
          },
          "metadata": {
            "tags": []
          },
          "execution_count": 12
        }
      ]
    },
    {
      "cell_type": "code",
      "metadata": {
        "id": "7R4jyni3c7Q3"
      },
      "source": [
        "# Get rid of scientific notation\n",
        "# WARNING: THESE SETTINGS WILL APPLY TO OUR ENTIRE WORK, rather than a single cell\n",
        "\n",
        "#np.set_printoptions(suppress = True)\n",
        "# Then rerun above cell to check"
      ],
      "execution_count": null,
      "outputs": []
    },
    {
      "cell_type": "code",
      "metadata": {
        "colab": {
          "base_uri": "https://localhost:8080/"
        },
        "id": "X3lRRcZxdNSo",
        "outputId": "bb47ee68-ec16-4248-c592-df5ab5105137"
      },
      "source": [
        "# Descending: adding \"-\" changes the sign of every individual element of the input variable\n",
        "# Equivalent to multiplying by -1\n",
        "# But this will make the sign negative\n",
        "np.sort(-lending_co_data_numeric)\n",
        "\n",
        "# To fix this: use \"-\" before -np.sort()\n",
        "#-np.sort(-lending_co_data_numeric)"
      ],
      "execution_count": null,
      "outputs": [
        {
          "output_type": "execute_result",
          "data": {
            "text/plain": [
              "array([[-13621.,  -4241.,  -3121.,  -2000.,   -365.,    -40.],\n",
              "       [-15041.,  -4171.,  -3061.,  -2000.,   -365.,    -40.],\n",
              "       [-15340.,  -3280.,  -2160.,  -1000.,   -365.,    -40.],\n",
              "       ...,\n",
              "       [-16600.,  -5001.,  -4201.,  -2000.,   -365.,    -40.],\n",
              "       [-15600.,  -3320.,  -2080.,  -1000.,   -365.,    -40.],\n",
              "       [-16600.,  -4601.,  -4601.,  -2000.,   -365.,    -40.]])"
            ]
          },
          "metadata": {
            "tags": []
          },
          "execution_count": 13
        }
      ]
    },
    {
      "cell_type": "code",
      "metadata": {
        "colab": {
          "base_uri": "https://localhost:8080/"
        },
        "id": "-kY0dpD8f2Sj",
        "outputId": "5ca93285-78b6-4ea4-da4b-25e8e6a370d0"
      },
      "source": [
        "# Sort individual columns by indexing\n",
        "# Sort the 4th column\n",
        "np.sort(lending_co_data_numeric[:,3])\n",
        "\n",
        "# This overwrites the original array's \"4th\" column\n",
        "#lending_co_data_numeric[:,3].sort()\n",
        "\n",
        "# Or \"ENTIRE\" matrix\n",
        "#lending_co_data_numeric.sort(axis = 0)"
      ],
      "execution_count": null,
      "outputs": [
        {
          "output_type": "execute_result",
          "data": {
            "text/plain": [
              "array([-2870., -2550., -2450., ..., 16751., 17650., 19001.])"
            ]
          },
          "metadata": {
            "tags": []
          },
          "execution_count": 14
        }
      ]
    },
    {
      "cell_type": "markdown",
      "metadata": {
        "id": "yFmB0e5SiA1a"
      },
      "source": [
        "##### Argument Sort in NumPy\n",
        "- np.argsort()"
      ]
    },
    {
      "cell_type": "code",
      "metadata": {
        "colab": {
          "base_uri": "https://localhost:8080/"
        },
        "id": "n3lmmOQ3iEIM",
        "outputId": "c3de407d-3df3-4ff3-d042-ae241261759a"
      },
      "source": [
        "# Rerun first import with the np.loadtxt()\n",
        "lending_co_data_numeric"
      ],
      "execution_count": null,
      "outputs": [
        {
          "output_type": "execute_result",
          "data": {
            "text/plain": [
              "array([[ 2000.,    40.,   365.,  3121.,  4241., 13621.],\n",
              "       [ 2000.,    40.,   365.,  3061.,  4171., 15041.],\n",
              "       [ 1000.,    40.,   365.,  2160.,  3280., 15340.],\n",
              "       ...,\n",
              "       [ 2000.,    40.,   365.,  4201.,  5001., 16600.],\n",
              "       [ 1000.,    40.,   365.,  2080.,  3320., 15600.],\n",
              "       [ 2000.,    40.,   365.,  4601.,  4601., 16600.]])"
            ]
          },
          "metadata": {
            "tags": []
          },
          "execution_count": 15
        }
      ]
    },
    {
      "cell_type": "code",
      "metadata": {
        "colab": {
          "base_uri": "https://localhost:8080/"
        },
        "id": "nJ_MNyWOi4JB",
        "outputId": "31ce20be-95ae-4207-dbce-693b8fb10bd5"
      },
      "source": [
        "# Returns the sorted INDICES\n",
        "np.argsort(lending_co_data_numeric)"
      ],
      "execution_count": null,
      "outputs": [
        {
          "output_type": "execute_result",
          "data": {
            "text/plain": [
              "array([[1, 2, 0, 3, 4, 5],\n",
              "       [1, 2, 0, 3, 4, 5],\n",
              "       [1, 2, 0, 3, 4, 5],\n",
              "       ...,\n",
              "       [1, 2, 0, 3, 4, 5],\n",
              "       [1, 2, 0, 3, 4, 5],\n",
              "       [1, 2, 0, 3, 4, 5]])"
            ]
          },
          "metadata": {
            "tags": []
          },
          "execution_count": 16
        }
      ]
    },
    {
      "cell_type": "code",
      "metadata": {
        "colab": {
          "base_uri": "https://localhost:8080/"
        },
        "id": "7uwyAJgKk3IP",
        "outputId": "a982b20c-39c8-47fa-9708-55cd1d98c0a3"
      },
      "source": [
        "# The first column\n",
        "np.argsort(lending_co_data_numeric[:,0])\n",
        "\n",
        "# Set into a variable\n",
        "#lending_co_data_numeric = lending_co_data_numeric[np.argsort(lending_co_data_numeric[:,0])]\n",
        "#lending_co_data_numeric\n",
        "\n",
        "# This can be \"extremely\" useful when each row of a dataset contains informatuon about a specific client(or date)"
      ],
      "execution_count": null,
      "outputs": [
        {
          "output_type": "execute_result",
          "data": {
            "text/plain": [
              "array([537, 639, 849, ...,  27, 277, 420])"
            ]
          },
          "metadata": {
            "tags": []
          },
          "execution_count": 17
        }
      ]
    },
    {
      "cell_type": "markdown",
      "metadata": {
        "id": "m3pnXL2Zm1Zw"
      },
      "source": [
        "##### Argument Where in NumPy\n",
        "- np.argwhere() can be used with any mathematical conditions\n",
        "- We can use this function to separate the elements that interests us\n",
        "\n",
        "\n",
        "\n",
        "- WHERE DID THE NAME \"ARGUMENT\" ORIGINATES FROM -->  ASTRONOMY\n",
        " - \"That which elucidates something else\"\n",
        " - COORDINATES IN SPACE == Indices in N-D arrays\n",
        "- Therefore, functions that return \"coordinates\" within an array are called \"argument\" functions"
      ]
    },
    {
      "cell_type": "code",
      "metadata": {
        "colab": {
          "base_uri": "https://localhost:8080/"
        },
        "id": "CCsUyrPSk9Nr",
        "outputId": "709370ca-5c2e-4677-b1af-69b613b76d0d"
      },
      "source": [
        "# Rerun first import with the np.loadtxt()\n",
        "lending_co_data_numeric"
      ],
      "execution_count": null,
      "outputs": [
        {
          "output_type": "execute_result",
          "data": {
            "text/plain": [
              "array([[ 2000.,    40.,   365.,  3121.,  4241., 13621.],\n",
              "       [ 2000.,    40.,   365.,  3061.,  4171., 15041.],\n",
              "       [ 1000.,    40.,   365.,  2160.,  3280., 15340.],\n",
              "       ...,\n",
              "       [ 2000.,    40.,   365.,  4201.,  5001., 16600.],\n",
              "       [ 1000.,    40.,   365.,  2080.,  3320., 15600.],\n",
              "       [ 2000.,    40.,   365.,  4601.,  4601., 16600.]])"
            ]
          },
          "metadata": {
            "tags": []
          },
          "execution_count": 18
        }
      ]
    },
    {
      "cell_type": "code",
      "metadata": {
        "colab": {
          "base_uri": "https://localhost:8080/"
        },
        "id": "lB2hPiPHofx2",
        "outputId": "a2ba8a17-091e-40b7-fa44-9f4cd0445bde"
      },
      "source": [
        "# np.argwhere goes over the entire NDarray and checks whether the individual elements satisfy a given condition\n",
        "# The outputs are the indices for all the indivudual elements where the condition is met\n",
        "# The default condition is to check for values different from 0\n",
        "np.argwhere(lending_co_data_numeric)\n",
        "\n",
        "# The first column == row index, the 2nd column == column index"
      ],
      "execution_count": null,
      "outputs": [
        {
          "output_type": "execute_result",
          "data": {
            "text/plain": [
              "array([[   0,    0],\n",
              "       [   0,    1],\n",
              "       [   0,    2],\n",
              "       ...,\n",
              "       [1042,    3],\n",
              "       [1042,    4],\n",
              "       [1042,    5]])"
            ]
          },
          "metadata": {
            "tags": []
          },
          "execution_count": 19
        }
      ]
    },
    {
      "cell_type": "code",
      "metadata": {
        "colab": {
          "base_uri": "https://localhost:8080/"
        },
        "id": "5clcFQJ2q4vu",
        "outputId": "d45e6426-9089-4a57-ad37-fff631719da5"
      },
      "source": [
        "# So to find out how many are equal to \"0\" in the dataset\n",
        "np.argwhere(lending_co_data_numeric == False)"
      ],
      "execution_count": null,
      "outputs": [
        {
          "output_type": "execute_result",
          "data": {
            "text/plain": [
              "array([[116,   4],\n",
              "       [430,   3]])"
            ]
          },
          "metadata": {
            "tags": []
          },
          "execution_count": 20
        }
      ]
    },
    {
      "cell_type": "code",
      "metadata": {
        "colab": {
          "base_uri": "https://localhost:8080/"
        },
        "id": "lgBWKpDWrBDh",
        "outputId": "33215855-5c26-4455-830c-bdb04eb245d9"
      },
      "source": [
        "# To verify:\n",
        "print(lending_co_data_numeric[116])\n",
        "print(lending_co_data_numeric[430])"
      ],
      "execution_count": null,
      "outputs": [
        {
          "output_type": "stream",
          "text": [
            "[ 1000.    50.   365. -1450.     0. 13850.]\n",
            "[1000.   50.  365.    0.  550. 5650.]\n"
          ],
          "name": "stdout"
        }
      ]
    },
    {
      "cell_type": "code",
      "metadata": {
        "id": "BprSApSKrbaG"
      },
      "source": [
        "# WHY IS THIS VERY HANDY???\n",
        "#np.argwhere(lending_co_data_numeric > 1000)\n",
        "#np.argwhere(lending_co_data_numeric %2 == 0)    # Is even"
      ],
      "execution_count": null,
      "outputs": []
    },
    {
      "cell_type": "code",
      "metadata": {
        "colab": {
          "base_uri": "https://localhost:8080/"
        },
        "id": "dGfLvVMMsq-u",
        "outputId": "6ad221a1-2206-4d83-9b22-2a7e276b1d14"
      },
      "source": [
        "# Synergy between np.argwhere() + np.isnan()\n",
        "# Rerun 2nd column with the missing values lending_co_data_numeric_NAN\n",
        "lending_co_data_numeric_NAN"
      ],
      "execution_count": null,
      "outputs": [
        {
          "output_type": "execute_result",
          "data": {
            "text/plain": [
              "array([[ 2000.,    40.,   365.,  3121.,  4241., 13621.],\n",
              "       [ 2000.,    40.,   365.,  3061.,  4171., 15041.],\n",
              "       [ 1000.,    40.,   365.,  2160.,  3280., 15340.],\n",
              "       ...,\n",
              "       [   nan,    40.,   365.,  4201.,  5001., 16600.],\n",
              "       [ 1000.,    40.,   365.,  2080.,  3320., 15600.],\n",
              "       [ 2000.,    40.,   365.,  4601.,  4601., 16600.]])"
            ]
          },
          "metadata": {
            "tags": []
          },
          "execution_count": 23
        }
      ]
    },
    {
      "cell_type": "code",
      "metadata": {
        "id": "IyqW1170vr_U"
      },
      "source": [
        "np.argwhere(np.isnan(lending_co_data_numeric_NAN))\n",
        "\n",
        "# Same technique to verify"
      ],
      "execution_count": null,
      "outputs": []
    },
    {
      "cell_type": "code",
      "metadata": {
        "id": "9_DoliUoxG2B"
      },
      "source": [
        "# A way to fill the NANS\n",
        "for array_index in np.argwhere(np.isnan(lending_co_data_numeric_NAN)):\n",
        "  lending_co_data_numeric_NAN[array_index[0], array_index[1]] = 0"
      ],
      "execution_count": null,
      "outputs": []
    },
    {
      "cell_type": "code",
      "metadata": {
        "colab": {
          "base_uri": "https://localhost:8080/"
        },
        "id": "B9Kjh82v6bGB",
        "outputId": "78e2b519-d4af-4c03-a411-5e6827682b68"
      },
      "source": [
        "# To check\n",
        "np.isnan(lending_co_data_numeric_NAN).sum()"
      ],
      "execution_count": null,
      "outputs": [
        {
          "output_type": "execute_result",
          "data": {
            "text/plain": [
              "0"
            ]
          },
          "metadata": {
            "tags": []
          },
          "execution_count": 26
        }
      ]
    },
    {
      "cell_type": "markdown",
      "metadata": {
        "id": "qVAkDoBVsqgH"
      },
      "source": [
        "##### Shuffling Ndarrays\n",
        "- np.random.shuffle() takes an ndarray and shuffles it in place\n",
        "- Rearranging the parts of a dataset\n",
        "- Without a fixed pattern\n",
        "- End goal is that a random sample would be representative of the entire dataset"
      ]
    },
    {
      "cell_type": "code",
      "metadata": {
        "id": "NVDZB42U6z-C",
        "colab": {
          "base_uri": "https://localhost:8080/"
        },
        "outputId": "63efce3f-0569-4726-eea7-5b3b4f6afde4"
      },
      "source": [
        "# Rerun first import with the np.loadtxt()\n",
        "\n",
        "# For the initial part, we use only the first 8 rows\n",
        "first_8 = lending_co_data_numeric[:8]\n",
        "first_8"
      ],
      "execution_count": null,
      "outputs": [
        {
          "output_type": "execute_result",
          "data": {
            "text/plain": [
              "array([[ 2000.,    40.,   365.,  3121.,  4241., 13621.],\n",
              "       [ 2000.,    40.,   365.,  3061.,  4171., 15041.],\n",
              "       [ 1000.,    40.,   365.,  2160.,  3280., 15340.],\n",
              "       [ 2000.,    40.,   365.,  3041.,  4241., 15321.],\n",
              "       [ 2000.,    50.,   365.,  3470.,  4820., 13720.],\n",
              "       [ 2000.,    40.,   365.,  3201.,  4141., 14141.],\n",
              "       [ 2000.,    50.,   365.,  1851.,  3251., 17701.],\n",
              "       [ 2000.,    40.,   365.,  3971.,  4131., 15351.]])"
            ]
          },
          "metadata": {
            "tags": []
          },
          "execution_count": 5
        }
      ]
    },
    {
      "cell_type": "code",
      "metadata": {
        "colab": {
          "base_uri": "https://localhost:8080/"
        },
        "id": "Am8ixuJa_AB6",
        "outputId": "96801e44-c98e-4ded-a36e-4b0c5e70a9e4"
      },
      "source": [
        "# np.random.shuffle() takes an ndarray and shuffles it in place\n",
        "# It only saves the shuffled array over the original one, and outputs nothing therefore:\n",
        "np.random.shuffle(first_8)\n",
        "first_8\n",
        "\n",
        "# Every run will output a different outcome"
      ],
      "execution_count": null,
      "outputs": [
        {
          "output_type": "execute_result",
          "data": {
            "text/plain": [
              "array([[ 2000.,    40.,   365.,  3041.,  4241., 15321.],\n",
              "       [ 2000.,    40.,   365.,  3121.,  4241., 13621.],\n",
              "       [ 2000.,    50.,   365.,  3470.,  4820., 13720.],\n",
              "       [ 2000.,    40.,   365.,  3201.,  4141., 14141.],\n",
              "       [ 1000.,    40.,   365.,  2160.,  3280., 15340.],\n",
              "       [ 2000.,    40.,   365.,  3061.,  4171., 15041.],\n",
              "       [ 2000.,    50.,   365.,  1851.,  3251., 17701.],\n",
              "       [ 2000.,    40.,   365.,  3971.,  4131., 15351.]])"
            ]
          },
          "metadata": {
            "tags": []
          },
          "execution_count": 6
        }
      ]
    },
    {
      "cell_type": "code",
      "metadata": {
        "id": "MWI6ltJTAiMo"
      },
      "source": [
        "# When using the same module multiple times, import it directly\n",
        "from numpy.random import shuffle\n",
        "from numpy.random import Generator as gen\n",
        "from numpy.random import PCG64 as pcg"
      ],
      "execution_count": null,
      "outputs": []
    },
    {
      "cell_type": "code",
      "metadata": {
        "colab": {
          "base_uri": "https://localhost:8080/"
        },
        "id": "xjM8pUp-BO18",
        "outputId": "157bd968-7754-4ab9-914c-531d4ad80ec5"
      },
      "source": [
        "shuffle(lending_co_data_numeric)\n",
        "lending_co_data_numeric"
      ],
      "execution_count": null,
      "outputs": [
        {
          "output_type": "execute_result",
          "data": {
            "text/plain": [
              "array([[ 2000.,    50.,   365.,  1651.,  3051., 20250.],\n",
              "       [ 4000.,    50.,   365.,  5450.,  7000., 20750.],\n",
              "       [ 1000.,    50.,   365.,   800.,  2200., 17550.],\n",
              "       ...,\n",
              "       [ 4000.,    50.,   365.,  5400.,  6900., 22250.],\n",
              "       [ 1000.,    40.,   365.,  3676.,  4836., 15600.],\n",
              "       [ 2000.,    40.,   365.,  3418.,  4618., 16600.]])"
            ]
          },
          "metadata": {
            "tags": []
          },
          "execution_count": 9
        }
      ]
    },
    {
      "cell_type": "code",
      "metadata": {
        "colab": {
          "base_uri": "https://localhost:8080/"
        },
        "id": "IWlb8QMbBjT8",
        "outputId": "6c62ea12-7e14-43c0-fd14-2e841101c781"
      },
      "source": [
        "# WOMBO X COMBO \n",
        "array_RG = gen(pcg())\n",
        "array_RG.shuffle(lending_co_data_numeric)\n",
        "lending_co_data_numeric"
      ],
      "execution_count": null,
      "outputs": [
        {
          "output_type": "execute_result",
          "data": {
            "text/plain": [
              "array([[ 2000.,    50.,   365.,  3351.,  5051., 16551.],\n",
              "       [ 4000.,    50.,   365.,  5453.,  5623., 13443.],\n",
              "       [ 2000.,    40.,   365.,  3401.,  4601., 16600.],\n",
              "       ...,\n",
              "       [ 4000.,    50.,   365.,  8960., 12950., 22250.],\n",
              "       [ 2000.,    40.,   365.,  3400.,  4350., 15010.],\n",
              "       [ 2000.,    50.,   365.,  4251.,  4951., 20250.]])"
            ]
          },
          "metadata": {
            "tags": []
          },
          "execution_count": 11
        }
      ]
    },
    {
      "cell_type": "markdown",
      "metadata": {
        "id": "BPP-amOtCjvB"
      },
      "source": [
        "##### Casting Ndarrays\n",
        "- .astype() == Short for assign type\n",
        "- Taking an object with values of a certain datatype and creating an identical object that contains values of a *different datatype*\n",
        "- In Numpy: Creating a new array that stores the values of the original array under a different type\n",
        "- I.E. Float <---> Int\n",
        "- Additional: CHAIN METHOD"
      ]
    },
    {
      "cell_type": "code",
      "metadata": {
        "colab": {
          "base_uri": "https://localhost:8080/"
        },
        "id": "r4kt8rdRCnJX",
        "outputId": "9520b5ae-411b-4d1a-9b70-894dc778a772"
      },
      "source": [
        "# Rerun first import with the np.loadtxt()\n",
        "lending_co_data_numeric"
      ],
      "execution_count": null,
      "outputs": [
        {
          "output_type": "execute_result",
          "data": {
            "text/plain": [
              "array([[ 2000.,    40.,   365.,  3121.,  4241., 13621.],\n",
              "       [ 2000.,    40.,   365.,  3061.,  4171., 15041.],\n",
              "       [ 1000.,    40.,   365.,  2160.,  3280., 15340.],\n",
              "       ...,\n",
              "       [ 2000.,    40.,   365.,  4201.,  5001., 16600.],\n",
              "       [ 1000.,    40.,   365.,  2080.,  3320., 15600.],\n",
              "       [ 2000.,    40.,   365.,  4601.,  4601., 16600.]])"
            ]
          },
          "metadata": {
            "tags": []
          },
          "execution_count": 13
        }
      ]
    },
    {
      "cell_type": "code",
      "metadata": {
        "colab": {
          "base_uri": "https://localhost:8080/"
        },
        "id": "57c7Mp3gDLGK",
        "outputId": "1b906d57-b59e-4d65-9f95-49c8dbeaa2dd"
      },
      "source": [
        "# .astype()\n",
        "lending_co_data_numeric.astype(dtype = np.int32)\n",
        "\n",
        "# When changing from str --> int, DO: str --> float --> int\n",
        "# Do this by overwriting the original dataset --> float, THEN cast to --> int: astype(dtype = np.int32)\n",
        "\n",
        "# CHAIN METHOD:\n",
        "# Assuming, we imported as str-->\n",
        "# lending_co_data_numeric.astype(dtype = np.float32).astype(dtype = np.int32)"
      ],
      "execution_count": null,
      "outputs": [
        {
          "output_type": "execute_result",
          "data": {
            "text/plain": [
              "array([[ 2000,    40,   365,  3121,  4241, 13621],\n",
              "       [ 2000,    40,   365,  3061,  4171, 15041],\n",
              "       [ 1000,    40,   365,  2160,  3280, 15340],\n",
              "       ...,\n",
              "       [ 2000,    40,   365,  4201,  5001, 16600],\n",
              "       [ 1000,    40,   365,  2080,  3320, 15600],\n",
              "       [ 2000,    40,   365,  4601,  4601, 16600]], dtype=int32)"
            ]
          },
          "metadata": {
            "tags": []
          },
          "execution_count": 14
        }
      ]
    },
    {
      "cell_type": "markdown",
      "metadata": {
        "id": "eOzd-9x8GExP"
      },
      "source": [
        "##### Striping Values from Ndarrays\n",
        "- np.chararray.strip()\n",
        "- Removing specific parts of strings (excess strings)"
      ]
    },
    {
      "cell_type": "code",
      "metadata": {
        "colab": {
          "base_uri": "https://localhost:8080/"
        },
        "id": "lcfn-BEdD3q-",
        "outputId": "8aaa602d-cb41-41c7-ce76-6269a7fb33d4"
      },
      "source": [
        "# Rerun first import with the np.loadtxt()\n",
        "lending_co_total_price = np.genfromtxt(\"/content/drive/MyDrive/Colab Notebooks/365 Data Science/Programming/Numpy/Files for NumpyPart2/Importing and Saving Data with Numpy/Lending-Company-Total-Price.csv\",\n",
        "                                       delimiter = ',',\n",
        "                                       dtype = np.str,   # Remember\n",
        "                                       skip_header = 1,\n",
        "                                       usecols = [1,2,4])\n",
        "lending_co_total_price"
      ],
      "execution_count": null,
      "outputs": [
        {
          "output_type": "execute_result",
          "data": {
            "text/plain": [
              "array([['id_1', 'Product B', 'Location 2'],\n",
              "       ['id_2', 'Product B', 'Location 3'],\n",
              "       ['id_3', 'Product C', 'Location 5'],\n",
              "       ...,\n",
              "       ['id_413', 'Product B', 'Location 135'],\n",
              "       ['id_414', 'Product C', 'Location 200'],\n",
              "       ['id_415', 'Product A', 'Location 8']], dtype='<U12')"
            ]
          },
          "metadata": {
            "tags": []
          },
          "execution_count": 20
        }
      ]
    },
    {
      "cell_type": "code",
      "metadata": {
        "colab": {
          "base_uri": "https://localhost:8080/"
        },
        "id": "ACYIPZIoH1sn",
        "outputId": "5057a555-1a9a-49f9-a507-f74ceb4bc185"
      },
      "source": [
        "# Remove \"id\" part on the first column\n",
        "#np.chararray.strip(lending_co_total_price[:,0], \"id_\")\n",
        "# This does not overwrite the original, SO:\n",
        "\n",
        "lending_co_total_price[:,0] = np.chararray.strip(lending_co_total_price[:,0], \"id_\")\n",
        "lending_co_total_price[:,1] = np.chararray.strip(lending_co_total_price[:,1], \"Product \")\n",
        "lending_co_total_price[:,2] = np.chararray.strip(lending_co_total_price[:,2], \"Location \")\n",
        "lending_co_total_price"
      ],
      "execution_count": null,
      "outputs": [
        {
          "output_type": "execute_result",
          "data": {
            "text/plain": [
              "array([['1', 'B', '2'],\n",
              "       ['2', 'B', '3'],\n",
              "       ['3', 'C', '5'],\n",
              "       ...,\n",
              "       ['413', 'B', '135'],\n",
              "       ['414', 'C', '200'],\n",
              "       ['415', 'A', '8']], dtype='<U12')"
            ]
          },
          "metadata": {
            "tags": []
          },
          "execution_count": 22
        }
      ]
    },
    {
      "cell_type": "code",
      "metadata": {
        "colab": {
          "base_uri": "https://localhost:8080/"
        },
        "id": "A1hC6sdHJkm2",
        "outputId": "97e31482-ffd8-462d-e539-4a628778a19e"
      },
      "source": [
        "# We can also apply np.where() to transform the letters in the second column into numeric values\n",
        "lending_co_total_price[:,1] = np.where(lending_co_total_price[:,1] == 'A', 1, lending_co_total_price[:,1])\n",
        "lending_co_total_price[:,1] = np.where(lending_co_total_price[:,1] == 'B', 2, lending_co_total_price[:,1])\n",
        "lending_co_total_price[:,1] = np.where(lending_co_total_price[:,1] == 'C', 3, lending_co_total_price[:,1])\n",
        "lending_co_total_price[:,1] = np.where(lending_co_total_price[:,1] == 'D', 4, lending_co_total_price[:,1])\n",
        "lending_co_total_price[:,1] = np.where(lending_co_total_price[:,1] == 'E', 5, lending_co_total_price[:,1])\n",
        "lending_co_total_price[:,1] = np.where(lending_co_total_price[:,1] == 'F', 6, lending_co_total_price[:,1])\n",
        "\n",
        "lending_co_total_price"
      ],
      "execution_count": null,
      "outputs": [
        {
          "output_type": "execute_result",
          "data": {
            "text/plain": [
              "array([['1', '2', '2'],\n",
              "       ['2', '2', '3'],\n",
              "       ['3', '3', '5'],\n",
              "       ...,\n",
              "       ['413', '2', '135'],\n",
              "       ['414', '3', '200'],\n",
              "       ['415', '1', '8']], dtype='<U12')"
            ]
          },
          "metadata": {
            "tags": []
          },
          "execution_count": 23
        }
      ]
    },
    {
      "cell_type": "code",
      "metadata": {
        "colab": {
          "base_uri": "https://localhost:8080/"
        },
        "id": "wYMSkcVeKePT",
        "outputId": "6e700016-725e-4a70-981a-f974d38ea35f"
      },
      "source": [
        "# These are still str, SO CAST TO INT\n",
        "lending_co_total_price = lending_co_total_price.astype(dtype = np.int32)\n",
        "lending_co_total_price"
      ],
      "execution_count": null,
      "outputs": [
        {
          "output_type": "execute_result",
          "data": {
            "text/plain": [
              "array([[  1,   2,   2],\n",
              "       [  2,   2,   3],\n",
              "       [  3,   3,   5],\n",
              "       ...,\n",
              "       [413,   2, 135],\n",
              "       [414,   3, 200],\n",
              "       [415,   1,   8]], dtype=int32)"
            ]
          },
          "metadata": {
            "tags": []
          },
          "execution_count": 24
        }
      ]
    },
    {
      "cell_type": "markdown",
      "metadata": {
        "id": "LvQ0I-eFKw6x"
      },
      "source": [
        "##### Stacking Ndarrays\n",
        "- np.stack() \n",
        "- np.vstack() = vertical stack: stacks 2-D arrays vertically\n",
        "- np.hstack() = horizontal stack\n",
        "- np.dstack() = depth stack: stacks arrays in the 3rd dimension\n",
        "\n",
        "- Stacking: Placing multiple objects on top of one another to create a bigger object\n",
        "- Arrays **MUST** be the same shape"
      ]
    },
    {
      "cell_type": "code",
      "metadata": {
        "colab": {
          "base_uri": "https://localhost:8080/"
        },
        "id": "wbUbx_dPKwZ6",
        "outputId": "40b6de49-4472-47ea-9dc6-0e8f1d173b03"
      },
      "source": [
        "# Rerun: without missing vals and with\n",
        "\n",
        "# Without\n",
        "lending_co_data_numeric"
      ],
      "execution_count": null,
      "outputs": [
        {
          "output_type": "execute_result",
          "data": {
            "text/plain": [
              "array([[ 2000.,    40.,   365.,  3121.,  4241., 13621.],\n",
              "       [ 2000.,    40.,   365.,  3061.,  4171., 15041.],\n",
              "       [ 1000.,    40.,   365.,  2160.,  3280., 15340.],\n",
              "       ...,\n",
              "       [ 2000.,    40.,   365.,  4201.,  5001., 16600.],\n",
              "       [ 1000.,    40.,   365.,  2080.,  3320., 15600.],\n",
              "       [ 2000.,    40.,   365.,  4601.,  4601., 16600.]])"
            ]
          },
          "metadata": {
            "tags": []
          },
          "execution_count": 27
        }
      ]
    },
    {
      "cell_type": "code",
      "metadata": {
        "colab": {
          "base_uri": "https://localhost:8080/"
        },
        "id": "aP-uq3opLgI0",
        "outputId": "30c27720-d7ed-4d67-878d-81a5559f4272"
      },
      "source": [
        "# With\n",
        "temporary_fill = np.nanmax(lending_co_data_numeric_NAN).round(2) + 1\n",
        "temporary_mean = np.nanmean(lending_co_data_numeric_NAN, axis = 0).round(2)\n",
        "\n",
        "lending_co_data_numeric_NAN = np.genfromtxt(\"/content/drive/MyDrive/Colab Notebooks/365 Data Science/Programming/Numpy/Files for NumpyPart2/Importing and Saving Data with Numpy/Lending-Company-Numeric-Data-NAN.csv\",\n",
        "                                            delimiter = \";\",\n",
        "                                            filling_values = temporary_fill)\n",
        "\n",
        "for i in range(lending_co_data_numeric_NAN.shape[1]):\n",
        "  lending_co_data_numeric_NAN[:,i] = np.where(lending_co_data_numeric_NAN[:,i] == temporary_fill,\n",
        "                                              temporary_mean[i],\n",
        "                                              lending_co_data_numeric_NAN[:,i])\n",
        "\n",
        "lending_co_data_numeric_NAN\n"
      ],
      "execution_count": null,
      "outputs": [
        {
          "output_type": "execute_result",
          "data": {
            "text/plain": [
              "array([[ 2000.  ,    40.  ,   365.  ,  3121.  ,  4241.  , 13621.  ],\n",
              "       [ 2000.  ,    40.  ,   365.  ,  3061.  ,  4171.  , 15041.  ],\n",
              "       [ 1000.  ,    40.  ,   365.  ,  2160.  ,  3280.  , 15340.  ],\n",
              "       ...,\n",
              "       [ 2250.25,    40.  ,   365.  ,  4201.  ,  5001.  , 16600.  ],\n",
              "       [ 1000.  ,    40.  ,   365.  ,  2080.  ,  3320.  , 15600.  ],\n",
              "       [ 2000.  ,    40.  ,   365.  ,  4601.  ,  4601.  , 16600.  ]])"
            ]
          },
          "metadata": {
            "tags": []
          },
          "execution_count": 29
        }
      ]
    },
    {
      "cell_type": "code",
      "metadata": {
        "colab": {
          "base_uri": "https://localhost:8080/"
        },
        "id": "2hqX6flXNmRX",
        "outputId": "ad1c3a02-7362-4a2b-b8a3-b5ee61de8a06"
      },
      "source": [
        "# np.stack() Whatever array you put first, it will be the first and followed by the second and so on\n",
        "np.stack((lending_co_data_numeric[:,0], lending_co_data_numeric[:,1]))"
      ],
      "execution_count": null,
      "outputs": [
        {
          "output_type": "execute_result",
          "data": {
            "text/plain": [
              "array([[2000., 2000., 1000., ..., 2000., 1000., 2000.],\n",
              "       [  40.,   40.,   40., ...,   40.,   40.,   40.]])"
            ]
          },
          "metadata": {
            "tags": []
          },
          "execution_count": 31
        }
      ]
    },
    {
      "cell_type": "code",
      "metadata": {
        "colab": {
          "base_uri": "https://localhost:8080/"
        },
        "id": "-IBchED0OVTh",
        "outputId": "d2bc100a-83da-45d2-d652-09af8ac97e4c"
      },
      "source": [
        "# You can also stack them side by side using: axis = 1\n",
        "# Also, you can stack multuple columns\n",
        "np.stack((lending_co_data_numeric[:,0], lending_co_data_numeric[:,1], lending_co_data_numeric[:,2]), axis = 1)"
      ],
      "execution_count": null,
      "outputs": [
        {
          "output_type": "execute_result",
          "data": {
            "text/plain": [
              "array([[2000.,   40.,  365.],\n",
              "       [2000.,   40.,  365.],\n",
              "       [1000.,   40.,  365.],\n",
              "       ...,\n",
              "       [2000.,   40.,  365.],\n",
              "       [1000.,   40.,  365.],\n",
              "       [2000.,   40.,  365.]])"
            ]
          },
          "metadata": {
            "tags": []
          },
          "execution_count": 33
        }
      ]
    },
    {
      "cell_type": "code",
      "metadata": {
        "colab": {
          "base_uri": "https://localhost:8080/"
        },
        "id": "85bIDksqPA8X",
        "outputId": "efbd5d41-2db4-465f-b0ee-ca8e710aba79"
      },
      "source": [
        "# np.vstack() vertical stack: stacks 2-D arrays vertically\n",
        "# Places the first array on top of the second one\n",
        "np.vstack((lending_co_data_numeric, lending_co_data_numeric_NAN)).shape\n",
        "\n",
        "# Now rows have doubled"
      ],
      "execution_count": null,
      "outputs": [
        {
          "output_type": "execute_result",
          "data": {
            "text/plain": [
              "(2086, 6)"
            ]
          },
          "metadata": {
            "tags": []
          },
          "execution_count": 34
        }
      ]
    },
    {
      "cell_type": "code",
      "metadata": {
        "colab": {
          "base_uri": "https://localhost:8080/"
        },
        "id": "T1vRdQr7QRBe",
        "outputId": "241a2435-1623-43e7-d60f-d0acfbf50922"
      },
      "source": [
        "# np.hstack horizontal stack\n",
        "np.hstack((lending_co_data_numeric, lending_co_data_numeric_NAN)).shape\n",
        "\n",
        "# Now columns have doubled"
      ],
      "execution_count": null,
      "outputs": [
        {
          "output_type": "execute_result",
          "data": {
            "text/plain": [
              "(1043, 12)"
            ]
          },
          "metadata": {
            "tags": []
          },
          "execution_count": 36
        }
      ]
    },
    {
      "cell_type": "code",
      "metadata": {
        "colab": {
          "base_uri": "https://localhost:8080/"
        },
        "id": "b_Fx5TPjQvbL",
        "outputId": "4f0785cd-761b-446b-8e32-759c3629ccb2"
      },
      "source": [
        "# np.dstack() = depth stack: stacks arrays in the 3rd dimension\n",
        "# Returns an array of a higher dimension\n",
        "np.dstack((lending_co_data_numeric, lending_co_data_numeric_NAN)).shape\n",
        "\n",
        "#You can also do slicing here:\n",
        "#np.dstack((lending_co_data_numeric, lending_co_data_numeric_NAN))[0]\n",
        "\n",
        "# 1043 6x2 arrays"
      ],
      "execution_count": null,
      "outputs": [
        {
          "output_type": "execute_result",
          "data": {
            "text/plain": [
              "(1043, 6, 2)"
            ]
          },
          "metadata": {
            "tags": []
          },
          "execution_count": 39
        }
      ]
    },
    {
      "cell_type": "markdown",
      "metadata": {
        "id": "mCuug91BdhII"
      },
      "source": [
        "##### Concatenating Ndarrays\n",
        "- Linking together objects in a chain\n",
        "- Creating a new (larger) array by merging existing smaller arrays along a given axis\n",
        "- The inputs and the outputs of the np.concatenate() function always have the same number of dimensions\n",
        "- Concatenating in 1-D does not reqire the inputs to have the same shape (UNLIKE STACKING)\n",
        "- But their dimensions **MUST** match"
      ]
    },
    {
      "cell_type": "code",
      "metadata": {
        "id": "RbYNWk7NRbqO",
        "colab": {
          "base_uri": "https://localhost:8080/"
        },
        "outputId": "424f3267-afc3-4f83-8c1d-4acf1bbb376c"
      },
      "source": [
        "lending_co_data_numeric"
      ],
      "execution_count": null,
      "outputs": [
        {
          "output_type": "execute_result",
          "data": {
            "text/plain": [
              "array([[ 2000.,    40.,   365.,  3121.,  4241., 13621.],\n",
              "       [ 2000.,    40.,   365.,  3061.,  4171., 15041.],\n",
              "       [ 1000.,    40.,   365.,  2160.,  3280., 15340.],\n",
              "       ...,\n",
              "       [ 2000.,    40.,   365.,  4201.,  5001., 16600.],\n",
              "       [ 1000.,    40.,   365.,  2080.,  3320., 15600.],\n",
              "       [ 2000.,    40.,   365.,  4601.,  4601., 16600.]])"
            ]
          },
          "metadata": {
            "tags": []
          },
          "execution_count": 4
        }
      ]
    },
    {
      "cell_type": "code",
      "metadata": {
        "colab": {
          "base_uri": "https://localhost:8080/"
        },
        "id": "SbnYpksx6I-m",
        "outputId": "f1a23cec-045e-44f6-a55b-c10aaa9036db"
      },
      "source": [
        "# Concatinating the first row and the 2nd row\n",
        "np.concatenate((lending_co_data_numeric[0,:], lending_co_data_numeric[1,:]))"
      ],
      "execution_count": null,
      "outputs": [
        {
          "output_type": "execute_result",
          "data": {
            "text/plain": [
              "array([ 2000.,    40.,   365.,  3121.,  4241., 13621.,  2000.,    40.,\n",
              "         365.,  3061.,  4171., 15041.])"
            ]
          },
          "metadata": {
            "tags": []
          },
          "execution_count": 5
        }
      ]
    },
    {
      "cell_type": "code",
      "metadata": {
        "colab": {
          "base_uri": "https://localhost:8080/"
        },
        "id": "EIR8DMY3A5_K",
        "outputId": "9690780a-54a7-4a23-d4c5-21756cc0d68f"
      },
      "source": [
        "# Concat 2D arrays\n",
        "# Rerun top 2nd and 3rd cell\n",
        "# This is similar to the np.vstack()\n",
        "np.concatenate((lending_co_data_numeric, lending_co_data_numeric_NAN)).shape"
      ],
      "execution_count": null,
      "outputs": [
        {
          "output_type": "execute_result",
          "data": {
            "text/plain": [
              "(2086, 6)"
            ]
          },
          "metadata": {
            "tags": []
          },
          "execution_count": 14
        }
      ]
    },
    {
      "cell_type": "code",
      "metadata": {
        "colab": {
          "base_uri": "https://localhost:8080/"
        },
        "id": "YIqEcIRTNl1y",
        "outputId": "c5d8d4d0-d07b-40a5-e2c5-4568033c23f7"
      },
      "source": [
        "# Similar to np.hstack()\n",
        "np.concatenate((lending_co_data_numeric, lending_co_data_numeric_NAN), axis = 1).shape"
      ],
      "execution_count": null,
      "outputs": [
        {
          "output_type": "execute_result",
          "data": {
            "text/plain": [
              "(1043, 12)"
            ]
          },
          "metadata": {
            "tags": []
          },
          "execution_count": 15
        }
      ]
    },
    {
      "cell_type": "code",
      "metadata": {
        "id": "kdFXMHgPN0O2"
      },
      "source": [
        "# 3D example\n",
        "array_ex_1 = np.array([[[1,2,3,4,5], [1,2,7,4,0], [0,2,6,4,9], [6,2,5,4,3], [6,2,3,5,8]]])\n",
        "array_ex_2 = array_ex_1 * 2 "
      ],
      "execution_count": null,
      "outputs": []
    },
    {
      "cell_type": "code",
      "metadata": {
        "colab": {
          "base_uri": "https://localhost:8080/"
        },
        "id": "S8d8GaPFQgaB",
        "outputId": "fe6afbc8-b7b9-47ee-fbf6-5c5fd9eb7a20"
      },
      "source": [
        "# Same as np.vstack()\n",
        "np.concatenate((array_ex_1, array_ex_2), axis = 0) "
      ],
      "execution_count": null,
      "outputs": [
        {
          "output_type": "execute_result",
          "data": {
            "text/plain": [
              "array([[[ 1,  2,  3,  4,  5],\n",
              "        [ 1,  2,  7,  4,  0],\n",
              "        [ 0,  2,  6,  4,  9],\n",
              "        [ 6,  2,  5,  4,  3],\n",
              "        [ 6,  2,  3,  5,  8]],\n",
              "\n",
              "       [[ 2,  4,  6,  8, 10],\n",
              "        [ 2,  4, 14,  8,  0],\n",
              "        [ 0,  4, 12,  8, 18],\n",
              "        [12,  4, 10,  8,  6],\n",
              "        [12,  4,  6, 10, 16]]])"
            ]
          },
          "metadata": {
            "tags": []
          },
          "execution_count": 17
        }
      ]
    },
    {
      "cell_type": "code",
      "metadata": {
        "colab": {
          "base_uri": "https://localhost:8080/"
        },
        "id": "wIrWtRAoQ5o5",
        "outputId": "3b5c3237-458e-4ae8-838d-9b4cf2e6040b"
      },
      "source": [
        "# Same as np.hstack()\n",
        "np.concatenate((array_ex_1, array_ex_2), axis = 1)"
      ],
      "execution_count": null,
      "outputs": [
        {
          "output_type": "execute_result",
          "data": {
            "text/plain": [
              "array([[[ 1,  2,  3,  4,  5],\n",
              "        [ 1,  2,  7,  4,  0],\n",
              "        [ 0,  2,  6,  4,  9],\n",
              "        [ 6,  2,  5,  4,  3],\n",
              "        [ 6,  2,  3,  5,  8],\n",
              "        [ 2,  4,  6,  8, 10],\n",
              "        [ 2,  4, 14,  8,  0],\n",
              "        [ 0,  4, 12,  8, 18],\n",
              "        [12,  4, 10,  8,  6],\n",
              "        [12,  4,  6, 10, 16]]])"
            ]
          },
          "metadata": {
            "tags": []
          },
          "execution_count": 19
        }
      ]
    },
    {
      "cell_type": "code",
      "metadata": {
        "colab": {
          "base_uri": "https://localhost:8080/"
        },
        "id": "yKF7rYKfRDtG",
        "outputId": "4e387e1d-fb77-4239-b1ce-8e22ff877f63"
      },
      "source": [
        "# Same as np.dstack()\n",
        "np.concatenate((array_ex_1, array_ex_2), axis = 2)"
      ],
      "execution_count": null,
      "outputs": [
        {
          "output_type": "execute_result",
          "data": {
            "text/plain": [
              "array([[[ 1,  2,  3,  4,  5,  2,  4,  6,  8, 10],\n",
              "        [ 1,  2,  7,  4,  0,  2,  4, 14,  8,  0],\n",
              "        [ 0,  2,  6,  4,  9,  0,  4, 12,  8, 18],\n",
              "        [ 6,  2,  5,  4,  3, 12,  4, 10,  8,  6],\n",
              "        [ 6,  2,  3,  5,  8, 12,  4,  6, 10, 16]]])"
            ]
          },
          "metadata": {
            "tags": []
          },
          "execution_count": 20
        }
      ]
    },
    {
      "cell_type": "markdown",
      "metadata": {
        "id": "KBeeZ_voSupL"
      },
      "source": [
        "##### Finding Unique Vaules in Ndarrays\n",
        "- np.unique() takes an array as an input and creates another array that contains all the different values from the first one "
      ]
    },
    {
      "cell_type": "code",
      "metadata": {
        "colab": {
          "base_uri": "https://localhost:8080/"
        },
        "id": "Cn6iy3upRPSH",
        "outputId": "8fd8bb80-c5b3-4dc9-e869-e0c152360816"
      },
      "source": [
        "# Rerun first cell\n",
        "lending_co_data_numeric"
      ],
      "execution_count": null,
      "outputs": [
        {
          "output_type": "execute_result",
          "data": {
            "text/plain": [
              "array([[ 2000.,    40.,   365.,  3121.,  4241., 13621.],\n",
              "       [ 2000.,    40.,   365.,  3061.,  4171., 15041.],\n",
              "       [ 1000.,    40.,   365.,  2160.,  3280., 15340.],\n",
              "       ...,\n",
              "       [ 2000.,    40.,   365.,  4201.,  5001., 16600.],\n",
              "       [ 1000.,    40.,   365.,  2080.,  3320., 15600.],\n",
              "       [ 2000.,    40.,   365.,  4601.,  4601., 16600.]])"
            ]
          },
          "metadata": {
            "tags": []
          },
          "execution_count": 23
        }
      ]
    },
    {
      "cell_type": "code",
      "metadata": {
        "colab": {
          "base_uri": "https://localhost:8080/"
        },
        "id": "bJPZSkGiTDYp",
        "outputId": "471b0e25-a3d7-49c3-95b6-daae64c68150"
      },
      "source": [
        "# Entire dataset\n",
        "np.unique(lending_co_data_numeric)"
      ],
      "execution_count": null,
      "outputs": [
        {
          "output_type": "execute_result",
          "data": {
            "text/plain": [
              "array([-2870., -2550., -2450., ..., 52751., 54625., 64001.])"
            ]
          },
          "metadata": {
            "tags": []
          },
          "execution_count": 24
        }
      ]
    },
    {
      "cell_type": "code",
      "metadata": {
        "colab": {
          "base_uri": "https://localhost:8080/"
        },
        "id": "M4_phs5ITo6F",
        "outputId": "6de87637-42fa-4cea-ad9a-42e9fb49dd78"
      },
      "source": [
        "# With indexing\n",
        "np.unique(lending_co_data_numeric[:,1])\n",
        "\n",
        "# When \"numeric\" = ascending order\n",
        "# When \"non-numeric\" = Alphabetical order"
      ],
      "execution_count": null,
      "outputs": [
        {
          "output_type": "execute_result",
          "data": {
            "text/plain": [
              "array([ 35.,  40.,  50., 125., 165.])"
            ]
          },
          "metadata": {
            "tags": []
          },
          "execution_count": 25
        }
      ]
    },
    {
      "cell_type": "code",
      "metadata": {
        "colab": {
          "base_uri": "https://localhost:8080/"
        },
        "id": "c-OFV-igTwTp",
        "outputId": "a9632c28-3b94-452c-fcf6-6f76a979caf7"
      },
      "source": [
        "# Array 1 = Unique values\n",
        "# Array 2 = Indices\n",
        "# Array 3 = Their frequencies\n",
        "np.unique(lending_co_data_numeric[:,1], return_counts = True, return_index = True)"
      ],
      "execution_count": null,
      "outputs": [
        {
          "output_type": "execute_result",
          "data": {
            "text/plain": [
              "(array([ 35.,  40.,  50., 125., 165.]),\n",
              " array([327,   0,   4,  19,  27]),\n",
              " array([  4, 567, 451,  19,   2]))"
            ]
          },
          "metadata": {
            "tags": []
          },
          "execution_count": 29
        }
      ]
    }
  ]
}